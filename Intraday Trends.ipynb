{
 "cells": [
  {
   "cell_type": "markdown",
   "id": "aaf29cb8-de08-4741-8c85-431a571f3f57",
   "metadata": {
    "tags": []
   },
   "source": [
    "# Simplifying Intraday Market Analysis: Unveiling Insights for Traders and Analysts\n",
    "Intraday market analysis is a powerful practice that enables traders and analysts to uncover valuable insights, make informed decisions, and facilitates the analysis and interpretation of key market trends and patterns. From equity and bond traders to derivative traders, professionals across different financial sectors harness the benefits of intraday analysis to navigate dynamic markets and capitalize on opportunities.  In this article, we explore the simplicity of generating intraday market reports, enabling traders and analysts to delve into the analysis and gain actionable insights.\n",
    "\n",
    "The simplicity of generating intraday market reports lays the foundation for focused analysis. Traders can easily identify and analyze price patterns, detect market trends, and explore potential trading opportunities. Analysts, armed with comprehensive reports, can delve into detailed market behavior, study volume dynamics, and make well-informed recommendations."
   ]
  },
  {
   "cell_type": "markdown",
   "id": "9d950fcf-f810-4431-a062-2314d797ecd4",
   "metadata": {},
   "source": [
    "## Getting Started\n",
    "For this analysis, we plan to utilize content available within [LSEG's comprehensive data set](https://www.lseg.com/en/data-indices-analytics/data#data-coverage).  To programmatically access this data, we will need to import the Refinitiv Data (RD) Library responsible for generating the historical intraday prices and volumes. For presentation, we have built out modules within separate helper classes that depend on some popular charting packages we'll use to highlight trends and anomolies within the data."
   ]
  },
  {
   "cell_type": "code",
   "execution_count": 1,
   "id": "1299fd4a-4c1a-42c5-a12f-93b87a1c0e85",
   "metadata": {},
   "outputs": [
    {
     "data": {
      "text/html": [
       "        <script type=\"text/javascript\">\n",
       "        window.PlotlyConfig = {MathJaxConfig: 'local'};\n",
       "        if (window.MathJax) {MathJax.Hub.Config({SVG: {font: \"STIX-Web\"}});}\n",
       "        if (typeof require !== 'undefined') {\n",
       "        require.undef(\"plotly\");\n",
       "        requirejs.config({\n",
       "            paths: {\n",
       "                'plotly': ['https://cdn.plot.ly/plotly-2.6.3.min']\n",
       "            }\n",
       "        });\n",
       "        require(['plotly'], function(Plotly) {\n",
       "            window._Plotly = Plotly;\n",
       "        });\n",
       "        }\n",
       "        </script>\n",
       "        "
      ]
     },
     "metadata": {},
     "output_type": "display_data"
    },
    {
     "data": {
      "text/plain": [
       "'1.2.0'"
      ]
     },
     "execution_count": 1,
     "metadata": {},
     "output_type": "execute_result"
    }
   ],
   "source": [
    "# Refinitiv Library\n",
    "import refinitiv.data as rd\n",
    "\n",
    "# Load helper class\n",
    "from helper import Intraday, DatePicker\n",
    "\n",
    "rd.__version__"
   ]
  },
  {
   "cell_type": "code",
   "execution_count": 2,
   "id": "88dbd200-97be-41b8-8db8-3472f9058a2b",
   "metadata": {},
   "outputs": [
    {
     "data": {
      "text/plain": [
       "<refinitiv.data.session.Definition object at 0x7f8b88df40a0 {name='codebook'}>"
      ]
     },
     "execution_count": 2,
     "metadata": {},
     "output_type": "execute_result"
    }
   ],
   "source": [
    "# Open a session to retrieve historical content \n",
    "rd.open_session()"
   ]
  },
  {
   "cell_type": "markdown",
   "id": "9bb34f73-a473-4c9f-98c5-983e08fd7b48",
   "metadata": {},
   "source": [
    "## Packaged Components\n",
    "To simplify processing and aid in the presentation of the following workflow, we have packaged up some of the common functionality within separate helper classes.  While these components are important and greatly simplify the capture and presentation of our measures, we will leave it to the reader to review these interfaces at their leisure. Throughout this workflow, we will highlight and demonstrate the capabilities of each.\n",
    "\n",
    "The following packages have been defined:\n",
    "\n",
    " * **Intraday**\n",
    " \n",
    " The *Intraday* class is responsible for generating the historical intraday summaries.  The interface supports the ability to accept multiple dates along with a time window representing the trading hours for the selected instrument.  Based on this criteria, the interface will generate both the intraday prices as well as the intraday volumes.  In addition, the algorithm will take care of evaluating the timezone in which the instrument trades and adjust the *trading window* to ensure relevant summaries are captured.  Prices can be represented natively or measured as a relative percentage or net change.  Finally, with the prepared measures, the interface also supports the ability to retrieve both the prices and volumes within the trading window for any additional analysis."
   ]
  },
  {
   "cell_type": "code",
   "execution_count": 3,
   "id": "4b84730d-de09-4a1b-9dd5-355914ca2c91",
   "metadata": {},
   "outputs": [],
   "source": [
    "# Define an instance of our Intraday helper class\n",
    "intraday = Intraday()\n",
    "\n",
    "# Uncomment to view the features available within this interface\n",
    "#help(intraday)"
   ]
  },
  {
   "cell_type": "markdown",
   "id": "6ca25efa-9b3e-4ef5-8f50-40fb897f51b5",
   "metadata": {},
   "source": [
    " * **DatePicker**\n",
    " \n",
    " The *DatePicker* class is a convenient interface to present a simple mechanism to manually capture dates and the trading window time range.  These captured values can be used in the above *Intraday* interface as a simple mechanism to measure trends for a given instrument."
   ]
  },
  {
   "cell_type": "code",
   "execution_count": 4,
   "id": "7e45c627-82be-481c-a2fe-29143fb378ec",
   "metadata": {},
   "outputs": [],
   "source": [
    "# Define an instance of our DatePicker helper class\n",
    "date_picker = DatePicker()\n",
    "\n",
    "# Uncomment to view the features available within this interface\n",
    "#help(date_picker)"
   ]
  },
  {
   "cell_type": "markdown",
   "id": "3ecbd5e5-1110-4d96-8f9e-a61576cb71e0",
   "metadata": {},
   "source": [
    "## Analysis\n",
    "To begin our analysis, let's define our instrument we wish to analyze - this specification will be used throughout this notebook.  Based on the specified instrument, you may need to adjust the normal trading day window.  **Note**: Depending on the specific dates you choose to measures, it is important to understand when choosing the times for the trading window, the dates may span over DST (Daylight Savings Time).  In such a situation, you can expand the trading window."
   ]
  },
  {
   "cell_type": "code",
   "execution_count": 5,
   "id": "1170d549-553f-4953-bb4a-969fc8a3d60e",
   "metadata": {},
   "outputs": [],
   "source": [
    "# Define the Commodity instrument used throughout the analysis\n",
    "instrument = 'Cv1'    # Commodity (Corn)"
   ]
  },
  {
   "cell_type": "code",
   "execution_count": 6,
   "id": "8a677e06-43a8-400d-99ca-8d577f612298",
   "metadata": {},
   "outputs": [
    {
     "name": "stdout",
     "output_type": "stream",
     "text": [
      "\n",
      "Override time range:\n"
     ]
    },
    {
     "data": {
      "application/vnd.jupyter.widget-view+json": {
       "model_id": "e31b72f3ec594c6eb6c01394012d4e4e",
       "version_major": 2,
       "version_minor": 0
      },
      "text/plain": [
       "DatetimePicker(css='border: 2px solid green; width: 300px; border-radius: 20px', duplex_mode='split', range_mo…"
      ]
     },
     "metadata": {},
     "output_type": "display_data"
    }
   ],
   "source": [
    "# From our DataPicker class, choose the trading window time...\n",
    "# Note: The 'date_picker' will display 2 calendars.  You will only need to choose the 'time' elements for each\n",
    "#       representing your desired trading window.\n",
    "date_picker.select_times()"
   ]
  },
  {
   "cell_type": "markdown",
   "id": "5a080d1a-ef26-462d-9f1e-df5b405e9374",
   "metadata": {},
   "source": [
    "### World Agricultural Supply and Demand Estimates (WASDE)\n",
    "To begin our analysis, we'll capture the monthly reported dates published by the United States Department of Agriculture (USDA) providing a comprehensive forecast of supply and demand for major crops (global and United States) and livestock.  This particular service provides monthly forecasts **during market hours** - which is important as we want to detect specific activity during the trading day.  The release dates are subject to change, but they have generally fallen around the 10th or 11th business day of the month.\n",
    "\n",
    "To demonstrate, we'll capture the 5 most recent estimates as the basis of our analysis:"
   ]
  },
  {
   "cell_type": "code",
   "execution_count": 10,
   "id": "0de1e32c-e523-4523-9c8b-3d67d9ed484d",
   "metadata": {},
   "outputs": [],
   "source": [
    "# Extract the last 5 dates (monthly) from the USDA World Agricultural Supply and Demand Estimates\n",
    "df = rd.get_history(universe=['C-CROP-ENDM0'])\n",
    "dates = [dt.to_pydatetime().date() for dt in df.index][-5:]"
   ]
  },
  {
   "cell_type": "markdown",
   "id": "0ae0af90-b735-472f-ae84-1f0a4073d903",
   "metadata": {},
   "source": [
    "With our dates and trading window defined, we can now utilize the *Intraday* interface to calculate our measures for the defined instrument:"
   ]
  },
  {
   "cell_type": "code",
   "execution_count": 11,
   "id": "1efb500c-3a74-4b02-a09f-7985835a6f5c",
   "metadata": {},
   "outputs": [
    {
     "data": {
      "application/vnd.jupyter.widget-view+json": {
       "model_id": "56ffd79c2b54459ab9b2e53bd7d076ce",
       "version_major": 2,
       "version_minor": 0
      },
      "text/plain": [
       "ProgressBar(color='green', tooltip='')"
      ]
     },
     "metadata": {},
     "output_type": "display_data"
    },
    {
     "name": "stdout",
     "output_type": "stream",
     "text": [
      "Processing...\n",
      "**Done\n"
     ]
    }
   ],
   "source": [
    "# Look how the prices flucuated throughout the day - price net change\n",
    "intraday.calculate_measures(instrument, dates, date_picker.time_range, 'net')"
   ]
  },
  {
   "cell_type": "code",
   "execution_count": 12,
   "id": "56d9e224-d472-4a34-9a71-1ba7b08fa01c",
   "metadata": {
    "tags": []
   },
   "outputs": [
    {
     "data": {
      "application/vnd.plotly.v1+json": {
       "config": {
        "linkText": "Export to plot.ly",
        "plotlyServerURL": "https://plot.ly",
        "showLink": true
       },
       "data": [
        {
         "line": {
          "color": "rgba(255, 153, 51, 1.0)",
          "dash": "solid",
          "shape": "linear",
          "width": 1.3
         },
         "mode": "lines",
         "name": "2023-03-08",
         "text": "",
         "type": "scatter",
         "x": [
          "10:21:00",
          "10:22:00",
          "10:23:00",
          "10:24:00",
          "10:25:00",
          "10:26:00",
          "10:27:00",
          "10:28:00",
          "10:29:00",
          "10:30:00",
          "10:31:00",
          "10:32:00",
          "10:33:00",
          "10:34:00",
          "10:35:00",
          "10:36:00",
          "10:37:00",
          "10:38:00",
          "10:39:00",
          "10:40:00",
          "10:41:00",
          "10:42:00",
          "10:43:00",
          "10:44:00",
          "10:45:00",
          "10:46:00",
          "10:47:00",
          "10:48:00",
          "10:49:00",
          "10:50:00",
          "10:51:00",
          "10:52:00",
          "10:53:00",
          "10:54:00",
          "10:55:00",
          "10:56:00",
          "10:57:00",
          "10:58:00",
          "10:59:00",
          "11:00:00",
          "11:01:00",
          "11:02:00",
          "11:03:00",
          "11:04:00",
          "11:05:00",
          "11:06:00",
          "11:07:00",
          "11:08:00",
          "11:09:00",
          "11:10:00",
          "11:11:00",
          "11:12:00",
          "11:13:00",
          "11:14:00",
          "11:15:00",
          "11:16:00",
          "11:17:00",
          "11:18:00",
          "11:19:00",
          "11:20:00",
          "11:21:00",
          "11:22:00",
          "11:23:00",
          "11:24:00",
          "11:25:00",
          "11:26:00",
          "11:27:00",
          "11:28:00",
          "11:29:00",
          "11:30:00",
          "11:31:00",
          "11:32:00",
          "11:33:00",
          "11:34:00",
          "11:35:00",
          "11:36:00",
          "11:37:00",
          "11:38:00",
          "11:39:00",
          "11:40:00",
          "11:41:00",
          "11:42:00",
          "11:43:00",
          "11:44:00",
          "11:45:00",
          "11:46:00",
          "11:47:00",
          "11:48:00",
          "11:49:00",
          "11:50:00",
          "11:51:00",
          "11:52:00",
          "11:53:00",
          "11:54:00",
          "11:55:00",
          "11:56:00",
          "11:57:00",
          "11:58:00",
          "11:59:00",
          "12:00:00",
          "12:01:00",
          "12:02:00",
          "12:03:00",
          "12:04:00",
          "12:05:00",
          "12:06:00",
          "12:07:00",
          "12:08:00",
          "12:09:00",
          "12:10:00",
          "12:11:00",
          "12:12:00",
          "12:13:00",
          "12:14:00",
          "12:15:00",
          "12:16:00",
          "12:17:00",
          "12:18:00",
          "12:19:00",
          "12:20:00",
          "12:21:00",
          "12:22:00",
          "12:23:00",
          "12:24:00",
          "12:25:00",
          "12:26:00",
          "12:27:00",
          "12:28:00",
          "12:29:00",
          "12:30:00",
          "12:31:00",
          "12:32:00",
          "12:33:00",
          "12:34:00",
          "12:35:00",
          "12:36:00",
          "12:37:00",
          "12:38:00",
          "12:39:00",
          "12:40:00",
          "12:41:00",
          "12:42:00",
          "12:43:00",
          "12:44:00",
          "12:45:00",
          "12:46:00",
          "12:47:00",
          "12:48:00",
          "12:49:00",
          "12:50:00",
          "12:51:00",
          "12:52:00",
          "12:53:00",
          "12:54:00",
          "12:55:00",
          "12:56:00",
          "12:57:00",
          "12:58:00",
          "12:59:00",
          "13:00:00",
          "13:01:00",
          "13:02:00",
          "13:03:00",
          "13:04:00",
          "13:05:00",
          "13:06:00",
          "13:07:00",
          "13:08:00",
          "13:09:00",
          "13:10:00",
          "13:11:00",
          "13:12:00",
          "13:13:00",
          "13:14:00",
          "13:15:00",
          "13:16:00",
          "13:17:00",
          "13:18:00",
          "13:19:00"
         ],
         "y": [
          1.5,
          1.5,
          1.75,
          1.5,
          1.75,
          1.75,
          1.25,
          1.75,
          1.25,
          1,
          0.75,
          1.25,
          1.25,
          0.75,
          0.75,
          1.25,
          0.75,
          0.75,
          0.5,
          0.75,
          0.75,
          0.75,
          0.75,
          1,
          1,
          1.75,
          1.75,
          1.75,
          1.75,
          1.75,
          1.5,
          1.75,
          1.5,
          1.75,
          2,
          1.75,
          1.75,
          1.75,
          1.5,
          3.75,
          2.25,
          2,
          1.5,
          2.5,
          2.75,
          2.25,
          2.75,
          2.25,
          0.5,
          -0.5,
          -0.5,
          -1.25,
          -0.5,
          -0.25,
          -0.25,
          -1,
          -1,
          -1,
          -0.75,
          -1,
          -2.25,
          -2.25,
          -2.75,
          -3,
          -3.5,
          -4.25,
          -4.25,
          -5,
          -5,
          -6,
          -6.25,
          -5.25,
          -5.75,
          -5.75,
          -5,
          -4.5,
          -4.75,
          -2.75,
          -3.5,
          -3,
          -3.25,
          -3.5,
          -3.5,
          -3.25,
          -4,
          -4,
          -4.25,
          -3.75,
          -4,
          -3.5,
          -4,
          -4.25,
          -4.5,
          -5,
          -5,
          -5.25,
          -5.75,
          -5.75,
          -5.75,
          -5.5,
          -6,
          -6,
          -6,
          -6.25,
          -6.5,
          -7,
          -6.75,
          -6,
          -5.75,
          -6.5,
          -6.75,
          -6.5,
          -6.5,
          -6.5,
          -6.25,
          -6,
          -6.25,
          -6.25,
          -6.25,
          -6.75,
          -6.75,
          -6.75,
          -7,
          -7,
          -6.75,
          -7,
          -7.25,
          -7,
          -7.25,
          -7,
          -6.75,
          -6.75,
          -6.5,
          -6.5,
          -6.5,
          -6.5,
          -6,
          -6.5,
          -6.25,
          -6.5,
          -6.5,
          -6,
          -6.5,
          -7,
          -7,
          -7.25,
          -7.25,
          -7.5,
          -8,
          -8.25,
          -7.75,
          -8,
          -8.25,
          -8.5,
          -8.5,
          -8.75,
          -8.25,
          -8.75,
          -8.5,
          -7.75,
          -7.5,
          -7.5,
          -7.25,
          -7.25,
          -6.75,
          -7.5,
          -8,
          -8,
          -8.25,
          -8.25,
          -8.25,
          -8,
          -8,
          -7.5,
          -7.5,
          -7.75,
          -7.75,
          -7.75,
          -7
         ]
        },
        {
         "line": {
          "color": "rgba(55, 128, 191, 1.0)",
          "dash": "solid",
          "shape": "linear",
          "width": 1.3
         },
         "mode": "lines",
         "name": "2023-04-11",
         "text": "",
         "type": "scatter",
         "x": [
          "10:21:00",
          "10:22:00",
          "10:23:00",
          "10:24:00",
          "10:25:00",
          "10:26:00",
          "10:27:00",
          "10:28:00",
          "10:29:00",
          "10:30:00",
          "10:31:00",
          "10:32:00",
          "10:33:00",
          "10:34:00",
          "10:35:00",
          "10:36:00",
          "10:37:00",
          "10:38:00",
          "10:39:00",
          "10:40:00",
          "10:41:00",
          "10:42:00",
          "10:43:00",
          "10:44:00",
          "10:45:00",
          "10:46:00",
          "10:47:00",
          "10:48:00",
          "10:49:00",
          "10:50:00",
          "10:51:00",
          "10:52:00",
          "10:53:00",
          "10:54:00",
          "10:55:00",
          "10:56:00",
          "10:57:00",
          "10:58:00",
          "10:59:00",
          "11:00:00",
          "11:01:00",
          "11:02:00",
          "11:03:00",
          "11:04:00",
          "11:05:00",
          "11:06:00",
          "11:07:00",
          "11:08:00",
          "11:09:00",
          "11:10:00",
          "11:11:00",
          "11:12:00",
          "11:13:00",
          "11:14:00",
          "11:15:00",
          "11:16:00",
          "11:17:00",
          "11:18:00",
          "11:19:00",
          "11:20:00",
          "11:21:00",
          "11:22:00",
          "11:23:00",
          "11:24:00",
          "11:25:00",
          "11:26:00",
          "11:27:00",
          "11:28:00",
          "11:29:00",
          "11:30:00",
          "11:31:00",
          "11:32:00",
          "11:33:00",
          "11:34:00",
          "11:35:00",
          "11:36:00",
          "11:37:00",
          "11:38:00",
          "11:39:00",
          "11:40:00",
          "11:41:00",
          "11:42:00",
          "11:43:00",
          "11:44:00",
          "11:45:00",
          "11:46:00",
          "11:47:00",
          "11:48:00",
          "11:49:00",
          "11:50:00",
          "11:51:00",
          "11:52:00",
          "11:53:00",
          "11:54:00",
          "11:55:00",
          "11:56:00",
          "11:57:00",
          "11:58:00",
          "11:59:00",
          "12:00:00",
          "12:01:00",
          "12:02:00",
          "12:03:00",
          "12:04:00",
          "12:05:00",
          "12:06:00",
          "12:07:00",
          "12:08:00",
          "12:09:00",
          "12:10:00",
          "12:11:00",
          "12:12:00",
          "12:13:00",
          "12:14:00",
          "12:15:00",
          "12:16:00",
          "12:17:00",
          "12:18:00",
          "12:19:00",
          "12:20:00",
          "12:21:00",
          "12:22:00",
          "12:23:00",
          "12:24:00",
          "12:25:00",
          "12:26:00",
          "12:27:00",
          "12:28:00",
          "12:29:00",
          "12:30:00",
          "12:31:00",
          "12:32:00",
          "12:33:00",
          "12:34:00",
          "12:35:00",
          "12:36:00",
          "12:37:00",
          "12:38:00",
          "12:39:00",
          "12:40:00",
          "12:41:00",
          "12:42:00",
          "12:43:00",
          "12:44:00",
          "12:45:00",
          "12:46:00",
          "12:47:00",
          "12:48:00",
          "12:49:00",
          "12:50:00",
          "12:51:00",
          "12:52:00",
          "12:53:00",
          "12:54:00",
          "12:55:00",
          "12:56:00",
          "12:57:00",
          "12:58:00",
          "12:59:00",
          "13:00:00",
          "13:01:00",
          "13:02:00",
          "13:03:00",
          "13:04:00",
          "13:05:00",
          "13:06:00",
          "13:07:00",
          "13:08:00",
          "13:09:00",
          "13:10:00",
          "13:11:00",
          "13:12:00",
          "13:13:00",
          "13:14:00",
          "13:15:00",
          "13:16:00",
          "13:17:00",
          "13:18:00",
          "13:19:00"
         ],
         "y": [
          0,
          0.25,
          -0.25,
          0.25,
          0.25,
          0.25,
          0,
          0.25,
          0,
          0,
          0,
          -0.25,
          -0.75,
          -1,
          -1.25,
          -0.5,
          -0.25,
          -0.5,
          0,
          0,
          0,
          -0.25,
          -0.5,
          -0.5,
          -0.75,
          -0.75,
          -0.75,
          -0.25,
          0,
          0.25,
          0.5,
          0.5,
          1,
          1.5,
          2.25,
          2.25,
          2.25,
          1.75,
          1.75,
          -0.25,
          -2.75,
          -2,
          -2.25,
          -2.5,
          -4.25,
          -4.75,
          -3.5,
          -2.75,
          -3,
          -2.75,
          -3,
          -2.75,
          -2.75,
          -3,
          -2.75,
          -2.5,
          -2.5,
          -1.75,
          -1.75,
          -2,
          -2,
          -1.75,
          -2.25,
          -2.25,
          -3,
          -3.5,
          -3,
          -3,
          -4,
          -3.75,
          -4.25,
          -4.5,
          -5.75,
          -5.5,
          -5.25,
          -6,
          -6,
          -6.25,
          -6.25,
          -6.75,
          -6.5,
          -5.75,
          -5.5,
          -5.25,
          -5.25,
          -4.5,
          -4.75,
          -4.75,
          -5,
          -5.5,
          -6,
          -6,
          -5.75,
          -5.5,
          -5.25,
          -5.5,
          -5.25,
          -5.5,
          -5.5,
          -5,
          -4.5,
          -4.5,
          -5,
          -5,
          -5,
          -5,
          -5.25,
          -4.75,
          -4.75,
          -4.75,
          -5,
          -5,
          -5.25,
          -5.5,
          -5.25,
          -5.5,
          -5.25,
          -5.5,
          -5.75,
          -5.25,
          -5.5,
          -6,
          -5.75,
          -5.75,
          -5.75,
          -4.75,
          -5.25,
          -5,
          -5,
          -5,
          -5.25,
          -5,
          -4.75,
          -4.5,
          -4.5,
          -4.5,
          -4,
          -4.25,
          -3.5,
          -4.25,
          -3,
          -2.75,
          -2.25,
          -2.25,
          -2.25,
          -2.5,
          -2,
          -1.75,
          -1.5,
          -2.25,
          -2,
          -1.25,
          -1.5,
          -2,
          -1.75,
          -2,
          -2,
          -2.5,
          -2,
          -2,
          -2.5,
          -2.75,
          -3,
          -3.5,
          -3,
          -3,
          -3,
          -2.75,
          -2.25,
          -1.75,
          -1.25,
          -2.5,
          -2.5,
          -2.5,
          -2.5,
          -2.75,
          -3,
          -2.75,
          -1.75
         ]
        },
        {
         "line": {
          "color": "rgba(50, 171, 96, 1.0)",
          "dash": "solid",
          "shape": "linear",
          "width": 1.3
         },
         "mode": "lines",
         "name": "2023-05-12",
         "text": "",
         "type": "scatter",
         "x": [
          "10:21:00",
          "10:22:00",
          "10:23:00",
          "10:24:00",
          "10:25:00",
          "10:26:00",
          "10:27:00",
          "10:28:00",
          "10:29:00",
          "10:30:00",
          "10:31:00",
          "10:32:00",
          "10:33:00",
          "10:34:00",
          "10:35:00",
          "10:36:00",
          "10:37:00",
          "10:38:00",
          "10:39:00",
          "10:40:00",
          "10:41:00",
          "10:42:00",
          "10:43:00",
          "10:44:00",
          "10:45:00",
          "10:46:00",
          "10:47:00",
          "10:48:00",
          "10:49:00",
          "10:50:00",
          "10:51:00",
          "10:52:00",
          "10:53:00",
          "10:54:00",
          "10:55:00",
          "10:56:00",
          "10:57:00",
          "10:58:00",
          "10:59:00",
          "11:00:00",
          "11:01:00",
          "11:02:00",
          "11:03:00",
          "11:04:00",
          "11:05:00",
          "11:06:00",
          "11:07:00",
          "11:08:00",
          "11:09:00",
          "11:10:00",
          "11:11:00",
          "11:12:00",
          "11:13:00",
          "11:14:00",
          "11:15:00",
          "11:16:00",
          "11:17:00",
          "11:18:00",
          "11:19:00",
          "11:20:00",
          "11:21:00",
          "11:22:00",
          "11:23:00",
          "11:24:00",
          "11:25:00",
          "11:26:00",
          "11:27:00",
          "11:28:00",
          "11:29:00",
          "11:30:00",
          "11:31:00",
          "11:32:00",
          "11:33:00",
          "11:34:00",
          "11:35:00",
          "11:36:00",
          "11:37:00",
          "11:38:00",
          "11:39:00",
          "11:40:00",
          "11:41:00",
          "11:42:00",
          "11:43:00",
          "11:44:00",
          "11:45:00",
          "11:46:00",
          "11:47:00",
          "11:48:00",
          "11:49:00",
          "11:50:00",
          "11:51:00",
          "11:52:00",
          "11:53:00",
          "11:54:00",
          "11:55:00",
          "11:56:00",
          "11:57:00",
          "11:58:00",
          "11:59:00",
          "12:00:00",
          "12:01:00",
          "12:02:00",
          "12:03:00",
          "12:04:00",
          "12:05:00",
          "12:06:00",
          "12:07:00",
          "12:08:00",
          "12:09:00",
          "12:10:00",
          "12:11:00",
          "12:12:00",
          "12:13:00",
          "12:14:00",
          "12:15:00",
          "12:16:00",
          "12:17:00",
          "12:18:00",
          "12:19:00",
          "12:20:00",
          "12:21:00",
          "12:22:00",
          "12:23:00",
          "12:24:00",
          "12:25:00",
          "12:26:00",
          "12:27:00",
          "12:28:00",
          "12:29:00",
          "12:30:00",
          "12:31:00",
          "12:32:00",
          "12:33:00",
          "12:34:00",
          "12:35:00",
          "12:36:00",
          "12:37:00",
          "12:38:00",
          "12:39:00",
          "12:40:00",
          "12:41:00",
          "12:42:00",
          "12:43:00",
          "12:44:00",
          "12:45:00",
          "12:46:00",
          "12:47:00",
          "12:48:00",
          "12:49:00",
          "12:50:00",
          "12:51:00",
          "12:52:00",
          "12:53:00",
          "12:54:00",
          "12:55:00",
          "12:56:00",
          "12:57:00",
          "12:58:00",
          "12:59:00",
          "13:00:00",
          "13:01:00",
          "13:02:00",
          "13:03:00",
          "13:04:00",
          "13:05:00",
          "13:06:00",
          "13:07:00",
          "13:08:00",
          "13:09:00",
          "13:10:00",
          "13:11:00",
          "13:12:00",
          "13:13:00",
          "13:14:00",
          "13:15:00",
          "13:16:00",
          "13:17:00",
          "13:18:00",
          "13:19:00"
         ],
         "y": [
          0,
          0.5,
          0.5,
          0.5,
          0.5,
          0.5,
          0.25,
          0.5,
          0.5,
          0.5,
          0.25,
          0.75,
          0.75,
          0,
          0.25,
          0,
          0,
          0.5,
          0.5,
          0.75,
          0.5,
          0.75,
          0.75,
          0.75,
          0.5,
          1.75,
          1.75,
          1.5,
          1.75,
          1.75,
          1.5,
          1.25,
          1.25,
          0.75,
          0.75,
          0.25,
          1.25,
          1.5,
          1,
          2.75,
          6,
          9,
          9.75,
          13.5,
          11.75,
          9.25,
          8.75,
          8,
          7,
          7.75,
          6.25,
          5,
          5,
          3.25,
          3,
          3.75,
          4.5,
          3.75,
          5.75,
          6.75,
          7.25,
          6.25,
          6.25,
          7.25,
          5.75,
          5,
          5,
          5.25,
          5,
          5.5,
          6.25,
          7.5,
          7.5,
          7.25,
          7.75,
          7.5,
          7.25,
          6.75,
          6.75,
          6,
          6.25,
          5.25,
          6,
          6.25,
          6.5,
          6.75,
          6,
          5.5,
          6,
          7,
          5.5,
          7.25,
          7.25,
          7.25,
          7.5,
          7,
          7.5,
          6.5,
          6.25,
          6,
          6.5,
          5.5,
          5.5,
          4.75,
          4.5,
          4.25,
          3.75,
          3,
          4,
          4.25,
          3.75,
          3.25,
          3.25,
          2.5,
          3.25,
          3.25,
          3.25,
          3.5,
          3.75,
          4,
          4.25,
          4.75,
          4.75,
          4.5,
          4.5,
          4.5,
          4.75,
          4.5,
          4.25,
          5.25,
          5,
          5,
          6,
          5.75,
          5.75,
          5.5,
          6,
          6.25,
          6.25,
          6.5,
          6.5,
          6.75,
          6.5,
          6.25,
          6.5,
          6.5,
          6.5,
          6.25,
          5.75,
          5,
          4.75,
          5,
          4.75,
          5.25,
          5.25,
          5.25,
          5.5,
          5.5,
          6.25,
          6.5,
          7.25,
          6.75,
          7.75,
          7.25,
          8.75,
          8.75,
          9.25,
          9,
          8.25,
          8,
          8.75,
          9.25,
          8.75,
          8,
          7,
          7.5,
          7.25,
          7.25,
          5.5
         ]
        },
        {
         "line": {
          "color": "rgba(128, 0, 128, 1.0)",
          "dash": "solid",
          "shape": "linear",
          "width": 1.3
         },
         "mode": "lines",
         "name": "2023-06-09",
         "text": "",
         "type": "scatter",
         "x": [
          "10:21:00",
          "10:22:00",
          "10:23:00",
          "10:24:00",
          "10:25:00",
          "10:26:00",
          "10:27:00",
          "10:28:00",
          "10:29:00",
          "10:30:00",
          "10:31:00",
          "10:32:00",
          "10:33:00",
          "10:34:00",
          "10:35:00",
          "10:36:00",
          "10:37:00",
          "10:38:00",
          "10:39:00",
          "10:40:00",
          "10:41:00",
          "10:42:00",
          "10:43:00",
          "10:44:00",
          "10:45:00",
          "10:46:00",
          "10:47:00",
          "10:48:00",
          "10:49:00",
          "10:50:00",
          "10:51:00",
          "10:52:00",
          "10:53:00",
          "10:54:00",
          "10:55:00",
          "10:56:00",
          "10:57:00",
          "10:58:00",
          "10:59:00",
          "11:00:00",
          "11:01:00",
          "11:02:00",
          "11:03:00",
          "11:04:00",
          "11:05:00",
          "11:06:00",
          "11:07:00",
          "11:08:00",
          "11:09:00",
          "11:10:00",
          "11:11:00",
          "11:12:00",
          "11:13:00",
          "11:14:00",
          "11:15:00",
          "11:16:00",
          "11:17:00",
          "11:18:00",
          "11:19:00",
          "11:20:00",
          "11:21:00",
          "11:22:00",
          "11:23:00",
          "11:24:00",
          "11:25:00",
          "11:26:00",
          "11:27:00",
          "11:28:00",
          "11:29:00",
          "11:30:00",
          "11:31:00",
          "11:32:00",
          "11:33:00",
          "11:34:00",
          "11:35:00",
          "11:36:00",
          "11:37:00",
          "11:38:00",
          "11:39:00",
          "11:40:00",
          "11:41:00",
          "11:42:00",
          "11:43:00",
          "11:44:00",
          "11:45:00",
          "11:46:00",
          "11:47:00",
          "11:48:00",
          "11:49:00",
          "11:50:00",
          "11:51:00",
          "11:52:00",
          "11:53:00",
          "11:54:00",
          "11:55:00",
          "11:56:00",
          "11:57:00",
          "11:58:00",
          "11:59:00",
          "12:00:00",
          "12:01:00",
          "12:02:00",
          "12:03:00",
          "12:04:00",
          "12:05:00",
          "12:06:00",
          "12:07:00",
          "12:08:00",
          "12:09:00",
          "12:10:00",
          "12:11:00",
          "12:12:00",
          "12:13:00",
          "12:14:00",
          "12:15:00",
          "12:16:00",
          "12:17:00",
          "12:18:00",
          "12:19:00",
          "12:20:00",
          "12:21:00",
          "12:22:00",
          "12:23:00",
          "12:24:00",
          "12:25:00",
          "12:26:00",
          "12:27:00",
          "12:28:00",
          "12:29:00",
          "12:30:00",
          "12:31:00",
          "12:32:00",
          "12:33:00",
          "12:34:00",
          "12:35:00",
          "12:36:00",
          "12:37:00",
          "12:38:00",
          "12:39:00",
          "12:40:00",
          "12:41:00",
          "12:42:00",
          "12:43:00",
          "12:44:00",
          "12:45:00",
          "12:46:00",
          "12:47:00",
          "12:48:00",
          "12:49:00",
          "12:50:00",
          "12:51:00",
          "12:52:00",
          "12:53:00",
          "12:54:00",
          "12:55:00",
          "12:56:00",
          "12:57:00",
          "12:58:00",
          "12:59:00",
          "13:00:00",
          "13:01:00",
          "13:02:00",
          "13:03:00",
          "13:04:00",
          "13:05:00",
          "13:06:00",
          "13:07:00",
          "13:08:00",
          "13:09:00",
          "13:10:00",
          "13:11:00",
          "13:12:00",
          "13:13:00",
          "13:14:00",
          "13:15:00",
          "13:16:00",
          "13:17:00",
          "13:18:00",
          "13:19:00"
         ],
         "y": [
          0,
          0.5,
          1,
          0.75,
          1,
          0.75,
          0.75,
          0.5,
          0.25,
          -0.25,
          -1,
          -1.25,
          -1.25,
          -1,
          -1.25,
          -1,
          -0.75,
          -0.75,
          -1,
          -1,
          -0.5,
          0,
          0.25,
          -0.25,
          -0.75,
          -0.75,
          -0.75,
          -1.5,
          -2,
          -1.25,
          -1.5,
          -1.5,
          -2,
          -1.5,
          -1.5,
          -2,
          -2,
          -1.5,
          -2,
          1,
          1.25,
          -0.25,
          1.75,
          2.5,
          1.25,
          3.5,
          5.25,
          1.75,
          1.25,
          1.5,
          1.75,
          -0.5,
          -0.25,
          1,
          1,
          0.75,
          1,
          0.5,
          1,
          0.75,
          0,
          -0.25,
          0.5,
          1.25,
          1.25,
          1.25,
          2,
          1.5,
          1.5,
          2.25,
          1.75,
          2.5,
          3.25,
          3.5,
          3.5,
          3.75,
          4.5,
          4,
          3.5,
          4,
          4,
          4.25,
          4,
          4,
          3.25,
          3.25,
          2.25,
          2.25,
          2.25,
          2.25,
          2.75,
          2.25,
          2.5,
          2.75,
          2,
          2,
          2.5,
          2.75,
          1.75,
          2.75,
          2.25,
          2.25,
          1.75,
          2,
          1.75,
          2.25,
          1.75,
          1.75,
          0.75,
          1,
          1.25,
          2.5,
          2.75,
          2.75,
          3,
          3,
          3,
          2.25,
          3.25,
          3.5,
          3.75,
          3.75,
          4.75,
          4.5,
          4.5,
          4.5,
          4.25,
          4.75,
          4.5,
          5,
          5.25,
          5.25,
          4.75,
          4.75,
          5,
          5,
          5,
          5.25,
          6.25,
          6,
          5.75,
          5.5,
          5.5,
          5.25,
          4.5,
          5,
          5.25,
          5,
          4.75,
          4.75,
          4.75,
          5,
          4.5,
          4.5,
          4.75,
          5,
          4.75,
          4.25,
          3.5,
          4,
          3.75,
          4,
          3,
          3.5,
          3.5,
          4,
          3.5,
          4.25,
          3.5,
          3.75,
          3.5,
          3,
          3,
          3,
          2.5,
          2,
          2,
          2.75,
          3.25
         ]
        },
        {
         "line": {
          "color": "rgba(219, 64, 82, 1.0)",
          "dash": "solid",
          "shape": "linear",
          "width": 1.3
         },
         "mode": "lines",
         "name": "2023-07-12",
         "text": "",
         "type": "scatter",
         "x": [
          "10:21:00",
          "10:22:00",
          "10:23:00",
          "10:24:00",
          "10:25:00",
          "10:26:00",
          "10:27:00",
          "10:28:00",
          "10:29:00",
          "10:30:00",
          "10:31:00",
          "10:32:00",
          "10:33:00",
          "10:34:00",
          "10:35:00",
          "10:36:00",
          "10:37:00",
          "10:38:00",
          "10:39:00",
          "10:40:00",
          "10:41:00",
          "10:42:00",
          "10:43:00",
          "10:44:00",
          "10:45:00",
          "10:46:00",
          "10:47:00",
          "10:48:00",
          "10:49:00",
          "10:50:00",
          "10:51:00",
          "10:52:00",
          "10:53:00",
          "10:54:00",
          "10:55:00",
          "10:56:00",
          "10:57:00",
          "10:58:00",
          "10:59:00",
          "11:00:00",
          "11:01:00",
          "11:02:00",
          "11:03:00",
          "11:04:00",
          "11:05:00",
          "11:06:00",
          "11:07:00",
          "11:08:00",
          "11:09:00",
          "11:10:00",
          "11:11:00",
          "11:12:00",
          "11:13:00",
          "11:14:00",
          "11:15:00",
          "11:16:00",
          "11:17:00",
          "11:18:00",
          "11:19:00",
          "11:20:00",
          "11:21:00",
          "11:22:00",
          "11:23:00",
          "11:24:00",
          "11:25:00",
          "11:26:00",
          "11:27:00",
          "11:28:00",
          "11:29:00",
          "11:30:00",
          "11:31:00",
          "11:32:00",
          "11:33:00",
          "11:34:00",
          "11:35:00",
          "11:36:00",
          "11:37:00",
          "11:38:00",
          "11:39:00",
          "11:40:00",
          "11:41:00",
          "11:42:00",
          "11:43:00",
          "11:44:00",
          "11:45:00",
          "11:46:00",
          "11:47:00",
          "11:48:00",
          "11:49:00",
          "11:50:00",
          "11:51:00",
          "11:52:00",
          "11:53:00",
          "11:54:00",
          "11:55:00",
          "11:56:00",
          "11:57:00",
          "11:58:00",
          "11:59:00",
          "12:00:00",
          "12:01:00",
          "12:02:00",
          "12:03:00",
          "12:04:00",
          "12:05:00",
          "12:06:00",
          "12:07:00",
          "12:08:00",
          "12:09:00",
          "12:10:00",
          "12:11:00",
          "12:12:00",
          "12:13:00",
          "12:14:00",
          "12:15:00",
          "12:16:00",
          "12:17:00",
          "12:18:00",
          "12:19:00",
          "12:20:00",
          "12:21:00",
          "12:22:00",
          "12:23:00",
          "12:24:00",
          "12:25:00",
          "12:26:00",
          "12:27:00",
          "12:28:00",
          "12:29:00",
          "12:30:00",
          "12:31:00",
          "12:32:00",
          "12:33:00",
          "12:34:00",
          "12:35:00",
          "12:36:00",
          "12:37:00",
          "12:38:00",
          "12:39:00",
          "12:40:00",
          "12:41:00",
          "12:42:00",
          "12:43:00",
          "12:44:00",
          "12:45:00",
          "12:46:00",
          "12:47:00",
          "12:48:00",
          "12:49:00",
          "12:50:00",
          "12:51:00",
          "12:52:00",
          "12:53:00",
          "12:54:00",
          "12:55:00",
          "12:56:00",
          "12:57:00",
          "12:58:00",
          "12:59:00",
          "13:00:00",
          "13:01:00",
          "13:02:00",
          "13:03:00",
          "13:04:00",
          "13:05:00",
          "13:06:00",
          "13:07:00",
          "13:08:00",
          "13:09:00",
          "13:10:00",
          "13:11:00",
          "13:12:00",
          "13:13:00",
          "13:14:00",
          "13:15:00",
          "13:16:00",
          "13:17:00",
          "13:18:00",
          "13:19:00"
         ],
         "y": [
          0,
          0.5,
          1,
          0.5,
          0.5,
          0,
          -0.5,
          -0.75,
          -0.5,
          -0.75,
          -0.25,
          -0.75,
          -0.5,
          -0.25,
          -1,
          -1,
          -1,
          -0.75,
          -1.25,
          -1,
          -1.5,
          -1,
          -1.25,
          -1,
          -1.5,
          -1.5,
          -1.5,
          -1.75,
          -2,
          -1.75,
          -1.5,
          -1.5,
          -1.75,
          -2,
          -2.25,
          -2.5,
          -1.5,
          -1.5,
          -1.75,
          -9.25,
          -9.25,
          -10.75,
          -10.25,
          -10.5,
          -12.25,
          -11.5,
          -12.75,
          -14.25,
          -13.75,
          -14.25,
          -15.75,
          -14.5,
          -15,
          -15.25,
          -15.75,
          -13.5,
          -14.5,
          -15.25,
          -14.25,
          -15.25,
          -15.75,
          -15,
          -16,
          -15.5,
          -15.5,
          -15.5,
          -15.5,
          -14.75,
          -14.25,
          -13.75,
          -13,
          -13,
          -13,
          -12.75,
          -12.5,
          -13.75,
          -13,
          -12.5,
          -12.5,
          -12.5,
          -12.5,
          -12.5,
          -11.5,
          -11.5,
          -12.5,
          -12.5,
          -12.25,
          -12.5,
          -12,
          -13,
          -13.5,
          -12.5,
          -11.75,
          -11.75,
          -10.75,
          -11.25,
          -10.75,
          -10.75,
          -11.25,
          -11.75,
          -11,
          -11.25,
          -11.25,
          -10.75,
          -10.25,
          -10,
          -10,
          -9.75,
          -9.75,
          -10,
          -9.5,
          -9.75,
          -9.5,
          -9.25,
          -8.75,
          -8.5,
          -7.75,
          -7.75,
          -7,
          -7.5,
          -7.75,
          -7.75,
          -9,
          -8.75,
          -8,
          -8,
          -7.75,
          -8,
          -7.75,
          -7.75,
          -7.5,
          -7.5,
          -7.25,
          -7.25,
          -8,
          -8,
          -8.75,
          -10.5,
          -9.75,
          -10,
          -10.5,
          -10,
          -9.75,
          -10.25,
          -10,
          -9.75,
          -9.5,
          -10.25,
          -10.25,
          -11,
          -11.25,
          -12,
          -11.5,
          -12,
          -13,
          -13,
          -12.75,
          -13,
          -13,
          -13.25,
          -13.75,
          -14.25,
          -14.75,
          -14.25,
          -14,
          -14,
          -14.25,
          -14.25,
          -15,
          -14.75,
          -15,
          -14.5,
          -14.75,
          -14.75,
          -14.75,
          -15,
          -15,
          -15,
          -15.25
         ]
        }
       ],
       "layout": {
        "height": 500,
        "legend": {
         "bgcolor": "#151516",
         "font": {
          "color": "#D9D9D9"
         }
        },
        "paper_bgcolor": "#151516",
        "plot_bgcolor": "#151516",
        "template": {
         "data": {
          "bar": [
           {
            "error_x": {
             "color": "#2a3f5f"
            },
            "error_y": {
             "color": "#2a3f5f"
            },
            "marker": {
             "line": {
              "color": "#E5ECF6",
              "width": 0.5
             },
             "pattern": {
              "fillmode": "overlay",
              "size": 10,
              "solidity": 0.2
             }
            },
            "type": "bar"
           }
          ],
          "barpolar": [
           {
            "marker": {
             "line": {
              "color": "#E5ECF6",
              "width": 0.5
             },
             "pattern": {
              "fillmode": "overlay",
              "size": 10,
              "solidity": 0.2
             }
            },
            "type": "barpolar"
           }
          ],
          "carpet": [
           {
            "aaxis": {
             "endlinecolor": "#2a3f5f",
             "gridcolor": "white",
             "linecolor": "white",
             "minorgridcolor": "white",
             "startlinecolor": "#2a3f5f"
            },
            "baxis": {
             "endlinecolor": "#2a3f5f",
             "gridcolor": "white",
             "linecolor": "white",
             "minorgridcolor": "white",
             "startlinecolor": "#2a3f5f"
            },
            "type": "carpet"
           }
          ],
          "choropleth": [
           {
            "colorbar": {
             "outlinewidth": 0,
             "ticks": ""
            },
            "type": "choropleth"
           }
          ],
          "contour": [
           {
            "colorbar": {
             "outlinewidth": 0,
             "ticks": ""
            },
            "colorscale": [
             [
              0,
              "#0d0887"
             ],
             [
              0.1111111111111111,
              "#46039f"
             ],
             [
              0.2222222222222222,
              "#7201a8"
             ],
             [
              0.3333333333333333,
              "#9c179e"
             ],
             [
              0.4444444444444444,
              "#bd3786"
             ],
             [
              0.5555555555555556,
              "#d8576b"
             ],
             [
              0.6666666666666666,
              "#ed7953"
             ],
             [
              0.7777777777777778,
              "#fb9f3a"
             ],
             [
              0.8888888888888888,
              "#fdca26"
             ],
             [
              1,
              "#f0f921"
             ]
            ],
            "type": "contour"
           }
          ],
          "contourcarpet": [
           {
            "colorbar": {
             "outlinewidth": 0,
             "ticks": ""
            },
            "type": "contourcarpet"
           }
          ],
          "heatmap": [
           {
            "colorbar": {
             "outlinewidth": 0,
             "ticks": ""
            },
            "colorscale": [
             [
              0,
              "#0d0887"
             ],
             [
              0.1111111111111111,
              "#46039f"
             ],
             [
              0.2222222222222222,
              "#7201a8"
             ],
             [
              0.3333333333333333,
              "#9c179e"
             ],
             [
              0.4444444444444444,
              "#bd3786"
             ],
             [
              0.5555555555555556,
              "#d8576b"
             ],
             [
              0.6666666666666666,
              "#ed7953"
             ],
             [
              0.7777777777777778,
              "#fb9f3a"
             ],
             [
              0.8888888888888888,
              "#fdca26"
             ],
             [
              1,
              "#f0f921"
             ]
            ],
            "type": "heatmap"
           }
          ],
          "heatmapgl": [
           {
            "colorbar": {
             "outlinewidth": 0,
             "ticks": ""
            },
            "colorscale": [
             [
              0,
              "#0d0887"
             ],
             [
              0.1111111111111111,
              "#46039f"
             ],
             [
              0.2222222222222222,
              "#7201a8"
             ],
             [
              0.3333333333333333,
              "#9c179e"
             ],
             [
              0.4444444444444444,
              "#bd3786"
             ],
             [
              0.5555555555555556,
              "#d8576b"
             ],
             [
              0.6666666666666666,
              "#ed7953"
             ],
             [
              0.7777777777777778,
              "#fb9f3a"
             ],
             [
              0.8888888888888888,
              "#fdca26"
             ],
             [
              1,
              "#f0f921"
             ]
            ],
            "type": "heatmapgl"
           }
          ],
          "histogram": [
           {
            "marker": {
             "pattern": {
              "fillmode": "overlay",
              "size": 10,
              "solidity": 0.2
             }
            },
            "type": "histogram"
           }
          ],
          "histogram2d": [
           {
            "colorbar": {
             "outlinewidth": 0,
             "ticks": ""
            },
            "colorscale": [
             [
              0,
              "#0d0887"
             ],
             [
              0.1111111111111111,
              "#46039f"
             ],
             [
              0.2222222222222222,
              "#7201a8"
             ],
             [
              0.3333333333333333,
              "#9c179e"
             ],
             [
              0.4444444444444444,
              "#bd3786"
             ],
             [
              0.5555555555555556,
              "#d8576b"
             ],
             [
              0.6666666666666666,
              "#ed7953"
             ],
             [
              0.7777777777777778,
              "#fb9f3a"
             ],
             [
              0.8888888888888888,
              "#fdca26"
             ],
             [
              1,
              "#f0f921"
             ]
            ],
            "type": "histogram2d"
           }
          ],
          "histogram2dcontour": [
           {
            "colorbar": {
             "outlinewidth": 0,
             "ticks": ""
            },
            "colorscale": [
             [
              0,
              "#0d0887"
             ],
             [
              0.1111111111111111,
              "#46039f"
             ],
             [
              0.2222222222222222,
              "#7201a8"
             ],
             [
              0.3333333333333333,
              "#9c179e"
             ],
             [
              0.4444444444444444,
              "#bd3786"
             ],
             [
              0.5555555555555556,
              "#d8576b"
             ],
             [
              0.6666666666666666,
              "#ed7953"
             ],
             [
              0.7777777777777778,
              "#fb9f3a"
             ],
             [
              0.8888888888888888,
              "#fdca26"
             ],
             [
              1,
              "#f0f921"
             ]
            ],
            "type": "histogram2dcontour"
           }
          ],
          "mesh3d": [
           {
            "colorbar": {
             "outlinewidth": 0,
             "ticks": ""
            },
            "type": "mesh3d"
           }
          ],
          "parcoords": [
           {
            "line": {
             "colorbar": {
              "outlinewidth": 0,
              "ticks": ""
             }
            },
            "type": "parcoords"
           }
          ],
          "pie": [
           {
            "automargin": true,
            "type": "pie"
           }
          ],
          "scatter": [
           {
            "marker": {
             "colorbar": {
              "outlinewidth": 0,
              "ticks": ""
             }
            },
            "type": "scatter"
           }
          ],
          "scatter3d": [
           {
            "line": {
             "colorbar": {
              "outlinewidth": 0,
              "ticks": ""
             }
            },
            "marker": {
             "colorbar": {
              "outlinewidth": 0,
              "ticks": ""
             }
            },
            "type": "scatter3d"
           }
          ],
          "scattercarpet": [
           {
            "marker": {
             "colorbar": {
              "outlinewidth": 0,
              "ticks": ""
             }
            },
            "type": "scattercarpet"
           }
          ],
          "scattergeo": [
           {
            "marker": {
             "colorbar": {
              "outlinewidth": 0,
              "ticks": ""
             }
            },
            "type": "scattergeo"
           }
          ],
          "scattergl": [
           {
            "marker": {
             "colorbar": {
              "outlinewidth": 0,
              "ticks": ""
             }
            },
            "type": "scattergl"
           }
          ],
          "scattermapbox": [
           {
            "marker": {
             "colorbar": {
              "outlinewidth": 0,
              "ticks": ""
             }
            },
            "type": "scattermapbox"
           }
          ],
          "scatterpolar": [
           {
            "marker": {
             "colorbar": {
              "outlinewidth": 0,
              "ticks": ""
             }
            },
            "type": "scatterpolar"
           }
          ],
          "scatterpolargl": [
           {
            "marker": {
             "colorbar": {
              "outlinewidth": 0,
              "ticks": ""
             }
            },
            "type": "scatterpolargl"
           }
          ],
          "scatterternary": [
           {
            "marker": {
             "colorbar": {
              "outlinewidth": 0,
              "ticks": ""
             }
            },
            "type": "scatterternary"
           }
          ],
          "surface": [
           {
            "colorbar": {
             "outlinewidth": 0,
             "ticks": ""
            },
            "colorscale": [
             [
              0,
              "#0d0887"
             ],
             [
              0.1111111111111111,
              "#46039f"
             ],
             [
              0.2222222222222222,
              "#7201a8"
             ],
             [
              0.3333333333333333,
              "#9c179e"
             ],
             [
              0.4444444444444444,
              "#bd3786"
             ],
             [
              0.5555555555555556,
              "#d8576b"
             ],
             [
              0.6666666666666666,
              "#ed7953"
             ],
             [
              0.7777777777777778,
              "#fb9f3a"
             ],
             [
              0.8888888888888888,
              "#fdca26"
             ],
             [
              1,
              "#f0f921"
             ]
            ],
            "type": "surface"
           }
          ],
          "table": [
           {
            "cells": {
             "fill": {
              "color": "#EBF0F8"
             },
             "line": {
              "color": "white"
             }
            },
            "header": {
             "fill": {
              "color": "#C8D4E3"
             },
             "line": {
              "color": "white"
             }
            },
            "type": "table"
           }
          ]
         },
         "layout": {
          "annotationdefaults": {
           "arrowcolor": "#2a3f5f",
           "arrowhead": 0,
           "arrowwidth": 1
          },
          "autotypenumbers": "strict",
          "coloraxis": {
           "colorbar": {
            "outlinewidth": 0,
            "ticks": ""
           }
          },
          "colorscale": {
           "diverging": [
            [
             0,
             "#8e0152"
            ],
            [
             0.1,
             "#c51b7d"
            ],
            [
             0.2,
             "#de77ae"
            ],
            [
             0.3,
             "#f1b6da"
            ],
            [
             0.4,
             "#fde0ef"
            ],
            [
             0.5,
             "#f7f7f7"
            ],
            [
             0.6,
             "#e6f5d0"
            ],
            [
             0.7,
             "#b8e186"
            ],
            [
             0.8,
             "#7fbc41"
            ],
            [
             0.9,
             "#4d9221"
            ],
            [
             1,
             "#276419"
            ]
           ],
           "sequential": [
            [
             0,
             "#0d0887"
            ],
            [
             0.1111111111111111,
             "#46039f"
            ],
            [
             0.2222222222222222,
             "#7201a8"
            ],
            [
             0.3333333333333333,
             "#9c179e"
            ],
            [
             0.4444444444444444,
             "#bd3786"
            ],
            [
             0.5555555555555556,
             "#d8576b"
            ],
            [
             0.6666666666666666,
             "#ed7953"
            ],
            [
             0.7777777777777778,
             "#fb9f3a"
            ],
            [
             0.8888888888888888,
             "#fdca26"
            ],
            [
             1,
             "#f0f921"
            ]
           ],
           "sequentialminus": [
            [
             0,
             "#0d0887"
            ],
            [
             0.1111111111111111,
             "#46039f"
            ],
            [
             0.2222222222222222,
             "#7201a8"
            ],
            [
             0.3333333333333333,
             "#9c179e"
            ],
            [
             0.4444444444444444,
             "#bd3786"
            ],
            [
             0.5555555555555556,
             "#d8576b"
            ],
            [
             0.6666666666666666,
             "#ed7953"
            ],
            [
             0.7777777777777778,
             "#fb9f3a"
            ],
            [
             0.8888888888888888,
             "#fdca26"
            ],
            [
             1,
             "#f0f921"
            ]
           ]
          },
          "colorway": [
           "#636efa",
           "#EF553B",
           "#00cc96",
           "#ab63fa",
           "#FFA15A",
           "#19d3f3",
           "#FF6692",
           "#B6E880",
           "#FF97FF",
           "#FECB52"
          ],
          "font": {
           "color": "#2a3f5f"
          },
          "geo": {
           "bgcolor": "white",
           "lakecolor": "white",
           "landcolor": "#E5ECF6",
           "showlakes": true,
           "showland": true,
           "subunitcolor": "white"
          },
          "hoverlabel": {
           "align": "left"
          },
          "hovermode": "closest",
          "mapbox": {
           "style": "light"
          },
          "paper_bgcolor": "white",
          "plot_bgcolor": "#E5ECF6",
          "polar": {
           "angularaxis": {
            "gridcolor": "white",
            "linecolor": "white",
            "ticks": ""
           },
           "bgcolor": "#E5ECF6",
           "radialaxis": {
            "gridcolor": "white",
            "linecolor": "white",
            "ticks": ""
           }
          },
          "scene": {
           "xaxis": {
            "backgroundcolor": "#E5ECF6",
            "gridcolor": "white",
            "gridwidth": 2,
            "linecolor": "white",
            "showbackground": true,
            "ticks": "",
            "zerolinecolor": "white"
           },
           "yaxis": {
            "backgroundcolor": "#E5ECF6",
            "gridcolor": "white",
            "gridwidth": 2,
            "linecolor": "white",
            "showbackground": true,
            "ticks": "",
            "zerolinecolor": "white"
           },
           "zaxis": {
            "backgroundcolor": "#E5ECF6",
            "gridcolor": "white",
            "gridwidth": 2,
            "linecolor": "white",
            "showbackground": true,
            "ticks": "",
            "zerolinecolor": "white"
           }
          },
          "shapedefaults": {
           "line": {
            "color": "#2a3f5f"
           }
          },
          "ternary": {
           "aaxis": {
            "gridcolor": "white",
            "linecolor": "white",
            "ticks": ""
           },
           "baxis": {
            "gridcolor": "white",
            "linecolor": "white",
            "ticks": ""
           },
           "bgcolor": "#E5ECF6",
           "caxis": {
            "gridcolor": "white",
            "linecolor": "white",
            "ticks": ""
           }
          },
          "title": {
           "x": 0.05
          },
          "xaxis": {
           "automargin": true,
           "gridcolor": "white",
           "linecolor": "white",
           "ticks": "",
           "title": {
            "standoff": 15
           },
           "zerolinecolor": "white",
           "zerolinewidth": 2
          },
          "yaxis": {
           "automargin": true,
           "gridcolor": "white",
           "linecolor": "white",
           "ticks": "",
           "title": {
            "standoff": 15
           },
           "zerolinecolor": "white",
           "zerolinewidth": 2
          }
         }
        },
        "title": {
         "font": {
          "color": "#D9D9D9"
         },
         "text": "Intraday Net Change for CORN DEC3 (Timezone: America/Chicago)"
        },
        "width": 1100,
        "xaxis": {
         "autorange": true,
         "gridcolor": "#434343",
         "range": [
          0,
          178
         ],
         "showgrid": true,
         "tickfont": {
          "color": "#C2C2C2"
         },
         "title": {
          "font": {
           "color": "#D9D9D9"
          },
          "text": ""
         },
         "type": "category",
         "zerolinecolor": "#666570"
        },
        "yaxis": {
         "autorange": true,
         "gridcolor": "#434343",
         "range": [
          -17.63888888888889,
          15.13888888888889
         ],
         "showgrid": true,
         "tickfont": {
          "color": "#C2C2C2"
         },
         "title": {
          "font": {
           "color": "#D9D9D9"
          },
          "text": ""
         },
         "type": "linear",
         "zerolinecolor": "#666570"
        }
       }
      },
      "image/png": "[encoded data removed]",
      "text/html": [
       "<div>                            <div id=\"67a2b51b-0cdb-4ef3-9c90-64267bd6fdd3\" class=\"plotly-graph-div\" style=\"height:500px; width:1100px;\"></div>            <script type=\"text/javascript\">                require([\"plotly\"], function(Plotly) {                    window.PLOTLYENV=window.PLOTLYENV || {};\n",
       "                    window.PLOTLYENV.BASE_URL='https://plot.ly';                                    if (document.getElementById(\"67a2b51b-0cdb-4ef3-9c90-64267bd6fdd3\")) {                    Plotly.newPlot(                        \"67a2b51b-0cdb-4ef3-9c90-64267bd6fdd3\",                        [{\"line\":{\"color\":\"rgba(255, 153, 51, 1.0)\",\"dash\":\"solid\",\"shape\":\"linear\",\"width\":1.3},\"mode\":\"lines\",\"name\":\"2023-03-08\",\"text\":\"\",\"x\":[\"10:21:00\",\"10:22:00\",\"10:23:00\",\"10:24:00\",\"10:25:00\",\"10:26:00\",\"10:27:00\",\"10:28:00\",\"10:29:00\",\"10:30:00\",\"10:31:00\",\"10:32:00\",\"10:33:00\",\"10:34:00\",\"10:35:00\",\"10:36:00\",\"10:37:00\",\"10:38:00\",\"10:39:00\",\"10:40:00\",\"10:41:00\",\"10:42:00\",\"10:43:00\",\"10:44:00\",\"10:45:00\",\"10:46:00\",\"10:47:00\",\"10:48:00\",\"10:49:00\",\"10:50:00\",\"10:51:00\",\"10:52:00\",\"10:53:00\",\"10:54:00\",\"10:55:00\",\"10:56:00\",\"10:57:00\",\"10:58:00\",\"10:59:00\",\"11:00:00\",\"11:01:00\",\"11:02:00\",\"11:03:00\",\"11:04:00\",\"11:05:00\",\"11:06:00\",\"11:07:00\",\"11:08:00\",\"11:09:00\",\"11:10:00\",\"11:11:00\",\"11:12:00\",\"11:13:00\",\"11:14:00\",\"11:15:00\",\"11:16:00\",\"11:17:00\",\"11:18:00\",\"11:19:00\",\"11:20:00\",\"11:21:00\",\"11:22:00\",\"11:23:00\",\"11:24:00\",\"11:25:00\",\"11:26:00\",\"11:27:00\",\"11:28:00\",\"11:29:00\",\"11:30:00\",\"11:31:00\",\"11:32:00\",\"11:33:00\",\"11:34:00\",\"11:35:00\",\"11:36:00\",\"11:37:00\",\"11:38:00\",\"11:39:00\",\"11:40:00\",\"11:41:00\",\"11:42:00\",\"11:43:00\",\"11:44:00\",\"11:45:00\",\"11:46:00\",\"11:47:00\",\"11:48:00\",\"11:49:00\",\"11:50:00\",\"11:51:00\",\"11:52:00\",\"11:53:00\",\"11:54:00\",\"11:55:00\",\"11:56:00\",\"11:57:00\",\"11:58:00\",\"11:59:00\",\"12:00:00\",\"12:01:00\",\"12:02:00\",\"12:03:00\",\"12:04:00\",\"12:05:00\",\"12:06:00\",\"12:07:00\",\"12:08:00\",\"12:09:00\",\"12:10:00\",\"12:11:00\",\"12:12:00\",\"12:13:00\",\"12:14:00\",\"12:15:00\",\"12:16:00\",\"12:17:00\",\"12:18:00\",\"12:19:00\",\"12:20:00\",\"12:21:00\",\"12:22:00\",\"12:23:00\",\"12:24:00\",\"12:25:00\",\"12:26:00\",\"12:27:00\",\"12:28:00\",\"12:29:00\",\"12:30:00\",\"12:31:00\",\"12:32:00\",\"12:33:00\",\"12:34:00\",\"12:35:00\",\"12:36:00\",\"12:37:00\",\"12:38:00\",\"12:39:00\",\"12:40:00\",\"12:41:00\",\"12:42:00\",\"12:43:00\",\"12:44:00\",\"12:45:00\",\"12:46:00\",\"12:47:00\",\"12:48:00\",\"12:49:00\",\"12:50:00\",\"12:51:00\",\"12:52:00\",\"12:53:00\",\"12:54:00\",\"12:55:00\",\"12:56:00\",\"12:57:00\",\"12:58:00\",\"12:59:00\",\"13:00:00\",\"13:01:00\",\"13:02:00\",\"13:03:00\",\"13:04:00\",\"13:05:00\",\"13:06:00\",\"13:07:00\",\"13:08:00\",\"13:09:00\",\"13:10:00\",\"13:11:00\",\"13:12:00\",\"13:13:00\",\"13:14:00\",\"13:15:00\",\"13:16:00\",\"13:17:00\",\"13:18:00\",\"13:19:00\"],\"y\":[1.5,1.5,1.75,1.5,1.75,1.75,1.25,1.75,1.25,1.0,0.75,1.25,1.25,0.75,0.75,1.25,0.75,0.75,0.5,0.75,0.75,0.75,0.75,1.0,1.0,1.75,1.75,1.75,1.75,1.75,1.5,1.75,1.5,1.75,2.0,1.75,1.75,1.75,1.5,3.75,2.25,2.0,1.5,2.5,2.75,2.25,2.75,2.25,0.5,-0.5,-0.5,-1.25,-0.5,-0.25,-0.25,-1.0,-1.0,-1.0,-0.75,-1.0,-2.25,-2.25,-2.75,-3.0,-3.5,-4.25,-4.25,-5.0,-5.0,-6.0,-6.25,-5.25,-5.75,-5.75,-5.0,-4.5,-4.75,-2.75,-3.5,-3.0,-3.25,-3.5,-3.5,-3.25,-4.0,-4.0,-4.25,-3.75,-4.0,-3.5,-4.0,-4.25,-4.5,-5.0,-5.0,-5.25,-5.75,-5.75,-5.75,-5.5,-6.0,-6.0,-6.0,-6.25,-6.5,-7.0,-6.75,-6.0,-5.75,-6.5,-6.75,-6.5,-6.5,-6.5,-6.25,-6.0,-6.25,-6.25,-6.25,-6.75,-6.75,-6.75,-7.0,-7.0,-6.75,-7.0,-7.25,-7.0,-7.25,-7.0,-6.75,-6.75,-6.5,-6.5,-6.5,-6.5,-6.0,-6.5,-6.25,-6.5,-6.5,-6.0,-6.5,-7.0,-7.0,-7.25,-7.25,-7.5,-8.0,-8.25,-7.75,-8.0,-8.25,-8.5,-8.5,-8.75,-8.25,-8.75,-8.5,-7.75,-7.5,-7.5,-7.25,-7.25,-6.75,-7.5,-8.0,-8.0,-8.25,-8.25,-8.25,-8.0,-8.0,-7.5,-7.5,-7.75,-7.75,-7.75,-7.0],\"type\":\"scatter\"},{\"line\":{\"color\":\"rgba(55, 128, 191, 1.0)\",\"dash\":\"solid\",\"shape\":\"linear\",\"width\":1.3},\"mode\":\"lines\",\"name\":\"2023-04-11\",\"text\":\"\",\"x\":[\"10:21:00\",\"10:22:00\",\"10:23:00\",\"10:24:00\",\"10:25:00\",\"10:26:00\",\"10:27:00\",\"10:28:00\",\"10:29:00\",\"10:30:00\",\"10:31:00\",\"10:32:00\",\"10:33:00\",\"10:34:00\",\"10:35:00\",\"10:36:00\",\"10:37:00\",\"10:38:00\",\"10:39:00\",\"10:40:00\",\"10:41:00\",\"10:42:00\",\"10:43:00\",\"10:44:00\",\"10:45:00\",\"10:46:00\",\"10:47:00\",\"10:48:00\",\"10:49:00\",\"10:50:00\",\"10:51:00\",\"10:52:00\",\"10:53:00\",\"10:54:00\",\"10:55:00\",\"10:56:00\",\"10:57:00\",\"10:58:00\",\"10:59:00\",\"11:00:00\",\"11:01:00\",\"11:02:00\",\"11:03:00\",\"11:04:00\",\"11:05:00\",\"11:06:00\",\"11:07:00\",\"11:08:00\",\"11:09:00\",\"11:10:00\",\"11:11:00\",\"11:12:00\",\"11:13:00\",\"11:14:00\",\"11:15:00\",\"11:16:00\",\"11:17:00\",\"11:18:00\",\"11:19:00\",\"11:20:00\",\"11:21:00\",\"11:22:00\",\"11:23:00\",\"11:24:00\",\"11:25:00\",\"11:26:00\",\"11:27:00\",\"11:28:00\",\"11:29:00\",\"11:30:00\",\"11:31:00\",\"11:32:00\",\"11:33:00\",\"11:34:00\",\"11:35:00\",\"11:36:00\",\"11:37:00\",\"11:38:00\",\"11:39:00\",\"11:40:00\",\"11:41:00\",\"11:42:00\",\"11:43:00\",\"11:44:00\",\"11:45:00\",\"11:46:00\",\"11:47:00\",\"11:48:00\",\"11:49:00\",\"11:50:00\",\"11:51:00\",\"11:52:00\",\"11:53:00\",\"11:54:00\",\"11:55:00\",\"11:56:00\",\"11:57:00\",\"11:58:00\",\"11:59:00\",\"12:00:00\",\"12:01:00\",\"12:02:00\",\"12:03:00\",\"12:04:00\",\"12:05:00\",\"12:06:00\",\"12:07:00\",\"12:08:00\",\"12:09:00\",\"12:10:00\",\"12:11:00\",\"12:12:00\",\"12:13:00\",\"12:14:00\",\"12:15:00\",\"12:16:00\",\"12:17:00\",\"12:18:00\",\"12:19:00\",\"12:20:00\",\"12:21:00\",\"12:22:00\",\"12:23:00\",\"12:24:00\",\"12:25:00\",\"12:26:00\",\"12:27:00\",\"12:28:00\",\"12:29:00\",\"12:30:00\",\"12:31:00\",\"12:32:00\",\"12:33:00\",\"12:34:00\",\"12:35:00\",\"12:36:00\",\"12:37:00\",\"12:38:00\",\"12:39:00\",\"12:40:00\",\"12:41:00\",\"12:42:00\",\"12:43:00\",\"12:44:00\",\"12:45:00\",\"12:46:00\",\"12:47:00\",\"12:48:00\",\"12:49:00\",\"12:50:00\",\"12:51:00\",\"12:52:00\",\"12:53:00\",\"12:54:00\",\"12:55:00\",\"12:56:00\",\"12:57:00\",\"12:58:00\",\"12:59:00\",\"13:00:00\",\"13:01:00\",\"13:02:00\",\"13:03:00\",\"13:04:00\",\"13:05:00\",\"13:06:00\",\"13:07:00\",\"13:08:00\",\"13:09:00\",\"13:10:00\",\"13:11:00\",\"13:12:00\",\"13:13:00\",\"13:14:00\",\"13:15:00\",\"13:16:00\",\"13:17:00\",\"13:18:00\",\"13:19:00\"],\"y\":[0.0,0.25,-0.25,0.25,0.25,0.25,0.0,0.25,0.0,0.0,0.0,-0.25,-0.75,-1.0,-1.25,-0.5,-0.25,-0.5,0.0,0.0,0.0,-0.25,-0.5,-0.5,-0.75,-0.75,-0.75,-0.25,0.0,0.25,0.5,0.5,1.0,1.5,2.25,2.25,2.25,1.75,1.75,-0.25,-2.75,-2.0,-2.25,-2.5,-4.25,-4.75,-3.5,-2.75,-3.0,-2.75,-3.0,-2.75,-2.75,-3.0,-2.75,-2.5,-2.5,-1.75,-1.75,-2.0,-2.0,-1.75,-2.25,-2.25,-3.0,-3.5,-3.0,-3.0,-4.0,-3.75,-4.25,-4.5,-5.75,-5.5,-5.25,-6.0,-6.0,-6.25,-6.25,-6.75,-6.5,-5.75,-5.5,-5.25,-5.25,-4.5,-4.75,-4.75,-5.0,-5.5,-6.0,-6.0,-5.75,-5.5,-5.25,-5.5,-5.25,-5.5,-5.5,-5.0,-4.5,-4.5,-5.0,-5.0,-5.0,-5.0,-5.25,-4.75,-4.75,-4.75,-5.0,-5.0,-5.25,-5.5,-5.25,-5.5,-5.25,-5.5,-5.75,-5.25,-5.5,-6.0,-5.75,-5.75,-5.75,-4.75,-5.25,-5.0,-5.0,-5.0,-5.25,-5.0,-4.75,-4.5,-4.5,-4.5,-4.0,-4.25,-3.5,-4.25,-3.0,-2.75,-2.25,-2.25,-2.25,-2.5,-2.0,-1.75,-1.5,-2.25,-2.0,-1.25,-1.5,-2.0,-1.75,-2.0,-2.0,-2.5,-2.0,-2.0,-2.5,-2.75,-3.0,-3.5,-3.0,-3.0,-3.0,-2.75,-2.25,-1.75,-1.25,-2.5,-2.5,-2.5,-2.5,-2.75,-3.0,-2.75,-1.75],\"type\":\"scatter\"},{\"line\":{\"color\":\"rgba(50, 171, 96, 1.0)\",\"dash\":\"solid\",\"shape\":\"linear\",\"width\":1.3},\"mode\":\"lines\",\"name\":\"2023-05-12\",\"text\":\"\",\"x\":[\"10:21:00\",\"10:22:00\",\"10:23:00\",\"10:24:00\",\"10:25:00\",\"10:26:00\",\"10:27:00\",\"10:28:00\",\"10:29:00\",\"10:30:00\",\"10:31:00\",\"10:32:00\",\"10:33:00\",\"10:34:00\",\"10:35:00\",\"10:36:00\",\"10:37:00\",\"10:38:00\",\"10:39:00\",\"10:40:00\",\"10:41:00\",\"10:42:00\",\"10:43:00\",\"10:44:00\",\"10:45:00\",\"10:46:00\",\"10:47:00\",\"10:48:00\",\"10:49:00\",\"10:50:00\",\"10:51:00\",\"10:52:00\",\"10:53:00\",\"10:54:00\",\"10:55:00\",\"10:56:00\",\"10:57:00\",\"10:58:00\",\"10:59:00\",\"11:00:00\",\"11:01:00\",\"11:02:00\",\"11:03:00\",\"11:04:00\",\"11:05:00\",\"11:06:00\",\"11:07:00\",\"11:08:00\",\"11:09:00\",\"11:10:00\",\"11:11:00\",\"11:12:00\",\"11:13:00\",\"11:14:00\",\"11:15:00\",\"11:16:00\",\"11:17:00\",\"11:18:00\",\"11:19:00\",\"11:20:00\",\"11:21:00\",\"11:22:00\",\"11:23:00\",\"11:24:00\",\"11:25:00\",\"11:26:00\",\"11:27:00\",\"11:28:00\",\"11:29:00\",\"11:30:00\",\"11:31:00\",\"11:32:00\",\"11:33:00\",\"11:34:00\",\"11:35:00\",\"11:36:00\",\"11:37:00\",\"11:38:00\",\"11:39:00\",\"11:40:00\",\"11:41:00\",\"11:42:00\",\"11:43:00\",\"11:44:00\",\"11:45:00\",\"11:46:00\",\"11:47:00\",\"11:48:00\",\"11:49:00\",\"11:50:00\",\"11:51:00\",\"11:52:00\",\"11:53:00\",\"11:54:00\",\"11:55:00\",\"11:56:00\",\"11:57:00\",\"11:58:00\",\"11:59:00\",\"12:00:00\",\"12:01:00\",\"12:02:00\",\"12:03:00\",\"12:04:00\",\"12:05:00\",\"12:06:00\",\"12:07:00\",\"12:08:00\",\"12:09:00\",\"12:10:00\",\"12:11:00\",\"12:12:00\",\"12:13:00\",\"12:14:00\",\"12:15:00\",\"12:16:00\",\"12:17:00\",\"12:18:00\",\"12:19:00\",\"12:20:00\",\"12:21:00\",\"12:22:00\",\"12:23:00\",\"12:24:00\",\"12:25:00\",\"12:26:00\",\"12:27:00\",\"12:28:00\",\"12:29:00\",\"12:30:00\",\"12:31:00\",\"12:32:00\",\"12:33:00\",\"12:34:00\",\"12:35:00\",\"12:36:00\",\"12:37:00\",\"12:38:00\",\"12:39:00\",\"12:40:00\",\"12:41:00\",\"12:42:00\",\"12:43:00\",\"12:44:00\",\"12:45:00\",\"12:46:00\",\"12:47:00\",\"12:48:00\",\"12:49:00\",\"12:50:00\",\"12:51:00\",\"12:52:00\",\"12:53:00\",\"12:54:00\",\"12:55:00\",\"12:56:00\",\"12:57:00\",\"12:58:00\",\"12:59:00\",\"13:00:00\",\"13:01:00\",\"13:02:00\",\"13:03:00\",\"13:04:00\",\"13:05:00\",\"13:06:00\",\"13:07:00\",\"13:08:00\",\"13:09:00\",\"13:10:00\",\"13:11:00\",\"13:12:00\",\"13:13:00\",\"13:14:00\",\"13:15:00\",\"13:16:00\",\"13:17:00\",\"13:18:00\",\"13:19:00\"],\"y\":[0.0,0.5,0.5,0.5,0.5,0.5,0.25,0.5,0.5,0.5,0.25,0.75,0.75,0.0,0.25,0.0,0.0,0.5,0.5,0.75,0.5,0.75,0.75,0.75,0.5,1.75,1.75,1.5,1.75,1.75,1.5,1.25,1.25,0.75,0.75,0.25,1.25,1.5,1.0,2.75,6.0,9.0,9.75,13.5,11.75,9.25,8.75,8.0,7.0,7.75,6.25,5.0,5.0,3.25,3.0,3.75,4.5,3.75,5.75,6.75,7.25,6.25,6.25,7.25,5.75,5.0,5.0,5.25,5.0,5.5,6.25,7.5,7.5,7.25,7.75,7.5,7.25,6.75,6.75,6.0,6.25,5.25,6.0,6.25,6.5,6.75,6.0,5.5,6.0,7.0,5.5,7.25,7.25,7.25,7.5,7.0,7.5,6.5,6.25,6.0,6.5,5.5,5.5,4.75,4.5,4.25,3.75,3.0,4.0,4.25,3.75,3.25,3.25,2.5,3.25,3.25,3.25,3.5,3.75,4.0,4.25,4.75,4.75,4.5,4.5,4.5,4.75,4.5,4.25,5.25,5.0,5.0,6.0,5.75,5.75,5.5,6.0,6.25,6.25,6.5,6.5,6.75,6.5,6.25,6.5,6.5,6.5,6.25,5.75,5.0,4.75,5.0,4.75,5.25,5.25,5.25,5.5,5.5,6.25,6.5,7.25,6.75,7.75,7.25,8.75,8.75,9.25,9.0,8.25,8.0,8.75,9.25,8.75,8.0,7.0,7.5,7.25,7.25,5.5],\"type\":\"scatter\"},{\"line\":{\"color\":\"rgba(128, 0, 128, 1.0)\",\"dash\":\"solid\",\"shape\":\"linear\",\"width\":1.3},\"mode\":\"lines\",\"name\":\"2023-06-09\",\"text\":\"\",\"x\":[\"10:21:00\",\"10:22:00\",\"10:23:00\",\"10:24:00\",\"10:25:00\",\"10:26:00\",\"10:27:00\",\"10:28:00\",\"10:29:00\",\"10:30:00\",\"10:31:00\",\"10:32:00\",\"10:33:00\",\"10:34:00\",\"10:35:00\",\"10:36:00\",\"10:37:00\",\"10:38:00\",\"10:39:00\",\"10:40:00\",\"10:41:00\",\"10:42:00\",\"10:43:00\",\"10:44:00\",\"10:45:00\",\"10:46:00\",\"10:47:00\",\"10:48:00\",\"10:49:00\",\"10:50:00\",\"10:51:00\",\"10:52:00\",\"10:53:00\",\"10:54:00\",\"10:55:00\",\"10:56:00\",\"10:57:00\",\"10:58:00\",\"10:59:00\",\"11:00:00\",\"11:01:00\",\"11:02:00\",\"11:03:00\",\"11:04:00\",\"11:05:00\",\"11:06:00\",\"11:07:00\",\"11:08:00\",\"11:09:00\",\"11:10:00\",\"11:11:00\",\"11:12:00\",\"11:13:00\",\"11:14:00\",\"11:15:00\",\"11:16:00\",\"11:17:00\",\"11:18:00\",\"11:19:00\",\"11:20:00\",\"11:21:00\",\"11:22:00\",\"11:23:00\",\"11:24:00\",\"11:25:00\",\"11:26:00\",\"11:27:00\",\"11:28:00\",\"11:29:00\",\"11:30:00\",\"11:31:00\",\"11:32:00\",\"11:33:00\",\"11:34:00\",\"11:35:00\",\"11:36:00\",\"11:37:00\",\"11:38:00\",\"11:39:00\",\"11:40:00\",\"11:41:00\",\"11:42:00\",\"11:43:00\",\"11:44:00\",\"11:45:00\",\"11:46:00\",\"11:47:00\",\"11:48:00\",\"11:49:00\",\"11:50:00\",\"11:51:00\",\"11:52:00\",\"11:53:00\",\"11:54:00\",\"11:55:00\",\"11:56:00\",\"11:57:00\",\"11:58:00\",\"11:59:00\",\"12:00:00\",\"12:01:00\",\"12:02:00\",\"12:03:00\",\"12:04:00\",\"12:05:00\",\"12:06:00\",\"12:07:00\",\"12:08:00\",\"12:09:00\",\"12:10:00\",\"12:11:00\",\"12:12:00\",\"12:13:00\",\"12:14:00\",\"12:15:00\",\"12:16:00\",\"12:17:00\",\"12:18:00\",\"12:19:00\",\"12:20:00\",\"12:21:00\",\"12:22:00\",\"12:23:00\",\"12:24:00\",\"12:25:00\",\"12:26:00\",\"12:27:00\",\"12:28:00\",\"12:29:00\",\"12:30:00\",\"12:31:00\",\"12:32:00\",\"12:33:00\",\"12:34:00\",\"12:35:00\",\"12:36:00\",\"12:37:00\",\"12:38:00\",\"12:39:00\",\"12:40:00\",\"12:41:00\",\"12:42:00\",\"12:43:00\",\"12:44:00\",\"12:45:00\",\"12:46:00\",\"12:47:00\",\"12:48:00\",\"12:49:00\",\"12:50:00\",\"12:51:00\",\"12:52:00\",\"12:53:00\",\"12:54:00\",\"12:55:00\",\"12:56:00\",\"12:57:00\",\"12:58:00\",\"12:59:00\",\"13:00:00\",\"13:01:00\",\"13:02:00\",\"13:03:00\",\"13:04:00\",\"13:05:00\",\"13:06:00\",\"13:07:00\",\"13:08:00\",\"13:09:00\",\"13:10:00\",\"13:11:00\",\"13:12:00\",\"13:13:00\",\"13:14:00\",\"13:15:00\",\"13:16:00\",\"13:17:00\",\"13:18:00\",\"13:19:00\"],\"y\":[0.0,0.5,1.0,0.75,1.0,0.75,0.75,0.5,0.25,-0.25,-1.0,-1.25,-1.25,-1.0,-1.25,-1.0,-0.75,-0.75,-1.0,-1.0,-0.5,0.0,0.25,-0.25,-0.75,-0.75,-0.75,-1.5,-2.0,-1.25,-1.5,-1.5,-2.0,-1.5,-1.5,-2.0,-2.0,-1.5,-2.0,1.0,1.25,-0.25,1.75,2.5,1.25,3.5,5.25,1.75,1.25,1.5,1.75,-0.5,-0.25,1.0,1.0,0.75,1.0,0.5,1.0,0.75,0.0,-0.25,0.5,1.25,1.25,1.25,2.0,1.5,1.5,2.25,1.75,2.5,3.25,3.5,3.5,3.75,4.5,4.0,3.5,4.0,4.0,4.25,4.0,4.0,3.25,3.25,2.25,2.25,2.25,2.25,2.75,2.25,2.5,2.75,2.0,2.0,2.5,2.75,1.75,2.75,2.25,2.25,1.75,2.0,1.75,2.25,1.75,1.75,0.75,1.0,1.25,2.5,2.75,2.75,3.0,3.0,3.0,2.25,3.25,3.5,3.75,3.75,4.75,4.5,4.5,4.5,4.25,4.75,4.5,5.0,5.25,5.25,4.75,4.75,5.0,5.0,5.0,5.25,6.25,6.0,5.75,5.5,5.5,5.25,4.5,5.0,5.25,5.0,4.75,4.75,4.75,5.0,4.5,4.5,4.75,5.0,4.75,4.25,3.5,4.0,3.75,4.0,3.0,3.5,3.5,4.0,3.5,4.25,3.5,3.75,3.5,3.0,3.0,3.0,2.5,2.0,2.0,2.75,3.25],\"type\":\"scatter\"},{\"line\":{\"color\":\"rgba(219, 64, 82, 1.0)\",\"dash\":\"solid\",\"shape\":\"linear\",\"width\":1.3},\"mode\":\"lines\",\"name\":\"2023-07-12\",\"text\":\"\",\"x\":[\"10:21:00\",\"10:22:00\",\"10:23:00\",\"10:24:00\",\"10:25:00\",\"10:26:00\",\"10:27:00\",\"10:28:00\",\"10:29:00\",\"10:30:00\",\"10:31:00\",\"10:32:00\",\"10:33:00\",\"10:34:00\",\"10:35:00\",\"10:36:00\",\"10:37:00\",\"10:38:00\",\"10:39:00\",\"10:40:00\",\"10:41:00\",\"10:42:00\",\"10:43:00\",\"10:44:00\",\"10:45:00\",\"10:46:00\",\"10:47:00\",\"10:48:00\",\"10:49:00\",\"10:50:00\",\"10:51:00\",\"10:52:00\",\"10:53:00\",\"10:54:00\",\"10:55:00\",\"10:56:00\",\"10:57:00\",\"10:58:00\",\"10:59:00\",\"11:00:00\",\"11:01:00\",\"11:02:00\",\"11:03:00\",\"11:04:00\",\"11:05:00\",\"11:06:00\",\"11:07:00\",\"11:08:00\",\"11:09:00\",\"11:10:00\",\"11:11:00\",\"11:12:00\",\"11:13:00\",\"11:14:00\",\"11:15:00\",\"11:16:00\",\"11:17:00\",\"11:18:00\",\"11:19:00\",\"11:20:00\",\"11:21:00\",\"11:22:00\",\"11:23:00\",\"11:24:00\",\"11:25:00\",\"11:26:00\",\"11:27:00\",\"11:28:00\",\"11:29:00\",\"11:30:00\",\"11:31:00\",\"11:32:00\",\"11:33:00\",\"11:34:00\",\"11:35:00\",\"11:36:00\",\"11:37:00\",\"11:38:00\",\"11:39:00\",\"11:40:00\",\"11:41:00\",\"11:42:00\",\"11:43:00\",\"11:44:00\",\"11:45:00\",\"11:46:00\",\"11:47:00\",\"11:48:00\",\"11:49:00\",\"11:50:00\",\"11:51:00\",\"11:52:00\",\"11:53:00\",\"11:54:00\",\"11:55:00\",\"11:56:00\",\"11:57:00\",\"11:58:00\",\"11:59:00\",\"12:00:00\",\"12:01:00\",\"12:02:00\",\"12:03:00\",\"12:04:00\",\"12:05:00\",\"12:06:00\",\"12:07:00\",\"12:08:00\",\"12:09:00\",\"12:10:00\",\"12:11:00\",\"12:12:00\",\"12:13:00\",\"12:14:00\",\"12:15:00\",\"12:16:00\",\"12:17:00\",\"12:18:00\",\"12:19:00\",\"12:20:00\",\"12:21:00\",\"12:22:00\",\"12:23:00\",\"12:24:00\",\"12:25:00\",\"12:26:00\",\"12:27:00\",\"12:28:00\",\"12:29:00\",\"12:30:00\",\"12:31:00\",\"12:32:00\",\"12:33:00\",\"12:34:00\",\"12:35:00\",\"12:36:00\",\"12:37:00\",\"12:38:00\",\"12:39:00\",\"12:40:00\",\"12:41:00\",\"12:42:00\",\"12:43:00\",\"12:44:00\",\"12:45:00\",\"12:46:00\",\"12:47:00\",\"12:48:00\",\"12:49:00\",\"12:50:00\",\"12:51:00\",\"12:52:00\",\"12:53:00\",\"12:54:00\",\"12:55:00\",\"12:56:00\",\"12:57:00\",\"12:58:00\",\"12:59:00\",\"13:00:00\",\"13:01:00\",\"13:02:00\",\"13:03:00\",\"13:04:00\",\"13:05:00\",\"13:06:00\",\"13:07:00\",\"13:08:00\",\"13:09:00\",\"13:10:00\",\"13:11:00\",\"13:12:00\",\"13:13:00\",\"13:14:00\",\"13:15:00\",\"13:16:00\",\"13:17:00\",\"13:18:00\",\"13:19:00\"],\"y\":[0.0,0.5,1.0,0.5,0.5,0.0,-0.5,-0.75,-0.5,-0.75,-0.25,-0.75,-0.5,-0.25,-1.0,-1.0,-1.0,-0.75,-1.25,-1.0,-1.5,-1.0,-1.25,-1.0,-1.5,-1.5,-1.5,-1.75,-2.0,-1.75,-1.5,-1.5,-1.75,-2.0,-2.25,-2.5,-1.5,-1.5,-1.75,-9.25,-9.25,-10.75,-10.25,-10.5,-12.25,-11.5,-12.75,-14.25,-13.75,-14.25,-15.75,-14.5,-15.0,-15.25,-15.75,-13.5,-14.5,-15.25,-14.25,-15.25,-15.75,-15.0,-16.0,-15.5,-15.5,-15.5,-15.5,-14.75,-14.25,-13.75,-13.0,-13.0,-13.0,-12.75,-12.5,-13.75,-13.0,-12.5,-12.5,-12.5,-12.5,-12.5,-11.5,-11.5,-12.5,-12.5,-12.25,-12.5,-12.0,-13.0,-13.5,-12.5,-11.75,-11.75,-10.75,-11.25,-10.75,-10.75,-11.25,-11.75,-11.0,-11.25,-11.25,-10.75,-10.25,-10.0,-10.0,-9.75,-9.75,-10.0,-9.5,-9.75,-9.5,-9.25,-8.75,-8.5,-7.75,-7.75,-7.0,-7.5,-7.75,-7.75,-9.0,-8.75,-8.0,-8.0,-7.75,-8.0,-7.75,-7.75,-7.5,-7.5,-7.25,-7.25,-8.0,-8.0,-8.75,-10.5,-9.75,-10.0,-10.5,-10.0,-9.75,-10.25,-10.0,-9.75,-9.5,-10.25,-10.25,-11.0,-11.25,-12.0,-11.5,-12.0,-13.0,-13.0,-12.75,-13.0,-13.0,-13.25,-13.75,-14.25,-14.75,-14.25,-14.0,-14.0,-14.25,-14.25,-15.0,-14.75,-15.0,-14.5,-14.75,-14.75,-14.75,-15.0,-15.0,-15.0,-15.25],\"type\":\"scatter\"}],                        {\"height\":500,\"legend\":{\"bgcolor\":\"#151516\",\"font\":{\"color\":\"#D9D9D9\"}},\"paper_bgcolor\":\"#151516\",\"plot_bgcolor\":\"#151516\",\"template\":{\"data\":{\"barpolar\":[{\"marker\":{\"line\":{\"color\":\"#E5ECF6\",\"width\":0.5},\"pattern\":{\"fillmode\":\"overlay\",\"size\":10,\"solidity\":0.2}},\"type\":\"barpolar\"}],\"bar\":[{\"error_x\":{\"color\":\"#2a3f5f\"},\"error_y\":{\"color\":\"#2a3f5f\"},\"marker\":{\"line\":{\"color\":\"#E5ECF6\",\"width\":0.5},\"pattern\":{\"fillmode\":\"overlay\",\"size\":10,\"solidity\":0.2}},\"type\":\"bar\"}],\"carpet\":[{\"aaxis\":{\"endlinecolor\":\"#2a3f5f\",\"gridcolor\":\"white\",\"linecolor\":\"white\",\"minorgridcolor\":\"white\",\"startlinecolor\":\"#2a3f5f\"},\"baxis\":{\"endlinecolor\":\"#2a3f5f\",\"gridcolor\":\"white\",\"linecolor\":\"white\",\"minorgridcolor\":\"white\",\"startlinecolor\":\"#2a3f5f\"},\"type\":\"carpet\"}],\"choropleth\":[{\"colorbar\":{\"outlinewidth\":0,\"ticks\":\"\"},\"type\":\"choropleth\"}],\"contourcarpet\":[{\"colorbar\":{\"outlinewidth\":0,\"ticks\":\"\"},\"type\":\"contourcarpet\"}],\"contour\":[{\"colorbar\":{\"outlinewidth\":0,\"ticks\":\"\"},\"colorscale\":[[0.0,\"#0d0887\"],[0.1111111111111111,\"#46039f\"],[0.2222222222222222,\"#7201a8\"],[0.3333333333333333,\"#9c179e\"],[0.4444444444444444,\"#bd3786\"],[0.5555555555555556,\"#d8576b\"],[0.6666666666666666,\"#ed7953\"],[0.7777777777777778,\"#fb9f3a\"],[0.8888888888888888,\"#fdca26\"],[1.0,\"#f0f921\"]],\"type\":\"contour\"}],\"heatmapgl\":[{\"colorbar\":{\"outlinewidth\":0,\"ticks\":\"\"},\"colorscale\":[[0.0,\"#0d0887\"],[0.1111111111111111,\"#46039f\"],[0.2222222222222222,\"#7201a8\"],[0.3333333333333333,\"#9c179e\"],[0.4444444444444444,\"#bd3786\"],[0.5555555555555556,\"#d8576b\"],[0.6666666666666666,\"#ed7953\"],[0.7777777777777778,\"#fb9f3a\"],[0.8888888888888888,\"#fdca26\"],[1.0,\"#f0f921\"]],\"type\":\"heatmapgl\"}],\"heatmap\":[{\"colorbar\":{\"outlinewidth\":0,\"ticks\":\"\"},\"colorscale\":[[0.0,\"#0d0887\"],[0.1111111111111111,\"#46039f\"],[0.2222222222222222,\"#7201a8\"],[0.3333333333333333,\"#9c179e\"],[0.4444444444444444,\"#bd3786\"],[0.5555555555555556,\"#d8576b\"],[0.6666666666666666,\"#ed7953\"],[0.7777777777777778,\"#fb9f3a\"],[0.8888888888888888,\"#fdca26\"],[1.0,\"#f0f921\"]],\"type\":\"heatmap\"}],\"histogram2dcontour\":[{\"colorbar\":{\"outlinewidth\":0,\"ticks\":\"\"},\"colorscale\":[[0.0,\"#0d0887\"],[0.1111111111111111,\"#46039f\"],[0.2222222222222222,\"#7201a8\"],[0.3333333333333333,\"#9c179e\"],[0.4444444444444444,\"#bd3786\"],[0.5555555555555556,\"#d8576b\"],[0.6666666666666666,\"#ed7953\"],[0.7777777777777778,\"#fb9f3a\"],[0.8888888888888888,\"#fdca26\"],[1.0,\"#f0f921\"]],\"type\":\"histogram2dcontour\"}],\"histogram2d\":[{\"colorbar\":{\"outlinewidth\":0,\"ticks\":\"\"},\"colorscale\":[[0.0,\"#0d0887\"],[0.1111111111111111,\"#46039f\"],[0.2222222222222222,\"#7201a8\"],[0.3333333333333333,\"#9c179e\"],[0.4444444444444444,\"#bd3786\"],[0.5555555555555556,\"#d8576b\"],[0.6666666666666666,\"#ed7953\"],[0.7777777777777778,\"#fb9f3a\"],[0.8888888888888888,\"#fdca26\"],[1.0,\"#f0f921\"]],\"type\":\"histogram2d\"}],\"histogram\":[{\"marker\":{\"pattern\":{\"fillmode\":\"overlay\",\"size\":10,\"solidity\":0.2}},\"type\":\"histogram\"}],\"mesh3d\":[{\"colorbar\":{\"outlinewidth\":0,\"ticks\":\"\"},\"type\":\"mesh3d\"}],\"parcoords\":[{\"line\":{\"colorbar\":{\"outlinewidth\":0,\"ticks\":\"\"}},\"type\":\"parcoords\"}],\"pie\":[{\"automargin\":true,\"type\":\"pie\"}],\"scatter3d\":[{\"line\":{\"colorbar\":{\"outlinewidth\":0,\"ticks\":\"\"}},\"marker\":{\"colorbar\":{\"outlinewidth\":0,\"ticks\":\"\"}},\"type\":\"scatter3d\"}],\"scattercarpet\":[{\"marker\":{\"colorbar\":{\"outlinewidth\":0,\"ticks\":\"\"}},\"type\":\"scattercarpet\"}],\"scattergeo\":[{\"marker\":{\"colorbar\":{\"outlinewidth\":0,\"ticks\":\"\"}},\"type\":\"scattergeo\"}],\"scattergl\":[{\"marker\":{\"colorbar\":{\"outlinewidth\":0,\"ticks\":\"\"}},\"type\":\"scattergl\"}],\"scattermapbox\":[{\"marker\":{\"colorbar\":{\"outlinewidth\":0,\"ticks\":\"\"}},\"type\":\"scattermapbox\"}],\"scatterpolargl\":[{\"marker\":{\"colorbar\":{\"outlinewidth\":0,\"ticks\":\"\"}},\"type\":\"scatterpolargl\"}],\"scatterpolar\":[{\"marker\":{\"colorbar\":{\"outlinewidth\":0,\"ticks\":\"\"}},\"type\":\"scatterpolar\"}],\"scatter\":[{\"marker\":{\"colorbar\":{\"outlinewidth\":0,\"ticks\":\"\"}},\"type\":\"scatter\"}],\"scatterternary\":[{\"marker\":{\"colorbar\":{\"outlinewidth\":0,\"ticks\":\"\"}},\"type\":\"scatterternary\"}],\"surface\":[{\"colorbar\":{\"outlinewidth\":0,\"ticks\":\"\"},\"colorscale\":[[0.0,\"#0d0887\"],[0.1111111111111111,\"#46039f\"],[0.2222222222222222,\"#7201a8\"],[0.3333333333333333,\"#9c179e\"],[0.4444444444444444,\"#bd3786\"],[0.5555555555555556,\"#d8576b\"],[0.6666666666666666,\"#ed7953\"],[0.7777777777777778,\"#fb9f3a\"],[0.8888888888888888,\"#fdca26\"],[1.0,\"#f0f921\"]],\"type\":\"surface\"}],\"table\":[{\"cells\":{\"fill\":{\"color\":\"#EBF0F8\"},\"line\":{\"color\":\"white\"}},\"header\":{\"fill\":{\"color\":\"#C8D4E3\"},\"line\":{\"color\":\"white\"}},\"type\":\"table\"}]},\"layout\":{\"annotationdefaults\":{\"arrowcolor\":\"#2a3f5f\",\"arrowhead\":0,\"arrowwidth\":1},\"autotypenumbers\":\"strict\",\"coloraxis\":{\"colorbar\":{\"outlinewidth\":0,\"ticks\":\"\"}},\"colorscale\":{\"diverging\":[[0,\"#8e0152\"],[0.1,\"#c51b7d\"],[0.2,\"#de77ae\"],[0.3,\"#f1b6da\"],[0.4,\"#fde0ef\"],[0.5,\"#f7f7f7\"],[0.6,\"#e6f5d0\"],[0.7,\"#b8e186\"],[0.8,\"#7fbc41\"],[0.9,\"#4d9221\"],[1,\"#276419\"]],\"sequential\":[[0.0,\"#0d0887\"],[0.1111111111111111,\"#46039f\"],[0.2222222222222222,\"#7201a8\"],[0.3333333333333333,\"#9c179e\"],[0.4444444444444444,\"#bd3786\"],[0.5555555555555556,\"#d8576b\"],[0.6666666666666666,\"#ed7953\"],[0.7777777777777778,\"#fb9f3a\"],[0.8888888888888888,\"#fdca26\"],[1.0,\"#f0f921\"]],\"sequentialminus\":[[0.0,\"#0d0887\"],[0.1111111111111111,\"#46039f\"],[0.2222222222222222,\"#7201a8\"],[0.3333333333333333,\"#9c179e\"],[0.4444444444444444,\"#bd3786\"],[0.5555555555555556,\"#d8576b\"],[0.6666666666666666,\"#ed7953\"],[0.7777777777777778,\"#fb9f3a\"],[0.8888888888888888,\"#fdca26\"],[1.0,\"#f0f921\"]]},\"colorway\":[\"#636efa\",\"#EF553B\",\"#00cc96\",\"#ab63fa\",\"#FFA15A\",\"#19d3f3\",\"#FF6692\",\"#B6E880\",\"#FF97FF\",\"#FECB52\"],\"font\":{\"color\":\"#2a3f5f\"},\"geo\":{\"bgcolor\":\"white\",\"lakecolor\":\"white\",\"landcolor\":\"#E5ECF6\",\"showlakes\":true,\"showland\":true,\"subunitcolor\":\"white\"},\"hoverlabel\":{\"align\":\"left\"},\"hovermode\":\"closest\",\"mapbox\":{\"style\":\"light\"},\"paper_bgcolor\":\"white\",\"plot_bgcolor\":\"#E5ECF6\",\"polar\":{\"angularaxis\":{\"gridcolor\":\"white\",\"linecolor\":\"white\",\"ticks\":\"\"},\"bgcolor\":\"#E5ECF6\",\"radialaxis\":{\"gridcolor\":\"white\",\"linecolor\":\"white\",\"ticks\":\"\"}},\"scene\":{\"xaxis\":{\"backgroundcolor\":\"#E5ECF6\",\"gridcolor\":\"white\",\"gridwidth\":2,\"linecolor\":\"white\",\"showbackground\":true,\"ticks\":\"\",\"zerolinecolor\":\"white\"},\"yaxis\":{\"backgroundcolor\":\"#E5ECF6\",\"gridcolor\":\"white\",\"gridwidth\":2,\"linecolor\":\"white\",\"showbackground\":true,\"ticks\":\"\",\"zerolinecolor\":\"white\"},\"zaxis\":{\"backgroundcolor\":\"#E5ECF6\",\"gridcolor\":\"white\",\"gridwidth\":2,\"linecolor\":\"white\",\"showbackground\":true,\"ticks\":\"\",\"zerolinecolor\":\"white\"}},\"shapedefaults\":{\"line\":{\"color\":\"#2a3f5f\"}},\"ternary\":{\"aaxis\":{\"gridcolor\":\"white\",\"linecolor\":\"white\",\"ticks\":\"\"},\"baxis\":{\"gridcolor\":\"white\",\"linecolor\":\"white\",\"ticks\":\"\"},\"bgcolor\":\"#E5ECF6\",\"caxis\":{\"gridcolor\":\"white\",\"linecolor\":\"white\",\"ticks\":\"\"}},\"title\":{\"x\":0.05},\"xaxis\":{\"automargin\":true,\"gridcolor\":\"white\",\"linecolor\":\"white\",\"ticks\":\"\",\"title\":{\"standoff\":15},\"zerolinecolor\":\"white\",\"zerolinewidth\":2},\"yaxis\":{\"automargin\":true,\"gridcolor\":\"white\",\"linecolor\":\"white\",\"ticks\":\"\",\"title\":{\"standoff\":15},\"zerolinecolor\":\"white\",\"zerolinewidth\":2}}},\"title\":{\"font\":{\"color\":\"#D9D9D9\"},\"text\":\"Intraday Net Change for CORN DEC3 (Timezone: America/Chicago)\"},\"width\":1100,\"xaxis\":{\"gridcolor\":\"#434343\",\"showgrid\":true,\"tickfont\":{\"color\":\"#C2C2C2\"},\"title\":{\"font\":{\"color\":\"#D9D9D9\"},\"text\":\"\"},\"zerolinecolor\":\"#666570\"},\"yaxis\":{\"gridcolor\":\"#434343\",\"showgrid\":true,\"tickfont\":{\"color\":\"#C2C2C2\"},\"title\":{\"font\":{\"color\":\"#D9D9D9\"},\"text\":\"\"},\"zerolinecolor\":\"#666570\"}},                        {\"showLink\": true, \"linkText\": \"Export to plot.ly\", \"plotlyServerURL\": \"https://plot.ly\", \"responsive\": true}                    ).then(function(){\n",
       "                            \n",
       "var gd = document.getElementById('67a2b51b-0cdb-4ef3-9c90-64267bd6fdd3');\n",
       "var x = new MutationObserver(function (mutations, observer) {{\n",
       "        var display = window.getComputedStyle(gd).display;\n",
       "        if (!display || display === 'none') {{\n",
       "            console.log([gd, 'removed!']);\n",
       "            Plotly.purge(gd);\n",
       "            observer.disconnect();\n",
       "        }}\n",
       "}});\n",
       "\n",
       "// Listen for the removal of the full notebook cells\n",
       "var notebookContainer = gd.closest('#notebook-container');\n",
       "if (notebookContainer) {{\n",
       "    x.observe(notebookContainer, {childList: true});\n",
       "}}\n",
       "\n",
       "// Listen for the clearing of the current output cell\n",
       "var outputEl = gd.closest('.output');\n",
       "if (outputEl) {{\n",
       "    x.observe(outputEl, {childList: true});\n",
       "}}\n",
       "\n",
       "                        })                };                });            </script>        </div>"
      ]
     },
     "metadata": {},
     "output_type": "display_data"
    },
    {
     "data": {
      "application/vnd.plotly.v1+json": {
       "config": {
        "linkText": "Export to plot.ly",
        "plotlyServerURL": "https://plot.ly",
        "showLink": true
       },
       "data": [
        {
         "marker": {
          "color": "rgba(255, 153, 51, 0.6)",
          "line": {
           "color": "rgba(255, 153, 51, 1.0)",
           "width": 1
          }
         },
         "name": "2023-03-08",
         "orientation": "v",
         "text": "",
         "type": "bar",
         "x": [
          "10:21:00",
          "10:22:00",
          "10:23:00",
          "10:24:00",
          "10:25:00",
          "10:26:00",
          "10:27:00",
          "10:28:00",
          "10:29:00",
          "10:30:00",
          "10:31:00",
          "10:32:00",
          "10:33:00",
          "10:34:00",
          "10:35:00",
          "10:36:00",
          "10:37:00",
          "10:38:00",
          "10:39:00",
          "10:40:00",
          "10:41:00",
          "10:42:00",
          "10:43:00",
          "10:44:00",
          "10:45:00",
          "10:46:00",
          "10:47:00",
          "10:48:00",
          "10:49:00",
          "10:50:00",
          "10:51:00",
          "10:52:00",
          "10:53:00",
          "10:54:00",
          "10:55:00",
          "10:56:00",
          "10:57:00",
          "10:58:00",
          "10:59:00",
          "11:00:00",
          "11:01:00",
          "11:02:00",
          "11:03:00",
          "11:04:00",
          "11:05:00",
          "11:06:00",
          "11:07:00",
          "11:08:00",
          "11:09:00",
          "11:10:00",
          "11:11:00",
          "11:12:00",
          "11:13:00",
          "11:14:00",
          "11:15:00",
          "11:16:00",
          "11:17:00",
          "11:18:00",
          "11:19:00",
          "11:20:00",
          "11:21:00",
          "11:22:00",
          "11:23:00",
          "11:24:00",
          "11:25:00",
          "11:26:00",
          "11:27:00",
          "11:28:00",
          "11:29:00",
          "11:30:00",
          "11:31:00",
          "11:32:00",
          "11:33:00",
          "11:34:00",
          "11:35:00",
          "11:36:00",
          "11:37:00",
          "11:38:00",
          "11:39:00",
          "11:40:00",
          "11:41:00",
          "11:42:00",
          "11:43:00",
          "11:44:00",
          "11:45:00",
          "11:46:00",
          "11:47:00",
          "11:48:00",
          "11:49:00",
          "11:50:00",
          "11:51:00",
          "11:52:00",
          "11:53:00",
          "11:54:00",
          "11:55:00",
          "11:56:00",
          "11:57:00",
          "11:58:00",
          "11:59:00",
          "12:00:00",
          "12:01:00",
          "12:02:00",
          "12:03:00",
          "12:04:00",
          "12:05:00",
          "12:06:00",
          "12:07:00",
          "12:08:00",
          "12:09:00",
          "12:10:00",
          "12:11:00",
          "12:12:00",
          "12:13:00",
          "12:14:00",
          "12:15:00",
          "12:16:00",
          "12:17:00",
          "12:18:00",
          "12:19:00",
          "12:20:00",
          "12:21:00",
          "12:22:00",
          "12:23:00",
          "12:24:00",
          "12:25:00",
          "12:26:00",
          "12:27:00",
          "12:28:00",
          "12:29:00",
          "12:30:00",
          "12:31:00",
          "12:32:00",
          "12:33:00",
          "12:34:00",
          "12:35:00",
          "12:36:00",
          "12:37:00",
          "12:38:00",
          "12:39:00",
          "12:40:00",
          "12:41:00",
          "12:42:00",
          "12:43:00",
          "12:44:00",
          "12:45:00",
          "12:46:00",
          "12:47:00",
          "12:48:00",
          "12:49:00",
          "12:50:00",
          "12:51:00",
          "12:52:00",
          "12:53:00",
          "12:54:00",
          "12:55:00",
          "12:56:00",
          "12:57:00",
          "12:58:00",
          "12:59:00",
          "13:00:00",
          "13:01:00",
          "13:02:00",
          "13:03:00",
          "13:04:00",
          "13:05:00",
          "13:06:00",
          "13:07:00",
          "13:08:00",
          "13:09:00",
          "13:10:00",
          "13:11:00",
          "13:12:00",
          "13:13:00",
          "13:14:00",
          "13:15:00",
          "13:16:00",
          "13:17:00",
          "13:18:00",
          "13:19:00"
         ],
         "y": [
          28,
          181,
          47,
          92,
          256,
          101,
          741,
          108,
          164,
          469,
          252,
          235,
          288,
          521,
          177,
          391,
          98,
          126,
          247,
          425,
          286,
          169,
          118,
          121,
          183,
          1443,
          191,
          488,
          54,
          124,
          474,
          197,
          399,
          214,
          172,
          457,
          111,
          105,
          348,
          3861,
          1556,
          599,
          1002,
          516,
          729,
          402,
          558,
          308,
          1286,
          860,
          303,
          1067,
          578,
          528,
          326,
          500,
          362,
          882,
          165,
          552,
          740,
          926,
          621,
          553,
          2078,
          531,
          1360,
          699,
          1376,
          2422,
          1046,
          827,
          545,
          393,
          433,
          1252,
          902,
          1905,
          898,
          512,
          666,
          341,
          481,
          220,
          511,
          454,
          153,
          144,
          215,
          313,
          228,
          286,
          152,
          191,
          59,
          458,
          728,
          334,
          114,
          2392,
          219,
          333,
          191,
          572,
          684,
          1743,
          494,
          409,
          236,
          246,
          201,
          139,
          405,
          86,
          159,
          180,
          234,
          153,
          61,
          290,
          254,
          174,
          253,
          70,
          314,
          434,
          150,
          443,
          147,
          194,
          131,
          148,
          241,
          25,
          298,
          216,
          233,
          148,
          158,
          286,
          35,
          304,
          621,
          188,
          42,
          376,
          819,
          147,
          1343,
          1357,
          343,
          253,
          634,
          524,
          230,
          450,
          355,
          224,
          510,
          838,
          1189,
          128,
          506,
          245,
          1453,
          282,
          775,
          293,
          735,
          325,
          145,
          895,
          659,
          5240,
          1383,
          266,
          162,
          268,
          499
         ]
        },
        {
         "marker": {
          "color": "rgba(55, 128, 191, 0.6)",
          "line": {
           "color": "rgba(55, 128, 191, 1.0)",
           "width": 1
          }
         },
         "name": "2023-04-11",
         "orientation": "v",
         "text": "",
         "type": "bar",
         "x": [
          "10:21:00",
          "10:22:00",
          "10:23:00",
          "10:24:00",
          "10:25:00",
          "10:26:00",
          "10:27:00",
          "10:28:00",
          "10:29:00",
          "10:30:00",
          "10:31:00",
          "10:32:00",
          "10:33:00",
          "10:34:00",
          "10:35:00",
          "10:36:00",
          "10:37:00",
          "10:38:00",
          "10:39:00",
          "10:40:00",
          "10:41:00",
          "10:42:00",
          "10:43:00",
          "10:44:00",
          "10:45:00",
          "10:46:00",
          "10:47:00",
          "10:48:00",
          "10:49:00",
          "10:50:00",
          "10:51:00",
          "10:52:00",
          "10:53:00",
          "10:54:00",
          "10:55:00",
          "10:56:00",
          "10:57:00",
          "10:58:00",
          "10:59:00",
          "11:00:00",
          "11:01:00",
          "11:02:00",
          "11:03:00",
          "11:04:00",
          "11:05:00",
          "11:06:00",
          "11:07:00",
          "11:08:00",
          "11:09:00",
          "11:10:00",
          "11:11:00",
          "11:12:00",
          "11:13:00",
          "11:14:00",
          "11:15:00",
          "11:16:00",
          "11:17:00",
          "11:18:00",
          "11:19:00",
          "11:20:00",
          "11:21:00",
          "11:22:00",
          "11:23:00",
          "11:24:00",
          "11:25:00",
          "11:26:00",
          "11:27:00",
          "11:28:00",
          "11:29:00",
          "11:30:00",
          "11:31:00",
          "11:32:00",
          "11:33:00",
          "11:34:00",
          "11:35:00",
          "11:36:00",
          "11:37:00",
          "11:38:00",
          "11:39:00",
          "11:40:00",
          "11:41:00",
          "11:42:00",
          "11:43:00",
          "11:44:00",
          "11:45:00",
          "11:46:00",
          "11:47:00",
          "11:48:00",
          "11:49:00",
          "11:50:00",
          "11:51:00",
          "11:52:00",
          "11:53:00",
          "11:54:00",
          "11:55:00",
          "11:56:00",
          "11:57:00",
          "11:58:00",
          "11:59:00",
          "12:00:00",
          "12:01:00",
          "12:02:00",
          "12:03:00",
          "12:04:00",
          "12:05:00",
          "12:06:00",
          "12:07:00",
          "12:08:00",
          "12:09:00",
          "12:10:00",
          "12:11:00",
          "12:12:00",
          "12:13:00",
          "12:14:00",
          "12:15:00",
          "12:16:00",
          "12:17:00",
          "12:18:00",
          "12:19:00",
          "12:20:00",
          "12:21:00",
          "12:22:00",
          "12:23:00",
          "12:24:00",
          "12:25:00",
          "12:26:00",
          "12:27:00",
          "12:28:00",
          "12:29:00",
          "12:30:00",
          "12:31:00",
          "12:32:00",
          "12:33:00",
          "12:34:00",
          "12:35:00",
          "12:36:00",
          "12:37:00",
          "12:38:00",
          "12:39:00",
          "12:40:00",
          "12:41:00",
          "12:42:00",
          "12:43:00",
          "12:44:00",
          "12:45:00",
          "12:46:00",
          "12:47:00",
          "12:48:00",
          "12:49:00",
          "12:50:00",
          "12:51:00",
          "12:52:00",
          "12:53:00",
          "12:54:00",
          "12:55:00",
          "12:56:00",
          "12:57:00",
          "12:58:00",
          "12:59:00",
          "13:00:00",
          "13:01:00",
          "13:02:00",
          "13:03:00",
          "13:04:00",
          "13:05:00",
          "13:06:00",
          "13:07:00",
          "13:08:00",
          "13:09:00",
          "13:10:00",
          "13:11:00",
          "13:12:00",
          "13:13:00",
          "13:14:00",
          "13:15:00",
          "13:16:00",
          "13:17:00",
          "13:18:00",
          "13:19:00"
         ],
         "y": [
          186,
          326,
          209,
          179,
          262,
          204,
          1236,
          245,
          272,
          2285,
          96,
          97,
          2500,
          870,
          227,
          765,
          477,
          327,
          277,
          122,
          340,
          51,
          185,
          246,
          1087,
          231,
          132,
          232,
          1878,
          199,
          144,
          177,
          393,
          1578,
          293,
          781,
          362,
          180,
          192,
          1464,
          1514,
          1562,
          680,
          746,
          1432,
          2129,
          707,
          355,
          250,
          132,
          353,
          265,
          279,
          82,
          132,
          102,
          197,
          1404,
          503,
          830,
          89,
          125,
          1121,
          163,
          618,
          397,
          236,
          574,
          283,
          328,
          403,
          108,
          1676,
          214,
          258,
          1007,
          65,
          398,
          1017,
          333,
          144,
          222,
          119,
          342,
          150,
          1591,
          337,
          53,
          156,
          79,
          155,
          174,
          165,
          120,
          393,
          142,
          91,
          72,
          1318,
          325,
          131,
          145,
          91,
          92,
          123,
          71,
          42,
          99,
          98,
          99,
          27,
          46,
          230,
          138,
          95,
          119,
          89,
          84,
          140,
          193,
          40,
          2435,
          81,
          165,
          28,
          1237,
          73,
          80,
          140,
          307,
          65,
          116,
          159,
          201,
          193,
          281,
          120,
          317,
          229,
          312,
          415,
          411,
          315,
          282,
          290,
          695,
          249,
          1630,
          441,
          106,
          129,
          206,
          442,
          1001,
          157,
          204,
          384,
          240,
          279,
          112,
          310,
          235,
          117,
          256,
          862,
          315,
          165,
          324,
          287,
          218,
          1325,
          732,
          676,
          9255,
          843,
          745,
          1169,
          91,
          2890
         ]
        },
        {
         "marker": {
          "color": "rgba(50, 171, 96, 0.6)",
          "line": {
           "color": "rgba(50, 171, 96, 1.0)",
           "width": 1
          }
         },
         "name": "2023-05-12",
         "orientation": "v",
         "text": "",
         "type": "bar",
         "x": [
          "10:21:00",
          "10:22:00",
          "10:23:00",
          "10:24:00",
          "10:25:00",
          "10:26:00",
          "10:27:00",
          "10:28:00",
          "10:29:00",
          "10:30:00",
          "10:31:00",
          "10:32:00",
          "10:33:00",
          "10:34:00",
          "10:35:00",
          "10:36:00",
          "10:37:00",
          "10:38:00",
          "10:39:00",
          "10:40:00",
          "10:41:00",
          "10:42:00",
          "10:43:00",
          "10:44:00",
          "10:45:00",
          "10:46:00",
          "10:47:00",
          "10:48:00",
          "10:49:00",
          "10:50:00",
          "10:51:00",
          "10:52:00",
          "10:53:00",
          "10:54:00",
          "10:55:00",
          "10:56:00",
          "10:57:00",
          "10:58:00",
          "10:59:00",
          "11:00:00",
          "11:01:00",
          "11:02:00",
          "11:03:00",
          "11:04:00",
          "11:05:00",
          "11:06:00",
          "11:07:00",
          "11:08:00",
          "11:09:00",
          "11:10:00",
          "11:11:00",
          "11:12:00",
          "11:13:00",
          "11:14:00",
          "11:15:00",
          "11:16:00",
          "11:17:00",
          "11:18:00",
          "11:19:00",
          "11:20:00",
          "11:21:00",
          "11:22:00",
          "11:23:00",
          "11:24:00",
          "11:25:00",
          "11:26:00",
          "11:27:00",
          "11:28:00",
          "11:29:00",
          "11:30:00",
          "11:31:00",
          "11:32:00",
          "11:33:00",
          "11:34:00",
          "11:35:00",
          "11:36:00",
          "11:37:00",
          "11:38:00",
          "11:39:00",
          "11:40:00",
          "11:41:00",
          "11:42:00",
          "11:43:00",
          "11:44:00",
          "11:45:00",
          "11:46:00",
          "11:47:00",
          "11:48:00",
          "11:49:00",
          "11:50:00",
          "11:51:00",
          "11:52:00",
          "11:53:00",
          "11:54:00",
          "11:55:00",
          "11:56:00",
          "11:57:00",
          "11:58:00",
          "11:59:00",
          "12:00:00",
          "12:01:00",
          "12:02:00",
          "12:03:00",
          "12:04:00",
          "12:05:00",
          "12:06:00",
          "12:07:00",
          "12:08:00",
          "12:09:00",
          "12:10:00",
          "12:11:00",
          "12:12:00",
          "12:13:00",
          "12:14:00",
          "12:15:00",
          "12:16:00",
          "12:17:00",
          "12:18:00",
          "12:19:00",
          "12:20:00",
          "12:21:00",
          "12:22:00",
          "12:23:00",
          "12:24:00",
          "12:25:00",
          "12:26:00",
          "12:27:00",
          "12:28:00",
          "12:29:00",
          "12:30:00",
          "12:31:00",
          "12:32:00",
          "12:33:00",
          "12:34:00",
          "12:35:00",
          "12:36:00",
          "12:37:00",
          "12:38:00",
          "12:39:00",
          "12:40:00",
          "12:41:00",
          "12:42:00",
          "12:43:00",
          "12:44:00",
          "12:45:00",
          "12:46:00",
          "12:47:00",
          "12:48:00",
          "12:49:00",
          "12:50:00",
          "12:51:00",
          "12:52:00",
          "12:53:00",
          "12:54:00",
          "12:55:00",
          "12:56:00",
          "12:57:00",
          "12:58:00",
          "12:59:00",
          "13:00:00",
          "13:01:00",
          "13:02:00",
          "13:03:00",
          "13:04:00",
          "13:05:00",
          "13:06:00",
          "13:07:00",
          "13:08:00",
          "13:09:00",
          "13:10:00",
          "13:11:00",
          "13:12:00",
          "13:13:00",
          "13:14:00",
          "13:15:00",
          "13:16:00",
          "13:17:00",
          "13:18:00",
          "13:19:00"
         ],
         "y": [
          122,
          183,
          119,
          269,
          148,
          24,
          53,
          144,
          58,
          81,
          179,
          393,
          443,
          460,
          201,
          71,
          51,
          76,
          227,
          314,
          128,
          195,
          157,
          63,
          72,
          955,
          92,
          205,
          178,
          150,
          143,
          103,
          56,
          356,
          147,
          536,
          986,
          299,
          315,
          6008,
          4050,
          4052,
          3687,
          4124,
          3626,
          1958,
          2083,
          1426,
          2063,
          987,
          1333,
          1290,
          526,
          1642,
          644,
          817,
          648,
          680,
          545,
          1075,
          484,
          471,
          439,
          493,
          583,
          439,
          285,
          326,
          455,
          407,
          255,
          1309,
          857,
          628,
          276,
          179,
          534,
          410,
          142,
          589,
          488,
          267,
          849,
          809,
          660,
          393,
          514,
          423,
          259,
          251,
          359,
          1263,
          252,
          453,
          368,
          317,
          85,
          292,
          994,
          222,
          163,
          236,
          209,
          658,
          556,
          387,
          468,
          964,
          458,
          192,
          235,
          156,
          324,
          1023,
          457,
          295,
          469,
          221,
          222,
          290,
          51,
          607,
          230,
          199,
          549,
          80,
          219,
          46,
          388,
          903,
          159,
          651,
          490,
          264,
          28,
          399,
          142,
          173,
          183,
          173,
          307,
          156,
          580,
          140,
          122,
          231,
          116,
          221,
          154,
          324,
          306,
          196,
          189,
          356,
          617,
          54,
          237,
          284,
          570,
          315,
          669,
          623,
          630,
          741,
          1161,
          430,
          388,
          615,
          486,
          520,
          869,
          994,
          1318,
          6021,
          2114,
          340,
          634,
          276,
          1488
         ]
        },
        {
         "marker": {
          "color": "rgba(128, 0, 128, 0.6)",
          "line": {
           "color": "rgba(128, 0, 128, 1.0)",
           "width": 1
          }
         },
         "name": "2023-06-09",
         "orientation": "v",
         "text": "",
         "type": "bar",
         "x": [
          "10:21:00",
          "10:22:00",
          "10:23:00",
          "10:24:00",
          "10:25:00",
          "10:26:00",
          "10:27:00",
          "10:28:00",
          "10:29:00",
          "10:30:00",
          "10:31:00",
          "10:32:00",
          "10:33:00",
          "10:34:00",
          "10:35:00",
          "10:36:00",
          "10:37:00",
          "10:38:00",
          "10:39:00",
          "10:40:00",
          "10:41:00",
          "10:42:00",
          "10:43:00",
          "10:44:00",
          "10:45:00",
          "10:46:00",
          "10:47:00",
          "10:48:00",
          "10:49:00",
          "10:50:00",
          "10:51:00",
          "10:52:00",
          "10:53:00",
          "10:54:00",
          "10:55:00",
          "10:56:00",
          "10:57:00",
          "10:58:00",
          "10:59:00",
          "11:00:00",
          "11:01:00",
          "11:02:00",
          "11:03:00",
          "11:04:00",
          "11:05:00",
          "11:06:00",
          "11:07:00",
          "11:08:00",
          "11:09:00",
          "11:10:00",
          "11:11:00",
          "11:12:00",
          "11:13:00",
          "11:14:00",
          "11:15:00",
          "11:16:00",
          "11:17:00",
          "11:18:00",
          "11:19:00",
          "11:20:00",
          "11:21:00",
          "11:22:00",
          "11:23:00",
          "11:24:00",
          "11:25:00",
          "11:26:00",
          "11:27:00",
          "11:28:00",
          "11:29:00",
          "11:30:00",
          "11:31:00",
          "11:32:00",
          "11:33:00",
          "11:34:00",
          "11:35:00",
          "11:36:00",
          "11:37:00",
          "11:38:00",
          "11:39:00",
          "11:40:00",
          "11:41:00",
          "11:42:00",
          "11:43:00",
          "11:44:00",
          "11:45:00",
          "11:46:00",
          "11:47:00",
          "11:48:00",
          "11:49:00",
          "11:50:00",
          "11:51:00",
          "11:52:00",
          "11:53:00",
          "11:54:00",
          "11:55:00",
          "11:56:00",
          "11:57:00",
          "11:58:00",
          "11:59:00",
          "12:00:00",
          "12:01:00",
          "12:02:00",
          "12:03:00",
          "12:04:00",
          "12:05:00",
          "12:06:00",
          "12:07:00",
          "12:08:00",
          "12:09:00",
          "12:10:00",
          "12:11:00",
          "12:12:00",
          "12:13:00",
          "12:14:00",
          "12:15:00",
          "12:16:00",
          "12:17:00",
          "12:18:00",
          "12:19:00",
          "12:20:00",
          "12:21:00",
          "12:22:00",
          "12:23:00",
          "12:24:00",
          "12:25:00",
          "12:26:00",
          "12:27:00",
          "12:28:00",
          "12:29:00",
          "12:30:00",
          "12:31:00",
          "12:32:00",
          "12:33:00",
          "12:34:00",
          "12:35:00",
          "12:36:00",
          "12:37:00",
          "12:38:00",
          "12:39:00",
          "12:40:00",
          "12:41:00",
          "12:42:00",
          "12:43:00",
          "12:44:00",
          "12:45:00",
          "12:46:00",
          "12:47:00",
          "12:48:00",
          "12:49:00",
          "12:50:00",
          "12:51:00",
          "12:52:00",
          "12:53:00",
          "12:54:00",
          "12:55:00",
          "12:56:00",
          "12:57:00",
          "12:58:00",
          "12:59:00",
          "13:00:00",
          "13:01:00",
          "13:02:00",
          "13:03:00",
          "13:04:00",
          "13:05:00",
          "13:06:00",
          "13:07:00",
          "13:08:00",
          "13:09:00",
          "13:10:00",
          "13:11:00",
          "13:12:00",
          "13:13:00",
          "13:14:00",
          "13:15:00",
          "13:16:00",
          "13:17:00",
          "13:18:00",
          "13:19:00"
         ],
         "y": [
          154,
          286,
          152,
          115,
          159,
          103,
          67,
          101,
          177,
          322,
          410,
          1023,
          383,
          254,
          190,
          243,
          168,
          89,
          533,
          347,
          573,
          332,
          363,
          251,
          281,
          255,
          183,
          443,
          599,
          330,
          168,
          229,
          287,
          188,
          149,
          405,
          533,
          374,
          639,
          2117,
          2040,
          972,
          687,
          943,
          531,
          479,
          1429,
          1336,
          1000,
          460,
          273,
          2020,
          303,
          469,
          432,
          191,
          233,
          150,
          287,
          418,
          419,
          190,
          175,
          173,
          255,
          136,
          172,
          313,
          243,
          183,
          308,
          437,
          280,
          207,
          139,
          856,
          219,
          199,
          319,
          142,
          238,
          56,
          122,
          529,
          348,
          167,
          259,
          328,
          196,
          322,
          146,
          218,
          193,
          155,
          152,
          198,
          858,
          196,
          1254,
          451,
          267,
          164,
          418,
          348,
          66,
          163,
          192,
          143,
          657,
          250,
          103,
          498,
          333,
          168,
          473,
          214,
          324,
          733,
          238,
          151,
          227,
          404,
          762,
          150,
          155,
          132,
          183,
          111,
          199,
          224,
          511,
          262,
          358,
          126,
          191,
          489,
          177,
          187,
          472,
          500,
          410,
          228,
          132,
          147,
          275,
          364,
          310,
          174,
          180,
          208,
          362,
          99,
          136,
          148,
          459,
          167,
          463,
          448,
          770,
          460,
          182,
          261,
          680,
          307,
          494,
          457,
          504,
          283,
          345,
          959,
          467,
          594,
          978,
          6055,
          1126,
          295,
          867,
          447,
          506
         ]
        },
        {
         "marker": {
          "color": "rgba(219, 64, 82, 0.6)",
          "line": {
           "color": "rgba(219, 64, 82, 1.0)",
           "width": 1
          }
         },
         "name": "2023-07-12",
         "orientation": "v",
         "text": "",
         "type": "bar",
         "x": [
          "10:21:00",
          "10:22:00",
          "10:23:00",
          "10:24:00",
          "10:25:00",
          "10:26:00",
          "10:27:00",
          "10:28:00",
          "10:29:00",
          "10:30:00",
          "10:31:00",
          "10:32:00",
          "10:33:00",
          "10:34:00",
          "10:35:00",
          "10:36:00",
          "10:37:00",
          "10:38:00",
          "10:39:00",
          "10:40:00",
          "10:41:00",
          "10:42:00",
          "10:43:00",
          "10:44:00",
          "10:45:00",
          "10:46:00",
          "10:47:00",
          "10:48:00",
          "10:49:00",
          "10:50:00",
          "10:51:00",
          "10:52:00",
          "10:53:00",
          "10:54:00",
          "10:55:00",
          "10:56:00",
          "10:57:00",
          "10:58:00",
          "10:59:00",
          "11:00:00",
          "11:01:00",
          "11:02:00",
          "11:03:00",
          "11:04:00",
          "11:05:00",
          "11:06:00",
          "11:07:00",
          "11:08:00",
          "11:09:00",
          "11:10:00",
          "11:11:00",
          "11:12:00",
          "11:13:00",
          "11:14:00",
          "11:15:00",
          "11:16:00",
          "11:17:00",
          "11:18:00",
          "11:19:00",
          "11:20:00",
          "11:21:00",
          "11:22:00",
          "11:23:00",
          "11:24:00",
          "11:25:00",
          "11:26:00",
          "11:27:00",
          "11:28:00",
          "11:29:00",
          "11:30:00",
          "11:31:00",
          "11:32:00",
          "11:33:00",
          "11:34:00",
          "11:35:00",
          "11:36:00",
          "11:37:00",
          "11:38:00",
          "11:39:00",
          "11:40:00",
          "11:41:00",
          "11:42:00",
          "11:43:00",
          "11:44:00",
          "11:45:00",
          "11:46:00",
          "11:47:00",
          "11:48:00",
          "11:49:00",
          "11:50:00",
          "11:51:00",
          "11:52:00",
          "11:53:00",
          "11:54:00",
          "11:55:00",
          "11:56:00",
          "11:57:00",
          "11:58:00",
          "11:59:00",
          "12:00:00",
          "12:01:00",
          "12:02:00",
          "12:03:00",
          "12:04:00",
          "12:05:00",
          "12:06:00",
          "12:07:00",
          "12:08:00",
          "12:09:00",
          "12:10:00",
          "12:11:00",
          "12:12:00",
          "12:13:00",
          "12:14:00",
          "12:15:00",
          "12:16:00",
          "12:17:00",
          "12:18:00",
          "12:19:00",
          "12:20:00",
          "12:21:00",
          "12:22:00",
          "12:23:00",
          "12:24:00",
          "12:25:00",
          "12:26:00",
          "12:27:00",
          "12:28:00",
          "12:29:00",
          "12:30:00",
          "12:31:00",
          "12:32:00",
          "12:33:00",
          "12:34:00",
          "12:35:00",
          "12:36:00",
          "12:37:00",
          "12:38:00",
          "12:39:00",
          "12:40:00",
          "12:41:00",
          "12:42:00",
          "12:43:00",
          "12:44:00",
          "12:45:00",
          "12:46:00",
          "12:47:00",
          "12:48:00",
          "12:49:00",
          "12:50:00",
          "12:51:00",
          "12:52:00",
          "12:53:00",
          "12:54:00",
          "12:55:00",
          "12:56:00",
          "12:57:00",
          "12:58:00",
          "12:59:00",
          "13:00:00",
          "13:01:00",
          "13:02:00",
          "13:03:00",
          "13:04:00",
          "13:05:00",
          "13:06:00",
          "13:07:00",
          "13:08:00",
          "13:09:00",
          "13:10:00",
          "13:11:00",
          "13:12:00",
          "13:13:00",
          "13:14:00",
          "13:15:00",
          "13:16:00",
          "13:17:00",
          "13:18:00",
          "13:19:00"
         ],
         "y": [
          326,
          1474,
          823,
          370,
          175,
          1089,
          119,
          398,
          202,
          182,
          359,
          124,
          32,
          162,
          55,
          166,
          69,
          199,
          145,
          602,
          517,
          151,
          20,
          381,
          355,
          203,
          36,
          134,
          250,
          208,
          367,
          347,
          218,
          869,
          107,
          410,
          506,
          376,
          796,
          8940,
          4464,
          2752,
          2627,
          2062,
          2782,
          3120,
          4200,
          9270,
          2952,
          1058,
          2097,
          2246,
          608,
          4904,
          1529,
          1331,
          1269,
          1512,
          955,
          2315,
          1278,
          2394,
          3203,
          1388,
          719,
          2128,
          1207,
          1096,
          628,
          507,
          1316,
          1043,
          623,
          418,
          1514,
          473,
          2012,
          307,
          256,
          394,
          1119,
          732,
          430,
          755,
          628,
          142,
          210,
          277,
          121,
          289,
          929,
          355,
          726,
          684,
          2137,
          461,
          653,
          419,
          440,
          165,
          117,
          310,
          280,
          845,
          798,
          249,
          458,
          227,
          284,
          1758,
          851,
          219,
          179,
          330,
          1125,
          1578,
          1243,
          816,
          652,
          399,
          1026,
          214,
          487,
          527,
          437,
          983,
          247,
          139,
          297,
          465,
          346,
          1677,
          537,
          460,
          821,
          766,
          593,
          1798,
          386,
          527,
          280,
          208,
          100,
          270,
          215,
          794,
          233,
          943,
          542,
          342,
          427,
          658,
          291,
          291,
          1794,
          840,
          489,
          1807,
          291,
          124,
          845,
          360,
          690,
          812,
          538,
          196,
          823,
          531,
          942,
          361,
          146,
          1331,
          2509,
          8984,
          860,
          1190,
          1028,
          262,
          1754
         ]
        }
       ],
       "layout": {
        "barmode": "stack",
        "height": 500,
        "legend": {
         "bgcolor": "#151516",
         "font": {
          "color": "#D9D9D9"
         },
         "traceorder": "normal"
        },
        "paper_bgcolor": "#151516",
        "plot_bgcolor": "#151516",
        "template": {
         "data": {
          "bar": [
           {
            "error_x": {
             "color": "#2a3f5f"
            },
            "error_y": {
             "color": "#2a3f5f"
            },
            "marker": {
             "line": {
              "color": "#E5ECF6",
              "width": 0.5
             },
             "pattern": {
              "fillmode": "overlay",
              "size": 10,
              "solidity": 0.2
             }
            },
            "type": "bar"
           }
          ],
          "barpolar": [
           {
            "marker": {
             "line": {
              "color": "#E5ECF6",
              "width": 0.5
             },
             "pattern": {
              "fillmode": "overlay",
              "size": 10,
              "solidity": 0.2
             }
            },
            "type": "barpolar"
           }
          ],
          "carpet": [
           {
            "aaxis": {
             "endlinecolor": "#2a3f5f",
             "gridcolor": "white",
             "linecolor": "white",
             "minorgridcolor": "white",
             "startlinecolor": "#2a3f5f"
            },
            "baxis": {
             "endlinecolor": "#2a3f5f",
             "gridcolor": "white",
             "linecolor": "white",
             "minorgridcolor": "white",
             "startlinecolor": "#2a3f5f"
            },
            "type": "carpet"
           }
          ],
          "choropleth": [
           {
            "colorbar": {
             "outlinewidth": 0,
             "ticks": ""
            },
            "type": "choropleth"
           }
          ],
          "contour": [
           {
            "colorbar": {
             "outlinewidth": 0,
             "ticks": ""
            },
            "colorscale": [
             [
              0,
              "#0d0887"
             ],
             [
              0.1111111111111111,
              "#46039f"
             ],
             [
              0.2222222222222222,
              "#7201a8"
             ],
             [
              0.3333333333333333,
              "#9c179e"
             ],
             [
              0.4444444444444444,
              "#bd3786"
             ],
             [
              0.5555555555555556,
              "#d8576b"
             ],
             [
              0.6666666666666666,
              "#ed7953"
             ],
             [
              0.7777777777777778,
              "#fb9f3a"
             ],
             [
              0.8888888888888888,
              "#fdca26"
             ],
             [
              1,
              "#f0f921"
             ]
            ],
            "type": "contour"
           }
          ],
          "contourcarpet": [
           {
            "colorbar": {
             "outlinewidth": 0,
             "ticks": ""
            },
            "type": "contourcarpet"
           }
          ],
          "heatmap": [
           {
            "colorbar": {
             "outlinewidth": 0,
             "ticks": ""
            },
            "colorscale": [
             [
              0,
              "#0d0887"
             ],
             [
              0.1111111111111111,
              "#46039f"
             ],
             [
              0.2222222222222222,
              "#7201a8"
             ],
             [
              0.3333333333333333,
              "#9c179e"
             ],
             [
              0.4444444444444444,
              "#bd3786"
             ],
             [
              0.5555555555555556,
              "#d8576b"
             ],
             [
              0.6666666666666666,
              "#ed7953"
             ],
             [
              0.7777777777777778,
              "#fb9f3a"
             ],
             [
              0.8888888888888888,
              "#fdca26"
             ],
             [
              1,
              "#f0f921"
             ]
            ],
            "type": "heatmap"
           }
          ],
          "heatmapgl": [
           {
            "colorbar": {
             "outlinewidth": 0,
             "ticks": ""
            },
            "colorscale": [
             [
              0,
              "#0d0887"
             ],
             [
              0.1111111111111111,
              "#46039f"
             ],
             [
              0.2222222222222222,
              "#7201a8"
             ],
             [
              0.3333333333333333,
              "#9c179e"
             ],
             [
              0.4444444444444444,
              "#bd3786"
             ],
             [
              0.5555555555555556,
              "#d8576b"
             ],
             [
              0.6666666666666666,
              "#ed7953"
             ],
             [
              0.7777777777777778,
              "#fb9f3a"
             ],
             [
              0.8888888888888888,
              "#fdca26"
             ],
             [
              1,
              "#f0f921"
             ]
            ],
            "type": "heatmapgl"
           }
          ],
          "histogram": [
           {
            "marker": {
             "pattern": {
              "fillmode": "overlay",
              "size": 10,
              "solidity": 0.2
             }
            },
            "type": "histogram"
           }
          ],
          "histogram2d": [
           {
            "colorbar": {
             "outlinewidth": 0,
             "ticks": ""
            },
            "colorscale": [
             [
              0,
              "#0d0887"
             ],
             [
              0.1111111111111111,
              "#46039f"
             ],
             [
              0.2222222222222222,
              "#7201a8"
             ],
             [
              0.3333333333333333,
              "#9c179e"
             ],
             [
              0.4444444444444444,
              "#bd3786"
             ],
             [
              0.5555555555555556,
              "#d8576b"
             ],
             [
              0.6666666666666666,
              "#ed7953"
             ],
             [
              0.7777777777777778,
              "#fb9f3a"
             ],
             [
              0.8888888888888888,
              "#fdca26"
             ],
             [
              1,
              "#f0f921"
             ]
            ],
            "type": "histogram2d"
           }
          ],
          "histogram2dcontour": [
           {
            "colorbar": {
             "outlinewidth": 0,
             "ticks": ""
            },
            "colorscale": [
             [
              0,
              "#0d0887"
             ],
             [
              0.1111111111111111,
              "#46039f"
             ],
             [
              0.2222222222222222,
              "#7201a8"
             ],
             [
              0.3333333333333333,
              "#9c179e"
             ],
             [
              0.4444444444444444,
              "#bd3786"
             ],
             [
              0.5555555555555556,
              "#d8576b"
             ],
             [
              0.6666666666666666,
              "#ed7953"
             ],
             [
              0.7777777777777778,
              "#fb9f3a"
             ],
             [
              0.8888888888888888,
              "#fdca26"
             ],
             [
              1,
              "#f0f921"
             ]
            ],
            "type": "histogram2dcontour"
           }
          ],
          "mesh3d": [
           {
            "colorbar": {
             "outlinewidth": 0,
             "ticks": ""
            },
            "type": "mesh3d"
           }
          ],
          "parcoords": [
           {
            "line": {
             "colorbar": {
              "outlinewidth": 0,
              "ticks": ""
             }
            },
            "type": "parcoords"
           }
          ],
          "pie": [
           {
            "automargin": true,
            "type": "pie"
           }
          ],
          "scatter": [
           {
            "marker": {
             "colorbar": {
              "outlinewidth": 0,
              "ticks": ""
             }
            },
            "type": "scatter"
           }
          ],
          "scatter3d": [
           {
            "line": {
             "colorbar": {
              "outlinewidth": 0,
              "ticks": ""
             }
            },
            "marker": {
             "colorbar": {
              "outlinewidth": 0,
              "ticks": ""
             }
            },
            "type": "scatter3d"
           }
          ],
          "scattercarpet": [
           {
            "marker": {
             "colorbar": {
              "outlinewidth": 0,
              "ticks": ""
             }
            },
            "type": "scattercarpet"
           }
          ],
          "scattergeo": [
           {
            "marker": {
             "colorbar": {
              "outlinewidth": 0,
              "ticks": ""
             }
            },
            "type": "scattergeo"
           }
          ],
          "scattergl": [
           {
            "marker": {
             "colorbar": {
              "outlinewidth": 0,
              "ticks": ""
             }
            },
            "type": "scattergl"
           }
          ],
          "scattermapbox": [
           {
            "marker": {
             "colorbar": {
              "outlinewidth": 0,
              "ticks": ""
             }
            },
            "type": "scattermapbox"
           }
          ],
          "scatterpolar": [
           {
            "marker": {
             "colorbar": {
              "outlinewidth": 0,
              "ticks": ""
             }
            },
            "type": "scatterpolar"
           }
          ],
          "scatterpolargl": [
           {
            "marker": {
             "colorbar": {
              "outlinewidth": 0,
              "ticks": ""
             }
            },
            "type": "scatterpolargl"
           }
          ],
          "scatterternary": [
           {
            "marker": {
             "colorbar": {
              "outlinewidth": 0,
              "ticks": ""
             }
            },
            "type": "scatterternary"
           }
          ],
          "surface": [
           {
            "colorbar": {
             "outlinewidth": 0,
             "ticks": ""
            },
            "colorscale": [
             [
              0,
              "#0d0887"
             ],
             [
              0.1111111111111111,
              "#46039f"
             ],
             [
              0.2222222222222222,
              "#7201a8"
             ],
             [
              0.3333333333333333,
              "#9c179e"
             ],
             [
              0.4444444444444444,
              "#bd3786"
             ],
             [
              0.5555555555555556,
              "#d8576b"
             ],
             [
              0.6666666666666666,
              "#ed7953"
             ],
             [
              0.7777777777777778,
              "#fb9f3a"
             ],
             [
              0.8888888888888888,
              "#fdca26"
             ],
             [
              1,
              "#f0f921"
             ]
            ],
            "type": "surface"
           }
          ],
          "table": [
           {
            "cells": {
             "fill": {
              "color": "#EBF0F8"
             },
             "line": {
              "color": "white"
             }
            },
            "header": {
             "fill": {
              "color": "#C8D4E3"
             },
             "line": {
              "color": "white"
             }
            },
            "type": "table"
           }
          ]
         },
         "layout": {
          "annotationdefaults": {
           "arrowcolor": "#2a3f5f",
           "arrowhead": 0,
           "arrowwidth": 1
          },
          "autotypenumbers": "strict",
          "coloraxis": {
           "colorbar": {
            "outlinewidth": 0,
            "ticks": ""
           }
          },
          "colorscale": {
           "diverging": [
            [
             0,
             "#8e0152"
            ],
            [
             0.1,
             "#c51b7d"
            ],
            [
             0.2,
             "#de77ae"
            ],
            [
             0.3,
             "#f1b6da"
            ],
            [
             0.4,
             "#fde0ef"
            ],
            [
             0.5,
             "#f7f7f7"
            ],
            [
             0.6,
             "#e6f5d0"
            ],
            [
             0.7,
             "#b8e186"
            ],
            [
             0.8,
             "#7fbc41"
            ],
            [
             0.9,
             "#4d9221"
            ],
            [
             1,
             "#276419"
            ]
           ],
           "sequential": [
            [
             0,
             "#0d0887"
            ],
            [
             0.1111111111111111,
             "#46039f"
            ],
            [
             0.2222222222222222,
             "#7201a8"
            ],
            [
             0.3333333333333333,
             "#9c179e"
            ],
            [
             0.4444444444444444,
             "#bd3786"
            ],
            [
             0.5555555555555556,
             "#d8576b"
            ],
            [
             0.6666666666666666,
             "#ed7953"
            ],
            [
             0.7777777777777778,
             "#fb9f3a"
            ],
            [
             0.8888888888888888,
             "#fdca26"
            ],
            [
             1,
             "#f0f921"
            ]
           ],
           "sequentialminus": [
            [
             0,
             "#0d0887"
            ],
            [
             0.1111111111111111,
             "#46039f"
            ],
            [
             0.2222222222222222,
             "#7201a8"
            ],
            [
             0.3333333333333333,
             "#9c179e"
            ],
            [
             0.4444444444444444,
             "#bd3786"
            ],
            [
             0.5555555555555556,
             "#d8576b"
            ],
            [
             0.6666666666666666,
             "#ed7953"
            ],
            [
             0.7777777777777778,
             "#fb9f3a"
            ],
            [
             0.8888888888888888,
             "#fdca26"
            ],
            [
             1,
             "#f0f921"
            ]
           ]
          },
          "colorway": [
           "#636efa",
           "#EF553B",
           "#00cc96",
           "#ab63fa",
           "#FFA15A",
           "#19d3f3",
           "#FF6692",
           "#B6E880",
           "#FF97FF",
           "#FECB52"
          ],
          "font": {
           "color": "#2a3f5f"
          },
          "geo": {
           "bgcolor": "white",
           "lakecolor": "white",
           "landcolor": "#E5ECF6",
           "showlakes": true,
           "showland": true,
           "subunitcolor": "white"
          },
          "hoverlabel": {
           "align": "left"
          },
          "hovermode": "closest",
          "mapbox": {
           "style": "light"
          },
          "paper_bgcolor": "white",
          "plot_bgcolor": "#E5ECF6",
          "polar": {
           "angularaxis": {
            "gridcolor": "white",
            "linecolor": "white",
            "ticks": ""
           },
           "bgcolor": "#E5ECF6",
           "radialaxis": {
            "gridcolor": "white",
            "linecolor": "white",
            "ticks": ""
           }
          },
          "scene": {
           "xaxis": {
            "backgroundcolor": "#E5ECF6",
            "gridcolor": "white",
            "gridwidth": 2,
            "linecolor": "white",
            "showbackground": true,
            "ticks": "",
            "zerolinecolor": "white"
           },
           "yaxis": {
            "backgroundcolor": "#E5ECF6",
            "gridcolor": "white",
            "gridwidth": 2,
            "linecolor": "white",
            "showbackground": true,
            "ticks": "",
            "zerolinecolor": "white"
           },
           "zaxis": {
            "backgroundcolor": "#E5ECF6",
            "gridcolor": "white",
            "gridwidth": 2,
            "linecolor": "white",
            "showbackground": true,
            "ticks": "",
            "zerolinecolor": "white"
           }
          },
          "shapedefaults": {
           "line": {
            "color": "#2a3f5f"
           }
          },
          "ternary": {
           "aaxis": {
            "gridcolor": "white",
            "linecolor": "white",
            "ticks": ""
           },
           "baxis": {
            "gridcolor": "white",
            "linecolor": "white",
            "ticks": ""
           },
           "bgcolor": "#E5ECF6",
           "caxis": {
            "gridcolor": "white",
            "linecolor": "white",
            "ticks": ""
           }
          },
          "title": {
           "x": 0.05
          },
          "xaxis": {
           "automargin": true,
           "gridcolor": "white",
           "linecolor": "white",
           "ticks": "",
           "title": {
            "standoff": 15
           },
           "zerolinecolor": "white",
           "zerolinewidth": 2
          },
          "yaxis": {
           "automargin": true,
           "gridcolor": "white",
           "linecolor": "white",
           "ticks": "",
           "title": {
            "standoff": 15
           },
           "zerolinecolor": "white",
           "zerolinewidth": 2
          }
         }
        },
        "title": {
         "font": {
          "color": "#D9D9D9"
         }
        },
        "width": 1100,
        "xaxis": {
         "autorange": true,
         "gridcolor": "#434343",
         "range": [
          -0.5,
          178.5
         ],
         "showgrid": true,
         "tickfont": {
          "color": "#C2C2C2"
         },
         "title": {
          "font": {
           "color": "#D9D9D9"
          },
          "text": ""
         },
         "type": "category",
         "zerolinecolor": "#666570"
        },
        "yaxis": {
         "autorange": true,
         "gridcolor": "#434343",
         "range": [
          0,
          37426.31578947369
         ],
         "showgrid": true,
         "tickfont": {
          "color": "#C2C2C2"
         },
         "title": {
          "font": {
           "color": "#D9D9D9"
          },
          "text": ""
         },
         "type": "linear",
         "zerolinecolor": "#666570"
        }
       }
      },
      "image/png": "[encoded data removed]",
      "text/html": [
       "<div>                            <div id=\"70ab4fd5-6841-4f23-8e88-73037a11f712\" class=\"plotly-graph-div\" style=\"height:500px; width:1100px;\"></div>            <script type=\"text/javascript\">                require([\"plotly\"], function(Plotly) {                    window.PLOTLYENV=window.PLOTLYENV || {};\n",
       "                    window.PLOTLYENV.BASE_URL='https://plot.ly';                                    if (document.getElementById(\"70ab4fd5-6841-4f23-8e88-73037a11f712\")) {                    Plotly.newPlot(                        \"70ab4fd5-6841-4f23-8e88-73037a11f712\",                        [{\"marker\":{\"color\":\"rgba(255, 153, 51, 0.6)\",\"line\":{\"color\":\"rgba(255, 153, 51, 1.0)\",\"width\":1}},\"name\":\"2023-03-08\",\"orientation\":\"v\",\"text\":\"\",\"x\":[\"10:21:00\",\"10:22:00\",\"10:23:00\",\"10:24:00\",\"10:25:00\",\"10:26:00\",\"10:27:00\",\"10:28:00\",\"10:29:00\",\"10:30:00\",\"10:31:00\",\"10:32:00\",\"10:33:00\",\"10:34:00\",\"10:35:00\",\"10:36:00\",\"10:37:00\",\"10:38:00\",\"10:39:00\",\"10:40:00\",\"10:41:00\",\"10:42:00\",\"10:43:00\",\"10:44:00\",\"10:45:00\",\"10:46:00\",\"10:47:00\",\"10:48:00\",\"10:49:00\",\"10:50:00\",\"10:51:00\",\"10:52:00\",\"10:53:00\",\"10:54:00\",\"10:55:00\",\"10:56:00\",\"10:57:00\",\"10:58:00\",\"10:59:00\",\"11:00:00\",\"11:01:00\",\"11:02:00\",\"11:03:00\",\"11:04:00\",\"11:05:00\",\"11:06:00\",\"11:07:00\",\"11:08:00\",\"11:09:00\",\"11:10:00\",\"11:11:00\",\"11:12:00\",\"11:13:00\",\"11:14:00\",\"11:15:00\",\"11:16:00\",\"11:17:00\",\"11:18:00\",\"11:19:00\",\"11:20:00\",\"11:21:00\",\"11:22:00\",\"11:23:00\",\"11:24:00\",\"11:25:00\",\"11:26:00\",\"11:27:00\",\"11:28:00\",\"11:29:00\",\"11:30:00\",\"11:31:00\",\"11:32:00\",\"11:33:00\",\"11:34:00\",\"11:35:00\",\"11:36:00\",\"11:37:00\",\"11:38:00\",\"11:39:00\",\"11:40:00\",\"11:41:00\",\"11:42:00\",\"11:43:00\",\"11:44:00\",\"11:45:00\",\"11:46:00\",\"11:47:00\",\"11:48:00\",\"11:49:00\",\"11:50:00\",\"11:51:00\",\"11:52:00\",\"11:53:00\",\"11:54:00\",\"11:55:00\",\"11:56:00\",\"11:57:00\",\"11:58:00\",\"11:59:00\",\"12:00:00\",\"12:01:00\",\"12:02:00\",\"12:03:00\",\"12:04:00\",\"12:05:00\",\"12:06:00\",\"12:07:00\",\"12:08:00\",\"12:09:00\",\"12:10:00\",\"12:11:00\",\"12:12:00\",\"12:13:00\",\"12:14:00\",\"12:15:00\",\"12:16:00\",\"12:17:00\",\"12:18:00\",\"12:19:00\",\"12:20:00\",\"12:21:00\",\"12:22:00\",\"12:23:00\",\"12:24:00\",\"12:25:00\",\"12:26:00\",\"12:27:00\",\"12:28:00\",\"12:29:00\",\"12:30:00\",\"12:31:00\",\"12:32:00\",\"12:33:00\",\"12:34:00\",\"12:35:00\",\"12:36:00\",\"12:37:00\",\"12:38:00\",\"12:39:00\",\"12:40:00\",\"12:41:00\",\"12:42:00\",\"12:43:00\",\"12:44:00\",\"12:45:00\",\"12:46:00\",\"12:47:00\",\"12:48:00\",\"12:49:00\",\"12:50:00\",\"12:51:00\",\"12:52:00\",\"12:53:00\",\"12:54:00\",\"12:55:00\",\"12:56:00\",\"12:57:00\",\"12:58:00\",\"12:59:00\",\"13:00:00\",\"13:01:00\",\"13:02:00\",\"13:03:00\",\"13:04:00\",\"13:05:00\",\"13:06:00\",\"13:07:00\",\"13:08:00\",\"13:09:00\",\"13:10:00\",\"13:11:00\",\"13:12:00\",\"13:13:00\",\"13:14:00\",\"13:15:00\",\"13:16:00\",\"13:17:00\",\"13:18:00\",\"13:19:00\"],\"y\":[28,181,47,92,256,101,741,108,164,469,252,235,288,521,177,391,98,126,247,425,286,169,118,121,183,1443,191,488,54,124,474,197,399,214,172,457,111,105,348,3861,1556,599,1002,516,729,402,558,308,1286,860,303,1067,578,528,326,500,362,882,165,552,740,926,621,553,2078,531,1360,699,1376,2422,1046,827,545,393,433,1252,902,1905,898,512,666,341,481,220,511,454,153,144,215,313,228,286,152,191,59,458,728,334,114,2392,219,333,191,572,684,1743,494,409,236,246,201,139,405,86,159,180,234,153,61,290,254,174,253,70,314,434,150,443,147,194,131,148,241,25,298,216,233,148,158,286,35,304,621,188,42,376,819,147,1343,1357,343,253,634,524,230,450,355,224,510,838,1189,128,506,245,1453,282,775,293,735,325,145,895,659,5240,1383,266,162,268,499],\"type\":\"bar\"},{\"marker\":{\"color\":\"rgba(55, 128, 191, 0.6)\",\"line\":{\"color\":\"rgba(55, 128, 191, 1.0)\",\"width\":1}},\"name\":\"2023-04-11\",\"orientation\":\"v\",\"text\":\"\",\"x\":[\"10:21:00\",\"10:22:00\",\"10:23:00\",\"10:24:00\",\"10:25:00\",\"10:26:00\",\"10:27:00\",\"10:28:00\",\"10:29:00\",\"10:30:00\",\"10:31:00\",\"10:32:00\",\"10:33:00\",\"10:34:00\",\"10:35:00\",\"10:36:00\",\"10:37:00\",\"10:38:00\",\"10:39:00\",\"10:40:00\",\"10:41:00\",\"10:42:00\",\"10:43:00\",\"10:44:00\",\"10:45:00\",\"10:46:00\",\"10:47:00\",\"10:48:00\",\"10:49:00\",\"10:50:00\",\"10:51:00\",\"10:52:00\",\"10:53:00\",\"10:54:00\",\"10:55:00\",\"10:56:00\",\"10:57:00\",\"10:58:00\",\"10:59:00\",\"11:00:00\",\"11:01:00\",\"11:02:00\",\"11:03:00\",\"11:04:00\",\"11:05:00\",\"11:06:00\",\"11:07:00\",\"11:08:00\",\"11:09:00\",\"11:10:00\",\"11:11:00\",\"11:12:00\",\"11:13:00\",\"11:14:00\",\"11:15:00\",\"11:16:00\",\"11:17:00\",\"11:18:00\",\"11:19:00\",\"11:20:00\",\"11:21:00\",\"11:22:00\",\"11:23:00\",\"11:24:00\",\"11:25:00\",\"11:26:00\",\"11:27:00\",\"11:28:00\",\"11:29:00\",\"11:30:00\",\"11:31:00\",\"11:32:00\",\"11:33:00\",\"11:34:00\",\"11:35:00\",\"11:36:00\",\"11:37:00\",\"11:38:00\",\"11:39:00\",\"11:40:00\",\"11:41:00\",\"11:42:00\",\"11:43:00\",\"11:44:00\",\"11:45:00\",\"11:46:00\",\"11:47:00\",\"11:48:00\",\"11:49:00\",\"11:50:00\",\"11:51:00\",\"11:52:00\",\"11:53:00\",\"11:54:00\",\"11:55:00\",\"11:56:00\",\"11:57:00\",\"11:58:00\",\"11:59:00\",\"12:00:00\",\"12:01:00\",\"12:02:00\",\"12:03:00\",\"12:04:00\",\"12:05:00\",\"12:06:00\",\"12:07:00\",\"12:08:00\",\"12:09:00\",\"12:10:00\",\"12:11:00\",\"12:12:00\",\"12:13:00\",\"12:14:00\",\"12:15:00\",\"12:16:00\",\"12:17:00\",\"12:18:00\",\"12:19:00\",\"12:20:00\",\"12:21:00\",\"12:22:00\",\"12:23:00\",\"12:24:00\",\"12:25:00\",\"12:26:00\",\"12:27:00\",\"12:28:00\",\"12:29:00\",\"12:30:00\",\"12:31:00\",\"12:32:00\",\"12:33:00\",\"12:34:00\",\"12:35:00\",\"12:36:00\",\"12:37:00\",\"12:38:00\",\"12:39:00\",\"12:40:00\",\"12:41:00\",\"12:42:00\",\"12:43:00\",\"12:44:00\",\"12:45:00\",\"12:46:00\",\"12:47:00\",\"12:48:00\",\"12:49:00\",\"12:50:00\",\"12:51:00\",\"12:52:00\",\"12:53:00\",\"12:54:00\",\"12:55:00\",\"12:56:00\",\"12:57:00\",\"12:58:00\",\"12:59:00\",\"13:00:00\",\"13:01:00\",\"13:02:00\",\"13:03:00\",\"13:04:00\",\"13:05:00\",\"13:06:00\",\"13:07:00\",\"13:08:00\",\"13:09:00\",\"13:10:00\",\"13:11:00\",\"13:12:00\",\"13:13:00\",\"13:14:00\",\"13:15:00\",\"13:16:00\",\"13:17:00\",\"13:18:00\",\"13:19:00\"],\"y\":[186,326,209,179,262,204,1236,245,272,2285,96,97,2500,870,227,765,477,327,277,122,340,51,185,246,1087,231,132,232,1878,199,144,177,393,1578,293,781,362,180,192,1464,1514,1562,680,746,1432,2129,707,355,250,132,353,265,279,82,132,102,197,1404,503,830,89,125,1121,163,618,397,236,574,283,328,403,108,1676,214,258,1007,65,398,1017,333,144,222,119,342,150,1591,337,53,156,79,155,174,165,120,393,142,91,72,1318,325,131,145,91,92,123,71,42,99,98,99,27,46,230,138,95,119,89,84,140,193,40,2435,81,165,28,1237,73,80,140,307,65,116,159,201,193,281,120,317,229,312,415,411,315,282,290,695,249,1630,441,106,129,206,442,1001,157,204,384,240,279,112,310,235,117,256,862,315,165,324,287,218,1325,732,676,9255,843,745,1169,91,2890],\"type\":\"bar\"},{\"marker\":{\"color\":\"rgba(50, 171, 96, 0.6)\",\"line\":{\"color\":\"rgba(50, 171, 96, 1.0)\",\"width\":1}},\"name\":\"2023-05-12\",\"orientation\":\"v\",\"text\":\"\",\"x\":[\"10:21:00\",\"10:22:00\",\"10:23:00\",\"10:24:00\",\"10:25:00\",\"10:26:00\",\"10:27:00\",\"10:28:00\",\"10:29:00\",\"10:30:00\",\"10:31:00\",\"10:32:00\",\"10:33:00\",\"10:34:00\",\"10:35:00\",\"10:36:00\",\"10:37:00\",\"10:38:00\",\"10:39:00\",\"10:40:00\",\"10:41:00\",\"10:42:00\",\"10:43:00\",\"10:44:00\",\"10:45:00\",\"10:46:00\",\"10:47:00\",\"10:48:00\",\"10:49:00\",\"10:50:00\",\"10:51:00\",\"10:52:00\",\"10:53:00\",\"10:54:00\",\"10:55:00\",\"10:56:00\",\"10:57:00\",\"10:58:00\",\"10:59:00\",\"11:00:00\",\"11:01:00\",\"11:02:00\",\"11:03:00\",\"11:04:00\",\"11:05:00\",\"11:06:00\",\"11:07:00\",\"11:08:00\",\"11:09:00\",\"11:10:00\",\"11:11:00\",\"11:12:00\",\"11:13:00\",\"11:14:00\",\"11:15:00\",\"11:16:00\",\"11:17:00\",\"11:18:00\",\"11:19:00\",\"11:20:00\",\"11:21:00\",\"11:22:00\",\"11:23:00\",\"11:24:00\",\"11:25:00\",\"11:26:00\",\"11:27:00\",\"11:28:00\",\"11:29:00\",\"11:30:00\",\"11:31:00\",\"11:32:00\",\"11:33:00\",\"11:34:00\",\"11:35:00\",\"11:36:00\",\"11:37:00\",\"11:38:00\",\"11:39:00\",\"11:40:00\",\"11:41:00\",\"11:42:00\",\"11:43:00\",\"11:44:00\",\"11:45:00\",\"11:46:00\",\"11:47:00\",\"11:48:00\",\"11:49:00\",\"11:50:00\",\"11:51:00\",\"11:52:00\",\"11:53:00\",\"11:54:00\",\"11:55:00\",\"11:56:00\",\"11:57:00\",\"11:58:00\",\"11:59:00\",\"12:00:00\",\"12:01:00\",\"12:02:00\",\"12:03:00\",\"12:04:00\",\"12:05:00\",\"12:06:00\",\"12:07:00\",\"12:08:00\",\"12:09:00\",\"12:10:00\",\"12:11:00\",\"12:12:00\",\"12:13:00\",\"12:14:00\",\"12:15:00\",\"12:16:00\",\"12:17:00\",\"12:18:00\",\"12:19:00\",\"12:20:00\",\"12:21:00\",\"12:22:00\",\"12:23:00\",\"12:24:00\",\"12:25:00\",\"12:26:00\",\"12:27:00\",\"12:28:00\",\"12:29:00\",\"12:30:00\",\"12:31:00\",\"12:32:00\",\"12:33:00\",\"12:34:00\",\"12:35:00\",\"12:36:00\",\"12:37:00\",\"12:38:00\",\"12:39:00\",\"12:40:00\",\"12:41:00\",\"12:42:00\",\"12:43:00\",\"12:44:00\",\"12:45:00\",\"12:46:00\",\"12:47:00\",\"12:48:00\",\"12:49:00\",\"12:50:00\",\"12:51:00\",\"12:52:00\",\"12:53:00\",\"12:54:00\",\"12:55:00\",\"12:56:00\",\"12:57:00\",\"12:58:00\",\"12:59:00\",\"13:00:00\",\"13:01:00\",\"13:02:00\",\"13:03:00\",\"13:04:00\",\"13:05:00\",\"13:06:00\",\"13:07:00\",\"13:08:00\",\"13:09:00\",\"13:10:00\",\"13:11:00\",\"13:12:00\",\"13:13:00\",\"13:14:00\",\"13:15:00\",\"13:16:00\",\"13:17:00\",\"13:18:00\",\"13:19:00\"],\"y\":[122,183,119,269,148,24,53,144,58,81,179,393,443,460,201,71,51,76,227,314,128,195,157,63,72,955,92,205,178,150,143,103,56,356,147,536,986,299,315,6008,4050,4052,3687,4124,3626,1958,2083,1426,2063,987,1333,1290,526,1642,644,817,648,680,545,1075,484,471,439,493,583,439,285,326,455,407,255,1309,857,628,276,179,534,410,142,589,488,267,849,809,660,393,514,423,259,251,359,1263,252,453,368,317,85,292,994,222,163,236,209,658,556,387,468,964,458,192,235,156,324,1023,457,295,469,221,222,290,51,607,230,199,549,80,219,46,388,903,159,651,490,264,28,399,142,173,183,173,307,156,580,140,122,231,116,221,154,324,306,196,189,356,617,54,237,284,570,315,669,623,630,741,1161,430,388,615,486,520,869,994,1318,6021,2114,340,634,276,1488],\"type\":\"bar\"},{\"marker\":{\"color\":\"rgba(128, 0, 128, 0.6)\",\"line\":{\"color\":\"rgba(128, 0, 128, 1.0)\",\"width\":1}},\"name\":\"2023-06-09\",\"orientation\":\"v\",\"text\":\"\",\"x\":[\"10:21:00\",\"10:22:00\",\"10:23:00\",\"10:24:00\",\"10:25:00\",\"10:26:00\",\"10:27:00\",\"10:28:00\",\"10:29:00\",\"10:30:00\",\"10:31:00\",\"10:32:00\",\"10:33:00\",\"10:34:00\",\"10:35:00\",\"10:36:00\",\"10:37:00\",\"10:38:00\",\"10:39:00\",\"10:40:00\",\"10:41:00\",\"10:42:00\",\"10:43:00\",\"10:44:00\",\"10:45:00\",\"10:46:00\",\"10:47:00\",\"10:48:00\",\"10:49:00\",\"10:50:00\",\"10:51:00\",\"10:52:00\",\"10:53:00\",\"10:54:00\",\"10:55:00\",\"10:56:00\",\"10:57:00\",\"10:58:00\",\"10:59:00\",\"11:00:00\",\"11:01:00\",\"11:02:00\",\"11:03:00\",\"11:04:00\",\"11:05:00\",\"11:06:00\",\"11:07:00\",\"11:08:00\",\"11:09:00\",\"11:10:00\",\"11:11:00\",\"11:12:00\",\"11:13:00\",\"11:14:00\",\"11:15:00\",\"11:16:00\",\"11:17:00\",\"11:18:00\",\"11:19:00\",\"11:20:00\",\"11:21:00\",\"11:22:00\",\"11:23:00\",\"11:24:00\",\"11:25:00\",\"11:26:00\",\"11:27:00\",\"11:28:00\",\"11:29:00\",\"11:30:00\",\"11:31:00\",\"11:32:00\",\"11:33:00\",\"11:34:00\",\"11:35:00\",\"11:36:00\",\"11:37:00\",\"11:38:00\",\"11:39:00\",\"11:40:00\",\"11:41:00\",\"11:42:00\",\"11:43:00\",\"11:44:00\",\"11:45:00\",\"11:46:00\",\"11:47:00\",\"11:48:00\",\"11:49:00\",\"11:50:00\",\"11:51:00\",\"11:52:00\",\"11:53:00\",\"11:54:00\",\"11:55:00\",\"11:56:00\",\"11:57:00\",\"11:58:00\",\"11:59:00\",\"12:00:00\",\"12:01:00\",\"12:02:00\",\"12:03:00\",\"12:04:00\",\"12:05:00\",\"12:06:00\",\"12:07:00\",\"12:08:00\",\"12:09:00\",\"12:10:00\",\"12:11:00\",\"12:12:00\",\"12:13:00\",\"12:14:00\",\"12:15:00\",\"12:16:00\",\"12:17:00\",\"12:18:00\",\"12:19:00\",\"12:20:00\",\"12:21:00\",\"12:22:00\",\"12:23:00\",\"12:24:00\",\"12:25:00\",\"12:26:00\",\"12:27:00\",\"12:28:00\",\"12:29:00\",\"12:30:00\",\"12:31:00\",\"12:32:00\",\"12:33:00\",\"12:34:00\",\"12:35:00\",\"12:36:00\",\"12:37:00\",\"12:38:00\",\"12:39:00\",\"12:40:00\",\"12:41:00\",\"12:42:00\",\"12:43:00\",\"12:44:00\",\"12:45:00\",\"12:46:00\",\"12:47:00\",\"12:48:00\",\"12:49:00\",\"12:50:00\",\"12:51:00\",\"12:52:00\",\"12:53:00\",\"12:54:00\",\"12:55:00\",\"12:56:00\",\"12:57:00\",\"12:58:00\",\"12:59:00\",\"13:00:00\",\"13:01:00\",\"13:02:00\",\"13:03:00\",\"13:04:00\",\"13:05:00\",\"13:06:00\",\"13:07:00\",\"13:08:00\",\"13:09:00\",\"13:10:00\",\"13:11:00\",\"13:12:00\",\"13:13:00\",\"13:14:00\",\"13:15:00\",\"13:16:00\",\"13:17:00\",\"13:18:00\",\"13:19:00\"],\"y\":[154,286,152,115,159,103,67,101,177,322,410,1023,383,254,190,243,168,89,533,347,573,332,363,251,281,255,183,443,599,330,168,229,287,188,149,405,533,374,639,2117,2040,972,687,943,531,479,1429,1336,1000,460,273,2020,303,469,432,191,233,150,287,418,419,190,175,173,255,136,172,313,243,183,308,437,280,207,139,856,219,199,319,142,238,56,122,529,348,167,259,328,196,322,146,218,193,155,152,198,858,196,1254,451,267,164,418,348,66,163,192,143,657,250,103,498,333,168,473,214,324,733,238,151,227,404,762,150,155,132,183,111,199,224,511,262,358,126,191,489,177,187,472,500,410,228,132,147,275,364,310,174,180,208,362,99,136,148,459,167,463,448,770,460,182,261,680,307,494,457,504,283,345,959,467,594,978,6055,1126,295,867,447,506],\"type\":\"bar\"},{\"marker\":{\"color\":\"rgba(219, 64, 82, 0.6)\",\"line\":{\"color\":\"rgba(219, 64, 82, 1.0)\",\"width\":1}},\"name\":\"2023-07-12\",\"orientation\":\"v\",\"text\":\"\",\"x\":[\"10:21:00\",\"10:22:00\",\"10:23:00\",\"10:24:00\",\"10:25:00\",\"10:26:00\",\"10:27:00\",\"10:28:00\",\"10:29:00\",\"10:30:00\",\"10:31:00\",\"10:32:00\",\"10:33:00\",\"10:34:00\",\"10:35:00\",\"10:36:00\",\"10:37:00\",\"10:38:00\",\"10:39:00\",\"10:40:00\",\"10:41:00\",\"10:42:00\",\"10:43:00\",\"10:44:00\",\"10:45:00\",\"10:46:00\",\"10:47:00\",\"10:48:00\",\"10:49:00\",\"10:50:00\",\"10:51:00\",\"10:52:00\",\"10:53:00\",\"10:54:00\",\"10:55:00\",\"10:56:00\",\"10:57:00\",\"10:58:00\",\"10:59:00\",\"11:00:00\",\"11:01:00\",\"11:02:00\",\"11:03:00\",\"11:04:00\",\"11:05:00\",\"11:06:00\",\"11:07:00\",\"11:08:00\",\"11:09:00\",\"11:10:00\",\"11:11:00\",\"11:12:00\",\"11:13:00\",\"11:14:00\",\"11:15:00\",\"11:16:00\",\"11:17:00\",\"11:18:00\",\"11:19:00\",\"11:20:00\",\"11:21:00\",\"11:22:00\",\"11:23:00\",\"11:24:00\",\"11:25:00\",\"11:26:00\",\"11:27:00\",\"11:28:00\",\"11:29:00\",\"11:30:00\",\"11:31:00\",\"11:32:00\",\"11:33:00\",\"11:34:00\",\"11:35:00\",\"11:36:00\",\"11:37:00\",\"11:38:00\",\"11:39:00\",\"11:40:00\",\"11:41:00\",\"11:42:00\",\"11:43:00\",\"11:44:00\",\"11:45:00\",\"11:46:00\",\"11:47:00\",\"11:48:00\",\"11:49:00\",\"11:50:00\",\"11:51:00\",\"11:52:00\",\"11:53:00\",\"11:54:00\",\"11:55:00\",\"11:56:00\",\"11:57:00\",\"11:58:00\",\"11:59:00\",\"12:00:00\",\"12:01:00\",\"12:02:00\",\"12:03:00\",\"12:04:00\",\"12:05:00\",\"12:06:00\",\"12:07:00\",\"12:08:00\",\"12:09:00\",\"12:10:00\",\"12:11:00\",\"12:12:00\",\"12:13:00\",\"12:14:00\",\"12:15:00\",\"12:16:00\",\"12:17:00\",\"12:18:00\",\"12:19:00\",\"12:20:00\",\"12:21:00\",\"12:22:00\",\"12:23:00\",\"12:24:00\",\"12:25:00\",\"12:26:00\",\"12:27:00\",\"12:28:00\",\"12:29:00\",\"12:30:00\",\"12:31:00\",\"12:32:00\",\"12:33:00\",\"12:34:00\",\"12:35:00\",\"12:36:00\",\"12:37:00\",\"12:38:00\",\"12:39:00\",\"12:40:00\",\"12:41:00\",\"12:42:00\",\"12:43:00\",\"12:44:00\",\"12:45:00\",\"12:46:00\",\"12:47:00\",\"12:48:00\",\"12:49:00\",\"12:50:00\",\"12:51:00\",\"12:52:00\",\"12:53:00\",\"12:54:00\",\"12:55:00\",\"12:56:00\",\"12:57:00\",\"12:58:00\",\"12:59:00\",\"13:00:00\",\"13:01:00\",\"13:02:00\",\"13:03:00\",\"13:04:00\",\"13:05:00\",\"13:06:00\",\"13:07:00\",\"13:08:00\",\"13:09:00\",\"13:10:00\",\"13:11:00\",\"13:12:00\",\"13:13:00\",\"13:14:00\",\"13:15:00\",\"13:16:00\",\"13:17:00\",\"13:18:00\",\"13:19:00\"],\"y\":[326,1474,823,370,175,1089,119,398,202,182,359,124,32,162,55,166,69,199,145,602,517,151,20,381,355,203,36,134,250,208,367,347,218,869,107,410,506,376,796,8940,4464,2752,2627,2062,2782,3120,4200,9270,2952,1058,2097,2246,608,4904,1529,1331,1269,1512,955,2315,1278,2394,3203,1388,719,2128,1207,1096,628,507,1316,1043,623,418,1514,473,2012,307,256,394,1119,732,430,755,628,142,210,277,121,289,929,355,726,684,2137,461,653,419,440,165,117,310,280,845,798,249,458,227,284,1758,851,219,179,330,1125,1578,1243,816,652,399,1026,214,487,527,437,983,247,139,297,465,346,1677,537,460,821,766,593,1798,386,527,280,208,100,270,215,794,233,943,542,342,427,658,291,291,1794,840,489,1807,291,124,845,360,690,812,538,196,823,531,942,361,146,1331,2509,8984,860,1190,1028,262,1754],\"type\":\"bar\"}],                        {\"barmode\":\"stack\",\"height\":500,\"legend\":{\"bgcolor\":\"#151516\",\"font\":{\"color\":\"#D9D9D9\"},\"traceorder\":\"normal\"},\"paper_bgcolor\":\"#151516\",\"plot_bgcolor\":\"#151516\",\"template\":{\"data\":{\"barpolar\":[{\"marker\":{\"line\":{\"color\":\"#E5ECF6\",\"width\":0.5},\"pattern\":{\"fillmode\":\"overlay\",\"size\":10,\"solidity\":0.2}},\"type\":\"barpolar\"}],\"bar\":[{\"error_x\":{\"color\":\"#2a3f5f\"},\"error_y\":{\"color\":\"#2a3f5f\"},\"marker\":{\"line\":{\"color\":\"#E5ECF6\",\"width\":0.5},\"pattern\":{\"fillmode\":\"overlay\",\"size\":10,\"solidity\":0.2}},\"type\":\"bar\"}],\"carpet\":[{\"aaxis\":{\"endlinecolor\":\"#2a3f5f\",\"gridcolor\":\"white\",\"linecolor\":\"white\",\"minorgridcolor\":\"white\",\"startlinecolor\":\"#2a3f5f\"},\"baxis\":{\"endlinecolor\":\"#2a3f5f\",\"gridcolor\":\"white\",\"linecolor\":\"white\",\"minorgridcolor\":\"white\",\"startlinecolor\":\"#2a3f5f\"},\"type\":\"carpet\"}],\"choropleth\":[{\"colorbar\":{\"outlinewidth\":0,\"ticks\":\"\"},\"type\":\"choropleth\"}],\"contourcarpet\":[{\"colorbar\":{\"outlinewidth\":0,\"ticks\":\"\"},\"type\":\"contourcarpet\"}],\"contour\":[{\"colorbar\":{\"outlinewidth\":0,\"ticks\":\"\"},\"colorscale\":[[0.0,\"#0d0887\"],[0.1111111111111111,\"#46039f\"],[0.2222222222222222,\"#7201a8\"],[0.3333333333333333,\"#9c179e\"],[0.4444444444444444,\"#bd3786\"],[0.5555555555555556,\"#d8576b\"],[0.6666666666666666,\"#ed7953\"],[0.7777777777777778,\"#fb9f3a\"],[0.8888888888888888,\"#fdca26\"],[1.0,\"#f0f921\"]],\"type\":\"contour\"}],\"heatmapgl\":[{\"colorbar\":{\"outlinewidth\":0,\"ticks\":\"\"},\"colorscale\":[[0.0,\"#0d0887\"],[0.1111111111111111,\"#46039f\"],[0.2222222222222222,\"#7201a8\"],[0.3333333333333333,\"#9c179e\"],[0.4444444444444444,\"#bd3786\"],[0.5555555555555556,\"#d8576b\"],[0.6666666666666666,\"#ed7953\"],[0.7777777777777778,\"#fb9f3a\"],[0.8888888888888888,\"#fdca26\"],[1.0,\"#f0f921\"]],\"type\":\"heatmapgl\"}],\"heatmap\":[{\"colorbar\":{\"outlinewidth\":0,\"ticks\":\"\"},\"colorscale\":[[0.0,\"#0d0887\"],[0.1111111111111111,\"#46039f\"],[0.2222222222222222,\"#7201a8\"],[0.3333333333333333,\"#9c179e\"],[0.4444444444444444,\"#bd3786\"],[0.5555555555555556,\"#d8576b\"],[0.6666666666666666,\"#ed7953\"],[0.7777777777777778,\"#fb9f3a\"],[0.8888888888888888,\"#fdca26\"],[1.0,\"#f0f921\"]],\"type\":\"heatmap\"}],\"histogram2dcontour\":[{\"colorbar\":{\"outlinewidth\":0,\"ticks\":\"\"},\"colorscale\":[[0.0,\"#0d0887\"],[0.1111111111111111,\"#46039f\"],[0.2222222222222222,\"#7201a8\"],[0.3333333333333333,\"#9c179e\"],[0.4444444444444444,\"#bd3786\"],[0.5555555555555556,\"#d8576b\"],[0.6666666666666666,\"#ed7953\"],[0.7777777777777778,\"#fb9f3a\"],[0.8888888888888888,\"#fdca26\"],[1.0,\"#f0f921\"]],\"type\":\"histogram2dcontour\"}],\"histogram2d\":[{\"colorbar\":{\"outlinewidth\":0,\"ticks\":\"\"},\"colorscale\":[[0.0,\"#0d0887\"],[0.1111111111111111,\"#46039f\"],[0.2222222222222222,\"#7201a8\"],[0.3333333333333333,\"#9c179e\"],[0.4444444444444444,\"#bd3786\"],[0.5555555555555556,\"#d8576b\"],[0.6666666666666666,\"#ed7953\"],[0.7777777777777778,\"#fb9f3a\"],[0.8888888888888888,\"#fdca26\"],[1.0,\"#f0f921\"]],\"type\":\"histogram2d\"}],\"histogram\":[{\"marker\":{\"pattern\":{\"fillmode\":\"overlay\",\"size\":10,\"solidity\":0.2}},\"type\":\"histogram\"}],\"mesh3d\":[{\"colorbar\":{\"outlinewidth\":0,\"ticks\":\"\"},\"type\":\"mesh3d\"}],\"parcoords\":[{\"line\":{\"colorbar\":{\"outlinewidth\":0,\"ticks\":\"\"}},\"type\":\"parcoords\"}],\"pie\":[{\"automargin\":true,\"type\":\"pie\"}],\"scatter3d\":[{\"line\":{\"colorbar\":{\"outlinewidth\":0,\"ticks\":\"\"}},\"marker\":{\"colorbar\":{\"outlinewidth\":0,\"ticks\":\"\"}},\"type\":\"scatter3d\"}],\"scattercarpet\":[{\"marker\":{\"colorbar\":{\"outlinewidth\":0,\"ticks\":\"\"}},\"type\":\"scattercarpet\"}],\"scattergeo\":[{\"marker\":{\"colorbar\":{\"outlinewidth\":0,\"ticks\":\"\"}},\"type\":\"scattergeo\"}],\"scattergl\":[{\"marker\":{\"colorbar\":{\"outlinewidth\":0,\"ticks\":\"\"}},\"type\":\"scattergl\"}],\"scattermapbox\":[{\"marker\":{\"colorbar\":{\"outlinewidth\":0,\"ticks\":\"\"}},\"type\":\"scattermapbox\"}],\"scatterpolargl\":[{\"marker\":{\"colorbar\":{\"outlinewidth\":0,\"ticks\":\"\"}},\"type\":\"scatterpolargl\"}],\"scatterpolar\":[{\"marker\":{\"colorbar\":{\"outlinewidth\":0,\"ticks\":\"\"}},\"type\":\"scatterpolar\"}],\"scatter\":[{\"marker\":{\"colorbar\":{\"outlinewidth\":0,\"ticks\":\"\"}},\"type\":\"scatter\"}],\"scatterternary\":[{\"marker\":{\"colorbar\":{\"outlinewidth\":0,\"ticks\":\"\"}},\"type\":\"scatterternary\"}],\"surface\":[{\"colorbar\":{\"outlinewidth\":0,\"ticks\":\"\"},\"colorscale\":[[0.0,\"#0d0887\"],[0.1111111111111111,\"#46039f\"],[0.2222222222222222,\"#7201a8\"],[0.3333333333333333,\"#9c179e\"],[0.4444444444444444,\"#bd3786\"],[0.5555555555555556,\"#d8576b\"],[0.6666666666666666,\"#ed7953\"],[0.7777777777777778,\"#fb9f3a\"],[0.8888888888888888,\"#fdca26\"],[1.0,\"#f0f921\"]],\"type\":\"surface\"}],\"table\":[{\"cells\":{\"fill\":{\"color\":\"#EBF0F8\"},\"line\":{\"color\":\"white\"}},\"header\":{\"fill\":{\"color\":\"#C8D4E3\"},\"line\":{\"color\":\"white\"}},\"type\":\"table\"}]},\"layout\":{\"annotationdefaults\":{\"arrowcolor\":\"#2a3f5f\",\"arrowhead\":0,\"arrowwidth\":1},\"autotypenumbers\":\"strict\",\"coloraxis\":{\"colorbar\":{\"outlinewidth\":0,\"ticks\":\"\"}},\"colorscale\":{\"diverging\":[[0,\"#8e0152\"],[0.1,\"#c51b7d\"],[0.2,\"#de77ae\"],[0.3,\"#f1b6da\"],[0.4,\"#fde0ef\"],[0.5,\"#f7f7f7\"],[0.6,\"#e6f5d0\"],[0.7,\"#b8e186\"],[0.8,\"#7fbc41\"],[0.9,\"#4d9221\"],[1,\"#276419\"]],\"sequential\":[[0.0,\"#0d0887\"],[0.1111111111111111,\"#46039f\"],[0.2222222222222222,\"#7201a8\"],[0.3333333333333333,\"#9c179e\"],[0.4444444444444444,\"#bd3786\"],[0.5555555555555556,\"#d8576b\"],[0.6666666666666666,\"#ed7953\"],[0.7777777777777778,\"#fb9f3a\"],[0.8888888888888888,\"#fdca26\"],[1.0,\"#f0f921\"]],\"sequentialminus\":[[0.0,\"#0d0887\"],[0.1111111111111111,\"#46039f\"],[0.2222222222222222,\"#7201a8\"],[0.3333333333333333,\"#9c179e\"],[0.4444444444444444,\"#bd3786\"],[0.5555555555555556,\"#d8576b\"],[0.6666666666666666,\"#ed7953\"],[0.7777777777777778,\"#fb9f3a\"],[0.8888888888888888,\"#fdca26\"],[1.0,\"#f0f921\"]]},\"colorway\":[\"#636efa\",\"#EF553B\",\"#00cc96\",\"#ab63fa\",\"#FFA15A\",\"#19d3f3\",\"#FF6692\",\"#B6E880\",\"#FF97FF\",\"#FECB52\"],\"font\":{\"color\":\"#2a3f5f\"},\"geo\":{\"bgcolor\":\"white\",\"lakecolor\":\"white\",\"landcolor\":\"#E5ECF6\",\"showlakes\":true,\"showland\":true,\"subunitcolor\":\"white\"},\"hoverlabel\":{\"align\":\"left\"},\"hovermode\":\"closest\",\"mapbox\":{\"style\":\"light\"},\"paper_bgcolor\":\"white\",\"plot_bgcolor\":\"#E5ECF6\",\"polar\":{\"angularaxis\":{\"gridcolor\":\"white\",\"linecolor\":\"white\",\"ticks\":\"\"},\"bgcolor\":\"#E5ECF6\",\"radialaxis\":{\"gridcolor\":\"white\",\"linecolor\":\"white\",\"ticks\":\"\"}},\"scene\":{\"xaxis\":{\"backgroundcolor\":\"#E5ECF6\",\"gridcolor\":\"white\",\"gridwidth\":2,\"linecolor\":\"white\",\"showbackground\":true,\"ticks\":\"\",\"zerolinecolor\":\"white\"},\"yaxis\":{\"backgroundcolor\":\"#E5ECF6\",\"gridcolor\":\"white\",\"gridwidth\":2,\"linecolor\":\"white\",\"showbackground\":true,\"ticks\":\"\",\"zerolinecolor\":\"white\"},\"zaxis\":{\"backgroundcolor\":\"#E5ECF6\",\"gridcolor\":\"white\",\"gridwidth\":2,\"linecolor\":\"white\",\"showbackground\":true,\"ticks\":\"\",\"zerolinecolor\":\"white\"}},\"shapedefaults\":{\"line\":{\"color\":\"#2a3f5f\"}},\"ternary\":{\"aaxis\":{\"gridcolor\":\"white\",\"linecolor\":\"white\",\"ticks\":\"\"},\"baxis\":{\"gridcolor\":\"white\",\"linecolor\":\"white\",\"ticks\":\"\"},\"bgcolor\":\"#E5ECF6\",\"caxis\":{\"gridcolor\":\"white\",\"linecolor\":\"white\",\"ticks\":\"\"}},\"title\":{\"x\":0.05},\"xaxis\":{\"automargin\":true,\"gridcolor\":\"white\",\"linecolor\":\"white\",\"ticks\":\"\",\"title\":{\"standoff\":15},\"zerolinecolor\":\"white\",\"zerolinewidth\":2},\"yaxis\":{\"automargin\":true,\"gridcolor\":\"white\",\"linecolor\":\"white\",\"ticks\":\"\",\"title\":{\"standoff\":15},\"zerolinecolor\":\"white\",\"zerolinewidth\":2}}},\"title\":{\"font\":{\"color\":\"#D9D9D9\"}},\"width\":1100,\"xaxis\":{\"gridcolor\":\"#434343\",\"showgrid\":true,\"tickfont\":{\"color\":\"#C2C2C2\"},\"title\":{\"font\":{\"color\":\"#D9D9D9\"},\"text\":\"\"},\"zerolinecolor\":\"#666570\"},\"yaxis\":{\"gridcolor\":\"#434343\",\"showgrid\":true,\"tickfont\":{\"color\":\"#C2C2C2\"},\"title\":{\"font\":{\"color\":\"#D9D9D9\"},\"text\":\"\"},\"zerolinecolor\":\"#666570\"}},                        {\"showLink\": true, \"linkText\": \"Export to plot.ly\", \"plotlyServerURL\": \"https://plot.ly\", \"responsive\": true}                    ).then(function(){\n",
       "                            \n",
       "var gd = document.getElementById('70ab4fd5-6841-4f23-8e88-73037a11f712');\n",
       "var x = new MutationObserver(function (mutations, observer) {{\n",
       "        var display = window.getComputedStyle(gd).display;\n",
       "        if (!display || display === 'none') {{\n",
       "            console.log([gd, 'removed!']);\n",
       "            Plotly.purge(gd);\n",
       "            observer.disconnect();\n",
       "        }}\n",
       "}});\n",
       "\n",
       "// Listen for the removal of the full notebook cells\n",
       "var notebookContainer = gd.closest('#notebook-container');\n",
       "if (notebookContainer) {{\n",
       "    x.observe(notebookContainer, {childList: true});\n",
       "}}\n",
       "\n",
       "// Listen for the clearing of the current output cell\n",
       "var outputEl = gd.closest('.output');\n",
       "if (outputEl) {{\n",
       "    x.observe(outputEl, {childList: true});\n",
       "}}\n",
       "\n",
       "                        })                };                });            </script>        </div>"
      ]
     },
     "metadata": {},
     "output_type": "display_data"
    }
   ],
   "source": [
    "# Plot the results and place the following text as part of the title of the chart\n",
    "intraday.plot(f\"Intraday Net Change for {intraday.label}\")"
   ]
  },
  {
   "cell_type": "markdown",
   "id": "1aa9c205-cd70-4c38-8cc6-ab23ff43dee8",
   "metadata": {},
   "source": [
    "In the above code segment, we have requested the five most recent estimates based on the WASDE reported dates.  In the top chart, if you zoom in, you can begin to see a flurry of activity a few minutes before 11:00 A.M ahead of the report. At the time of the report, the bottom chart clearly shows a significant number of contracts traded.  In addition, you can also generally compare the volumes at certain dates and the rapid change in volume compared to other estimates.  For example, for whatever reason, the April and June reports have relatively light trading vs the other ones. This is also reflective in the above price chart where for these months, the impact on the price is less significant.  It is these types of insight that can indicate a deeper analysis that may provide better predictions.  In addition, the July report also generated a significant volume of contacts traded around 8 minutes after the report - perhaps a reaction to the price continually dropping or the immediate drop in price prior to the estimate coming out.\n",
    "\n",
    "We can go on - but the point is we have presented tools to generate interesting insight that could warrant further investigation and evaluation that can potentially bring significant value."
   ]
  },
  {
   "cell_type": "markdown",
   "id": "5dd6a482-3f47-4fd1-9939-9e6ca539a9e4",
   "metadata": {},
   "source": [
    "### Custom Analysis\n",
    "The above analysis was performed based on specific dates generated from the Department of Agriculture estimate indicators.  In addition, other economic indicators, such as the CCI (Consumer Confidence Index) can be used to drive our dates.  While the selection of dates can be generated, we may prefer to have more flexibility in the dates we choose.  For example, other factors such as central bank announcements, geopolitical events, and end of the month activity are common trends that can be measured.\n",
    "\n",
    "For our next analysis, we're going to select our dates based on \"Month-End Rebalancing\", which generates abnormal trading activity that includes portfolio rebalancing, profit-taking or squaring their positions.\n",
    "\n",
    "To begin, we utilize the *DatePicker* interface to present date selectors:"
   ]
  },
  {
   "cell_type": "code",
   "execution_count": 16,
   "id": "75e35def-a7fa-4bc3-a612-309d8e4f654a",
   "metadata": {},
   "outputs": [
    {
     "name": "stdout",
     "output_type": "stream",
     "text": [
      "Choose dates:\n"
     ]
    },
    {
     "data": {
      "application/vnd.jupyter.widget-view+json": {
       "model_id": "6a76c95136d147408e0663a3bf0ecbf1",
       "version_major": 2,
       "version_minor": 0
      },
      "text/plain": [
       "Box(children=(DatetimePicker(css='border: 2px solid green; width: 150px; border-radius: 20px', duplex_mode='',…"
      ]
     },
     "metadata": {},
     "output_type": "display_data"
    },
    {
     "name": "stdout",
     "output_type": "stream",
     "text": [
      "\n",
      "Override time range:\n"
     ]
    },
    {
     "data": {
      "application/vnd.jupyter.widget-view+json": {
       "model_id": "e31b72f3ec594c6eb6c01394012d4e4e",
       "version_major": 2,
       "version_minor": 0
      },
      "text/plain": [
       "DatetimePicker(css='border: 2px solid green; width: 300px; border-radius: 20px', duplex_mode='split', range_mo…"
      ]
     },
     "metadata": {},
     "output_type": "display_data"
    }
   ],
   "source": [
    "# Select the dates of interest. \n",
    "# *Note*: The Historical service provides intraday values up to 1 year.\n",
    "date_picker.select_dates()\n",
    "date_picker.select_times()"
   ]
  },
  {
   "cell_type": "markdown",
   "id": "921ce81a-07b2-4703-b409-98ad9d9a4332",
   "metadata": {},
   "source": [
    "For this analysis, we've intentionally selected month-end dates that fall at the end of the quarter, as this may be more interesting.  In this analysis, we're going to choose the % net change instead as our measure.\n",
    "\n",
    "The *Intraday* interface provides the ability to measure:\n",
    "\n",
    " * Prices \n",
    " * Net Change\n",
    " * % Net Change"
   ]
  },
  {
   "cell_type": "code",
   "execution_count": 17,
   "id": "ccc0f1fc-a4bf-4a4f-9e71-5aeb973ba672",
   "metadata": {},
   "outputs": [
    {
     "data": {
      "application/vnd.jupyter.widget-view+json": {
       "model_id": "cd78fe9891134c5f8e6d6b66ea5e833b",
       "version_major": 2,
       "version_minor": 0
      },
      "text/plain": [
       "ProgressBar(color='green', tooltip='')"
      ]
     },
     "metadata": {},
     "output_type": "display_data"
    },
    {
     "name": "stdout",
     "output_type": "stream",
     "text": [
      "Processing...\n",
      "**Done\n"
     ]
    }
   ],
   "source": [
    "# Prepare measures to present a % net change\n",
    "intraday.calculate_measures(instrument, date_picker.dates, date_picker.time_range, 'pct')"
   ]
  },
  {
   "cell_type": "code",
   "execution_count": 18,
   "id": "992eb3c4-35b3-4072-9b13-a5432d72ec02",
   "metadata": {},
   "outputs": [
    {
     "data": {
      "application/vnd.plotly.v1+json": {
       "config": {
        "linkText": "Export to plot.ly",
        "plotlyServerURL": "https://plot.ly",
        "showLink": true
       },
       "data": [
        {
         "line": {
          "color": "rgba(255, 153, 51, 1.0)",
          "dash": "solid",
          "shape": "linear",
          "width": 1.3
         },
         "mode": "lines",
         "name": "2023-06-30",
         "text": "",
         "type": "scatter",
         "x": [
          "10:21:00",
          "10:22:00",
          "10:23:00",
          "10:24:00",
          "10:25:00",
          "10:26:00",
          "10:27:00",
          "10:28:00",
          "10:29:00",
          "10:30:00",
          "10:31:00",
          "10:32:00",
          "10:33:00",
          "10:34:00",
          "10:35:00",
          "10:36:00",
          "10:37:00",
          "10:38:00",
          "10:39:00",
          "10:40:00",
          "10:41:00",
          "10:42:00",
          "10:43:00",
          "10:44:00",
          "10:45:00",
          "10:46:00",
          "10:47:00",
          "10:48:00",
          "10:49:00",
          "10:50:00",
          "10:51:00",
          "10:52:00",
          "10:53:00",
          "10:54:00",
          "10:55:00",
          "10:56:00",
          "10:57:00",
          "10:58:00",
          "10:59:00",
          "11:00:00",
          "11:01:00",
          "11:02:00",
          "11:03:00",
          "11:04:00",
          "11:05:00",
          "11:06:00",
          "11:07:00",
          "11:08:00",
          "11:09:00",
          "11:10:00",
          "11:11:00",
          "11:12:00",
          "11:13:00",
          "11:14:00",
          "11:15:00",
          "11:16:00",
          "11:17:00",
          "11:18:00",
          "11:19:00",
          "11:20:00",
          "11:21:00",
          "11:22:00",
          "11:23:00",
          "11:24:00",
          "11:25:00",
          "11:26:00",
          "11:27:00",
          "11:28:00",
          "11:29:00",
          "11:30:00",
          "11:31:00",
          "11:32:00",
          "11:33:00",
          "11:34:00",
          "11:35:00",
          "11:36:00",
          "11:37:00",
          "11:38:00",
          "11:39:00",
          "11:40:00",
          "11:41:00",
          "11:42:00",
          "11:43:00",
          "11:44:00",
          "11:45:00",
          "11:46:00",
          "11:47:00",
          "11:48:00",
          "11:49:00",
          "11:50:00",
          "11:51:00",
          "11:52:00",
          "11:53:00",
          "11:54:00",
          "11:55:00",
          "11:56:00",
          "11:57:00",
          "11:58:00",
          "11:59:00",
          "12:00:00",
          "12:01:00",
          "12:02:00",
          "12:03:00",
          "12:04:00",
          "12:05:00",
          "12:06:00",
          "12:07:00",
          "12:08:00",
          "12:09:00",
          "12:10:00",
          "12:11:00",
          "12:12:00",
          "12:13:00",
          "12:14:00",
          "12:15:00",
          "12:16:00",
          "12:17:00",
          "12:18:00",
          "12:19:00",
          "12:20:00",
          "12:21:00",
          "12:22:00",
          "12:23:00",
          "12:24:00",
          "12:25:00",
          "12:26:00",
          "12:27:00",
          "12:28:00",
          "12:29:00",
          "12:30:00",
          "12:31:00",
          "12:32:00",
          "12:33:00",
          "12:34:00",
          "12:35:00",
          "12:36:00",
          "12:37:00",
          "12:38:00",
          "12:39:00",
          "12:40:00",
          "12:41:00",
          "12:42:00",
          "12:43:00",
          "12:44:00",
          "12:45:00",
          "12:46:00",
          "12:47:00",
          "12:48:00",
          "12:49:00",
          "12:50:00",
          "12:51:00",
          "12:52:00",
          "12:53:00",
          "12:54:00",
          "12:55:00",
          "12:56:00",
          "12:57:00",
          "12:58:00",
          "12:59:00",
          "13:00:00",
          "13:01:00",
          "13:02:00",
          "13:03:00",
          "13:04:00",
          "13:05:00",
          "13:06:00",
          "13:07:00",
          "13:08:00",
          "13:09:00",
          "13:10:00",
          "13:11:00",
          "13:12:00",
          "13:13:00",
          "13:14:00",
          "13:15:00",
          "13:16:00",
          "13:17:00",
          "13:18:00",
          "13:19:00"
         ],
         "y": [
          0,
          -0.00047080979284369113,
          -0.0009416195856873823,
          0,
          -0.00047080979284369113,
          0,
          0.0009416195856873823,
          0.00047080979284369113,
          -0.00047080979284369113,
          -0.00047080979284369113,
          -0.00047080979284369113,
          -0.00047080979284369113,
          -0.00047080979284369113,
          -0.00047080979284369113,
          0,
          0.00047080979284369113,
          0.00047080979284369113,
          0.0009416195856873823,
          0.0009416195856873823,
          0.0014124293785310734,
          0.00047080979284369113,
          0.00047080979284369113,
          0.00047080979284369113,
          0.0009416195856873823,
          0.00047080979284369113,
          0.00047080979284369113,
          0,
          0,
          0.00047080979284369113,
          0.00047080979284369113,
          0.0009416195856873823,
          0.0018832391713747645,
          0.0018832391713747645,
          0.003295668549905838,
          0.003295668549905838,
          0.002824858757062147,
          0.0009416195856873823,
          0.0023540489642184556,
          0.002824858757062147,
          -0.0160075329566855,
          -0.005178907721280603,
          -0.007062146892655367,
          0.00047080979284369113,
          0.004708097928436911,
          -0.010357815442561206,
          -0.017890772128060263,
          -0.023540489642184557,
          -0.03295668549905838,
          -0.030602636534839925,
          -0.02448210922787194,
          -0.031073446327683617,
          -0.03436911487758945,
          -0.03389830508474576,
          -0.03483992467043315,
          -0.03389830508474576,
          -0.03295668549905838,
          -0.03954802259887006,
          -0.035781544256120526,
          -0.03531073446327684,
          -0.03954802259887006,
          -0.04566854990583804,
          -0.043785310734463276,
          -0.0428436911487759,
          -0.038606403013182675,
          -0.03531073446327684,
          -0.031073446327683617,
          -0.029661016949152543,
          -0.035781544256120526,
          -0.03483992467043315,
          -0.039077212806026364,
          -0.038606403013182675,
          -0.03531073446327684,
          -0.03672316384180791,
          -0.038135593220338986,
          -0.03954802259887006,
          -0.04096045197740113,
          -0.0423728813559322,
          -0.043785310734463276,
          -0.04566854990583804,
          -0.04331450094161959,
          -0.04519774011299435,
          -0.04472693032015066,
          -0.047080979284369114,
          -0.046610169491525424,
          -0.046139359698681735,
          -0.046139359698681735,
          -0.04566854990583804,
          -0.04566854990583804,
          -0.0428436911487759,
          -0.04331450094161959,
          -0.04096045197740113,
          -0.039077212806026364,
          -0.03672316384180791,
          -0.03672316384180791,
          -0.04048964218455744,
          -0.0423728813559322,
          -0.04331450094161959,
          -0.04096045197740113,
          -0.04143126177024482,
          -0.044256120527306965,
          -0.0428436911487759,
          -0.04143126177024482,
          -0.04096045197740113,
          -0.04001883239171375,
          -0.044256120527306965,
          -0.04566854990583804,
          -0.047080979284369114,
          -0.046139359698681735,
          -0.046139359698681735,
          -0.046139359698681735,
          -0.0428436911487759,
          -0.0423728813559322,
          -0.04472693032015066,
          -0.04472693032015066,
          -0.0475517890772128,
          -0.047080979284369114,
          -0.047080979284369114,
          -0.046610169491525424,
          -0.04472693032015066,
          -0.04331450094161959,
          -0.043785310734463276,
          -0.043785310734463276,
          -0.043785310734463276,
          -0.0428436911487759,
          -0.0423728813559322,
          -0.04190207156308851,
          -0.0423728813559322,
          -0.0423728813559322,
          -0.04190207156308851,
          -0.044256120527306965,
          -0.046610169491525424,
          -0.046139359698681735,
          -0.047080979284369114,
          -0.0480225988700565,
          -0.051789077212806026,
          -0.051318267419962336,
          -0.05273069679849341,
          -0.05602636534839925,
          -0.0583804143126177,
          -0.0583804143126177,
          -0.05555555555555555,
          -0.05743879472693032,
          -0.05885122410546139,
          -0.05602636534839925,
          -0.05696798493408663,
          -0.0583804143126177,
          -0.064030131826742,
          -0.06591337099811675,
          -0.06591337099811675,
          -0.0692090395480226,
          -0.06497175141242938,
          -0.06308851224105462,
          -0.06073446327683616,
          -0.062146892655367235,
          -0.06261770244821092,
          -0.060263653483992465,
          -0.05885122410546139,
          -0.06073446327683616,
          -0.05790960451977401,
          -0.05555555555555555,
          -0.054613935969868174,
          -0.054613935969868174,
          -0.05273069679849341,
          -0.051789077212806026,
          -0.05743879472693032,
          -0.06261770244821092,
          -0.06120527306967985,
          -0.06073446327683616,
          -0.0635593220338983,
          -0.06497175141242938,
          -0.0635593220338983,
          -0.06261770244821092,
          -0.06638418079096045,
          -0.0692090395480226,
          -0.07062146892655367,
          -0.0687382297551789,
          -0.06779661016949153,
          -0.0692090395480226,
          -0.06779661016949153
         ]
        },
        {
         "line": {
          "color": "rgba(55, 128, 191, 1.0)",
          "dash": "solid",
          "shape": "linear",
          "width": 1.3
         },
         "mode": "lines",
         "name": "2023-03-31",
         "text": "",
         "type": "scatter",
         "x": [
          "10:21:00",
          "10:22:00",
          "10:23:00",
          "10:24:00",
          "10:25:00",
          "10:26:00",
          "10:27:00",
          "10:28:00",
          "10:29:00",
          "10:30:00",
          "10:31:00",
          "10:32:00",
          "10:33:00",
          "10:34:00",
          "10:35:00",
          "10:36:00",
          "10:37:00",
          "10:38:00",
          "10:39:00",
          "10:40:00",
          "10:41:00",
          "10:42:00",
          "10:43:00",
          "10:44:00",
          "10:45:00",
          "10:46:00",
          "10:47:00",
          "10:48:00",
          "10:49:00",
          "10:50:00",
          "10:51:00",
          "10:52:00",
          "10:53:00",
          "10:54:00",
          "10:55:00",
          "10:56:00",
          "10:57:00",
          "10:58:00",
          "10:59:00",
          "11:00:00",
          "11:01:00",
          "11:02:00",
          "11:03:00",
          "11:04:00",
          "11:05:00",
          "11:06:00",
          "11:07:00",
          "11:08:00",
          "11:09:00",
          "11:10:00",
          "11:11:00",
          "11:12:00",
          "11:13:00",
          "11:14:00",
          "11:15:00",
          "11:16:00",
          "11:17:00",
          "11:18:00",
          "11:19:00",
          "11:20:00",
          "11:21:00",
          "11:22:00",
          "11:23:00",
          "11:24:00",
          "11:25:00",
          "11:26:00",
          "11:27:00",
          "11:28:00",
          "11:29:00",
          "11:30:00",
          "11:31:00",
          "11:32:00",
          "11:33:00",
          "11:34:00",
          "11:35:00",
          "11:36:00",
          "11:37:00",
          "11:38:00",
          "11:39:00",
          "11:40:00",
          "11:41:00",
          "11:42:00",
          "11:43:00",
          "11:44:00",
          "11:45:00",
          "11:46:00",
          "11:47:00",
          "11:48:00",
          "11:49:00",
          "11:50:00",
          "11:51:00",
          "11:52:00",
          "11:53:00",
          "11:54:00",
          "11:55:00",
          "11:56:00",
          "11:57:00",
          "11:58:00",
          "11:59:00",
          "12:00:00",
          "12:01:00",
          "12:02:00",
          "12:03:00",
          "12:04:00",
          "12:05:00",
          "12:06:00",
          "12:07:00",
          "12:08:00",
          "12:09:00",
          "12:10:00",
          "12:11:00",
          "12:12:00",
          "12:13:00",
          "12:14:00",
          "12:15:00",
          "12:16:00",
          "12:17:00",
          "12:18:00",
          "12:19:00",
          "12:20:00",
          "12:21:00",
          "12:22:00",
          "12:23:00",
          "12:24:00",
          "12:25:00",
          "12:26:00",
          "12:27:00",
          "12:28:00",
          "12:29:00",
          "12:30:00",
          "12:31:00",
          "12:32:00",
          "12:33:00",
          "12:34:00",
          "12:35:00",
          "12:36:00",
          "12:37:00",
          "12:38:00",
          "12:39:00",
          "12:40:00",
          "12:41:00",
          "12:42:00",
          "12:43:00",
          "12:44:00",
          "12:45:00",
          "12:46:00",
          "12:47:00",
          "12:48:00",
          "12:49:00",
          "12:50:00",
          "12:51:00",
          "12:52:00",
          "12:53:00",
          "12:54:00",
          "12:55:00",
          "12:56:00",
          "12:57:00",
          "12:58:00",
          "12:59:00",
          "13:00:00",
          "13:01:00",
          "13:02:00",
          "13:03:00",
          "13:04:00",
          "13:05:00",
          "13:06:00",
          "13:07:00",
          "13:08:00",
          "13:09:00",
          "13:10:00",
          "13:11:00",
          "13:12:00",
          "13:13:00",
          "13:14:00",
          "13:15:00",
          "13:16:00",
          "13:17:00",
          "13:18:00",
          "13:19:00"
         ],
         "y": [
          0,
          0,
          0.001145475372279496,
          0.0015273004963726614,
          0.0019091256204658267,
          0.0015273004963726614,
          0.0019091256204658267,
          0.0019091256204658267,
          0.0015273004963726614,
          0.0019091256204658267,
          0.001145475372279496,
          0.0019091256204658267,
          0.002290950744558992,
          0.002290950744558992,
          0.002290950744558992,
          0.002672775868652157,
          0.002290950744558992,
          0.0015273004963726614,
          0.002290950744558992,
          0.0030546009927453228,
          0.0030546009927453228,
          0.0030546009927453228,
          0.003436426116838488,
          0.0030546009927453228,
          0.0030546009927453228,
          0.002672775868652157,
          0.002672775868652157,
          0.002290950744558992,
          0.002290950744558992,
          0.0019091256204658267,
          0.002290950744558992,
          0.002672775868652157,
          0.002290950744558992,
          0.002290950744558992,
          0.0030546009927453228,
          0.0030546009927453228,
          0.002672775868652157,
          0.0019091256204658267,
          0.002290950744558992,
          0.006491027109583811,
          0.002672775868652157,
          0.001145475372279496,
          -0.0007636502481863307,
          -0.002290950744558992,
          -0.0007636502481863307,
          0.002672775868652157,
          0.004200076365024819,
          0.0007636502481863307,
          0.0007636502481863307,
          0.0007636502481863307,
          0.003436426116838488,
          0.004963726613211149,
          0.0030546009927453228,
          0.003436426116838488,
          0.0030546009927453228,
          0.002290950744558992,
          0.0019091256204658267,
          0.002672775868652157,
          0.0030546009927453228,
          0.0030546009927453228,
          0.0019091256204658267,
          0.003436426116838488,
          0.002290950744558992,
          0.002290950744558992,
          0.002672775868652157,
          0.0030546009927453228,
          0.0030546009927453228,
          0.003436426116838488,
          0.004200076365024819,
          0.004581901489117984,
          0.006491027109583811,
          0.0061092019854906456,
          0.0061092019854906456,
          0.006872852233676976,
          0.0061092019854906456,
          0.006491027109583811,
          0.006491027109583811,
          0.0057273768613974796,
          0.006491027109583811,
          0.006872852233676976,
          0.006872852233676976,
          0.007254677357770141,
          0.008400152730049638,
          0.008781977854142803,
          0.006491027109583811,
          0.0057273768613974796,
          0.005345551737304314,
          0.004963726613211149,
          0.004200076365024819,
          0.0038182512409316535,
          0.0030546009927453228,
          0.003436426116838488,
          0.003436426116838488,
          0.0038182512409316535,
          0.003436426116838488,
          0.0038182512409316535,
          0.0038182512409316535,
          0.004963726613211149,
          0.004581901489117984,
          0.004963726613211149,
          0.0057273768613974796,
          0.006491027109583811,
          0.006872852233676976,
          0.007254677357770141,
          0.006872852233676976,
          0.007636502481863307,
          0.006491027109583811,
          0.007254677357770141,
          0.006872852233676976,
          0.006872852233676976,
          0.006491027109583811,
          0.007254677357770141,
          0.007254677357770141,
          0.0061092019854906456,
          0.0061092019854906456,
          0.006491027109583811,
          0.0061092019854906456,
          0.006491027109583811,
          0.0057273768613974796,
          0.0057273768613974796,
          0.005345551737304314,
          0.005345551737304314,
          0.005345551737304314,
          0.005345551737304314,
          0.004581901489117984,
          0.0057273768613974796,
          0.0061092019854906456,
          0.0061092019854906456,
          0.005345551737304314,
          0.0057273768613974796,
          0.0057273768613974796,
          0.006872852233676976,
          0.008400152730049638,
          0.007636502481863307,
          0.007636502481863307,
          0.008400152730049638,
          0.007636502481863307,
          0.007254677357770141,
          0.006872852233676976,
          0.0061092019854906456,
          0.006872852233676976,
          0.006491027109583811,
          0.006872852233676976,
          0.0061092019854906456,
          0.004963726613211149,
          0.005345551737304314,
          0.0038182512409316535,
          0.0030546009927453228,
          0.004200076365024819,
          0.005345551737304314,
          0.005345551737304314,
          0.004581901489117984,
          0.0057273768613974796,
          0.0057273768613974796,
          0.0061092019854906456,
          0.0061092019854906456,
          0.0057273768613974796,
          0.006491027109583811,
          0.007254677357770141,
          0.008018327605956471,
          0.008781977854142803,
          0.009163802978235968,
          0.008400152730049638,
          0.007254677357770141,
          0.009163802978235968,
          0.008400152730049638,
          0.009927453226422299,
          0.009545628102329133,
          0.009927453226422299,
          0.008781977854142803,
          0.009163802978235968,
          0.008781977854142803,
          0.008781977854142803,
          0.009163802978235968,
          0.008018327605956471,
          0.007636502481863307,
          0.006872852233676976,
          0.006872852233676976,
          0.0057273768613974796
         ]
        },
        {
         "line": {
          "color": "rgba(50, 171, 96, 1.0)",
          "dash": "solid",
          "shape": "linear",
          "width": 1.3
         },
         "mode": "lines",
         "name": "2023-02-28",
         "text": "",
         "type": "scatter",
         "x": [
          "10:21:00",
          "10:22:00",
          "10:23:00",
          "10:24:00",
          "10:25:00",
          "10:26:00",
          "10:27:00",
          "10:28:00",
          "10:29:00",
          "10:30:00",
          "10:31:00",
          "10:32:00",
          "10:33:00",
          "10:34:00",
          "10:35:00",
          "10:36:00",
          "10:37:00",
          "10:38:00",
          "10:39:00",
          "10:40:00",
          "10:41:00",
          "10:42:00",
          "10:43:00",
          "10:44:00",
          "10:45:00",
          "10:46:00",
          "10:47:00",
          "10:48:00",
          "10:49:00",
          "10:50:00",
          "10:51:00",
          "10:52:00",
          "10:53:00",
          "10:54:00",
          "10:55:00",
          "10:56:00",
          "10:57:00",
          "10:58:00",
          "10:59:00",
          "11:00:00",
          "11:01:00",
          "11:02:00",
          "11:03:00",
          "11:04:00",
          "11:05:00",
          "11:06:00",
          "11:07:00",
          "11:08:00",
          "11:09:00",
          "11:10:00",
          "11:11:00",
          "11:12:00",
          "11:13:00",
          "11:14:00",
          "11:15:00",
          "11:16:00",
          "11:17:00",
          "11:18:00",
          "11:19:00",
          "11:20:00",
          "11:21:00",
          "11:22:00",
          "11:23:00",
          "11:24:00",
          "11:25:00",
          "11:26:00",
          "11:27:00",
          "11:28:00",
          "11:29:00",
          "11:30:00",
          "11:31:00",
          "11:32:00",
          "11:33:00",
          "11:34:00",
          "11:35:00",
          "11:36:00",
          "11:37:00",
          "11:38:00",
          "11:39:00",
          "11:40:00",
          "11:41:00",
          "11:42:00",
          "11:43:00",
          "11:44:00",
          "11:45:00",
          "11:46:00",
          "11:47:00",
          "11:48:00",
          "11:49:00",
          "11:50:00",
          "11:51:00",
          "11:52:00",
          "11:53:00",
          "11:54:00",
          "11:55:00",
          "11:56:00",
          "11:57:00",
          "11:58:00",
          "11:59:00",
          "12:00:00",
          "12:01:00",
          "12:02:00",
          "12:03:00",
          "12:04:00",
          "12:05:00",
          "12:06:00",
          "12:07:00",
          "12:08:00",
          "12:09:00",
          "12:10:00",
          "12:11:00",
          "12:12:00",
          "12:13:00",
          "12:14:00",
          "12:15:00",
          "12:16:00",
          "12:17:00",
          "12:18:00",
          "12:19:00",
          "12:20:00",
          "12:21:00",
          "12:22:00",
          "12:23:00",
          "12:24:00",
          "12:25:00",
          "12:26:00",
          "12:27:00",
          "12:28:00",
          "12:29:00",
          "12:30:00",
          "12:31:00",
          "12:32:00",
          "12:33:00",
          "12:34:00",
          "12:35:00",
          "12:36:00",
          "12:37:00",
          "12:38:00",
          "12:39:00",
          "12:40:00",
          "12:41:00",
          "12:42:00",
          "12:43:00",
          "12:44:00",
          "12:45:00",
          "12:46:00",
          "12:47:00",
          "12:48:00",
          "12:49:00",
          "12:50:00",
          "12:51:00",
          "12:52:00",
          "12:53:00",
          "12:54:00",
          "12:55:00",
          "12:56:00",
          "12:57:00",
          "12:58:00",
          "12:59:00",
          "13:00:00",
          "13:01:00",
          "13:02:00",
          "13:03:00",
          "13:04:00",
          "13:05:00",
          "13:06:00",
          "13:07:00",
          "13:08:00",
          "13:09:00",
          "13:10:00",
          "13:11:00",
          "13:12:00",
          "13:13:00",
          "13:14:00",
          "13:15:00",
          "13:16:00",
          "13:17:00",
          "13:18:00",
          "13:19:00"
         ],
         "y": [
          -0.0011746280344557558,
          -0.0007830853563038371,
          0.00039154267815191856,
          -0.0007830853563038371,
          -0.0007830853563038371,
          -0.0011746280344557558,
          -0.0011746280344557558,
          -0.0011746280344557558,
          -0.0011746280344557558,
          -0.0011746280344557558,
          0.00039154267815191856,
          -0.00039154267815191856,
          -0.0007830853563038371,
          -0.0007830853563038371,
          -0.001957713390759593,
          -0.001957713390759593,
          -0.0023492560689115116,
          -0.0007830853563038371,
          -0.0015661707126076742,
          -0.001957713390759593,
          -0.0023492560689115116,
          -0.0023492560689115116,
          -0.0023492560689115116,
          -0.0023492560689115116,
          -0.001957713390759593,
          -0.0023492560689115116,
          -0.0031323414252153485,
          -0.0031323414252153485,
          -0.0031323414252153485,
          -0.003523884103367267,
          -0.004306969459671104,
          -0.004306969459671104,
          -0.003523884103367267,
          -0.003523884103367267,
          -0.003915426781519186,
          -0.003915426781519186,
          -0.003915426781519186,
          -0.003523884103367267,
          -0.003915426781519186,
          -0.003915426781519186,
          -0.003915426781519186,
          -0.003523884103367267,
          -0.003523884103367267,
          -0.004306969459671104,
          -0.005090054815974941,
          -0.005090054815974941,
          -0.005090054815974941,
          -0.005090054815974941,
          -0.005090054815974941,
          -0.005090054815974941,
          -0.00548159749412686,
          -0.005873140172278779,
          -0.006264682850430697,
          -0.00548159749412686,
          -0.006264682850430697,
          -0.006264682850430697,
          -0.006656225528582615,
          -0.0074393108848864525,
          -0.006264682850430697,
          -0.006264682850430697,
          -0.006656225528582615,
          -0.006264682850430697,
          -0.006264682850430697,
          -0.006656225528582615,
          -0.006264682850430697,
          -0.007047768206734534,
          -0.0074393108848864525,
          -0.007830853563038372,
          -0.007830853563038372,
          -0.009005481597494126,
          -0.010571652310101801,
          -0.011746280344557557,
          -0.01096319498825372,
          -0.009788566953797965,
          -0.010571652310101801,
          -0.010180109631949883,
          -0.01096319498825372,
          -0.010571652310101801,
          -0.01096319498825372,
          -0.01096319498825372,
          -0.01096319498825372,
          -0.010571652310101801,
          -0.01096319498825372,
          -0.010571652310101801,
          -0.011354737666405637,
          -0.012529365700861394,
          -0.012137823022709476,
          -0.012529365700861394,
          -0.012920908379013312,
          -0.012920908379013312,
          -0.01331245105716523,
          -0.01331245105716523,
          -0.01096319498825372,
          -0.01096319498825372,
          -0.01096319498825372,
          -0.011354737666405637,
          -0.011354737666405637,
          -0.011746280344557557,
          -0.012529365700861394,
          -0.012137823022709476,
          -0.011746280344557557,
          -0.011746280344557557,
          -0.01096319498825372,
          -0.011746280344557557,
          -0.011354737666405637,
          -0.009788566953797965,
          -0.009397024275646046,
          -0.009788566953797965,
          -0.009788566953797965,
          -0.010180109631949883,
          -0.010180109631949883,
          -0.010571652310101801,
          -0.01096319498825372,
          -0.01096319498825372,
          -0.010180109631949883,
          -0.010571652310101801,
          -0.010571652310101801,
          -0.01096319498825372,
          -0.010571652310101801,
          -0.01096319498825372,
          -0.01096319498825372,
          -0.01096319498825372,
          -0.01096319498825372,
          -0.011354737666405637,
          -0.011354737666405637,
          -0.011354737666405637,
          -0.011746280344557557,
          -0.011354737666405637,
          -0.011354737666405637,
          -0.011746280344557557,
          -0.011354737666405637,
          -0.011354737666405637,
          -0.011354737666405637,
          -0.011354737666405637,
          -0.011746280344557557,
          -0.011354737666405637,
          -0.010571652310101801,
          -0.010571652310101801,
          -0.010180109631949883,
          -0.010571652310101801,
          -0.010571652310101801,
          -0.01096319498825372,
          -0.011746280344557557,
          -0.01096319498825372,
          -0.011746280344557557,
          -0.012529365700861394,
          -0.012529365700861394,
          -0.010571652310101801,
          -0.010571652310101801,
          -0.01096319498825372,
          -0.01096319498825372,
          -0.011354737666405637,
          -0.011354737666405637,
          -0.012137823022709476,
          -0.012137823022709476,
          -0.011746280344557557,
          -0.011746280344557557,
          -0.012529365700861394,
          -0.012529365700861394,
          -0.012920908379013312,
          -0.012137823022709476,
          -0.012137823022709476,
          -0.012137823022709476,
          -0.011746280344557557,
          -0.012137823022709476,
          -0.012137823022709476,
          -0.012137823022709476,
          -0.011354737666405637,
          -0.011746280344557557,
          -0.012137823022709476,
          -0.011746280344557557,
          -0.012137823022709476,
          -0.012529365700861394,
          -0.01331245105716523,
          -0.01331245105716523,
          -0.012920908379013312,
          -0.012920908379013312,
          -0.012920908379013312,
          -0.012920908379013312
         ]
        },
        {
         "line": {
          "color": "rgba(128, 0, 128, 1.0)",
          "dash": "solid",
          "shape": "linear",
          "width": 1.3
         },
         "mode": "lines",
         "name": "2022-11-30",
         "text": "",
         "type": "scatter",
         "x": [
          "10:21:00",
          "10:22:00",
          "10:23:00",
          "10:24:00",
          "10:25:00",
          "10:26:00",
          "10:27:00",
          "10:28:00",
          "10:29:00",
          "10:30:00",
          "10:31:00",
          "10:32:00",
          "10:33:00",
          "10:34:00",
          "10:35:00",
          "10:36:00",
          "10:37:00",
          "10:38:00",
          "10:39:00",
          "10:40:00",
          "10:41:00",
          "10:42:00",
          "10:43:00",
          "10:44:00",
          "10:45:00",
          "10:46:00",
          "10:47:00",
          "10:48:00",
          "10:49:00",
          "10:50:00",
          "10:51:00",
          "10:52:00",
          "10:53:00",
          "10:54:00",
          "10:55:00",
          "10:56:00",
          "10:57:00",
          "10:58:00",
          "10:59:00",
          "11:00:00",
          "11:01:00",
          "11:02:00",
          "11:03:00",
          "11:04:00",
          "11:05:00",
          "11:06:00",
          "11:07:00",
          "11:08:00",
          "11:09:00",
          "11:10:00",
          "11:11:00",
          "11:12:00",
          "11:13:00",
          "11:14:00",
          "11:15:00",
          "11:16:00",
          "11:17:00",
          "11:18:00",
          "11:19:00",
          "11:20:00",
          "11:21:00",
          "11:22:00",
          "11:23:00",
          "11:24:00",
          "11:25:00",
          "11:26:00",
          "11:27:00",
          "11:28:00",
          "11:29:00",
          "11:30:00",
          "11:31:00",
          "11:32:00",
          "11:33:00",
          "11:34:00",
          "11:35:00",
          "11:36:00",
          "11:37:00",
          "11:38:00",
          "11:39:00",
          "11:40:00",
          "11:41:00",
          "11:42:00",
          "11:43:00",
          "11:44:00",
          "11:45:00",
          "11:46:00",
          "11:47:00",
          "11:48:00",
          "11:49:00",
          "11:50:00",
          "11:51:00",
          "11:52:00",
          "11:53:00",
          "11:54:00",
          "11:55:00",
          "11:56:00",
          "11:57:00",
          "11:58:00",
          "11:59:00",
          "12:00:00",
          "12:01:00",
          "12:02:00",
          "12:03:00",
          "12:04:00",
          "12:05:00",
          "12:06:00",
          "12:07:00",
          "12:08:00",
          "12:09:00",
          "12:10:00",
          "12:11:00",
          "12:12:00",
          "12:13:00",
          "12:14:00",
          "12:15:00",
          "12:16:00",
          "12:17:00",
          "12:18:00",
          "12:19:00",
          "12:20:00",
          "12:21:00",
          "12:22:00",
          "12:23:00",
          "12:24:00",
          "12:25:00",
          "12:26:00",
          "12:27:00",
          "12:28:00",
          "12:29:00",
          "12:30:00",
          "12:31:00",
          "12:32:00",
          "12:33:00",
          "12:34:00",
          "12:35:00",
          "12:36:00",
          "12:37:00",
          "12:38:00",
          "12:39:00",
          "12:40:00",
          "12:41:00",
          "12:42:00",
          "12:43:00",
          "12:44:00",
          "12:45:00",
          "12:46:00",
          "12:47:00",
          "12:48:00",
          "12:49:00",
          "12:50:00",
          "12:51:00",
          "12:52:00",
          "12:53:00",
          "12:54:00",
          "12:55:00",
          "12:56:00",
          "12:57:00",
          "12:58:00",
          "12:59:00",
          "13:00:00",
          "13:01:00",
          "13:02:00",
          "13:03:00",
          "13:04:00",
          "13:05:00",
          "13:06:00",
          "13:07:00",
          "13:08:00",
          "13:09:00",
          "13:10:00",
          "13:11:00",
          "13:12:00",
          "13:13:00",
          "13:14:00",
          "13:15:00",
          "13:16:00",
          "13:17:00",
          "13:18:00",
          "13:19:00"
         ],
         "y": [
          -0.0022488755622188904,
          -0.0018740629685157421,
          -0.0029985007496251873,
          -0.002623688155922039,
          -0.002623688155922039,
          -0.002623688155922039,
          -0.002623688155922039,
          -0.002623688155922039,
          -0.002623688155922039,
          -0.0018740629685157421,
          -0.0014992503748125937,
          -0.0022488755622188904,
          -0.0022488755622188904,
          -0.0022488755622188904,
          -0.002623688155922039,
          -0.0029985007496251873,
          -0.002623688155922039,
          -0.0029985007496251873,
          -0.0022488755622188904,
          -0.0029985007496251873,
          -0.002623688155922039,
          -0.002623688155922039,
          -0.003373313343328336,
          -0.0037481259370314842,
          -0.0037481259370314842,
          -0.0037481259370314842,
          -0.003373313343328336,
          -0.003373313343328336,
          -0.0029985007496251873,
          -0.002623688155922039,
          -0.0018740629685157421,
          -0.0022488755622188904,
          -0.0018740629685157421,
          -0.0014992503748125937,
          -0.0014992503748125937,
          -0.0018740629685157421,
          -0.0018740629685157421,
          -0.0014992503748125937,
          -0.0018740629685157421,
          -0.0018740629685157421,
          -0.0007496251874062968,
          -0.0011244377811094452,
          -0.0007496251874062968,
          -0.0007496251874062968,
          -0.0018740629685157421,
          -0.0022488755622188904,
          -0.0018740629685157421,
          -0.0014992503748125937,
          -0.0014992503748125937,
          -0.0014992503748125937,
          -0.0018740629685157421,
          -0.0018740629685157421,
          -0.0014992503748125937,
          -0.0003748125937031484,
          0,
          0,
          -0.0003748125937031484,
          -0.0007496251874062968,
          -0.0007496251874062968,
          -0.0003748125937031484,
          -0.0003748125937031484,
          0,
          0,
          -0.0003748125937031484,
          -0.0003748125937031484,
          -0.0007496251874062968,
          -0.0003748125937031484,
          0,
          0.0007496251874062968,
          0.0007496251874062968,
          0.0007496251874062968,
          0.0011244377811094452,
          0.0011244377811094452,
          0.0007496251874062968,
          0.0011244377811094452,
          0.0018740629685157421,
          0.0011244377811094452,
          0.0014992503748125937,
          0.0007496251874062968,
          0.0014992503748125937,
          0.0011244377811094452,
          0.0022488755622188904,
          0.0022488755622188904,
          0.0018740629685157421,
          0.0022488755622188904,
          0.0022488755622188904,
          0.0011244377811094452,
          0.0011244377811094452,
          0.0014992503748125937,
          0.0014992503748125937,
          0.0014992503748125937,
          0.0018740629685157421,
          0.0022488755622188904,
          0.0022488755622188904,
          0.0018740629685157421,
          0.0014992503748125937,
          0.0018740629685157421,
          0.0014992503748125937,
          0.0011244377811094452,
          0.0011244377811094452,
          0.0014992503748125937,
          0.0011244377811094452,
          0.0014992503748125937,
          0.0022488755622188904,
          0.0022488755622188904,
          0.0029985007496251873,
          0.002623688155922039,
          0.0022488755622188904,
          0.002623688155922039,
          0.0018740629685157421,
          0.0011244377811094452,
          0.0011244377811094452,
          0.0011244377811094452,
          0.0003748125937031484,
          0.0003748125937031484,
          0.0007496251874062968,
          0.0003748125937031484,
          -0.0003748125937031484,
          -0.0007496251874062968,
          -0.0011244377811094452,
          -0.0011244377811094452,
          -0.0003748125937031484,
          -0.0003748125937031484,
          -0.0011244377811094452,
          -0.0003748125937031484,
          -0.0014992503748125937,
          -0.0011244377811094452,
          -0.0014992503748125937,
          -0.0018740629685157421,
          -0.0018740629685157421,
          -0.0018740629685157421,
          -0.0018740629685157421,
          -0.0007496251874062968,
          -0.0014992503748125937,
          -0.0014992503748125937,
          -0.0007496251874062968,
          0,
          0,
          -0.0003748125937031484,
          0,
          -0.0007496251874062968,
          -0.0007496251874062968,
          -0.0007496251874062968,
          -0.0003748125937031484,
          -0.0003748125937031484,
          -0.0003748125937031484,
          -0.0003748125937031484,
          0.0003748125937031484,
          -0.0003748125937031484,
          0,
          -0.0007496251874062968,
          -0.0011244377811094452,
          -0.0011244377811094452,
          -0.0007496251874062968,
          -0.0003748125937031484,
          0.0007496251874062968,
          0.0011244377811094452,
          0.0018740629685157421,
          0.0018740629685157421,
          0.0011244377811094452,
          0.0011244377811094452,
          0.0014992503748125937,
          0.0003748125937031484,
          0,
          0.0003748125937031484,
          0.0007496251874062968,
          0.0003748125937031484,
          -0.0003748125937031484,
          -0.0007496251874062968,
          -0.0007496251874062968,
          -0.0007496251874062968,
          -0.0003748125937031484,
          -0.0003748125937031484,
          -0.0003748125937031484,
          -0.0011244377811094452,
          -0.0014992503748125937,
          -0.0018740629685157421,
          -0.0022488755622188904,
          -0.0014992503748125937
         ]
        },
        {
         "line": {
          "color": "rgba(219, 64, 82, 1.0)",
          "dash": "solid",
          "shape": "linear",
          "width": 1.3
         },
         "mode": "lines",
         "name": "2022-09-30",
         "text": "",
         "type": "scatter",
         "x": [
          "10:21:00",
          "10:22:00",
          "10:23:00",
          "10:24:00",
          "10:25:00",
          "10:26:00",
          "10:27:00",
          "10:28:00",
          "10:29:00",
          "10:30:00",
          "10:31:00",
          "10:32:00",
          "10:33:00",
          "10:34:00",
          "10:35:00",
          "10:36:00",
          "10:37:00",
          "10:38:00",
          "10:39:00",
          "10:40:00",
          "10:41:00",
          "10:42:00",
          "10:43:00",
          "10:44:00",
          "10:45:00",
          "10:46:00",
          "10:47:00",
          "10:48:00",
          "10:49:00",
          "10:50:00",
          "10:51:00",
          "10:52:00",
          "10:53:00",
          "10:54:00",
          "10:55:00",
          "10:56:00",
          "10:57:00",
          "10:58:00",
          "10:59:00",
          "11:00:00",
          "11:01:00",
          "11:02:00",
          "11:03:00",
          "11:04:00",
          "11:05:00",
          "11:06:00",
          "11:07:00",
          "11:08:00",
          "11:09:00",
          "11:10:00",
          "11:11:00",
          "11:12:00",
          "11:13:00",
          "11:14:00",
          "11:15:00",
          "11:16:00",
          "11:17:00",
          "11:18:00",
          "11:19:00",
          "11:20:00",
          "11:21:00",
          "11:22:00",
          "11:23:00",
          "11:24:00",
          "11:25:00",
          "11:26:00",
          "11:27:00",
          "11:28:00",
          "11:29:00",
          "11:30:00",
          "11:31:00",
          "11:32:00",
          "11:33:00",
          "11:34:00",
          "11:35:00",
          "11:36:00",
          "11:37:00",
          "11:38:00",
          "11:39:00",
          "11:40:00",
          "11:41:00",
          "11:42:00",
          "11:43:00",
          "11:44:00",
          "11:45:00",
          "11:46:00",
          "11:47:00",
          "11:48:00",
          "11:49:00",
          "11:50:00",
          "11:51:00",
          "11:52:00",
          "11:53:00",
          "11:54:00",
          "11:55:00",
          "11:56:00",
          "11:57:00",
          "11:58:00",
          "11:59:00",
          "12:00:00",
          "12:01:00",
          "12:02:00",
          "12:03:00",
          "12:04:00",
          "12:05:00",
          "12:06:00",
          "12:07:00",
          "12:08:00",
          "12:09:00",
          "12:10:00",
          "12:11:00",
          "12:12:00",
          "12:13:00",
          "12:14:00",
          "12:15:00",
          "12:16:00",
          "12:17:00",
          "12:18:00",
          "12:19:00",
          "12:20:00",
          "12:21:00",
          "12:22:00",
          "12:23:00",
          "12:24:00",
          "12:25:00",
          "12:26:00",
          "12:27:00",
          "12:28:00",
          "12:29:00",
          "12:30:00",
          "12:31:00",
          "12:32:00",
          "12:33:00",
          "12:34:00",
          "12:35:00",
          "12:36:00",
          "12:37:00",
          "12:38:00",
          "12:39:00",
          "12:40:00",
          "12:41:00",
          "12:42:00",
          "12:43:00",
          "12:44:00",
          "12:45:00",
          "12:46:00",
          "12:47:00",
          "12:48:00",
          "12:49:00",
          "12:50:00",
          "12:51:00",
          "12:52:00",
          "12:53:00",
          "12:54:00",
          "12:55:00",
          "12:56:00",
          "12:57:00",
          "12:58:00",
          "12:59:00",
          "13:00:00",
          "13:01:00",
          "13:02:00",
          "13:03:00",
          "13:04:00",
          "13:05:00",
          "13:06:00",
          "13:07:00",
          "13:08:00",
          "13:09:00",
          "13:10:00",
          "13:11:00",
          "13:12:00",
          "13:13:00",
          "13:14:00",
          "13:15:00",
          "13:16:00",
          "13:17:00",
          "13:18:00",
          "13:19:00"
         ],
         "y": [
          0,
          0.001836210062431142,
          0.002570694087403599,
          0.003672420124862284,
          0.0014689680499449136,
          0.001836210062431142,
          0.0011017260374586854,
          0.001836210062431142,
          0.002570694087403599,
          0.0022034520749173708,
          0.0022034520749173708,
          0.0029379360998898272,
          0.002570694087403599,
          0.0011017260374586854,
          0.0014689680499449136,
          0.0011017260374586854,
          0.0003672420124862284,
          0,
          -0.0003672420124862284,
          -0.0003672420124862284,
          0,
          -0.0003672420124862284,
          -0.0003672420124862284,
          0.0007344840249724568,
          -0.0007344840249724568,
          0,
          0.0003672420124862284,
          0.0003672420124862284,
          -0.0007344840249724568,
          -0.0014689680499449136,
          -0.002570694087403599,
          -0.002570694087403599,
          -0.003672420124862284,
          -0.004039662137348513,
          -0.0029379360998898272,
          -0.003672420124862284,
          -0.0033051781123760557,
          -0.002570694087403599,
          -0.0044069041498347415,
          0.019463826661770108,
          0.012118986412045538,
          0.005508630187293426,
          0.010650018362100624,
          0.008079324274697026,
          0.005141388174807198,
          0.005141388174807198,
          0.004039662137348513,
          0.0033051781123760557,
          0.0014689680499449136,
          0.0033051781123760557,
          0.001836210062431142,
          0.0014689680499449136,
          0.0029379360998898272,
          0.006243114212265883,
          0.006610356224752111,
          0.0029379360998898272,
          0.0029379360998898272,
          0.003672420124862284,
          0.004039662137348513,
          0.0033051781123760557,
          -0.0003672420124862284,
          -0.0003672420124862284,
          0.0007344840249724568,
          0.0022034520749173708,
          0.0011017260374586854,
          0.0022034520749173708,
          0.0011017260374586854,
          0.0014689680499449136,
          0.0014689680499449136,
          0.001836210062431142,
          0.0033051781123760557,
          0.0029379360998898272,
          0.001836210062431142,
          0.0011017260374586854,
          0.0022034520749173708,
          0.0044069041498347415,
          0.004774146162320969,
          0.005141388174807198,
          0.0058758721997796545,
          0.0058758721997796545,
          0.0058758721997796545,
          0.005508630187293426,
          0.005508630187293426,
          0.006243114212265883,
          0.006610356224752111,
          0.008813808299669483,
          0.010650018362100624,
          0.011384502387073081,
          0.012853470437017995,
          0.01395519647447668,
          0.013587954461990452,
          0.015424164524421594,
          0.016893132574366507,
          0.01652589056188028,
          0.015424164524421594,
          0.015424164524421594,
          0.016158648549394052,
          0.015424164524421594,
          0.014689680499449137,
          0.014689680499449137,
          0.01395519647447668,
          0.016158648549394052,
          0.016893132574366507,
          0.01836210062431142,
          0.017994858611825194,
          0.01652589056188028,
          0.017627616599338966,
          0.01872934263679765,
          0.01836210062431142,
          0.019463826661770108,
          0.01872934263679765,
          0.017994858611825194,
          0.016158648549394052,
          0.017260374586852735,
          0.017260374586852735,
          0.017627616599338966,
          0.016893132574366507,
          0.015424164524421594,
          0.015056922511935366,
          0.01395519647447668,
          0.012853470437017995,
          0.011384502387073081,
          0.012486228424531766,
          0.012118986412045538,
          0.011384502387073081,
          0.012486228424531766,
          0.013220712449504223,
          0.011384502387073081,
          0.009548292324641938,
          0.009915534337128168,
          0.008446566287183254,
          0.00697759823723834,
          0.007344840249724568,
          0.006610356224752111,
          0.006243114212265883,
          0.006610356224752111,
          0.008446566287183254,
          0.008446566287183254,
          0.0058758721997796545,
          0.0058758721997796545,
          0.006243114212265883,
          0.006610356224752111,
          0.006243114212265883,
          0.0058758721997796545,
          0.0058758721997796545,
          0.005508630187293426,
          0.005508630187293426,
          0.00697759823723834,
          0.006610356224752111,
          0.006243114212265883,
          0.006610356224752111,
          0.006610356224752111,
          0.00697759823723834,
          0.005508630187293426,
          0.003672420124862284,
          0.002570694087403599,
          0.0011017260374586854,
          0.0011017260374586854,
          0.002570694087403599,
          0.0007344840249724568,
          0.0011017260374586854,
          0.0007344840249724568,
          0.0011017260374586854,
          0.0003672420124862284,
          0,
          -0.0011017260374586854,
          -0.004039662137348513,
          -0.0029379360998898272,
          -0.0033051781123760557,
          -0.0044069041498347415,
          -0.0029379360998898272,
          -0.004039662137348513,
          -0.006243114212265883,
          -0.004039662137348513,
          -0.0033051781123760557,
          -0.003672420124862284,
          -0.003672420124862284,
          -0.003672420124862284,
          -0.004039662137348513
         ]
        }
       ],
       "layout": {
        "height": 500,
        "legend": {
         "bgcolor": "#151516",
         "font": {
          "color": "#D9D9D9"
         }
        },
        "paper_bgcolor": "#151516",
        "plot_bgcolor": "#151516",
        "template": {
         "data": {
          "bar": [
           {
            "error_x": {
             "color": "#2a3f5f"
            },
            "error_y": {
             "color": "#2a3f5f"
            },
            "marker": {
             "line": {
              "color": "#E5ECF6",
              "width": 0.5
             },
             "pattern": {
              "fillmode": "overlay",
              "size": 10,
              "solidity": 0.2
             }
            },
            "type": "bar"
           }
          ],
          "barpolar": [
           {
            "marker": {
             "line": {
              "color": "#E5ECF6",
              "width": 0.5
             },
             "pattern": {
              "fillmode": "overlay",
              "size": 10,
              "solidity": 0.2
             }
            },
            "type": "barpolar"
           }
          ],
          "carpet": [
           {
            "aaxis": {
             "endlinecolor": "#2a3f5f",
             "gridcolor": "white",
             "linecolor": "white",
             "minorgridcolor": "white",
             "startlinecolor": "#2a3f5f"
            },
            "baxis": {
             "endlinecolor": "#2a3f5f",
             "gridcolor": "white",
             "linecolor": "white",
             "minorgridcolor": "white",
             "startlinecolor": "#2a3f5f"
            },
            "type": "carpet"
           }
          ],
          "choropleth": [
           {
            "colorbar": {
             "outlinewidth": 0,
             "ticks": ""
            },
            "type": "choropleth"
           }
          ],
          "contour": [
           {
            "colorbar": {
             "outlinewidth": 0,
             "ticks": ""
            },
            "colorscale": [
             [
              0,
              "#0d0887"
             ],
             [
              0.1111111111111111,
              "#46039f"
             ],
             [
              0.2222222222222222,
              "#7201a8"
             ],
             [
              0.3333333333333333,
              "#9c179e"
             ],
             [
              0.4444444444444444,
              "#bd3786"
             ],
             [
              0.5555555555555556,
              "#d8576b"
             ],
             [
              0.6666666666666666,
              "#ed7953"
             ],
             [
              0.7777777777777778,
              "#fb9f3a"
             ],
             [
              0.8888888888888888,
              "#fdca26"
             ],
             [
              1,
              "#f0f921"
             ]
            ],
            "type": "contour"
           }
          ],
          "contourcarpet": [
           {
            "colorbar": {
             "outlinewidth": 0,
             "ticks": ""
            },
            "type": "contourcarpet"
           }
          ],
          "heatmap": [
           {
            "colorbar": {
             "outlinewidth": 0,
             "ticks": ""
            },
            "colorscale": [
             [
              0,
              "#0d0887"
             ],
             [
              0.1111111111111111,
              "#46039f"
             ],
             [
              0.2222222222222222,
              "#7201a8"
             ],
             [
              0.3333333333333333,
              "#9c179e"
             ],
             [
              0.4444444444444444,
              "#bd3786"
             ],
             [
              0.5555555555555556,
              "#d8576b"
             ],
             [
              0.6666666666666666,
              "#ed7953"
             ],
             [
              0.7777777777777778,
              "#fb9f3a"
             ],
             [
              0.8888888888888888,
              "#fdca26"
             ],
             [
              1,
              "#f0f921"
             ]
            ],
            "type": "heatmap"
           }
          ],
          "heatmapgl": [
           {
            "colorbar": {
             "outlinewidth": 0,
             "ticks": ""
            },
            "colorscale": [
             [
              0,
              "#0d0887"
             ],
             [
              0.1111111111111111,
              "#46039f"
             ],
             [
              0.2222222222222222,
              "#7201a8"
             ],
             [
              0.3333333333333333,
              "#9c179e"
             ],
             [
              0.4444444444444444,
              "#bd3786"
             ],
             [
              0.5555555555555556,
              "#d8576b"
             ],
             [
              0.6666666666666666,
              "#ed7953"
             ],
             [
              0.7777777777777778,
              "#fb9f3a"
             ],
             [
              0.8888888888888888,
              "#fdca26"
             ],
             [
              1,
              "#f0f921"
             ]
            ],
            "type": "heatmapgl"
           }
          ],
          "histogram": [
           {
            "marker": {
             "pattern": {
              "fillmode": "overlay",
              "size": 10,
              "solidity": 0.2
             }
            },
            "type": "histogram"
           }
          ],
          "histogram2d": [
           {
            "colorbar": {
             "outlinewidth": 0,
             "ticks": ""
            },
            "colorscale": [
             [
              0,
              "#0d0887"
             ],
             [
              0.1111111111111111,
              "#46039f"
             ],
             [
              0.2222222222222222,
              "#7201a8"
             ],
             [
              0.3333333333333333,
              "#9c179e"
             ],
             [
              0.4444444444444444,
              "#bd3786"
             ],
             [
              0.5555555555555556,
              "#d8576b"
             ],
             [
              0.6666666666666666,
              "#ed7953"
             ],
             [
              0.7777777777777778,
              "#fb9f3a"
             ],
             [
              0.8888888888888888,
              "#fdca26"
             ],
             [
              1,
              "#f0f921"
             ]
            ],
            "type": "histogram2d"
           }
          ],
          "histogram2dcontour": [
           {
            "colorbar": {
             "outlinewidth": 0,
             "ticks": ""
            },
            "colorscale": [
             [
              0,
              "#0d0887"
             ],
             [
              0.1111111111111111,
              "#46039f"
             ],
             [
              0.2222222222222222,
              "#7201a8"
             ],
             [
              0.3333333333333333,
              "#9c179e"
             ],
             [
              0.4444444444444444,
              "#bd3786"
             ],
             [
              0.5555555555555556,
              "#d8576b"
             ],
             [
              0.6666666666666666,
              "#ed7953"
             ],
             [
              0.7777777777777778,
              "#fb9f3a"
             ],
             [
              0.8888888888888888,
              "#fdca26"
             ],
             [
              1,
              "#f0f921"
             ]
            ],
            "type": "histogram2dcontour"
           }
          ],
          "mesh3d": [
           {
            "colorbar": {
             "outlinewidth": 0,
             "ticks": ""
            },
            "type": "mesh3d"
           }
          ],
          "parcoords": [
           {
            "line": {
             "colorbar": {
              "outlinewidth": 0,
              "ticks": ""
             }
            },
            "type": "parcoords"
           }
          ],
          "pie": [
           {
            "automargin": true,
            "type": "pie"
           }
          ],
          "scatter": [
           {
            "marker": {
             "colorbar": {
              "outlinewidth": 0,
              "ticks": ""
             }
            },
            "type": "scatter"
           }
          ],
          "scatter3d": [
           {
            "line": {
             "colorbar": {
              "outlinewidth": 0,
              "ticks": ""
             }
            },
            "marker": {
             "colorbar": {
              "outlinewidth": 0,
              "ticks": ""
             }
            },
            "type": "scatter3d"
           }
          ],
          "scattercarpet": [
           {
            "marker": {
             "colorbar": {
              "outlinewidth": 0,
              "ticks": ""
             }
            },
            "type": "scattercarpet"
           }
          ],
          "scattergeo": [
           {
            "marker": {
             "colorbar": {
              "outlinewidth": 0,
              "ticks": ""
             }
            },
            "type": "scattergeo"
           }
          ],
          "scattergl": [
           {
            "marker": {
             "colorbar": {
              "outlinewidth": 0,
              "ticks": ""
             }
            },
            "type": "scattergl"
           }
          ],
          "scattermapbox": [
           {
            "marker": {
             "colorbar": {
              "outlinewidth": 0,
              "ticks": ""
             }
            },
            "type": "scattermapbox"
           }
          ],
          "scatterpolar": [
           {
            "marker": {
             "colorbar": {
              "outlinewidth": 0,
              "ticks": ""
             }
            },
            "type": "scatterpolar"
           }
          ],
          "scatterpolargl": [
           {
            "marker": {
             "colorbar": {
              "outlinewidth": 0,
              "ticks": ""
             }
            },
            "type": "scatterpolargl"
           }
          ],
          "scatterternary": [
           {
            "marker": {
             "colorbar": {
              "outlinewidth": 0,
              "ticks": ""
             }
            },
            "type": "scatterternary"
           }
          ],
          "surface": [
           {
            "colorbar": {
             "outlinewidth": 0,
             "ticks": ""
            },
            "colorscale": [
             [
              0,
              "#0d0887"
             ],
             [
              0.1111111111111111,
              "#46039f"
             ],
             [
              0.2222222222222222,
              "#7201a8"
             ],
             [
              0.3333333333333333,
              "#9c179e"
             ],
             [
              0.4444444444444444,
              "#bd3786"
             ],
             [
              0.5555555555555556,
              "#d8576b"
             ],
             [
              0.6666666666666666,
              "#ed7953"
             ],
             [
              0.7777777777777778,
              "#fb9f3a"
             ],
             [
              0.8888888888888888,
              "#fdca26"
             ],
             [
              1,
              "#f0f921"
             ]
            ],
            "type": "surface"
           }
          ],
          "table": [
           {
            "cells": {
             "fill": {
              "color": "#EBF0F8"
             },
             "line": {
              "color": "white"
             }
            },
            "header": {
             "fill": {
              "color": "#C8D4E3"
             },
             "line": {
              "color": "white"
             }
            },
            "type": "table"
           }
          ]
         },
         "layout": {
          "annotationdefaults": {
           "arrowcolor": "#2a3f5f",
           "arrowhead": 0,
           "arrowwidth": 1
          },
          "autotypenumbers": "strict",
          "coloraxis": {
           "colorbar": {
            "outlinewidth": 0,
            "ticks": ""
           }
          },
          "colorscale": {
           "diverging": [
            [
             0,
             "#8e0152"
            ],
            [
             0.1,
             "#c51b7d"
            ],
            [
             0.2,
             "#de77ae"
            ],
            [
             0.3,
             "#f1b6da"
            ],
            [
             0.4,
             "#fde0ef"
            ],
            [
             0.5,
             "#f7f7f7"
            ],
            [
             0.6,
             "#e6f5d0"
            ],
            [
             0.7,
             "#b8e186"
            ],
            [
             0.8,
             "#7fbc41"
            ],
            [
             0.9,
             "#4d9221"
            ],
            [
             1,
             "#276419"
            ]
           ],
           "sequential": [
            [
             0,
             "#0d0887"
            ],
            [
             0.1111111111111111,
             "#46039f"
            ],
            [
             0.2222222222222222,
             "#7201a8"
            ],
            [
             0.3333333333333333,
             "#9c179e"
            ],
            [
             0.4444444444444444,
             "#bd3786"
            ],
            [
             0.5555555555555556,
             "#d8576b"
            ],
            [
             0.6666666666666666,
             "#ed7953"
            ],
            [
             0.7777777777777778,
             "#fb9f3a"
            ],
            [
             0.8888888888888888,
             "#fdca26"
            ],
            [
             1,
             "#f0f921"
            ]
           ],
           "sequentialminus": [
            [
             0,
             "#0d0887"
            ],
            [
             0.1111111111111111,
             "#46039f"
            ],
            [
             0.2222222222222222,
             "#7201a8"
            ],
            [
             0.3333333333333333,
             "#9c179e"
            ],
            [
             0.4444444444444444,
             "#bd3786"
            ],
            [
             0.5555555555555556,
             "#d8576b"
            ],
            [
             0.6666666666666666,
             "#ed7953"
            ],
            [
             0.7777777777777778,
             "#fb9f3a"
            ],
            [
             0.8888888888888888,
             "#fdca26"
            ],
            [
             1,
             "#f0f921"
            ]
           ]
          },
          "colorway": [
           "#636efa",
           "#EF553B",
           "#00cc96",
           "#ab63fa",
           "#FFA15A",
           "#19d3f3",
           "#FF6692",
           "#B6E880",
           "#FF97FF",
           "#FECB52"
          ],
          "font": {
           "color": "#2a3f5f"
          },
          "geo": {
           "bgcolor": "white",
           "lakecolor": "white",
           "landcolor": "#E5ECF6",
           "showlakes": true,
           "showland": true,
           "subunitcolor": "white"
          },
          "hoverlabel": {
           "align": "left"
          },
          "hovermode": "closest",
          "mapbox": {
           "style": "light"
          },
          "paper_bgcolor": "white",
          "plot_bgcolor": "#E5ECF6",
          "polar": {
           "angularaxis": {
            "gridcolor": "white",
            "linecolor": "white",
            "ticks": ""
           },
           "bgcolor": "#E5ECF6",
           "radialaxis": {
            "gridcolor": "white",
            "linecolor": "white",
            "ticks": ""
           }
          },
          "scene": {
           "xaxis": {
            "backgroundcolor": "#E5ECF6",
            "gridcolor": "white",
            "gridwidth": 2,
            "linecolor": "white",
            "showbackground": true,
            "ticks": "",
            "zerolinecolor": "white"
           },
           "yaxis": {
            "backgroundcolor": "#E5ECF6",
            "gridcolor": "white",
            "gridwidth": 2,
            "linecolor": "white",
            "showbackground": true,
            "ticks": "",
            "zerolinecolor": "white"
           },
           "zaxis": {
            "backgroundcolor": "#E5ECF6",
            "gridcolor": "white",
            "gridwidth": 2,
            "linecolor": "white",
            "showbackground": true,
            "ticks": "",
            "zerolinecolor": "white"
           }
          },
          "shapedefaults": {
           "line": {
            "color": "#2a3f5f"
           }
          },
          "ternary": {
           "aaxis": {
            "gridcolor": "white",
            "linecolor": "white",
            "ticks": ""
           },
           "baxis": {
            "gridcolor": "white",
            "linecolor": "white",
            "ticks": ""
           },
           "bgcolor": "#E5ECF6",
           "caxis": {
            "gridcolor": "white",
            "linecolor": "white",
            "ticks": ""
           }
          },
          "title": {
           "x": 0.05
          },
          "xaxis": {
           "automargin": true,
           "gridcolor": "white",
           "linecolor": "white",
           "ticks": "",
           "title": {
            "standoff": 15
           },
           "zerolinecolor": "white",
           "zerolinewidth": 2
          },
          "yaxis": {
           "automargin": true,
           "gridcolor": "white",
           "linecolor": "white",
           "ticks": "",
           "title": {
            "standoff": 15
           },
           "zerolinecolor": "white",
           "zerolinewidth": 2
          }
         }
        },
        "title": {
         "font": {
          "color": "#D9D9D9"
         },
         "text": "Intraday % Net Change for CORN DEC3 (Timezone: America/Chicago)"
        },
        "width": 1100,
        "xaxis": {
         "autorange": true,
         "gridcolor": "#434343",
         "range": [
          0,
          178
         ],
         "showgrid": true,
         "tickfont": {
          "color": "#C2C2C2"
         },
         "title": {
          "font": {
           "color": "#D9D9D9"
          },
          "text": ""
         },
         "type": "category",
         "zerolinecolor": "#666570"
        },
        "yaxis": {
         "autorange": true,
         "gridcolor": "#434343",
         "range": [
          -0.07562620757034944,
          0.024468565305565872
         ],
         "showgrid": true,
         "tickfont": {
          "color": "#C2C2C2"
         },
         "title": {
          "font": {
           "color": "#D9D9D9"
          },
          "text": ""
         },
         "type": "linear",
         "zerolinecolor": "#666570"
        }
       }
      },
      "image/png": "[encoded data removed]",
      "text/html": [
       "<div>                            <div id=\"1e660fcd-df69-4e06-99a6-9d5ed24f3292\" class=\"plotly-graph-div\" style=\"height:500px; width:1100px;\"></div>            <script type=\"text/javascript\">                require([\"plotly\"], function(Plotly) {                    window.PLOTLYENV=window.PLOTLYENV || {};\n",
       "                    window.PLOTLYENV.BASE_URL='https://plot.ly';                                    if (document.getElementById(\"1e660fcd-df69-4e06-99a6-9d5ed24f3292\")) {                    Plotly.newPlot(                        \"1e660fcd-df69-4e06-99a6-9d5ed24f3292\",                        [{\"line\":{\"color\":\"rgba(255, 153, 51, 1.0)\",\"dash\":\"solid\",\"shape\":\"linear\",\"width\":1.3},\"mode\":\"lines\",\"name\":\"2023-06-30\",\"text\":\"\",\"x\":[\"10:21:00\",\"10:22:00\",\"10:23:00\",\"10:24:00\",\"10:25:00\",\"10:26:00\",\"10:27:00\",\"10:28:00\",\"10:29:00\",\"10:30:00\",\"10:31:00\",\"10:32:00\",\"10:33:00\",\"10:34:00\",\"10:35:00\",\"10:36:00\",\"10:37:00\",\"10:38:00\",\"10:39:00\",\"10:40:00\",\"10:41:00\",\"10:42:00\",\"10:43:00\",\"10:44:00\",\"10:45:00\",\"10:46:00\",\"10:47:00\",\"10:48:00\",\"10:49:00\",\"10:50:00\",\"10:51:00\",\"10:52:00\",\"10:53:00\",\"10:54:00\",\"10:55:00\",\"10:56:00\",\"10:57:00\",\"10:58:00\",\"10:59:00\",\"11:00:00\",\"11:01:00\",\"11:02:00\",\"11:03:00\",\"11:04:00\",\"11:05:00\",\"11:06:00\",\"11:07:00\",\"11:08:00\",\"11:09:00\",\"11:10:00\",\"11:11:00\",\"11:12:00\",\"11:13:00\",\"11:14:00\",\"11:15:00\",\"11:16:00\",\"11:17:00\",\"11:18:00\",\"11:19:00\",\"11:20:00\",\"11:21:00\",\"11:22:00\",\"11:23:00\",\"11:24:00\",\"11:25:00\",\"11:26:00\",\"11:27:00\",\"11:28:00\",\"11:29:00\",\"11:30:00\",\"11:31:00\",\"11:32:00\",\"11:33:00\",\"11:34:00\",\"11:35:00\",\"11:36:00\",\"11:37:00\",\"11:38:00\",\"11:39:00\",\"11:40:00\",\"11:41:00\",\"11:42:00\",\"11:43:00\",\"11:44:00\",\"11:45:00\",\"11:46:00\",\"11:47:00\",\"11:48:00\",\"11:49:00\",\"11:50:00\",\"11:51:00\",\"11:52:00\",\"11:53:00\",\"11:54:00\",\"11:55:00\",\"11:56:00\",\"11:57:00\",\"11:58:00\",\"11:59:00\",\"12:00:00\",\"12:01:00\",\"12:02:00\",\"12:03:00\",\"12:04:00\",\"12:05:00\",\"12:06:00\",\"12:07:00\",\"12:08:00\",\"12:09:00\",\"12:10:00\",\"12:11:00\",\"12:12:00\",\"12:13:00\",\"12:14:00\",\"12:15:00\",\"12:16:00\",\"12:17:00\",\"12:18:00\",\"12:19:00\",\"12:20:00\",\"12:21:00\",\"12:22:00\",\"12:23:00\",\"12:24:00\",\"12:25:00\",\"12:26:00\",\"12:27:00\",\"12:28:00\",\"12:29:00\",\"12:30:00\",\"12:31:00\",\"12:32:00\",\"12:33:00\",\"12:34:00\",\"12:35:00\",\"12:36:00\",\"12:37:00\",\"12:38:00\",\"12:39:00\",\"12:40:00\",\"12:41:00\",\"12:42:00\",\"12:43:00\",\"12:44:00\",\"12:45:00\",\"12:46:00\",\"12:47:00\",\"12:48:00\",\"12:49:00\",\"12:50:00\",\"12:51:00\",\"12:52:00\",\"12:53:00\",\"12:54:00\",\"12:55:00\",\"12:56:00\",\"12:57:00\",\"12:58:00\",\"12:59:00\",\"13:00:00\",\"13:01:00\",\"13:02:00\",\"13:03:00\",\"13:04:00\",\"13:05:00\",\"13:06:00\",\"13:07:00\",\"13:08:00\",\"13:09:00\",\"13:10:00\",\"13:11:00\",\"13:12:00\",\"13:13:00\",\"13:14:00\",\"13:15:00\",\"13:16:00\",\"13:17:00\",\"13:18:00\",\"13:19:00\"],\"y\":[0.0,-0.00047080979284369113,-0.0009416195856873823,0.0,-0.00047080979284369113,0.0,0.0009416195856873823,0.00047080979284369113,-0.00047080979284369113,-0.00047080979284369113,-0.00047080979284369113,-0.00047080979284369113,-0.00047080979284369113,-0.00047080979284369113,0.0,0.00047080979284369113,0.00047080979284369113,0.0009416195856873823,0.0009416195856873823,0.0014124293785310734,0.00047080979284369113,0.00047080979284369113,0.00047080979284369113,0.0009416195856873823,0.00047080979284369113,0.00047080979284369113,0.0,0.0,0.00047080979284369113,0.00047080979284369113,0.0009416195856873823,0.0018832391713747645,0.0018832391713747645,0.003295668549905838,0.003295668549905838,0.002824858757062147,0.0009416195856873823,0.0023540489642184556,0.002824858757062147,-0.0160075329566855,-0.005178907721280603,-0.007062146892655367,0.00047080979284369113,0.004708097928436911,-0.010357815442561206,-0.017890772128060263,-0.023540489642184557,-0.03295668549905838,-0.030602636534839925,-0.02448210922787194,-0.031073446327683617,-0.03436911487758945,-0.03389830508474576,-0.03483992467043315,-0.03389830508474576,-0.03295668549905838,-0.03954802259887006,-0.035781544256120526,-0.03531073446327684,-0.03954802259887006,-0.04566854990583804,-0.043785310734463276,-0.0428436911487759,-0.038606403013182675,-0.03531073446327684,-0.031073446327683617,-0.029661016949152543,-0.035781544256120526,-0.03483992467043315,-0.039077212806026364,-0.038606403013182675,-0.03531073446327684,-0.03672316384180791,-0.038135593220338986,-0.03954802259887006,-0.04096045197740113,-0.0423728813559322,-0.043785310734463276,-0.04566854990583804,-0.04331450094161959,-0.04519774011299435,-0.04472693032015066,-0.047080979284369114,-0.046610169491525424,-0.046139359698681735,-0.046139359698681735,-0.04566854990583804,-0.04566854990583804,-0.0428436911487759,-0.04331450094161959,-0.04096045197740113,-0.039077212806026364,-0.03672316384180791,-0.03672316384180791,-0.04048964218455744,-0.0423728813559322,-0.04331450094161959,-0.04096045197740113,-0.04143126177024482,-0.044256120527306965,-0.0428436911487759,-0.04143126177024482,-0.04096045197740113,-0.04001883239171375,-0.044256120527306965,-0.04566854990583804,-0.047080979284369114,-0.046139359698681735,-0.046139359698681735,-0.046139359698681735,-0.0428436911487759,-0.0423728813559322,-0.04472693032015066,-0.04472693032015066,-0.0475517890772128,-0.047080979284369114,-0.047080979284369114,-0.046610169491525424,-0.04472693032015066,-0.04331450094161959,-0.043785310734463276,-0.043785310734463276,-0.043785310734463276,-0.0428436911487759,-0.0423728813559322,-0.04190207156308851,-0.0423728813559322,-0.0423728813559322,-0.04190207156308851,-0.044256120527306965,-0.046610169491525424,-0.046139359698681735,-0.047080979284369114,-0.0480225988700565,-0.051789077212806026,-0.051318267419962336,-0.05273069679849341,-0.05602636534839925,-0.0583804143126177,-0.0583804143126177,-0.05555555555555555,-0.05743879472693032,-0.05885122410546139,-0.05602636534839925,-0.05696798493408663,-0.0583804143126177,-0.064030131826742,-0.06591337099811675,-0.06591337099811675,-0.0692090395480226,-0.06497175141242938,-0.06308851224105462,-0.06073446327683616,-0.062146892655367235,-0.06261770244821092,-0.060263653483992465,-0.05885122410546139,-0.06073446327683616,-0.05790960451977401,-0.05555555555555555,-0.054613935969868174,-0.054613935969868174,-0.05273069679849341,-0.051789077212806026,-0.05743879472693032,-0.06261770244821092,-0.06120527306967985,-0.06073446327683616,-0.0635593220338983,-0.06497175141242938,-0.0635593220338983,-0.06261770244821092,-0.06638418079096045,-0.0692090395480226,-0.07062146892655367,-0.0687382297551789,-0.06779661016949153,-0.0692090395480226,-0.06779661016949153],\"type\":\"scatter\"},{\"line\":{\"color\":\"rgba(55, 128, 191, 1.0)\",\"dash\":\"solid\",\"shape\":\"linear\",\"width\":1.3},\"mode\":\"lines\",\"name\":\"2023-03-31\",\"text\":\"\",\"x\":[\"10:21:00\",\"10:22:00\",\"10:23:00\",\"10:24:00\",\"10:25:00\",\"10:26:00\",\"10:27:00\",\"10:28:00\",\"10:29:00\",\"10:30:00\",\"10:31:00\",\"10:32:00\",\"10:33:00\",\"10:34:00\",\"10:35:00\",\"10:36:00\",\"10:37:00\",\"10:38:00\",\"10:39:00\",\"10:40:00\",\"10:41:00\",\"10:42:00\",\"10:43:00\",\"10:44:00\",\"10:45:00\",\"10:46:00\",\"10:47:00\",\"10:48:00\",\"10:49:00\",\"10:50:00\",\"10:51:00\",\"10:52:00\",\"10:53:00\",\"10:54:00\",\"10:55:00\",\"10:56:00\",\"10:57:00\",\"10:58:00\",\"10:59:00\",\"11:00:00\",\"11:01:00\",\"11:02:00\",\"11:03:00\",\"11:04:00\",\"11:05:00\",\"11:06:00\",\"11:07:00\",\"11:08:00\",\"11:09:00\",\"11:10:00\",\"11:11:00\",\"11:12:00\",\"11:13:00\",\"11:14:00\",\"11:15:00\",\"11:16:00\",\"11:17:00\",\"11:18:00\",\"11:19:00\",\"11:20:00\",\"11:21:00\",\"11:22:00\",\"11:23:00\",\"11:24:00\",\"11:25:00\",\"11:26:00\",\"11:27:00\",\"11:28:00\",\"11:29:00\",\"11:30:00\",\"11:31:00\",\"11:32:00\",\"11:33:00\",\"11:34:00\",\"11:35:00\",\"11:36:00\",\"11:37:00\",\"11:38:00\",\"11:39:00\",\"11:40:00\",\"11:41:00\",\"11:42:00\",\"11:43:00\",\"11:44:00\",\"11:45:00\",\"11:46:00\",\"11:47:00\",\"11:48:00\",\"11:49:00\",\"11:50:00\",\"11:51:00\",\"11:52:00\",\"11:53:00\",\"11:54:00\",\"11:55:00\",\"11:56:00\",\"11:57:00\",\"11:58:00\",\"11:59:00\",\"12:00:00\",\"12:01:00\",\"12:02:00\",\"12:03:00\",\"12:04:00\",\"12:05:00\",\"12:06:00\",\"12:07:00\",\"12:08:00\",\"12:09:00\",\"12:10:00\",\"12:11:00\",\"12:12:00\",\"12:13:00\",\"12:14:00\",\"12:15:00\",\"12:16:00\",\"12:17:00\",\"12:18:00\",\"12:19:00\",\"12:20:00\",\"12:21:00\",\"12:22:00\",\"12:23:00\",\"12:24:00\",\"12:25:00\",\"12:26:00\",\"12:27:00\",\"12:28:00\",\"12:29:00\",\"12:30:00\",\"12:31:00\",\"12:32:00\",\"12:33:00\",\"12:34:00\",\"12:35:00\",\"12:36:00\",\"12:37:00\",\"12:38:00\",\"12:39:00\",\"12:40:00\",\"12:41:00\",\"12:42:00\",\"12:43:00\",\"12:44:00\",\"12:45:00\",\"12:46:00\",\"12:47:00\",\"12:48:00\",\"12:49:00\",\"12:50:00\",\"12:51:00\",\"12:52:00\",\"12:53:00\",\"12:54:00\",\"12:55:00\",\"12:56:00\",\"12:57:00\",\"12:58:00\",\"12:59:00\",\"13:00:00\",\"13:01:00\",\"13:02:00\",\"13:03:00\",\"13:04:00\",\"13:05:00\",\"13:06:00\",\"13:07:00\",\"13:08:00\",\"13:09:00\",\"13:10:00\",\"13:11:00\",\"13:12:00\",\"13:13:00\",\"13:14:00\",\"13:15:00\",\"13:16:00\",\"13:17:00\",\"13:18:00\",\"13:19:00\"],\"y\":[0.0,0.0,0.001145475372279496,0.0015273004963726614,0.0019091256204658267,0.0015273004963726614,0.0019091256204658267,0.0019091256204658267,0.0015273004963726614,0.0019091256204658267,0.001145475372279496,0.0019091256204658267,0.002290950744558992,0.002290950744558992,0.002290950744558992,0.002672775868652157,0.002290950744558992,0.0015273004963726614,0.002290950744558992,0.0030546009927453228,0.0030546009927453228,0.0030546009927453228,0.003436426116838488,0.0030546009927453228,0.0030546009927453228,0.002672775868652157,0.002672775868652157,0.002290950744558992,0.002290950744558992,0.0019091256204658267,0.002290950744558992,0.002672775868652157,0.002290950744558992,0.002290950744558992,0.0030546009927453228,0.0030546009927453228,0.002672775868652157,0.0019091256204658267,0.002290950744558992,0.006491027109583811,0.002672775868652157,0.001145475372279496,-0.0007636502481863307,-0.002290950744558992,-0.0007636502481863307,0.002672775868652157,0.004200076365024819,0.0007636502481863307,0.0007636502481863307,0.0007636502481863307,0.003436426116838488,0.004963726613211149,0.0030546009927453228,0.003436426116838488,0.0030546009927453228,0.002290950744558992,0.0019091256204658267,0.002672775868652157,0.0030546009927453228,0.0030546009927453228,0.0019091256204658267,0.003436426116838488,0.002290950744558992,0.002290950744558992,0.002672775868652157,0.0030546009927453228,0.0030546009927453228,0.003436426116838488,0.004200076365024819,0.004581901489117984,0.006491027109583811,0.0061092019854906456,0.0061092019854906456,0.006872852233676976,0.0061092019854906456,0.006491027109583811,0.006491027109583811,0.0057273768613974796,0.006491027109583811,0.006872852233676976,0.006872852233676976,0.007254677357770141,0.008400152730049638,0.008781977854142803,0.006491027109583811,0.0057273768613974796,0.005345551737304314,0.004963726613211149,0.004200076365024819,0.0038182512409316535,0.0030546009927453228,0.003436426116838488,0.003436426116838488,0.0038182512409316535,0.003436426116838488,0.0038182512409316535,0.0038182512409316535,0.004963726613211149,0.004581901489117984,0.004963726613211149,0.0057273768613974796,0.006491027109583811,0.006872852233676976,0.007254677357770141,0.006872852233676976,0.007636502481863307,0.006491027109583811,0.007254677357770141,0.006872852233676976,0.006872852233676976,0.006491027109583811,0.007254677357770141,0.007254677357770141,0.0061092019854906456,0.0061092019854906456,0.006491027109583811,0.0061092019854906456,0.006491027109583811,0.0057273768613974796,0.0057273768613974796,0.005345551737304314,0.005345551737304314,0.005345551737304314,0.005345551737304314,0.004581901489117984,0.0057273768613974796,0.0061092019854906456,0.0061092019854906456,0.005345551737304314,0.0057273768613974796,0.0057273768613974796,0.006872852233676976,0.008400152730049638,0.007636502481863307,0.007636502481863307,0.008400152730049638,0.007636502481863307,0.007254677357770141,0.006872852233676976,0.0061092019854906456,0.006872852233676976,0.006491027109583811,0.006872852233676976,0.0061092019854906456,0.004963726613211149,0.005345551737304314,0.0038182512409316535,0.0030546009927453228,0.004200076365024819,0.005345551737304314,0.005345551737304314,0.004581901489117984,0.0057273768613974796,0.0057273768613974796,0.0061092019854906456,0.0061092019854906456,0.0057273768613974796,0.006491027109583811,0.007254677357770141,0.008018327605956471,0.008781977854142803,0.009163802978235968,0.008400152730049638,0.007254677357770141,0.009163802978235968,0.008400152730049638,0.009927453226422299,0.009545628102329133,0.009927453226422299,0.008781977854142803,0.009163802978235968,0.008781977854142803,0.008781977854142803,0.009163802978235968,0.008018327605956471,0.007636502481863307,0.006872852233676976,0.006872852233676976,0.0057273768613974796],\"type\":\"scatter\"},{\"line\":{\"color\":\"rgba(50, 171, 96, 1.0)\",\"dash\":\"solid\",\"shape\":\"linear\",\"width\":1.3},\"mode\":\"lines\",\"name\":\"2023-02-28\",\"text\":\"\",\"x\":[\"10:21:00\",\"10:22:00\",\"10:23:00\",\"10:24:00\",\"10:25:00\",\"10:26:00\",\"10:27:00\",\"10:28:00\",\"10:29:00\",\"10:30:00\",\"10:31:00\",\"10:32:00\",\"10:33:00\",\"10:34:00\",\"10:35:00\",\"10:36:00\",\"10:37:00\",\"10:38:00\",\"10:39:00\",\"10:40:00\",\"10:41:00\",\"10:42:00\",\"10:43:00\",\"10:44:00\",\"10:45:00\",\"10:46:00\",\"10:47:00\",\"10:48:00\",\"10:49:00\",\"10:50:00\",\"10:51:00\",\"10:52:00\",\"10:53:00\",\"10:54:00\",\"10:55:00\",\"10:56:00\",\"10:57:00\",\"10:58:00\",\"10:59:00\",\"11:00:00\",\"11:01:00\",\"11:02:00\",\"11:03:00\",\"11:04:00\",\"11:05:00\",\"11:06:00\",\"11:07:00\",\"11:08:00\",\"11:09:00\",\"11:10:00\",\"11:11:00\",\"11:12:00\",\"11:13:00\",\"11:14:00\",\"11:15:00\",\"11:16:00\",\"11:17:00\",\"11:18:00\",\"11:19:00\",\"11:20:00\",\"11:21:00\",\"11:22:00\",\"11:23:00\",\"11:24:00\",\"11:25:00\",\"11:26:00\",\"11:27:00\",\"11:28:00\",\"11:29:00\",\"11:30:00\",\"11:31:00\",\"11:32:00\",\"11:33:00\",\"11:34:00\",\"11:35:00\",\"11:36:00\",\"11:37:00\",\"11:38:00\",\"11:39:00\",\"11:40:00\",\"11:41:00\",\"11:42:00\",\"11:43:00\",\"11:44:00\",\"11:45:00\",\"11:46:00\",\"11:47:00\",\"11:48:00\",\"11:49:00\",\"11:50:00\",\"11:51:00\",\"11:52:00\",\"11:53:00\",\"11:54:00\",\"11:55:00\",\"11:56:00\",\"11:57:00\",\"11:58:00\",\"11:59:00\",\"12:00:00\",\"12:01:00\",\"12:02:00\",\"12:03:00\",\"12:04:00\",\"12:05:00\",\"12:06:00\",\"12:07:00\",\"12:08:00\",\"12:09:00\",\"12:10:00\",\"12:11:00\",\"12:12:00\",\"12:13:00\",\"12:14:00\",\"12:15:00\",\"12:16:00\",\"12:17:00\",\"12:18:00\",\"12:19:00\",\"12:20:00\",\"12:21:00\",\"12:22:00\",\"12:23:00\",\"12:24:00\",\"12:25:00\",\"12:26:00\",\"12:27:00\",\"12:28:00\",\"12:29:00\",\"12:30:00\",\"12:31:00\",\"12:32:00\",\"12:33:00\",\"12:34:00\",\"12:35:00\",\"12:36:00\",\"12:37:00\",\"12:38:00\",\"12:39:00\",\"12:40:00\",\"12:41:00\",\"12:42:00\",\"12:43:00\",\"12:44:00\",\"12:45:00\",\"12:46:00\",\"12:47:00\",\"12:48:00\",\"12:49:00\",\"12:50:00\",\"12:51:00\",\"12:52:00\",\"12:53:00\",\"12:54:00\",\"12:55:00\",\"12:56:00\",\"12:57:00\",\"12:58:00\",\"12:59:00\",\"13:00:00\",\"13:01:00\",\"13:02:00\",\"13:03:00\",\"13:04:00\",\"13:05:00\",\"13:06:00\",\"13:07:00\",\"13:08:00\",\"13:09:00\",\"13:10:00\",\"13:11:00\",\"13:12:00\",\"13:13:00\",\"13:14:00\",\"13:15:00\",\"13:16:00\",\"13:17:00\",\"13:18:00\",\"13:19:00\"],\"y\":[-0.0011746280344557558,-0.0007830853563038371,0.00039154267815191856,-0.0007830853563038371,-0.0007830853563038371,-0.0011746280344557558,-0.0011746280344557558,-0.0011746280344557558,-0.0011746280344557558,-0.0011746280344557558,0.00039154267815191856,-0.00039154267815191856,-0.0007830853563038371,-0.0007830853563038371,-0.001957713390759593,-0.001957713390759593,-0.0023492560689115116,-0.0007830853563038371,-0.0015661707126076742,-0.001957713390759593,-0.0023492560689115116,-0.0023492560689115116,-0.0023492560689115116,-0.0023492560689115116,-0.001957713390759593,-0.0023492560689115116,-0.0031323414252153485,-0.0031323414252153485,-0.0031323414252153485,-0.003523884103367267,-0.004306969459671104,-0.004306969459671104,-0.003523884103367267,-0.003523884103367267,-0.003915426781519186,-0.003915426781519186,-0.003915426781519186,-0.003523884103367267,-0.003915426781519186,-0.003915426781519186,-0.003915426781519186,-0.003523884103367267,-0.003523884103367267,-0.004306969459671104,-0.005090054815974941,-0.005090054815974941,-0.005090054815974941,-0.005090054815974941,-0.005090054815974941,-0.005090054815974941,-0.00548159749412686,-0.005873140172278779,-0.006264682850430697,-0.00548159749412686,-0.006264682850430697,-0.006264682850430697,-0.006656225528582615,-0.0074393108848864525,-0.006264682850430697,-0.006264682850430697,-0.006656225528582615,-0.006264682850430697,-0.006264682850430697,-0.006656225528582615,-0.006264682850430697,-0.007047768206734534,-0.0074393108848864525,-0.007830853563038372,-0.007830853563038372,-0.009005481597494126,-0.010571652310101801,-0.011746280344557557,-0.01096319498825372,-0.009788566953797965,-0.010571652310101801,-0.010180109631949883,-0.01096319498825372,-0.010571652310101801,-0.01096319498825372,-0.01096319498825372,-0.01096319498825372,-0.010571652310101801,-0.01096319498825372,-0.010571652310101801,-0.011354737666405637,-0.012529365700861394,-0.012137823022709476,-0.012529365700861394,-0.012920908379013312,-0.012920908379013312,-0.01331245105716523,-0.01331245105716523,-0.01096319498825372,-0.01096319498825372,-0.01096319498825372,-0.011354737666405637,-0.011354737666405637,-0.011746280344557557,-0.012529365700861394,-0.012137823022709476,-0.011746280344557557,-0.011746280344557557,-0.01096319498825372,-0.011746280344557557,-0.011354737666405637,-0.009788566953797965,-0.009397024275646046,-0.009788566953797965,-0.009788566953797965,-0.010180109631949883,-0.010180109631949883,-0.010571652310101801,-0.01096319498825372,-0.01096319498825372,-0.010180109631949883,-0.010571652310101801,-0.010571652310101801,-0.01096319498825372,-0.010571652310101801,-0.01096319498825372,-0.01096319498825372,-0.01096319498825372,-0.01096319498825372,-0.011354737666405637,-0.011354737666405637,-0.011354737666405637,-0.011746280344557557,-0.011354737666405637,-0.011354737666405637,-0.011746280344557557,-0.011354737666405637,-0.011354737666405637,-0.011354737666405637,-0.011354737666405637,-0.011746280344557557,-0.011354737666405637,-0.010571652310101801,-0.010571652310101801,-0.010180109631949883,-0.010571652310101801,-0.010571652310101801,-0.01096319498825372,-0.011746280344557557,-0.01096319498825372,-0.011746280344557557,-0.012529365700861394,-0.012529365700861394,-0.010571652310101801,-0.010571652310101801,-0.01096319498825372,-0.01096319498825372,-0.011354737666405637,-0.011354737666405637,-0.012137823022709476,-0.012137823022709476,-0.011746280344557557,-0.011746280344557557,-0.012529365700861394,-0.012529365700861394,-0.012920908379013312,-0.012137823022709476,-0.012137823022709476,-0.012137823022709476,-0.011746280344557557,-0.012137823022709476,-0.012137823022709476,-0.012137823022709476,-0.011354737666405637,-0.011746280344557557,-0.012137823022709476,-0.011746280344557557,-0.012137823022709476,-0.012529365700861394,-0.01331245105716523,-0.01331245105716523,-0.012920908379013312,-0.012920908379013312,-0.012920908379013312,-0.012920908379013312],\"type\":\"scatter\"},{\"line\":{\"color\":\"rgba(128, 0, 128, 1.0)\",\"dash\":\"solid\",\"shape\":\"linear\",\"width\":1.3},\"mode\":\"lines\",\"name\":\"2022-11-30\",\"text\":\"\",\"x\":[\"10:21:00\",\"10:22:00\",\"10:23:00\",\"10:24:00\",\"10:25:00\",\"10:26:00\",\"10:27:00\",\"10:28:00\",\"10:29:00\",\"10:30:00\",\"10:31:00\",\"10:32:00\",\"10:33:00\",\"10:34:00\",\"10:35:00\",\"10:36:00\",\"10:37:00\",\"10:38:00\",\"10:39:00\",\"10:40:00\",\"10:41:00\",\"10:42:00\",\"10:43:00\",\"10:44:00\",\"10:45:00\",\"10:46:00\",\"10:47:00\",\"10:48:00\",\"10:49:00\",\"10:50:00\",\"10:51:00\",\"10:52:00\",\"10:53:00\",\"10:54:00\",\"10:55:00\",\"10:56:00\",\"10:57:00\",\"10:58:00\",\"10:59:00\",\"11:00:00\",\"11:01:00\",\"11:02:00\",\"11:03:00\",\"11:04:00\",\"11:05:00\",\"11:06:00\",\"11:07:00\",\"11:08:00\",\"11:09:00\",\"11:10:00\",\"11:11:00\",\"11:12:00\",\"11:13:00\",\"11:14:00\",\"11:15:00\",\"11:16:00\",\"11:17:00\",\"11:18:00\",\"11:19:00\",\"11:20:00\",\"11:21:00\",\"11:22:00\",\"11:23:00\",\"11:24:00\",\"11:25:00\",\"11:26:00\",\"11:27:00\",\"11:28:00\",\"11:29:00\",\"11:30:00\",\"11:31:00\",\"11:32:00\",\"11:33:00\",\"11:34:00\",\"11:35:00\",\"11:36:00\",\"11:37:00\",\"11:38:00\",\"11:39:00\",\"11:40:00\",\"11:41:00\",\"11:42:00\",\"11:43:00\",\"11:44:00\",\"11:45:00\",\"11:46:00\",\"11:47:00\",\"11:48:00\",\"11:49:00\",\"11:50:00\",\"11:51:00\",\"11:52:00\",\"11:53:00\",\"11:54:00\",\"11:55:00\",\"11:56:00\",\"11:57:00\",\"11:58:00\",\"11:59:00\",\"12:00:00\",\"12:01:00\",\"12:02:00\",\"12:03:00\",\"12:04:00\",\"12:05:00\",\"12:06:00\",\"12:07:00\",\"12:08:00\",\"12:09:00\",\"12:10:00\",\"12:11:00\",\"12:12:00\",\"12:13:00\",\"12:14:00\",\"12:15:00\",\"12:16:00\",\"12:17:00\",\"12:18:00\",\"12:19:00\",\"12:20:00\",\"12:21:00\",\"12:22:00\",\"12:23:00\",\"12:24:00\",\"12:25:00\",\"12:26:00\",\"12:27:00\",\"12:28:00\",\"12:29:00\",\"12:30:00\",\"12:31:00\",\"12:32:00\",\"12:33:00\",\"12:34:00\",\"12:35:00\",\"12:36:00\",\"12:37:00\",\"12:38:00\",\"12:39:00\",\"12:40:00\",\"12:41:00\",\"12:42:00\",\"12:43:00\",\"12:44:00\",\"12:45:00\",\"12:46:00\",\"12:47:00\",\"12:48:00\",\"12:49:00\",\"12:50:00\",\"12:51:00\",\"12:52:00\",\"12:53:00\",\"12:54:00\",\"12:55:00\",\"12:56:00\",\"12:57:00\",\"12:58:00\",\"12:59:00\",\"13:00:00\",\"13:01:00\",\"13:02:00\",\"13:03:00\",\"13:04:00\",\"13:05:00\",\"13:06:00\",\"13:07:00\",\"13:08:00\",\"13:09:00\",\"13:10:00\",\"13:11:00\",\"13:12:00\",\"13:13:00\",\"13:14:00\",\"13:15:00\",\"13:16:00\",\"13:17:00\",\"13:18:00\",\"13:19:00\"],\"y\":[-0.0022488755622188904,-0.0018740629685157421,-0.0029985007496251873,-0.002623688155922039,-0.002623688155922039,-0.002623688155922039,-0.002623688155922039,-0.002623688155922039,-0.002623688155922039,-0.0018740629685157421,-0.0014992503748125937,-0.0022488755622188904,-0.0022488755622188904,-0.0022488755622188904,-0.002623688155922039,-0.0029985007496251873,-0.002623688155922039,-0.0029985007496251873,-0.0022488755622188904,-0.0029985007496251873,-0.002623688155922039,-0.002623688155922039,-0.003373313343328336,-0.0037481259370314842,-0.0037481259370314842,-0.0037481259370314842,-0.003373313343328336,-0.003373313343328336,-0.0029985007496251873,-0.002623688155922039,-0.0018740629685157421,-0.0022488755622188904,-0.0018740629685157421,-0.0014992503748125937,-0.0014992503748125937,-0.0018740629685157421,-0.0018740629685157421,-0.0014992503748125937,-0.0018740629685157421,-0.0018740629685157421,-0.0007496251874062968,-0.0011244377811094452,-0.0007496251874062968,-0.0007496251874062968,-0.0018740629685157421,-0.0022488755622188904,-0.0018740629685157421,-0.0014992503748125937,-0.0014992503748125937,-0.0014992503748125937,-0.0018740629685157421,-0.0018740629685157421,-0.0014992503748125937,-0.0003748125937031484,0.0,0.0,-0.0003748125937031484,-0.0007496251874062968,-0.0007496251874062968,-0.0003748125937031484,-0.0003748125937031484,0.0,0.0,-0.0003748125937031484,-0.0003748125937031484,-0.0007496251874062968,-0.0003748125937031484,0.0,0.0007496251874062968,0.0007496251874062968,0.0007496251874062968,0.0011244377811094452,0.0011244377811094452,0.0007496251874062968,0.0011244377811094452,0.0018740629685157421,0.0011244377811094452,0.0014992503748125937,0.0007496251874062968,0.0014992503748125937,0.0011244377811094452,0.0022488755622188904,0.0022488755622188904,0.0018740629685157421,0.0022488755622188904,0.0022488755622188904,0.0011244377811094452,0.0011244377811094452,0.0014992503748125937,0.0014992503748125937,0.0014992503748125937,0.0018740629685157421,0.0022488755622188904,0.0022488755622188904,0.0018740629685157421,0.0014992503748125937,0.0018740629685157421,0.0014992503748125937,0.0011244377811094452,0.0011244377811094452,0.0014992503748125937,0.0011244377811094452,0.0014992503748125937,0.0022488755622188904,0.0022488755622188904,0.0029985007496251873,0.002623688155922039,0.0022488755622188904,0.002623688155922039,0.0018740629685157421,0.0011244377811094452,0.0011244377811094452,0.0011244377811094452,0.0003748125937031484,0.0003748125937031484,0.0007496251874062968,0.0003748125937031484,-0.0003748125937031484,-0.0007496251874062968,-0.0011244377811094452,-0.0011244377811094452,-0.0003748125937031484,-0.0003748125937031484,-0.0011244377811094452,-0.0003748125937031484,-0.0014992503748125937,-0.0011244377811094452,-0.0014992503748125937,-0.0018740629685157421,-0.0018740629685157421,-0.0018740629685157421,-0.0018740629685157421,-0.0007496251874062968,-0.0014992503748125937,-0.0014992503748125937,-0.0007496251874062968,0.0,0.0,-0.0003748125937031484,0.0,-0.0007496251874062968,-0.0007496251874062968,-0.0007496251874062968,-0.0003748125937031484,-0.0003748125937031484,-0.0003748125937031484,-0.0003748125937031484,0.0003748125937031484,-0.0003748125937031484,0.0,-0.0007496251874062968,-0.0011244377811094452,-0.0011244377811094452,-0.0007496251874062968,-0.0003748125937031484,0.0007496251874062968,0.0011244377811094452,0.0018740629685157421,0.0018740629685157421,0.0011244377811094452,0.0011244377811094452,0.0014992503748125937,0.0003748125937031484,0.0,0.0003748125937031484,0.0007496251874062968,0.0003748125937031484,-0.0003748125937031484,-0.0007496251874062968,-0.0007496251874062968,-0.0007496251874062968,-0.0003748125937031484,-0.0003748125937031484,-0.0003748125937031484,-0.0011244377811094452,-0.0014992503748125937,-0.0018740629685157421,-0.0022488755622188904,-0.0014992503748125937],\"type\":\"scatter\"},{\"line\":{\"color\":\"rgba(219, 64, 82, 1.0)\",\"dash\":\"solid\",\"shape\":\"linear\",\"width\":1.3},\"mode\":\"lines\",\"name\":\"2022-09-30\",\"text\":\"\",\"x\":[\"10:21:00\",\"10:22:00\",\"10:23:00\",\"10:24:00\",\"10:25:00\",\"10:26:00\",\"10:27:00\",\"10:28:00\",\"10:29:00\",\"10:30:00\",\"10:31:00\",\"10:32:00\",\"10:33:00\",\"10:34:00\",\"10:35:00\",\"10:36:00\",\"10:37:00\",\"10:38:00\",\"10:39:00\",\"10:40:00\",\"10:41:00\",\"10:42:00\",\"10:43:00\",\"10:44:00\",\"10:45:00\",\"10:46:00\",\"10:47:00\",\"10:48:00\",\"10:49:00\",\"10:50:00\",\"10:51:00\",\"10:52:00\",\"10:53:00\",\"10:54:00\",\"10:55:00\",\"10:56:00\",\"10:57:00\",\"10:58:00\",\"10:59:00\",\"11:00:00\",\"11:01:00\",\"11:02:00\",\"11:03:00\",\"11:04:00\",\"11:05:00\",\"11:06:00\",\"11:07:00\",\"11:08:00\",\"11:09:00\",\"11:10:00\",\"11:11:00\",\"11:12:00\",\"11:13:00\",\"11:14:00\",\"11:15:00\",\"11:16:00\",\"11:17:00\",\"11:18:00\",\"11:19:00\",\"11:20:00\",\"11:21:00\",\"11:22:00\",\"11:23:00\",\"11:24:00\",\"11:25:00\",\"11:26:00\",\"11:27:00\",\"11:28:00\",\"11:29:00\",\"11:30:00\",\"11:31:00\",\"11:32:00\",\"11:33:00\",\"11:34:00\",\"11:35:00\",\"11:36:00\",\"11:37:00\",\"11:38:00\",\"11:39:00\",\"11:40:00\",\"11:41:00\",\"11:42:00\",\"11:43:00\",\"11:44:00\",\"11:45:00\",\"11:46:00\",\"11:47:00\",\"11:48:00\",\"11:49:00\",\"11:50:00\",\"11:51:00\",\"11:52:00\",\"11:53:00\",\"11:54:00\",\"11:55:00\",\"11:56:00\",\"11:57:00\",\"11:58:00\",\"11:59:00\",\"12:00:00\",\"12:01:00\",\"12:02:00\",\"12:03:00\",\"12:04:00\",\"12:05:00\",\"12:06:00\",\"12:07:00\",\"12:08:00\",\"12:09:00\",\"12:10:00\",\"12:11:00\",\"12:12:00\",\"12:13:00\",\"12:14:00\",\"12:15:00\",\"12:16:00\",\"12:17:00\",\"12:18:00\",\"12:19:00\",\"12:20:00\",\"12:21:00\",\"12:22:00\",\"12:23:00\",\"12:24:00\",\"12:25:00\",\"12:26:00\",\"12:27:00\",\"12:28:00\",\"12:29:00\",\"12:30:00\",\"12:31:00\",\"12:32:00\",\"12:33:00\",\"12:34:00\",\"12:35:00\",\"12:36:00\",\"12:37:00\",\"12:38:00\",\"12:39:00\",\"12:40:00\",\"12:41:00\",\"12:42:00\",\"12:43:00\",\"12:44:00\",\"12:45:00\",\"12:46:00\",\"12:47:00\",\"12:48:00\",\"12:49:00\",\"12:50:00\",\"12:51:00\",\"12:52:00\",\"12:53:00\",\"12:54:00\",\"12:55:00\",\"12:56:00\",\"12:57:00\",\"12:58:00\",\"12:59:00\",\"13:00:00\",\"13:01:00\",\"13:02:00\",\"13:03:00\",\"13:04:00\",\"13:05:00\",\"13:06:00\",\"13:07:00\",\"13:08:00\",\"13:09:00\",\"13:10:00\",\"13:11:00\",\"13:12:00\",\"13:13:00\",\"13:14:00\",\"13:15:00\",\"13:16:00\",\"13:17:00\",\"13:18:00\",\"13:19:00\"],\"y\":[0.0,0.001836210062431142,0.002570694087403599,0.003672420124862284,0.0014689680499449136,0.001836210062431142,0.0011017260374586854,0.001836210062431142,0.002570694087403599,0.0022034520749173708,0.0022034520749173708,0.0029379360998898272,0.002570694087403599,0.0011017260374586854,0.0014689680499449136,0.0011017260374586854,0.0003672420124862284,0.0,-0.0003672420124862284,-0.0003672420124862284,0.0,-0.0003672420124862284,-0.0003672420124862284,0.0007344840249724568,-0.0007344840249724568,0.0,0.0003672420124862284,0.0003672420124862284,-0.0007344840249724568,-0.0014689680499449136,-0.002570694087403599,-0.002570694087403599,-0.003672420124862284,-0.004039662137348513,-0.0029379360998898272,-0.003672420124862284,-0.0033051781123760557,-0.002570694087403599,-0.0044069041498347415,0.019463826661770108,0.012118986412045538,0.005508630187293426,0.010650018362100624,0.008079324274697026,0.005141388174807198,0.005141388174807198,0.004039662137348513,0.0033051781123760557,0.0014689680499449136,0.0033051781123760557,0.001836210062431142,0.0014689680499449136,0.0029379360998898272,0.006243114212265883,0.006610356224752111,0.0029379360998898272,0.0029379360998898272,0.003672420124862284,0.004039662137348513,0.0033051781123760557,-0.0003672420124862284,-0.0003672420124862284,0.0007344840249724568,0.0022034520749173708,0.0011017260374586854,0.0022034520749173708,0.0011017260374586854,0.0014689680499449136,0.0014689680499449136,0.001836210062431142,0.0033051781123760557,0.0029379360998898272,0.001836210062431142,0.0011017260374586854,0.0022034520749173708,0.0044069041498347415,0.004774146162320969,0.005141388174807198,0.0058758721997796545,0.0058758721997796545,0.0058758721997796545,0.005508630187293426,0.005508630187293426,0.006243114212265883,0.006610356224752111,0.008813808299669483,0.010650018362100624,0.011384502387073081,0.012853470437017995,0.01395519647447668,0.013587954461990452,0.015424164524421594,0.016893132574366507,0.01652589056188028,0.015424164524421594,0.015424164524421594,0.016158648549394052,0.015424164524421594,0.014689680499449137,0.014689680499449137,0.01395519647447668,0.016158648549394052,0.016893132574366507,0.01836210062431142,0.017994858611825194,0.01652589056188028,0.017627616599338966,0.01872934263679765,0.01836210062431142,0.019463826661770108,0.01872934263679765,0.017994858611825194,0.016158648549394052,0.017260374586852735,0.017260374586852735,0.017627616599338966,0.016893132574366507,0.015424164524421594,0.015056922511935366,0.01395519647447668,0.012853470437017995,0.011384502387073081,0.012486228424531766,0.012118986412045538,0.011384502387073081,0.012486228424531766,0.013220712449504223,0.011384502387073081,0.009548292324641938,0.009915534337128168,0.008446566287183254,0.00697759823723834,0.007344840249724568,0.006610356224752111,0.006243114212265883,0.006610356224752111,0.008446566287183254,0.008446566287183254,0.0058758721997796545,0.0058758721997796545,0.006243114212265883,0.006610356224752111,0.006243114212265883,0.0058758721997796545,0.0058758721997796545,0.005508630187293426,0.005508630187293426,0.00697759823723834,0.006610356224752111,0.006243114212265883,0.006610356224752111,0.006610356224752111,0.00697759823723834,0.005508630187293426,0.003672420124862284,0.002570694087403599,0.0011017260374586854,0.0011017260374586854,0.002570694087403599,0.0007344840249724568,0.0011017260374586854,0.0007344840249724568,0.0011017260374586854,0.0003672420124862284,0.0,-0.0011017260374586854,-0.004039662137348513,-0.0029379360998898272,-0.0033051781123760557,-0.0044069041498347415,-0.0029379360998898272,-0.004039662137348513,-0.006243114212265883,-0.004039662137348513,-0.0033051781123760557,-0.003672420124862284,-0.003672420124862284,-0.003672420124862284,-0.004039662137348513],\"type\":\"scatter\"}],                        {\"height\":500,\"legend\":{\"bgcolor\":\"#151516\",\"font\":{\"color\":\"#D9D9D9\"}},\"paper_bgcolor\":\"#151516\",\"plot_bgcolor\":\"#151516\",\"template\":{\"data\":{\"barpolar\":[{\"marker\":{\"line\":{\"color\":\"#E5ECF6\",\"width\":0.5},\"pattern\":{\"fillmode\":\"overlay\",\"size\":10,\"solidity\":0.2}},\"type\":\"barpolar\"}],\"bar\":[{\"error_x\":{\"color\":\"#2a3f5f\"},\"error_y\":{\"color\":\"#2a3f5f\"},\"marker\":{\"line\":{\"color\":\"#E5ECF6\",\"width\":0.5},\"pattern\":{\"fillmode\":\"overlay\",\"size\":10,\"solidity\":0.2}},\"type\":\"bar\"}],\"carpet\":[{\"aaxis\":{\"endlinecolor\":\"#2a3f5f\",\"gridcolor\":\"white\",\"linecolor\":\"white\",\"minorgridcolor\":\"white\",\"startlinecolor\":\"#2a3f5f\"},\"baxis\":{\"endlinecolor\":\"#2a3f5f\",\"gridcolor\":\"white\",\"linecolor\":\"white\",\"minorgridcolor\":\"white\",\"startlinecolor\":\"#2a3f5f\"},\"type\":\"carpet\"}],\"choropleth\":[{\"colorbar\":{\"outlinewidth\":0,\"ticks\":\"\"},\"type\":\"choropleth\"}],\"contourcarpet\":[{\"colorbar\":{\"outlinewidth\":0,\"ticks\":\"\"},\"type\":\"contourcarpet\"}],\"contour\":[{\"colorbar\":{\"outlinewidth\":0,\"ticks\":\"\"},\"colorscale\":[[0.0,\"#0d0887\"],[0.1111111111111111,\"#46039f\"],[0.2222222222222222,\"#7201a8\"],[0.3333333333333333,\"#9c179e\"],[0.4444444444444444,\"#bd3786\"],[0.5555555555555556,\"#d8576b\"],[0.6666666666666666,\"#ed7953\"],[0.7777777777777778,\"#fb9f3a\"],[0.8888888888888888,\"#fdca26\"],[1.0,\"#f0f921\"]],\"type\":\"contour\"}],\"heatmapgl\":[{\"colorbar\":{\"outlinewidth\":0,\"ticks\":\"\"},\"colorscale\":[[0.0,\"#0d0887\"],[0.1111111111111111,\"#46039f\"],[0.2222222222222222,\"#7201a8\"],[0.3333333333333333,\"#9c179e\"],[0.4444444444444444,\"#bd3786\"],[0.5555555555555556,\"#d8576b\"],[0.6666666666666666,\"#ed7953\"],[0.7777777777777778,\"#fb9f3a\"],[0.8888888888888888,\"#fdca26\"],[1.0,\"#f0f921\"]],\"type\":\"heatmapgl\"}],\"heatmap\":[{\"colorbar\":{\"outlinewidth\":0,\"ticks\":\"\"},\"colorscale\":[[0.0,\"#0d0887\"],[0.1111111111111111,\"#46039f\"],[0.2222222222222222,\"#7201a8\"],[0.3333333333333333,\"#9c179e\"],[0.4444444444444444,\"#bd3786\"],[0.5555555555555556,\"#d8576b\"],[0.6666666666666666,\"#ed7953\"],[0.7777777777777778,\"#fb9f3a\"],[0.8888888888888888,\"#fdca26\"],[1.0,\"#f0f921\"]],\"type\":\"heatmap\"}],\"histogram2dcontour\":[{\"colorbar\":{\"outlinewidth\":0,\"ticks\":\"\"},\"colorscale\":[[0.0,\"#0d0887\"],[0.1111111111111111,\"#46039f\"],[0.2222222222222222,\"#7201a8\"],[0.3333333333333333,\"#9c179e\"],[0.4444444444444444,\"#bd3786\"],[0.5555555555555556,\"#d8576b\"],[0.6666666666666666,\"#ed7953\"],[0.7777777777777778,\"#fb9f3a\"],[0.8888888888888888,\"#fdca26\"],[1.0,\"#f0f921\"]],\"type\":\"histogram2dcontour\"}],\"histogram2d\":[{\"colorbar\":{\"outlinewidth\":0,\"ticks\":\"\"},\"colorscale\":[[0.0,\"#0d0887\"],[0.1111111111111111,\"#46039f\"],[0.2222222222222222,\"#7201a8\"],[0.3333333333333333,\"#9c179e\"],[0.4444444444444444,\"#bd3786\"],[0.5555555555555556,\"#d8576b\"],[0.6666666666666666,\"#ed7953\"],[0.7777777777777778,\"#fb9f3a\"],[0.8888888888888888,\"#fdca26\"],[1.0,\"#f0f921\"]],\"type\":\"histogram2d\"}],\"histogram\":[{\"marker\":{\"pattern\":{\"fillmode\":\"overlay\",\"size\":10,\"solidity\":0.2}},\"type\":\"histogram\"}],\"mesh3d\":[{\"colorbar\":{\"outlinewidth\":0,\"ticks\":\"\"},\"type\":\"mesh3d\"}],\"parcoords\":[{\"line\":{\"colorbar\":{\"outlinewidth\":0,\"ticks\":\"\"}},\"type\":\"parcoords\"}],\"pie\":[{\"automargin\":true,\"type\":\"pie\"}],\"scatter3d\":[{\"line\":{\"colorbar\":{\"outlinewidth\":0,\"ticks\":\"\"}},\"marker\":{\"colorbar\":{\"outlinewidth\":0,\"ticks\":\"\"}},\"type\":\"scatter3d\"}],\"scattercarpet\":[{\"marker\":{\"colorbar\":{\"outlinewidth\":0,\"ticks\":\"\"}},\"type\":\"scattercarpet\"}],\"scattergeo\":[{\"marker\":{\"colorbar\":{\"outlinewidth\":0,\"ticks\":\"\"}},\"type\":\"scattergeo\"}],\"scattergl\":[{\"marker\":{\"colorbar\":{\"outlinewidth\":0,\"ticks\":\"\"}},\"type\":\"scattergl\"}],\"scattermapbox\":[{\"marker\":{\"colorbar\":{\"outlinewidth\":0,\"ticks\":\"\"}},\"type\":\"scattermapbox\"}],\"scatterpolargl\":[{\"marker\":{\"colorbar\":{\"outlinewidth\":0,\"ticks\":\"\"}},\"type\":\"scatterpolargl\"}],\"scatterpolar\":[{\"marker\":{\"colorbar\":{\"outlinewidth\":0,\"ticks\":\"\"}},\"type\":\"scatterpolar\"}],\"scatter\":[{\"marker\":{\"colorbar\":{\"outlinewidth\":0,\"ticks\":\"\"}},\"type\":\"scatter\"}],\"scatterternary\":[{\"marker\":{\"colorbar\":{\"outlinewidth\":0,\"ticks\":\"\"}},\"type\":\"scatterternary\"}],\"surface\":[{\"colorbar\":{\"outlinewidth\":0,\"ticks\":\"\"},\"colorscale\":[[0.0,\"#0d0887\"],[0.1111111111111111,\"#46039f\"],[0.2222222222222222,\"#7201a8\"],[0.3333333333333333,\"#9c179e\"],[0.4444444444444444,\"#bd3786\"],[0.5555555555555556,\"#d8576b\"],[0.6666666666666666,\"#ed7953\"],[0.7777777777777778,\"#fb9f3a\"],[0.8888888888888888,\"#fdca26\"],[1.0,\"#f0f921\"]],\"type\":\"surface\"}],\"table\":[{\"cells\":{\"fill\":{\"color\":\"#EBF0F8\"},\"line\":{\"color\":\"white\"}},\"header\":{\"fill\":{\"color\":\"#C8D4E3\"},\"line\":{\"color\":\"white\"}},\"type\":\"table\"}]},\"layout\":{\"annotationdefaults\":{\"arrowcolor\":\"#2a3f5f\",\"arrowhead\":0,\"arrowwidth\":1},\"autotypenumbers\":\"strict\",\"coloraxis\":{\"colorbar\":{\"outlinewidth\":0,\"ticks\":\"\"}},\"colorscale\":{\"diverging\":[[0,\"#8e0152\"],[0.1,\"#c51b7d\"],[0.2,\"#de77ae\"],[0.3,\"#f1b6da\"],[0.4,\"#fde0ef\"],[0.5,\"#f7f7f7\"],[0.6,\"#e6f5d0\"],[0.7,\"#b8e186\"],[0.8,\"#7fbc41\"],[0.9,\"#4d9221\"],[1,\"#276419\"]],\"sequential\":[[0.0,\"#0d0887\"],[0.1111111111111111,\"#46039f\"],[0.2222222222222222,\"#7201a8\"],[0.3333333333333333,\"#9c179e\"],[0.4444444444444444,\"#bd3786\"],[0.5555555555555556,\"#d8576b\"],[0.6666666666666666,\"#ed7953\"],[0.7777777777777778,\"#fb9f3a\"],[0.8888888888888888,\"#fdca26\"],[1.0,\"#f0f921\"]],\"sequentialminus\":[[0.0,\"#0d0887\"],[0.1111111111111111,\"#46039f\"],[0.2222222222222222,\"#7201a8\"],[0.3333333333333333,\"#9c179e\"],[0.4444444444444444,\"#bd3786\"],[0.5555555555555556,\"#d8576b\"],[0.6666666666666666,\"#ed7953\"],[0.7777777777777778,\"#fb9f3a\"],[0.8888888888888888,\"#fdca26\"],[1.0,\"#f0f921\"]]},\"colorway\":[\"#636efa\",\"#EF553B\",\"#00cc96\",\"#ab63fa\",\"#FFA15A\",\"#19d3f3\",\"#FF6692\",\"#B6E880\",\"#FF97FF\",\"#FECB52\"],\"font\":{\"color\":\"#2a3f5f\"},\"geo\":{\"bgcolor\":\"white\",\"lakecolor\":\"white\",\"landcolor\":\"#E5ECF6\",\"showlakes\":true,\"showland\":true,\"subunitcolor\":\"white\"},\"hoverlabel\":{\"align\":\"left\"},\"hovermode\":\"closest\",\"mapbox\":{\"style\":\"light\"},\"paper_bgcolor\":\"white\",\"plot_bgcolor\":\"#E5ECF6\",\"polar\":{\"angularaxis\":{\"gridcolor\":\"white\",\"linecolor\":\"white\",\"ticks\":\"\"},\"bgcolor\":\"#E5ECF6\",\"radialaxis\":{\"gridcolor\":\"white\",\"linecolor\":\"white\",\"ticks\":\"\"}},\"scene\":{\"xaxis\":{\"backgroundcolor\":\"#E5ECF6\",\"gridcolor\":\"white\",\"gridwidth\":2,\"linecolor\":\"white\",\"showbackground\":true,\"ticks\":\"\",\"zerolinecolor\":\"white\"},\"yaxis\":{\"backgroundcolor\":\"#E5ECF6\",\"gridcolor\":\"white\",\"gridwidth\":2,\"linecolor\":\"white\",\"showbackground\":true,\"ticks\":\"\",\"zerolinecolor\":\"white\"},\"zaxis\":{\"backgroundcolor\":\"#E5ECF6\",\"gridcolor\":\"white\",\"gridwidth\":2,\"linecolor\":\"white\",\"showbackground\":true,\"ticks\":\"\",\"zerolinecolor\":\"white\"}},\"shapedefaults\":{\"line\":{\"color\":\"#2a3f5f\"}},\"ternary\":{\"aaxis\":{\"gridcolor\":\"white\",\"linecolor\":\"white\",\"ticks\":\"\"},\"baxis\":{\"gridcolor\":\"white\",\"linecolor\":\"white\",\"ticks\":\"\"},\"bgcolor\":\"#E5ECF6\",\"caxis\":{\"gridcolor\":\"white\",\"linecolor\":\"white\",\"ticks\":\"\"}},\"title\":{\"x\":0.05},\"xaxis\":{\"automargin\":true,\"gridcolor\":\"white\",\"linecolor\":\"white\",\"ticks\":\"\",\"title\":{\"standoff\":15},\"zerolinecolor\":\"white\",\"zerolinewidth\":2},\"yaxis\":{\"automargin\":true,\"gridcolor\":\"white\",\"linecolor\":\"white\",\"ticks\":\"\",\"title\":{\"standoff\":15},\"zerolinecolor\":\"white\",\"zerolinewidth\":2}}},\"title\":{\"font\":{\"color\":\"#D9D9D9\"},\"text\":\"Intraday % Net Change for CORN DEC3 (Timezone: America/Chicago)\"},\"width\":1100,\"xaxis\":{\"gridcolor\":\"#434343\",\"showgrid\":true,\"tickfont\":{\"color\":\"#C2C2C2\"},\"title\":{\"font\":{\"color\":\"#D9D9D9\"},\"text\":\"\"},\"zerolinecolor\":\"#666570\"},\"yaxis\":{\"gridcolor\":\"#434343\",\"showgrid\":true,\"tickfont\":{\"color\":\"#C2C2C2\"},\"title\":{\"font\":{\"color\":\"#D9D9D9\"},\"text\":\"\"},\"zerolinecolor\":\"#666570\"}},                        {\"showLink\": true, \"linkText\": \"Export to plot.ly\", \"plotlyServerURL\": \"https://plot.ly\", \"responsive\": true}                    ).then(function(){\n",
       "                            \n",
       "var gd = document.getElementById('1e660fcd-df69-4e06-99a6-9d5ed24f3292');\n",
       "var x = new MutationObserver(function (mutations, observer) {{\n",
       "        var display = window.getComputedStyle(gd).display;\n",
       "        if (!display || display === 'none') {{\n",
       "            console.log([gd, 'removed!']);\n",
       "            Plotly.purge(gd);\n",
       "            observer.disconnect();\n",
       "        }}\n",
       "}});\n",
       "\n",
       "// Listen for the removal of the full notebook cells\n",
       "var notebookContainer = gd.closest('#notebook-container');\n",
       "if (notebookContainer) {{\n",
       "    x.observe(notebookContainer, {childList: true});\n",
       "}}\n",
       "\n",
       "// Listen for the clearing of the current output cell\n",
       "var outputEl = gd.closest('.output');\n",
       "if (outputEl) {{\n",
       "    x.observe(outputEl, {childList: true});\n",
       "}}\n",
       "\n",
       "                        })                };                });            </script>        </div>"
      ]
     },
     "metadata": {},
     "output_type": "display_data"
    },
    {
     "data": {
      "application/vnd.plotly.v1+json": {
       "config": {
        "linkText": "Export to plot.ly",
        "plotlyServerURL": "https://plot.ly",
        "showLink": true
       },
       "data": [
        {
         "marker": {
          "color": "rgba(255, 153, 51, 0.6)",
          "line": {
           "color": "rgba(255, 153, 51, 1.0)",
           "width": 1
          }
         },
         "name": "2023-06-30",
         "orientation": "v",
         "text": "",
         "type": "bar",
         "x": [
          "10:21:00",
          "10:22:00",
          "10:23:00",
          "10:24:00",
          "10:25:00",
          "10:26:00",
          "10:27:00",
          "10:28:00",
          "10:29:00",
          "10:30:00",
          "10:31:00",
          "10:32:00",
          "10:33:00",
          "10:34:00",
          "10:35:00",
          "10:36:00",
          "10:37:00",
          "10:38:00",
          "10:39:00",
          "10:40:00",
          "10:41:00",
          "10:42:00",
          "10:43:00",
          "10:44:00",
          "10:45:00",
          "10:46:00",
          "10:47:00",
          "10:48:00",
          "10:49:00",
          "10:50:00",
          "10:51:00",
          "10:52:00",
          "10:53:00",
          "10:54:00",
          "10:55:00",
          "10:56:00",
          "10:57:00",
          "10:58:00",
          "10:59:00",
          "11:00:00",
          "11:01:00",
          "11:02:00",
          "11:03:00",
          "11:04:00",
          "11:05:00",
          "11:06:00",
          "11:07:00",
          "11:08:00",
          "11:09:00",
          "11:10:00",
          "11:11:00",
          "11:12:00",
          "11:13:00",
          "11:14:00",
          "11:15:00",
          "11:16:00",
          "11:17:00",
          "11:18:00",
          "11:19:00",
          "11:20:00",
          "11:21:00",
          "11:22:00",
          "11:23:00",
          "11:24:00",
          "11:25:00",
          "11:26:00",
          "11:27:00",
          "11:28:00",
          "11:29:00",
          "11:30:00",
          "11:31:00",
          "11:32:00",
          "11:33:00",
          "11:34:00",
          "11:35:00",
          "11:36:00",
          "11:37:00",
          "11:38:00",
          "11:39:00",
          "11:40:00",
          "11:41:00",
          "11:42:00",
          "11:43:00",
          "11:44:00",
          "11:45:00",
          "11:46:00",
          "11:47:00",
          "11:48:00",
          "11:49:00",
          "11:50:00",
          "11:51:00",
          "11:52:00",
          "11:53:00",
          "11:54:00",
          "11:55:00",
          "11:56:00",
          "11:57:00",
          "11:58:00",
          "11:59:00",
          "12:00:00",
          "12:01:00",
          "12:02:00",
          "12:03:00",
          "12:04:00",
          "12:05:00",
          "12:06:00",
          "12:07:00",
          "12:08:00",
          "12:09:00",
          "12:10:00",
          "12:11:00",
          "12:12:00",
          "12:13:00",
          "12:14:00",
          "12:15:00",
          "12:16:00",
          "12:17:00",
          "12:18:00",
          "12:19:00",
          "12:20:00",
          "12:21:00",
          "12:22:00",
          "12:23:00",
          "12:24:00",
          "12:25:00",
          "12:26:00",
          "12:27:00",
          "12:28:00",
          "12:29:00",
          "12:30:00",
          "12:31:00",
          "12:32:00",
          "12:33:00",
          "12:34:00",
          "12:35:00",
          "12:36:00",
          "12:37:00",
          "12:38:00",
          "12:39:00",
          "12:40:00",
          "12:41:00",
          "12:42:00",
          "12:43:00",
          "12:44:00",
          "12:45:00",
          "12:46:00",
          "12:47:00",
          "12:48:00",
          "12:49:00",
          "12:50:00",
          "12:51:00",
          "12:52:00",
          "12:53:00",
          "12:54:00",
          "12:55:00",
          "12:56:00",
          "12:57:00",
          "12:58:00",
          "12:59:00",
          "13:00:00",
          "13:01:00",
          "13:02:00",
          "13:03:00",
          "13:04:00",
          "13:05:00",
          "13:06:00",
          "13:07:00",
          "13:08:00",
          "13:09:00",
          "13:10:00",
          "13:11:00",
          "13:12:00",
          "13:13:00",
          "13:14:00",
          "13:15:00",
          "13:16:00",
          "13:17:00",
          "13:18:00",
          "13:19:00"
         ],
         "y": [
          90,
          135,
          253,
          282,
          139,
          228,
          156,
          175,
          146,
          184,
          123,
          47,
          97,
          813,
          283,
          154,
          182,
          103,
          173,
          106,
          337,
          250,
          372,
          267,
          105,
          148,
          769,
          134,
          796,
          326,
          614,
          1042,
          154,
          181,
          166,
          465,
          394,
          421,
          894,
          13072,
          8962,
          3855,
          7211,
          3882,
          6461,
          7571,
          8247,
          9012,
          6490,
          5549,
          5391,
          4711,
          2984,
          1862,
          2054,
          1806,
          2762,
          2254,
          4015,
          2963,
          5863,
          2959,
          1406,
          1438,
          2390,
          2660,
          2794,
          4308,
          886,
          3111,
          1231,
          360,
          718,
          628,
          1166,
          2020,
          1018,
          878,
          2035,
          1466,
          1573,
          2090,
          1025,
          875,
          792,
          1125,
          1161,
          359,
          1179,
          2418,
          660,
          2585,
          698,
          358,
          985,
          595,
          1438,
          426,
          731,
          623,
          571,
          487,
          325,
          438,
          351,
          1117,
          1522,
          526,
          236,
          1277,
          875,
          660,
          360,
          569,
          1144,
          611,
          891,
          1532,
          790,
          1530,
          842,
          78,
          328,
          480,
          405,
          257,
          165,
          230,
          131,
          1157,
          1435,
          718,
          236,
          2864,
          2202,
          1900,
          747,
          3356,
          3061,
          1516,
          653,
          652,
          1276,
          2149,
          771,
          323,
          2326,
          1381,
          2110,
          2572,
          879,
          1044,
          544,
          1224,
          599,
          970,
          1983,
          625,
          1648,
          2126,
          3292,
          1113,
          1421,
          776,
          2258,
          1806,
          1094,
          1572,
          576,
          1042,
          1664,
          872,
          7235,
          13775,
          2593,
          2397,
          2084,
          928,
          769
         ]
        },
        {
         "marker": {
          "color": "rgba(55, 128, 191, 0.6)",
          "line": {
           "color": "rgba(55, 128, 191, 1.0)",
           "width": 1
          }
         },
         "name": "2023-03-31",
         "orientation": "v",
         "text": "",
         "type": "bar",
         "x": [
          "10:21:00",
          "10:22:00",
          "10:23:00",
          "10:24:00",
          "10:25:00",
          "10:26:00",
          "10:27:00",
          "10:28:00",
          "10:29:00",
          "10:30:00",
          "10:31:00",
          "10:32:00",
          "10:33:00",
          "10:34:00",
          "10:35:00",
          "10:36:00",
          "10:37:00",
          "10:38:00",
          "10:39:00",
          "10:40:00",
          "10:41:00",
          "10:42:00",
          "10:43:00",
          "10:44:00",
          "10:45:00",
          "10:46:00",
          "10:47:00",
          "10:48:00",
          "10:49:00",
          "10:50:00",
          "10:51:00",
          "10:52:00",
          "10:53:00",
          "10:54:00",
          "10:55:00",
          "10:56:00",
          "10:57:00",
          "10:58:00",
          "10:59:00",
          "11:00:00",
          "11:01:00",
          "11:02:00",
          "11:03:00",
          "11:04:00",
          "11:05:00",
          "11:06:00",
          "11:07:00",
          "11:08:00",
          "11:09:00",
          "11:10:00",
          "11:11:00",
          "11:12:00",
          "11:13:00",
          "11:14:00",
          "11:15:00",
          "11:16:00",
          "11:17:00",
          "11:18:00",
          "11:19:00",
          "11:20:00",
          "11:21:00",
          "11:22:00",
          "11:23:00",
          "11:24:00",
          "11:25:00",
          "11:26:00",
          "11:27:00",
          "11:28:00",
          "11:29:00",
          "11:30:00",
          "11:31:00",
          "11:32:00",
          "11:33:00",
          "11:34:00",
          "11:35:00",
          "11:36:00",
          "11:37:00",
          "11:38:00",
          "11:39:00",
          "11:40:00",
          "11:41:00",
          "11:42:00",
          "11:43:00",
          "11:44:00",
          "11:45:00",
          "11:46:00",
          "11:47:00",
          "11:48:00",
          "11:49:00",
          "11:50:00",
          "11:51:00",
          "11:52:00",
          "11:53:00",
          "11:54:00",
          "11:55:00",
          "11:56:00",
          "11:57:00",
          "11:58:00",
          "11:59:00",
          "12:00:00",
          "12:01:00",
          "12:02:00",
          "12:03:00",
          "12:04:00",
          "12:05:00",
          "12:06:00",
          "12:07:00",
          "12:08:00",
          "12:09:00",
          "12:10:00",
          "12:11:00",
          "12:12:00",
          "12:13:00",
          "12:14:00",
          "12:15:00",
          "12:16:00",
          "12:17:00",
          "12:18:00",
          "12:19:00",
          "12:20:00",
          "12:21:00",
          "12:22:00",
          "12:23:00",
          "12:24:00",
          "12:25:00",
          "12:26:00",
          "12:27:00",
          "12:28:00",
          "12:29:00",
          "12:30:00",
          "12:31:00",
          "12:32:00",
          "12:33:00",
          "12:34:00",
          "12:35:00",
          "12:36:00",
          "12:37:00",
          "12:38:00",
          "12:39:00",
          "12:40:00",
          "12:41:00",
          "12:42:00",
          "12:43:00",
          "12:44:00",
          "12:45:00",
          "12:46:00",
          "12:47:00",
          "12:48:00",
          "12:49:00",
          "12:50:00",
          "12:51:00",
          "12:52:00",
          "12:53:00",
          "12:54:00",
          "12:55:00",
          "12:56:00",
          "12:57:00",
          "12:58:00",
          "12:59:00",
          "13:00:00",
          "13:01:00",
          "13:02:00",
          "13:03:00",
          "13:04:00",
          "13:05:00",
          "13:06:00",
          "13:07:00",
          "13:08:00",
          "13:09:00",
          "13:10:00",
          "13:11:00",
          "13:12:00",
          "13:13:00",
          "13:14:00",
          "13:15:00",
          "13:16:00",
          "13:17:00",
          "13:18:00",
          "13:19:00"
         ],
         "y": [
          376,
          169,
          1220,
          393,
          403,
          156,
          272,
          483,
          265,
          257,
          587,
          226,
          270,
          556,
          897,
          501,
          471,
          346,
          555,
          750,
          326,
          137,
          233,
          537,
          598,
          317,
          116,
          298,
          138,
          425,
          282,
          172,
          290,
          267,
          625,
          494,
          641,
          468,
          372,
          5622,
          11638,
          4072,
          1766,
          1386,
          2922,
          1190,
          2088,
          1364,
          1407,
          888,
          1274,
          1352,
          1116,
          532,
          1001,
          1455,
          2169,
          4643,
          1045,
          584,
          940,
          399,
          1516,
          96,
          335,
          193,
          1153,
          241,
          386,
          1607,
          812,
          383,
          719,
          788,
          394,
          229,
          304,
          696,
          1157,
          102,
          177,
          487,
          502,
          350,
          387,
          341,
          282,
          511,
          200,
          638,
          406,
          407,
          510,
          460,
          189,
          380,
          230,
          143,
          677,
          289,
          487,
          256,
          565,
          133,
          236,
          285,
          469,
          104,
          594,
          254,
          136,
          74,
          231,
          293,
          690,
          353,
          148,
          838,
          609,
          347,
          418,
          214,
          317,
          172,
          197,
          511,
          365,
          256,
          334,
          166,
          598,
          382,
          715,
          214,
          136,
          222,
          163,
          830,
          95,
          583,
          1227,
          218,
          697,
          416,
          541,
          778,
          1148,
          881,
          269,
          443,
          480,
          248,
          379,
          312,
          414,
          187,
          371,
          180,
          519,
          568,
          335,
          1045,
          609,
          516,
          663,
          1001,
          318,
          777,
          209,
          497,
          1150,
          639,
          681,
          5837,
          1667,
          650,
          1388,
          460,
          893
         ]
        },
        {
         "marker": {
          "color": "rgba(50, 171, 96, 0.6)",
          "line": {
           "color": "rgba(50, 171, 96, 1.0)",
           "width": 1
          }
         },
         "name": "2023-02-28",
         "orientation": "v",
         "text": "",
         "type": "bar",
         "x": [
          "10:21:00",
          "10:22:00",
          "10:23:00",
          "10:24:00",
          "10:25:00",
          "10:26:00",
          "10:27:00",
          "10:28:00",
          "10:29:00",
          "10:30:00",
          "10:31:00",
          "10:32:00",
          "10:33:00",
          "10:34:00",
          "10:35:00",
          "10:36:00",
          "10:37:00",
          "10:38:00",
          "10:39:00",
          "10:40:00",
          "10:41:00",
          "10:42:00",
          "10:43:00",
          "10:44:00",
          "10:45:00",
          "10:46:00",
          "10:47:00",
          "10:48:00",
          "10:49:00",
          "10:50:00",
          "10:51:00",
          "10:52:00",
          "10:53:00",
          "10:54:00",
          "10:55:00",
          "10:56:00",
          "10:57:00",
          "10:58:00",
          "10:59:00",
          "11:00:00",
          "11:01:00",
          "11:02:00",
          "11:03:00",
          "11:04:00",
          "11:05:00",
          "11:06:00",
          "11:07:00",
          "11:08:00",
          "11:09:00",
          "11:10:00",
          "11:11:00",
          "11:12:00",
          "11:13:00",
          "11:14:00",
          "11:15:00",
          "11:16:00",
          "11:17:00",
          "11:18:00",
          "11:19:00",
          "11:20:00",
          "11:21:00",
          "11:22:00",
          "11:23:00",
          "11:24:00",
          "11:25:00",
          "11:26:00",
          "11:27:00",
          "11:28:00",
          "11:29:00",
          "11:30:00",
          "11:31:00",
          "11:32:00",
          "11:33:00",
          "11:34:00",
          "11:35:00",
          "11:36:00",
          "11:37:00",
          "11:38:00",
          "11:39:00",
          "11:40:00",
          "11:41:00",
          "11:42:00",
          "11:43:00",
          "11:44:00",
          "11:45:00",
          "11:46:00",
          "11:47:00",
          "11:48:00",
          "11:49:00",
          "11:50:00",
          "11:51:00",
          "11:52:00",
          "11:53:00",
          "11:54:00",
          "11:55:00",
          "11:56:00",
          "11:57:00",
          "11:58:00",
          "11:59:00",
          "12:00:00",
          "12:01:00",
          "12:02:00",
          "12:03:00",
          "12:04:00",
          "12:05:00",
          "12:06:00",
          "12:07:00",
          "12:08:00",
          "12:09:00",
          "12:10:00",
          "12:11:00",
          "12:12:00",
          "12:13:00",
          "12:14:00",
          "12:15:00",
          "12:16:00",
          "12:17:00",
          "12:18:00",
          "12:19:00",
          "12:20:00",
          "12:21:00",
          "12:22:00",
          "12:23:00",
          "12:24:00",
          "12:25:00",
          "12:26:00",
          "12:27:00",
          "12:28:00",
          "12:29:00",
          "12:30:00",
          "12:31:00",
          "12:32:00",
          "12:33:00",
          "12:34:00",
          "12:35:00",
          "12:36:00",
          "12:37:00",
          "12:38:00",
          "12:39:00",
          "12:40:00",
          "12:41:00",
          "12:42:00",
          "12:43:00",
          "12:44:00",
          "12:45:00",
          "12:46:00",
          "12:47:00",
          "12:48:00",
          "12:49:00",
          "12:50:00",
          "12:51:00",
          "12:52:00",
          "12:53:00",
          "12:54:00",
          "12:55:00",
          "12:56:00",
          "12:57:00",
          "12:58:00",
          "12:59:00",
          "13:00:00",
          "13:01:00",
          "13:02:00",
          "13:03:00",
          "13:04:00",
          "13:05:00",
          "13:06:00",
          "13:07:00",
          "13:08:00",
          "13:09:00",
          "13:10:00",
          "13:11:00",
          "13:12:00",
          "13:13:00",
          "13:14:00",
          "13:15:00",
          "13:16:00",
          "13:17:00",
          "13:18:00",
          "13:19:00"
         ],
         "y": [
          578,
          542,
          235,
          392,
          344,
          2200,
          253,
          914,
          288,
          197,
          853,
          110,
          219,
          344,
          570,
          385,
          221,
          628,
          250,
          391,
          142,
          277,
          80,
          98,
          316,
          283,
          1043,
          551,
          431,
          376,
          1629,
          613,
          550,
          369,
          965,
          1115,
          1470,
          338,
          454,
          472,
          472,
          158,
          641,
          318,
          1186,
          1064,
          200,
          288,
          1062,
          903,
          304,
          493,
          1019,
          686,
          574,
          481,
          586,
          780,
          701,
          323,
          1064,
          404,
          461,
          69,
          257,
          198,
          452,
          842,
          838,
          1762,
          3722,
          3626,
          1171,
          480,
          936,
          320,
          792,
          306,
          519,
          132,
          558,
          141,
          344,
          184,
          262,
          2061,
          457,
          331,
          467,
          556,
          610,
          268,
          915,
          950,
          750,
          220,
          246,
          165,
          845,
          204,
          240,
          372,
          363,
          707,
          222,
          1190,
          545,
          388,
          141,
          518,
          166,
          249,
          512,
          310,
          835,
          157,
          87,
          134,
          471,
          202,
          99,
          251,
          352,
          59,
          127,
          410,
          138,
          212,
          169,
          123,
          452,
          409,
          337,
          99,
          207,
          201,
          248,
          364,
          333,
          196,
          124,
          360,
          351,
          498,
          270,
          977,
          165,
          592,
          213,
          262,
          111,
          93,
          69,
          467,
          415,
          124,
          143,
          219,
          495,
          733,
          418,
          383,
          171,
          471,
          597,
          478,
          244,
          488,
          335,
          429,
          510,
          356,
          1039,
          8353,
          2243,
          474,
          751,
          623,
          801
         ]
        },
        {
         "marker": {
          "color": "rgba(128, 0, 128, 0.6)",
          "line": {
           "color": "rgba(128, 0, 128, 1.0)",
           "width": 1
          }
         },
         "name": "2022-11-30",
         "orientation": "v",
         "text": "",
         "type": "bar",
         "x": [
          "10:21:00",
          "10:22:00",
          "10:23:00",
          "10:24:00",
          "10:25:00",
          "10:26:00",
          "10:27:00",
          "10:28:00",
          "10:29:00",
          "10:30:00",
          "10:31:00",
          "10:32:00",
          "10:33:00",
          "10:34:00",
          "10:35:00",
          "10:36:00",
          "10:37:00",
          "10:38:00",
          "10:39:00",
          "10:40:00",
          "10:41:00",
          "10:42:00",
          "10:43:00",
          "10:44:00",
          "10:45:00",
          "10:46:00",
          "10:47:00",
          "10:48:00",
          "10:49:00",
          "10:50:00",
          "10:51:00",
          "10:52:00",
          "10:53:00",
          "10:54:00",
          "10:55:00",
          "10:56:00",
          "10:57:00",
          "10:58:00",
          "10:59:00",
          "11:00:00",
          "11:01:00",
          "11:02:00",
          "11:03:00",
          "11:04:00",
          "11:05:00",
          "11:06:00",
          "11:07:00",
          "11:08:00",
          "11:09:00",
          "11:10:00",
          "11:11:00",
          "11:12:00",
          "11:13:00",
          "11:14:00",
          "11:15:00",
          "11:16:00",
          "11:17:00",
          "11:18:00",
          "11:19:00",
          "11:20:00",
          "11:21:00",
          "11:22:00",
          "11:23:00",
          "11:24:00",
          "11:25:00",
          "11:26:00",
          "11:27:00",
          "11:28:00",
          "11:29:00",
          "11:30:00",
          "11:31:00",
          "11:32:00",
          "11:33:00",
          "11:34:00",
          "11:35:00",
          "11:36:00",
          "11:37:00",
          "11:38:00",
          "11:39:00",
          "11:40:00",
          "11:41:00",
          "11:42:00",
          "11:43:00",
          "11:44:00",
          "11:45:00",
          "11:46:00",
          "11:47:00",
          "11:48:00",
          "11:49:00",
          "11:50:00",
          "11:51:00",
          "11:52:00",
          "11:53:00",
          "11:54:00",
          "11:55:00",
          "11:56:00",
          "11:57:00",
          "11:58:00",
          "11:59:00",
          "12:00:00",
          "12:01:00",
          "12:02:00",
          "12:03:00",
          "12:04:00",
          "12:05:00",
          "12:06:00",
          "12:07:00",
          "12:08:00",
          "12:09:00",
          "12:10:00",
          "12:11:00",
          "12:12:00",
          "12:13:00",
          "12:14:00",
          "12:15:00",
          "12:16:00",
          "12:17:00",
          "12:18:00",
          "12:19:00",
          "12:20:00",
          "12:21:00",
          "12:22:00",
          "12:23:00",
          "12:24:00",
          "12:25:00",
          "12:26:00",
          "12:27:00",
          "12:28:00",
          "12:29:00",
          "12:30:00",
          "12:31:00",
          "12:32:00",
          "12:33:00",
          "12:34:00",
          "12:35:00",
          "12:36:00",
          "12:37:00",
          "12:38:00",
          "12:39:00",
          "12:40:00",
          "12:41:00",
          "12:42:00",
          "12:43:00",
          "12:44:00",
          "12:45:00",
          "12:46:00",
          "12:47:00",
          "12:48:00",
          "12:49:00",
          "12:50:00",
          "12:51:00",
          "12:52:00",
          "12:53:00",
          "12:54:00",
          "12:55:00",
          "12:56:00",
          "12:57:00",
          "12:58:00",
          "12:59:00",
          "13:00:00",
          "13:01:00",
          "13:02:00",
          "13:03:00",
          "13:04:00",
          "13:05:00",
          "13:06:00",
          "13:07:00",
          "13:08:00",
          "13:09:00",
          "13:10:00",
          "13:11:00",
          "13:12:00",
          "13:13:00",
          "13:14:00",
          "13:15:00",
          "13:16:00",
          "13:17:00",
          "13:18:00",
          "13:19:00"
         ],
         "y": [
          111,
          523,
          159,
          23,
          207,
          251,
          188,
          132,
          104,
          204,
          168,
          91,
          53,
          214,
          176,
          372,
          174,
          77,
          758,
          130,
          85,
          203,
          338,
          210,
          308,
          124,
          116,
          537,
          42,
          253,
          199,
          91,
          104,
          77,
          349,
          192,
          177,
          186,
          158,
          251,
          537,
          163,
          206,
          417,
          166,
          219,
          166,
          151,
          85,
          273,
          123,
          132,
          133,
          482,
          312,
          196,
          311,
          90,
          108,
          90,
          122,
          205,
          50,
          144,
          113,
          57,
          126,
          265,
          119,
          385,
          119,
          1156,
          418,
          1222,
          165,
          545,
          219,
          180,
          174,
          156,
          117,
          348,
          247,
          128,
          186,
          24,
          365,
          193,
          173,
          1328,
          215,
          72,
          396,
          121,
          173,
          140,
          162,
          188,
          67,
          62,
          151,
          168,
          49,
          354,
          72,
          593,
          195,
          37,
          71,
          71,
          148,
          165,
          171,
          286,
          476,
          264,
          71,
          554,
          177,
          274,
          166,
          224,
          91,
          360,
          151,
          155,
          48,
          251,
          72,
          285,
          89,
          96,
          187,
          200,
          119,
          251,
          267,
          130,
          77,
          73,
          125,
          121,
          89,
          72,
          71,
          221,
          241,
          253,
          139,
          180,
          112,
          112,
          80,
          264,
          176,
          1033,
          765,
          286,
          242,
          575,
          105,
          726,
          465,
          153,
          197,
          161,
          721,
          616,
          454,
          258,
          170,
          352,
          673,
          5343,
          857,
          785,
          649,
          180,
          429
         ]
        },
        {
         "marker": {
          "color": "rgba(219, 64, 82, 0.6)",
          "line": {
           "color": "rgba(219, 64, 82, 1.0)",
           "width": 1
          }
         },
         "name": "2022-09-30",
         "orientation": "v",
         "text": "",
         "type": "bar",
         "x": [
          "10:21:00",
          "10:22:00",
          "10:23:00",
          "10:24:00",
          "10:25:00",
          "10:26:00",
          "10:27:00",
          "10:28:00",
          "10:29:00",
          "10:30:00",
          "10:31:00",
          "10:32:00",
          "10:33:00",
          "10:34:00",
          "10:35:00",
          "10:36:00",
          "10:37:00",
          "10:38:00",
          "10:39:00",
          "10:40:00",
          "10:41:00",
          "10:42:00",
          "10:43:00",
          "10:44:00",
          "10:45:00",
          "10:46:00",
          "10:47:00",
          "10:48:00",
          "10:49:00",
          "10:50:00",
          "10:51:00",
          "10:52:00",
          "10:53:00",
          "10:54:00",
          "10:55:00",
          "10:56:00",
          "10:57:00",
          "10:58:00",
          "10:59:00",
          "11:00:00",
          "11:01:00",
          "11:02:00",
          "11:03:00",
          "11:04:00",
          "11:05:00",
          "11:06:00",
          "11:07:00",
          "11:08:00",
          "11:09:00",
          "11:10:00",
          "11:11:00",
          "11:12:00",
          "11:13:00",
          "11:14:00",
          "11:15:00",
          "11:16:00",
          "11:17:00",
          "11:18:00",
          "11:19:00",
          "11:20:00",
          "11:21:00",
          "11:22:00",
          "11:23:00",
          "11:24:00",
          "11:25:00",
          "11:26:00",
          "11:27:00",
          "11:28:00",
          "11:29:00",
          "11:30:00",
          "11:31:00",
          "11:32:00",
          "11:33:00",
          "11:34:00",
          "11:35:00",
          "11:36:00",
          "11:37:00",
          "11:38:00",
          "11:39:00",
          "11:40:00",
          "11:41:00",
          "11:42:00",
          "11:43:00",
          "11:44:00",
          "11:45:00",
          "11:46:00",
          "11:47:00",
          "11:48:00",
          "11:49:00",
          "11:50:00",
          "11:51:00",
          "11:52:00",
          "11:53:00",
          "11:54:00",
          "11:55:00",
          "11:56:00",
          "11:57:00",
          "11:58:00",
          "11:59:00",
          "12:00:00",
          "12:01:00",
          "12:02:00",
          "12:03:00",
          "12:04:00",
          "12:05:00",
          "12:06:00",
          "12:07:00",
          "12:08:00",
          "12:09:00",
          "12:10:00",
          "12:11:00",
          "12:12:00",
          "12:13:00",
          "12:14:00",
          "12:15:00",
          "12:16:00",
          "12:17:00",
          "12:18:00",
          "12:19:00",
          "12:20:00",
          "12:21:00",
          "12:22:00",
          "12:23:00",
          "12:24:00",
          "12:25:00",
          "12:26:00",
          "12:27:00",
          "12:28:00",
          "12:29:00",
          "12:30:00",
          "12:31:00",
          "12:32:00",
          "12:33:00",
          "12:34:00",
          "12:35:00",
          "12:36:00",
          "12:37:00",
          "12:38:00",
          "12:39:00",
          "12:40:00",
          "12:41:00",
          "12:42:00",
          "12:43:00",
          "12:44:00",
          "12:45:00",
          "12:46:00",
          "12:47:00",
          "12:48:00",
          "12:49:00",
          "12:50:00",
          "12:51:00",
          "12:52:00",
          "12:53:00",
          "12:54:00",
          "12:55:00",
          "12:56:00",
          "12:57:00",
          "12:58:00",
          "12:59:00",
          "13:00:00",
          "13:01:00",
          "13:02:00",
          "13:03:00",
          "13:04:00",
          "13:05:00",
          "13:06:00",
          "13:07:00",
          "13:08:00",
          "13:09:00",
          "13:10:00",
          "13:11:00",
          "13:12:00",
          "13:13:00",
          "13:14:00",
          "13:15:00",
          "13:16:00",
          "13:17:00",
          "13:18:00",
          "13:19:00"
         ],
         "y": [
          636,
          583,
          457,
          681,
          596,
          395,
          351,
          739,
          239,
          450,
          214,
          390,
          481,
          312,
          293,
          183,
          385,
          233,
          425,
          202,
          160,
          427,
          245,
          787,
          235,
          2638,
          299,
          854,
          569,
          916,
          1078,
          365,
          581,
          208,
          273,
          152,
          289,
          178,
          300,
          9825,
          8123,
          4289,
          5011,
          1450,
          2397,
          3666,
          3200,
          2029,
          2777,
          2192,
          2061,
          763,
          1036,
          1862,
          635,
          787,
          523,
          1847,
          571,
          541,
          856,
          641,
          474,
          702,
          447,
          371,
          517,
          529,
          400,
          490,
          947,
          732,
          487,
          293,
          251,
          522,
          843,
          441,
          729,
          900,
          657,
          453,
          924,
          800,
          313,
          1030,
          1578,
          1272,
          1205,
          1107,
          599,
          1194,
          2198,
          1088,
          577,
          384,
          484,
          334,
          1061,
          615,
          685,
          584,
          695,
          594,
          776,
          427,
          269,
          1160,
          686,
          1112,
          1236,
          783,
          1113,
          535,
          459,
          448,
          505,
          615,
          712,
          633,
          365,
          696,
          982,
          441,
          412,
          277,
          236,
          396,
          1015,
          480,
          648,
          1475,
          532,
          280,
          411,
          617,
          930,
          568,
          586,
          579,
          434,
          928,
          696,
          177,
          383,
          225,
          415,
          789,
          676,
          474,
          262,
          331,
          260,
          255,
          919,
          1125,
          811,
          531,
          405,
          578,
          716,
          655,
          565,
          704,
          384,
          2342,
          1540,
          1320,
          2012,
          858,
          694,
          816,
          2305,
          6625,
          1213,
          439,
          197,
          422,
          717
         ]
        }
       ],
       "layout": {
        "barmode": "stack",
        "height": 500,
        "legend": {
         "bgcolor": "#151516",
         "font": {
          "color": "#D9D9D9"
         },
         "traceorder": "normal"
        },
        "paper_bgcolor": "#151516",
        "plot_bgcolor": "#151516",
        "template": {
         "data": {
          "bar": [
           {
            "error_x": {
             "color": "#2a3f5f"
            },
            "error_y": {
             "color": "#2a3f5f"
            },
            "marker": {
             "line": {
              "color": "#E5ECF6",
              "width": 0.5
             },
             "pattern": {
              "fillmode": "overlay",
              "size": 10,
              "solidity": 0.2
             }
            },
            "type": "bar"
           }
          ],
          "barpolar": [
           {
            "marker": {
             "line": {
              "color": "#E5ECF6",
              "width": 0.5
             },
             "pattern": {
              "fillmode": "overlay",
              "size": 10,
              "solidity": 0.2
             }
            },
            "type": "barpolar"
           }
          ],
          "carpet": [
           {
            "aaxis": {
             "endlinecolor": "#2a3f5f",
             "gridcolor": "white",
             "linecolor": "white",
             "minorgridcolor": "white",
             "startlinecolor": "#2a3f5f"
            },
            "baxis": {
             "endlinecolor": "#2a3f5f",
             "gridcolor": "white",
             "linecolor": "white",
             "minorgridcolor": "white",
             "startlinecolor": "#2a3f5f"
            },
            "type": "carpet"
           }
          ],
          "choropleth": [
           {
            "colorbar": {
             "outlinewidth": 0,
             "ticks": ""
            },
            "type": "choropleth"
           }
          ],
          "contour": [
           {
            "colorbar": {
             "outlinewidth": 0,
             "ticks": ""
            },
            "colorscale": [
             [
              0,
              "#0d0887"
             ],
             [
              0.1111111111111111,
              "#46039f"
             ],
             [
              0.2222222222222222,
              "#7201a8"
             ],
             [
              0.3333333333333333,
              "#9c179e"
             ],
             [
              0.4444444444444444,
              "#bd3786"
             ],
             [
              0.5555555555555556,
              "#d8576b"
             ],
             [
              0.6666666666666666,
              "#ed7953"
             ],
             [
              0.7777777777777778,
              "#fb9f3a"
             ],
             [
              0.8888888888888888,
              "#fdca26"
             ],
             [
              1,
              "#f0f921"
             ]
            ],
            "type": "contour"
           }
          ],
          "contourcarpet": [
           {
            "colorbar": {
             "outlinewidth": 0,
             "ticks": ""
            },
            "type": "contourcarpet"
           }
          ],
          "heatmap": [
           {
            "colorbar": {
             "outlinewidth": 0,
             "ticks": ""
            },
            "colorscale": [
             [
              0,
              "#0d0887"
             ],
             [
              0.1111111111111111,
              "#46039f"
             ],
             [
              0.2222222222222222,
              "#7201a8"
             ],
             [
              0.3333333333333333,
              "#9c179e"
             ],
             [
              0.4444444444444444,
              "#bd3786"
             ],
             [
              0.5555555555555556,
              "#d8576b"
             ],
             [
              0.6666666666666666,
              "#ed7953"
             ],
             [
              0.7777777777777778,
              "#fb9f3a"
             ],
             [
              0.8888888888888888,
              "#fdca26"
             ],
             [
              1,
              "#f0f921"
             ]
            ],
            "type": "heatmap"
           }
          ],
          "heatmapgl": [
           {
            "colorbar": {
             "outlinewidth": 0,
             "ticks": ""
            },
            "colorscale": [
             [
              0,
              "#0d0887"
             ],
             [
              0.1111111111111111,
              "#46039f"
             ],
             [
              0.2222222222222222,
              "#7201a8"
             ],
             [
              0.3333333333333333,
              "#9c179e"
             ],
             [
              0.4444444444444444,
              "#bd3786"
             ],
             [
              0.5555555555555556,
              "#d8576b"
             ],
             [
              0.6666666666666666,
              "#ed7953"
             ],
             [
              0.7777777777777778,
              "#fb9f3a"
             ],
             [
              0.8888888888888888,
              "#fdca26"
             ],
             [
              1,
              "#f0f921"
             ]
            ],
            "type": "heatmapgl"
           }
          ],
          "histogram": [
           {
            "marker": {
             "pattern": {
              "fillmode": "overlay",
              "size": 10,
              "solidity": 0.2
             }
            },
            "type": "histogram"
           }
          ],
          "histogram2d": [
           {
            "colorbar": {
             "outlinewidth": 0,
             "ticks": ""
            },
            "colorscale": [
             [
              0,
              "#0d0887"
             ],
             [
              0.1111111111111111,
              "#46039f"
             ],
             [
              0.2222222222222222,
              "#7201a8"
             ],
             [
              0.3333333333333333,
              "#9c179e"
             ],
             [
              0.4444444444444444,
              "#bd3786"
             ],
             [
              0.5555555555555556,
              "#d8576b"
             ],
             [
              0.6666666666666666,
              "#ed7953"
             ],
             [
              0.7777777777777778,
              "#fb9f3a"
             ],
             [
              0.8888888888888888,
              "#fdca26"
             ],
             [
              1,
              "#f0f921"
             ]
            ],
            "type": "histogram2d"
           }
          ],
          "histogram2dcontour": [
           {
            "colorbar": {
             "outlinewidth": 0,
             "ticks": ""
            },
            "colorscale": [
             [
              0,
              "#0d0887"
             ],
             [
              0.1111111111111111,
              "#46039f"
             ],
             [
              0.2222222222222222,
              "#7201a8"
             ],
             [
              0.3333333333333333,
              "#9c179e"
             ],
             [
              0.4444444444444444,
              "#bd3786"
             ],
             [
              0.5555555555555556,
              "#d8576b"
             ],
             [
              0.6666666666666666,
              "#ed7953"
             ],
             [
              0.7777777777777778,
              "#fb9f3a"
             ],
             [
              0.8888888888888888,
              "#fdca26"
             ],
             [
              1,
              "#f0f921"
             ]
            ],
            "type": "histogram2dcontour"
           }
          ],
          "mesh3d": [
           {
            "colorbar": {
             "outlinewidth": 0,
             "ticks": ""
            },
            "type": "mesh3d"
           }
          ],
          "parcoords": [
           {
            "line": {
             "colorbar": {
              "outlinewidth": 0,
              "ticks": ""
             }
            },
            "type": "parcoords"
           }
          ],
          "pie": [
           {
            "automargin": true,
            "type": "pie"
           }
          ],
          "scatter": [
           {
            "marker": {
             "colorbar": {
              "outlinewidth": 0,
              "ticks": ""
             }
            },
            "type": "scatter"
           }
          ],
          "scatter3d": [
           {
            "line": {
             "colorbar": {
              "outlinewidth": 0,
              "ticks": ""
             }
            },
            "marker": {
             "colorbar": {
              "outlinewidth": 0,
              "ticks": ""
             }
            },
            "type": "scatter3d"
           }
          ],
          "scattercarpet": [
           {
            "marker": {
             "colorbar": {
              "outlinewidth": 0,
              "ticks": ""
             }
            },
            "type": "scattercarpet"
           }
          ],
          "scattergeo": [
           {
            "marker": {
             "colorbar": {
              "outlinewidth": 0,
              "ticks": ""
             }
            },
            "type": "scattergeo"
           }
          ],
          "scattergl": [
           {
            "marker": {
             "colorbar": {
              "outlinewidth": 0,
              "ticks": ""
             }
            },
            "type": "scattergl"
           }
          ],
          "scattermapbox": [
           {
            "marker": {
             "colorbar": {
              "outlinewidth": 0,
              "ticks": ""
             }
            },
            "type": "scattermapbox"
           }
          ],
          "scatterpolar": [
           {
            "marker": {
             "colorbar": {
              "outlinewidth": 0,
              "ticks": ""
             }
            },
            "type": "scatterpolar"
           }
          ],
          "scatterpolargl": [
           {
            "marker": {
             "colorbar": {
              "outlinewidth": 0,
              "ticks": ""
             }
            },
            "type": "scatterpolargl"
           }
          ],
          "scatterternary": [
           {
            "marker": {
             "colorbar": {
              "outlinewidth": 0,
              "ticks": ""
             }
            },
            "type": "scatterternary"
           }
          ],
          "surface": [
           {
            "colorbar": {
             "outlinewidth": 0,
             "ticks": ""
            },
            "colorscale": [
             [
              0,
              "#0d0887"
             ],
             [
              0.1111111111111111,
              "#46039f"
             ],
             [
              0.2222222222222222,
              "#7201a8"
             ],
             [
              0.3333333333333333,
              "#9c179e"
             ],
             [
              0.4444444444444444,
              "#bd3786"
             ],
             [
              0.5555555555555556,
              "#d8576b"
             ],
             [
              0.6666666666666666,
              "#ed7953"
             ],
             [
              0.7777777777777778,
              "#fb9f3a"
             ],
             [
              0.8888888888888888,
              "#fdca26"
             ],
             [
              1,
              "#f0f921"
             ]
            ],
            "type": "surface"
           }
          ],
          "table": [
           {
            "cells": {
             "fill": {
              "color": "#EBF0F8"
             },
             "line": {
              "color": "white"
             }
            },
            "header": {
             "fill": {
              "color": "#C8D4E3"
             },
             "line": {
              "color": "white"
             }
            },
            "type": "table"
           }
          ]
         },
         "layout": {
          "annotationdefaults": {
           "arrowcolor": "#2a3f5f",
           "arrowhead": 0,
           "arrowwidth": 1
          },
          "autotypenumbers": "strict",
          "coloraxis": {
           "colorbar": {
            "outlinewidth": 0,
            "ticks": ""
           }
          },
          "colorscale": {
           "diverging": [
            [
             0,
             "#8e0152"
            ],
            [
             0.1,
             "#c51b7d"
            ],
            [
             0.2,
             "#de77ae"
            ],
            [
             0.3,
             "#f1b6da"
            ],
            [
             0.4,
             "#fde0ef"
            ],
            [
             0.5,
             "#f7f7f7"
            ],
            [
             0.6,
             "#e6f5d0"
            ],
            [
             0.7,
             "#b8e186"
            ],
            [
             0.8,
             "#7fbc41"
            ],
            [
             0.9,
             "#4d9221"
            ],
            [
             1,
             "#276419"
            ]
           ],
           "sequential": [
            [
             0,
             "#0d0887"
            ],
            [
             0.1111111111111111,
             "#46039f"
            ],
            [
             0.2222222222222222,
             "#7201a8"
            ],
            [
             0.3333333333333333,
             "#9c179e"
            ],
            [
             0.4444444444444444,
             "#bd3786"
            ],
            [
             0.5555555555555556,
             "#d8576b"
            ],
            [
             0.6666666666666666,
             "#ed7953"
            ],
            [
             0.7777777777777778,
             "#fb9f3a"
            ],
            [
             0.8888888888888888,
             "#fdca26"
            ],
            [
             1,
             "#f0f921"
            ]
           ],
           "sequentialminus": [
            [
             0,
             "#0d0887"
            ],
            [
             0.1111111111111111,
             "#46039f"
            ],
            [
             0.2222222222222222,
             "#7201a8"
            ],
            [
             0.3333333333333333,
             "#9c179e"
            ],
            [
             0.4444444444444444,
             "#bd3786"
            ],
            [
             0.5555555555555556,
             "#d8576b"
            ],
            [
             0.6666666666666666,
             "#ed7953"
            ],
            [
             0.7777777777777778,
             "#fb9f3a"
            ],
            [
             0.8888888888888888,
             "#fdca26"
            ],
            [
             1,
             "#f0f921"
            ]
           ]
          },
          "colorway": [
           "#636efa",
           "#EF553B",
           "#00cc96",
           "#ab63fa",
           "#FFA15A",
           "#19d3f3",
           "#FF6692",
           "#B6E880",
           "#FF97FF",
           "#FECB52"
          ],
          "font": {
           "color": "#2a3f5f"
          },
          "geo": {
           "bgcolor": "white",
           "lakecolor": "white",
           "landcolor": "#E5ECF6",
           "showlakes": true,
           "showland": true,
           "subunitcolor": "white"
          },
          "hoverlabel": {
           "align": "left"
          },
          "hovermode": "closest",
          "mapbox": {
           "style": "light"
          },
          "paper_bgcolor": "white",
          "plot_bgcolor": "#E5ECF6",
          "polar": {
           "angularaxis": {
            "gridcolor": "white",
            "linecolor": "white",
            "ticks": ""
           },
           "bgcolor": "#E5ECF6",
           "radialaxis": {
            "gridcolor": "white",
            "linecolor": "white",
            "ticks": ""
           }
          },
          "scene": {
           "xaxis": {
            "backgroundcolor": "#E5ECF6",
            "gridcolor": "white",
            "gridwidth": 2,
            "linecolor": "white",
            "showbackground": true,
            "ticks": "",
            "zerolinecolor": "white"
           },
           "yaxis": {
            "backgroundcolor": "#E5ECF6",
            "gridcolor": "white",
            "gridwidth": 2,
            "linecolor": "white",
            "showbackground": true,
            "ticks": "",
            "zerolinecolor": "white"
           },
           "zaxis": {
            "backgroundcolor": "#E5ECF6",
            "gridcolor": "white",
            "gridwidth": 2,
            "linecolor": "white",
            "showbackground": true,
            "ticks": "",
            "zerolinecolor": "white"
           }
          },
          "shapedefaults": {
           "line": {
            "color": "#2a3f5f"
           }
          },
          "ternary": {
           "aaxis": {
            "gridcolor": "white",
            "linecolor": "white",
            "ticks": ""
           },
           "baxis": {
            "gridcolor": "white",
            "linecolor": "white",
            "ticks": ""
           },
           "bgcolor": "#E5ECF6",
           "caxis": {
            "gridcolor": "white",
            "linecolor": "white",
            "ticks": ""
           }
          },
          "title": {
           "x": 0.05
          },
          "xaxis": {
           "automargin": true,
           "gridcolor": "white",
           "linecolor": "white",
           "ticks": "",
           "title": {
            "standoff": 15
           },
           "zerolinecolor": "white",
           "zerolinewidth": 2
          },
          "yaxis": {
           "automargin": true,
           "gridcolor": "white",
           "linecolor": "white",
           "ticks": "",
           "title": {
            "standoff": 15
           },
           "zerolinecolor": "white",
           "zerolinewidth": 2
          }
         }
        },
        "title": {
         "font": {
          "color": "#D9D9D9"
         }
        },
        "width": 1100,
        "xaxis": {
         "autorange": true,
         "gridcolor": "#434343",
         "range": [
          -0.5,
          178.5
         ],
         "showgrid": true,
         "tickfont": {
          "color": "#C2C2C2"
         },
         "title": {
          "font": {
           "color": "#D9D9D9"
          },
          "text": ""
         },
         "type": "category",
         "zerolinecolor": "#666570"
        },
        "yaxis": {
         "autorange": true,
         "gridcolor": "#434343",
         "range": [
          0,
          42034.73684210527
         ],
         "showgrid": true,
         "tickfont": {
          "color": "#C2C2C2"
         },
         "title": {
          "font": {
           "color": "#D9D9D9"
          },
          "text": ""
         },
         "type": "linear",
         "zerolinecolor": "#666570"
        }
       }
      },
      "image/png": "[encoded data removed]",
      "text/html": [
       "<div>                            <div id=\"6f58648d-ac8c-472b-a32e-a2bcbcc5ed1b\" class=\"plotly-graph-div\" style=\"height:500px; width:1100px;\"></div>            <script type=\"text/javascript\">                require([\"plotly\"], function(Plotly) {                    window.PLOTLYENV=window.PLOTLYENV || {};\n",
       "                    window.PLOTLYENV.BASE_URL='https://plot.ly';                                    if (document.getElementById(\"6f58648d-ac8c-472b-a32e-a2bcbcc5ed1b\")) {                    Plotly.newPlot(                        \"6f58648d-ac8c-472b-a32e-a2bcbcc5ed1b\",                        [{\"marker\":{\"color\":\"rgba(255, 153, 51, 0.6)\",\"line\":{\"color\":\"rgba(255, 153, 51, 1.0)\",\"width\":1}},\"name\":\"2023-06-30\",\"orientation\":\"v\",\"text\":\"\",\"x\":[\"10:21:00\",\"10:22:00\",\"10:23:00\",\"10:24:00\",\"10:25:00\",\"10:26:00\",\"10:27:00\",\"10:28:00\",\"10:29:00\",\"10:30:00\",\"10:31:00\",\"10:32:00\",\"10:33:00\",\"10:34:00\",\"10:35:00\",\"10:36:00\",\"10:37:00\",\"10:38:00\",\"10:39:00\",\"10:40:00\",\"10:41:00\",\"10:42:00\",\"10:43:00\",\"10:44:00\",\"10:45:00\",\"10:46:00\",\"10:47:00\",\"10:48:00\",\"10:49:00\",\"10:50:00\",\"10:51:00\",\"10:52:00\",\"10:53:00\",\"10:54:00\",\"10:55:00\",\"10:56:00\",\"10:57:00\",\"10:58:00\",\"10:59:00\",\"11:00:00\",\"11:01:00\",\"11:02:00\",\"11:03:00\",\"11:04:00\",\"11:05:00\",\"11:06:00\",\"11:07:00\",\"11:08:00\",\"11:09:00\",\"11:10:00\",\"11:11:00\",\"11:12:00\",\"11:13:00\",\"11:14:00\",\"11:15:00\",\"11:16:00\",\"11:17:00\",\"11:18:00\",\"11:19:00\",\"11:20:00\",\"11:21:00\",\"11:22:00\",\"11:23:00\",\"11:24:00\",\"11:25:00\",\"11:26:00\",\"11:27:00\",\"11:28:00\",\"11:29:00\",\"11:30:00\",\"11:31:00\",\"11:32:00\",\"11:33:00\",\"11:34:00\",\"11:35:00\",\"11:36:00\",\"11:37:00\",\"11:38:00\",\"11:39:00\",\"11:40:00\",\"11:41:00\",\"11:42:00\",\"11:43:00\",\"11:44:00\",\"11:45:00\",\"11:46:00\",\"11:47:00\",\"11:48:00\",\"11:49:00\",\"11:50:00\",\"11:51:00\",\"11:52:00\",\"11:53:00\",\"11:54:00\",\"11:55:00\",\"11:56:00\",\"11:57:00\",\"11:58:00\",\"11:59:00\",\"12:00:00\",\"12:01:00\",\"12:02:00\",\"12:03:00\",\"12:04:00\",\"12:05:00\",\"12:06:00\",\"12:07:00\",\"12:08:00\",\"12:09:00\",\"12:10:00\",\"12:11:00\",\"12:12:00\",\"12:13:00\",\"12:14:00\",\"12:15:00\",\"12:16:00\",\"12:17:00\",\"12:18:00\",\"12:19:00\",\"12:20:00\",\"12:21:00\",\"12:22:00\",\"12:23:00\",\"12:24:00\",\"12:25:00\",\"12:26:00\",\"12:27:00\",\"12:28:00\",\"12:29:00\",\"12:30:00\",\"12:31:00\",\"12:32:00\",\"12:33:00\",\"12:34:00\",\"12:35:00\",\"12:36:00\",\"12:37:00\",\"12:38:00\",\"12:39:00\",\"12:40:00\",\"12:41:00\",\"12:42:00\",\"12:43:00\",\"12:44:00\",\"12:45:00\",\"12:46:00\",\"12:47:00\",\"12:48:00\",\"12:49:00\",\"12:50:00\",\"12:51:00\",\"12:52:00\",\"12:53:00\",\"12:54:00\",\"12:55:00\",\"12:56:00\",\"12:57:00\",\"12:58:00\",\"12:59:00\",\"13:00:00\",\"13:01:00\",\"13:02:00\",\"13:03:00\",\"13:04:00\",\"13:05:00\",\"13:06:00\",\"13:07:00\",\"13:08:00\",\"13:09:00\",\"13:10:00\",\"13:11:00\",\"13:12:00\",\"13:13:00\",\"13:14:00\",\"13:15:00\",\"13:16:00\",\"13:17:00\",\"13:18:00\",\"13:19:00\"],\"y\":[90,135,253,282,139,228,156,175,146,184,123,47,97,813,283,154,182,103,173,106,337,250,372,267,105,148,769,134,796,326,614,1042,154,181,166,465,394,421,894,13072,8962,3855,7211,3882,6461,7571,8247,9012,6490,5549,5391,4711,2984,1862,2054,1806,2762,2254,4015,2963,5863,2959,1406,1438,2390,2660,2794,4308,886,3111,1231,360,718,628,1166,2020,1018,878,2035,1466,1573,2090,1025,875,792,1125,1161,359,1179,2418,660,2585,698,358,985,595,1438,426,731,623,571,487,325,438,351,1117,1522,526,236,1277,875,660,360,569,1144,611,891,1532,790,1530,842,78,328,480,405,257,165,230,131,1157,1435,718,236,2864,2202,1900,747,3356,3061,1516,653,652,1276,2149,771,323,2326,1381,2110,2572,879,1044,544,1224,599,970,1983,625,1648,2126,3292,1113,1421,776,2258,1806,1094,1572,576,1042,1664,872,7235,13775,2593,2397,2084,928,769],\"type\":\"bar\"},{\"marker\":{\"color\":\"rgba(55, 128, 191, 0.6)\",\"line\":{\"color\":\"rgba(55, 128, 191, 1.0)\",\"width\":1}},\"name\":\"2023-03-31\",\"orientation\":\"v\",\"text\":\"\",\"x\":[\"10:21:00\",\"10:22:00\",\"10:23:00\",\"10:24:00\",\"10:25:00\",\"10:26:00\",\"10:27:00\",\"10:28:00\",\"10:29:00\",\"10:30:00\",\"10:31:00\",\"10:32:00\",\"10:33:00\",\"10:34:00\",\"10:35:00\",\"10:36:00\",\"10:37:00\",\"10:38:00\",\"10:39:00\",\"10:40:00\",\"10:41:00\",\"10:42:00\",\"10:43:00\",\"10:44:00\",\"10:45:00\",\"10:46:00\",\"10:47:00\",\"10:48:00\",\"10:49:00\",\"10:50:00\",\"10:51:00\",\"10:52:00\",\"10:53:00\",\"10:54:00\",\"10:55:00\",\"10:56:00\",\"10:57:00\",\"10:58:00\",\"10:59:00\",\"11:00:00\",\"11:01:00\",\"11:02:00\",\"11:03:00\",\"11:04:00\",\"11:05:00\",\"11:06:00\",\"11:07:00\",\"11:08:00\",\"11:09:00\",\"11:10:00\",\"11:11:00\",\"11:12:00\",\"11:13:00\",\"11:14:00\",\"11:15:00\",\"11:16:00\",\"11:17:00\",\"11:18:00\",\"11:19:00\",\"11:20:00\",\"11:21:00\",\"11:22:00\",\"11:23:00\",\"11:24:00\",\"11:25:00\",\"11:26:00\",\"11:27:00\",\"11:28:00\",\"11:29:00\",\"11:30:00\",\"11:31:00\",\"11:32:00\",\"11:33:00\",\"11:34:00\",\"11:35:00\",\"11:36:00\",\"11:37:00\",\"11:38:00\",\"11:39:00\",\"11:40:00\",\"11:41:00\",\"11:42:00\",\"11:43:00\",\"11:44:00\",\"11:45:00\",\"11:46:00\",\"11:47:00\",\"11:48:00\",\"11:49:00\",\"11:50:00\",\"11:51:00\",\"11:52:00\",\"11:53:00\",\"11:54:00\",\"11:55:00\",\"11:56:00\",\"11:57:00\",\"11:58:00\",\"11:59:00\",\"12:00:00\",\"12:01:00\",\"12:02:00\",\"12:03:00\",\"12:04:00\",\"12:05:00\",\"12:06:00\",\"12:07:00\",\"12:08:00\",\"12:09:00\",\"12:10:00\",\"12:11:00\",\"12:12:00\",\"12:13:00\",\"12:14:00\",\"12:15:00\",\"12:16:00\",\"12:17:00\",\"12:18:00\",\"12:19:00\",\"12:20:00\",\"12:21:00\",\"12:22:00\",\"12:23:00\",\"12:24:00\",\"12:25:00\",\"12:26:00\",\"12:27:00\",\"12:28:00\",\"12:29:00\",\"12:30:00\",\"12:31:00\",\"12:32:00\",\"12:33:00\",\"12:34:00\",\"12:35:00\",\"12:36:00\",\"12:37:00\",\"12:38:00\",\"12:39:00\",\"12:40:00\",\"12:41:00\",\"12:42:00\",\"12:43:00\",\"12:44:00\",\"12:45:00\",\"12:46:00\",\"12:47:00\",\"12:48:00\",\"12:49:00\",\"12:50:00\",\"12:51:00\",\"12:52:00\",\"12:53:00\",\"12:54:00\",\"12:55:00\",\"12:56:00\",\"12:57:00\",\"12:58:00\",\"12:59:00\",\"13:00:00\",\"13:01:00\",\"13:02:00\",\"13:03:00\",\"13:04:00\",\"13:05:00\",\"13:06:00\",\"13:07:00\",\"13:08:00\",\"13:09:00\",\"13:10:00\",\"13:11:00\",\"13:12:00\",\"13:13:00\",\"13:14:00\",\"13:15:00\",\"13:16:00\",\"13:17:00\",\"13:18:00\",\"13:19:00\"],\"y\":[376,169,1220,393,403,156,272,483,265,257,587,226,270,556,897,501,471,346,555,750,326,137,233,537,598,317,116,298,138,425,282,172,290,267,625,494,641,468,372,5622,11638,4072,1766,1386,2922,1190,2088,1364,1407,888,1274,1352,1116,532,1001,1455,2169,4643,1045,584,940,399,1516,96,335,193,1153,241,386,1607,812,383,719,788,394,229,304,696,1157,102,177,487,502,350,387,341,282,511,200,638,406,407,510,460,189,380,230,143,677,289,487,256,565,133,236,285,469,104,594,254,136,74,231,293,690,353,148,838,609,347,418,214,317,172,197,511,365,256,334,166,598,382,715,214,136,222,163,830,95,583,1227,218,697,416,541,778,1148,881,269,443,480,248,379,312,414,187,371,180,519,568,335,1045,609,516,663,1001,318,777,209,497,1150,639,681,5837,1667,650,1388,460,893],\"type\":\"bar\"},{\"marker\":{\"color\":\"rgba(50, 171, 96, 0.6)\",\"line\":{\"color\":\"rgba(50, 171, 96, 1.0)\",\"width\":1}},\"name\":\"2023-02-28\",\"orientation\":\"v\",\"text\":\"\",\"x\":[\"10:21:00\",\"10:22:00\",\"10:23:00\",\"10:24:00\",\"10:25:00\",\"10:26:00\",\"10:27:00\",\"10:28:00\",\"10:29:00\",\"10:30:00\",\"10:31:00\",\"10:32:00\",\"10:33:00\",\"10:34:00\",\"10:35:00\",\"10:36:00\",\"10:37:00\",\"10:38:00\",\"10:39:00\",\"10:40:00\",\"10:41:00\",\"10:42:00\",\"10:43:00\",\"10:44:00\",\"10:45:00\",\"10:46:00\",\"10:47:00\",\"10:48:00\",\"10:49:00\",\"10:50:00\",\"10:51:00\",\"10:52:00\",\"10:53:00\",\"10:54:00\",\"10:55:00\",\"10:56:00\",\"10:57:00\",\"10:58:00\",\"10:59:00\",\"11:00:00\",\"11:01:00\",\"11:02:00\",\"11:03:00\",\"11:04:00\",\"11:05:00\",\"11:06:00\",\"11:07:00\",\"11:08:00\",\"11:09:00\",\"11:10:00\",\"11:11:00\",\"11:12:00\",\"11:13:00\",\"11:14:00\",\"11:15:00\",\"11:16:00\",\"11:17:00\",\"11:18:00\",\"11:19:00\",\"11:20:00\",\"11:21:00\",\"11:22:00\",\"11:23:00\",\"11:24:00\",\"11:25:00\",\"11:26:00\",\"11:27:00\",\"11:28:00\",\"11:29:00\",\"11:30:00\",\"11:31:00\",\"11:32:00\",\"11:33:00\",\"11:34:00\",\"11:35:00\",\"11:36:00\",\"11:37:00\",\"11:38:00\",\"11:39:00\",\"11:40:00\",\"11:41:00\",\"11:42:00\",\"11:43:00\",\"11:44:00\",\"11:45:00\",\"11:46:00\",\"11:47:00\",\"11:48:00\",\"11:49:00\",\"11:50:00\",\"11:51:00\",\"11:52:00\",\"11:53:00\",\"11:54:00\",\"11:55:00\",\"11:56:00\",\"11:57:00\",\"11:58:00\",\"11:59:00\",\"12:00:00\",\"12:01:00\",\"12:02:00\",\"12:03:00\",\"12:04:00\",\"12:05:00\",\"12:06:00\",\"12:07:00\",\"12:08:00\",\"12:09:00\",\"12:10:00\",\"12:11:00\",\"12:12:00\",\"12:13:00\",\"12:14:00\",\"12:15:00\",\"12:16:00\",\"12:17:00\",\"12:18:00\",\"12:19:00\",\"12:20:00\",\"12:21:00\",\"12:22:00\",\"12:23:00\",\"12:24:00\",\"12:25:00\",\"12:26:00\",\"12:27:00\",\"12:28:00\",\"12:29:00\",\"12:30:00\",\"12:31:00\",\"12:32:00\",\"12:33:00\",\"12:34:00\",\"12:35:00\",\"12:36:00\",\"12:37:00\",\"12:38:00\",\"12:39:00\",\"12:40:00\",\"12:41:00\",\"12:42:00\",\"12:43:00\",\"12:44:00\",\"12:45:00\",\"12:46:00\",\"12:47:00\",\"12:48:00\",\"12:49:00\",\"12:50:00\",\"12:51:00\",\"12:52:00\",\"12:53:00\",\"12:54:00\",\"12:55:00\",\"12:56:00\",\"12:57:00\",\"12:58:00\",\"12:59:00\",\"13:00:00\",\"13:01:00\",\"13:02:00\",\"13:03:00\",\"13:04:00\",\"13:05:00\",\"13:06:00\",\"13:07:00\",\"13:08:00\",\"13:09:00\",\"13:10:00\",\"13:11:00\",\"13:12:00\",\"13:13:00\",\"13:14:00\",\"13:15:00\",\"13:16:00\",\"13:17:00\",\"13:18:00\",\"13:19:00\"],\"y\":[578,542,235,392,344,2200,253,914,288,197,853,110,219,344,570,385,221,628,250,391,142,277,80,98,316,283,1043,551,431,376,1629,613,550,369,965,1115,1470,338,454,472,472,158,641,318,1186,1064,200,288,1062,903,304,493,1019,686,574,481,586,780,701,323,1064,404,461,69,257,198,452,842,838,1762,3722,3626,1171,480,936,320,792,306,519,132,558,141,344,184,262,2061,457,331,467,556,610,268,915,950,750,220,246,165,845,204,240,372,363,707,222,1190,545,388,141,518,166,249,512,310,835,157,87,134,471,202,99,251,352,59,127,410,138,212,169,123,452,409,337,99,207,201,248,364,333,196,124,360,351,498,270,977,165,592,213,262,111,93,69,467,415,124,143,219,495,733,418,383,171,471,597,478,244,488,335,429,510,356,1039,8353,2243,474,751,623,801],\"type\":\"bar\"},{\"marker\":{\"color\":\"rgba(128, 0, 128, 0.6)\",\"line\":{\"color\":\"rgba(128, 0, 128, 1.0)\",\"width\":1}},\"name\":\"2022-11-30\",\"orientation\":\"v\",\"text\":\"\",\"x\":[\"10:21:00\",\"10:22:00\",\"10:23:00\",\"10:24:00\",\"10:25:00\",\"10:26:00\",\"10:27:00\",\"10:28:00\",\"10:29:00\",\"10:30:00\",\"10:31:00\",\"10:32:00\",\"10:33:00\",\"10:34:00\",\"10:35:00\",\"10:36:00\",\"10:37:00\",\"10:38:00\",\"10:39:00\",\"10:40:00\",\"10:41:00\",\"10:42:00\",\"10:43:00\",\"10:44:00\",\"10:45:00\",\"10:46:00\",\"10:47:00\",\"10:48:00\",\"10:49:00\",\"10:50:00\",\"10:51:00\",\"10:52:00\",\"10:53:00\",\"10:54:00\",\"10:55:00\",\"10:56:00\",\"10:57:00\",\"10:58:00\",\"10:59:00\",\"11:00:00\",\"11:01:00\",\"11:02:00\",\"11:03:00\",\"11:04:00\",\"11:05:00\",\"11:06:00\",\"11:07:00\",\"11:08:00\",\"11:09:00\",\"11:10:00\",\"11:11:00\",\"11:12:00\",\"11:13:00\",\"11:14:00\",\"11:15:00\",\"11:16:00\",\"11:17:00\",\"11:18:00\",\"11:19:00\",\"11:20:00\",\"11:21:00\",\"11:22:00\",\"11:23:00\",\"11:24:00\",\"11:25:00\",\"11:26:00\",\"11:27:00\",\"11:28:00\",\"11:29:00\",\"11:30:00\",\"11:31:00\",\"11:32:00\",\"11:33:00\",\"11:34:00\",\"11:35:00\",\"11:36:00\",\"11:37:00\",\"11:38:00\",\"11:39:00\",\"11:40:00\",\"11:41:00\",\"11:42:00\",\"11:43:00\",\"11:44:00\",\"11:45:00\",\"11:46:00\",\"11:47:00\",\"11:48:00\",\"11:49:00\",\"11:50:00\",\"11:51:00\",\"11:52:00\",\"11:53:00\",\"11:54:00\",\"11:55:00\",\"11:56:00\",\"11:57:00\",\"11:58:00\",\"11:59:00\",\"12:00:00\",\"12:01:00\",\"12:02:00\",\"12:03:00\",\"12:04:00\",\"12:05:00\",\"12:06:00\",\"12:07:00\",\"12:08:00\",\"12:09:00\",\"12:10:00\",\"12:11:00\",\"12:12:00\",\"12:13:00\",\"12:14:00\",\"12:15:00\",\"12:16:00\",\"12:17:00\",\"12:18:00\",\"12:19:00\",\"12:20:00\",\"12:21:00\",\"12:22:00\",\"12:23:00\",\"12:24:00\",\"12:25:00\",\"12:26:00\",\"12:27:00\",\"12:28:00\",\"12:29:00\",\"12:30:00\",\"12:31:00\",\"12:32:00\",\"12:33:00\",\"12:34:00\",\"12:35:00\",\"12:36:00\",\"12:37:00\",\"12:38:00\",\"12:39:00\",\"12:40:00\",\"12:41:00\",\"12:42:00\",\"12:43:00\",\"12:44:00\",\"12:45:00\",\"12:46:00\",\"12:47:00\",\"12:48:00\",\"12:49:00\",\"12:50:00\",\"12:51:00\",\"12:52:00\",\"12:53:00\",\"12:54:00\",\"12:55:00\",\"12:56:00\",\"12:57:00\",\"12:58:00\",\"12:59:00\",\"13:00:00\",\"13:01:00\",\"13:02:00\",\"13:03:00\",\"13:04:00\",\"13:05:00\",\"13:06:00\",\"13:07:00\",\"13:08:00\",\"13:09:00\",\"13:10:00\",\"13:11:00\",\"13:12:00\",\"13:13:00\",\"13:14:00\",\"13:15:00\",\"13:16:00\",\"13:17:00\",\"13:18:00\",\"13:19:00\"],\"y\":[111,523,159,23,207,251,188,132,104,204,168,91,53,214,176,372,174,77,758,130,85,203,338,210,308,124,116,537,42,253,199,91,104,77,349,192,177,186,158,251,537,163,206,417,166,219,166,151,85,273,123,132,133,482,312,196,311,90,108,90,122,205,50,144,113,57,126,265,119,385,119,1156,418,1222,165,545,219,180,174,156,117,348,247,128,186,24,365,193,173,1328,215,72,396,121,173,140,162,188,67,62,151,168,49,354,72,593,195,37,71,71,148,165,171,286,476,264,71,554,177,274,166,224,91,360,151,155,48,251,72,285,89,96,187,200,119,251,267,130,77,73,125,121,89,72,71,221,241,253,139,180,112,112,80,264,176,1033,765,286,242,575,105,726,465,153,197,161,721,616,454,258,170,352,673,5343,857,785,649,180,429],\"type\":\"bar\"},{\"marker\":{\"color\":\"rgba(219, 64, 82, 0.6)\",\"line\":{\"color\":\"rgba(219, 64, 82, 1.0)\",\"width\":1}},\"name\":\"2022-09-30\",\"orientation\":\"v\",\"text\":\"\",\"x\":[\"10:21:00\",\"10:22:00\",\"10:23:00\",\"10:24:00\",\"10:25:00\",\"10:26:00\",\"10:27:00\",\"10:28:00\",\"10:29:00\",\"10:30:00\",\"10:31:00\",\"10:32:00\",\"10:33:00\",\"10:34:00\",\"10:35:00\",\"10:36:00\",\"10:37:00\",\"10:38:00\",\"10:39:00\",\"10:40:00\",\"10:41:00\",\"10:42:00\",\"10:43:00\",\"10:44:00\",\"10:45:00\",\"10:46:00\",\"10:47:00\",\"10:48:00\",\"10:49:00\",\"10:50:00\",\"10:51:00\",\"10:52:00\",\"10:53:00\",\"10:54:00\",\"10:55:00\",\"10:56:00\",\"10:57:00\",\"10:58:00\",\"10:59:00\",\"11:00:00\",\"11:01:00\",\"11:02:00\",\"11:03:00\",\"11:04:00\",\"11:05:00\",\"11:06:00\",\"11:07:00\",\"11:08:00\",\"11:09:00\",\"11:10:00\",\"11:11:00\",\"11:12:00\",\"11:13:00\",\"11:14:00\",\"11:15:00\",\"11:16:00\",\"11:17:00\",\"11:18:00\",\"11:19:00\",\"11:20:00\",\"11:21:00\",\"11:22:00\",\"11:23:00\",\"11:24:00\",\"11:25:00\",\"11:26:00\",\"11:27:00\",\"11:28:00\",\"11:29:00\",\"11:30:00\",\"11:31:00\",\"11:32:00\",\"11:33:00\",\"11:34:00\",\"11:35:00\",\"11:36:00\",\"11:37:00\",\"11:38:00\",\"11:39:00\",\"11:40:00\",\"11:41:00\",\"11:42:00\",\"11:43:00\",\"11:44:00\",\"11:45:00\",\"11:46:00\",\"11:47:00\",\"11:48:00\",\"11:49:00\",\"11:50:00\",\"11:51:00\",\"11:52:00\",\"11:53:00\",\"11:54:00\",\"11:55:00\",\"11:56:00\",\"11:57:00\",\"11:58:00\",\"11:59:00\",\"12:00:00\",\"12:01:00\",\"12:02:00\",\"12:03:00\",\"12:04:00\",\"12:05:00\",\"12:06:00\",\"12:07:00\",\"12:08:00\",\"12:09:00\",\"12:10:00\",\"12:11:00\",\"12:12:00\",\"12:13:00\",\"12:14:00\",\"12:15:00\",\"12:16:00\",\"12:17:00\",\"12:18:00\",\"12:19:00\",\"12:20:00\",\"12:21:00\",\"12:22:00\",\"12:23:00\",\"12:24:00\",\"12:25:00\",\"12:26:00\",\"12:27:00\",\"12:28:00\",\"12:29:00\",\"12:30:00\",\"12:31:00\",\"12:32:00\",\"12:33:00\",\"12:34:00\",\"12:35:00\",\"12:36:00\",\"12:37:00\",\"12:38:00\",\"12:39:00\",\"12:40:00\",\"12:41:00\",\"12:42:00\",\"12:43:00\",\"12:44:00\",\"12:45:00\",\"12:46:00\",\"12:47:00\",\"12:48:00\",\"12:49:00\",\"12:50:00\",\"12:51:00\",\"12:52:00\",\"12:53:00\",\"12:54:00\",\"12:55:00\",\"12:56:00\",\"12:57:00\",\"12:58:00\",\"12:59:00\",\"13:00:00\",\"13:01:00\",\"13:02:00\",\"13:03:00\",\"13:04:00\",\"13:05:00\",\"13:06:00\",\"13:07:00\",\"13:08:00\",\"13:09:00\",\"13:10:00\",\"13:11:00\",\"13:12:00\",\"13:13:00\",\"13:14:00\",\"13:15:00\",\"13:16:00\",\"13:17:00\",\"13:18:00\",\"13:19:00\"],\"y\":[636,583,457,681,596,395,351,739,239,450,214,390,481,312,293,183,385,233,425,202,160,427,245,787,235,2638,299,854,569,916,1078,365,581,208,273,152,289,178,300,9825,8123,4289,5011,1450,2397,3666,3200,2029,2777,2192,2061,763,1036,1862,635,787,523,1847,571,541,856,641,474,702,447,371,517,529,400,490,947,732,487,293,251,522,843,441,729,900,657,453,924,800,313,1030,1578,1272,1205,1107,599,1194,2198,1088,577,384,484,334,1061,615,685,584,695,594,776,427,269,1160,686,1112,1236,783,1113,535,459,448,505,615,712,633,365,696,982,441,412,277,236,396,1015,480,648,1475,532,280,411,617,930,568,586,579,434,928,696,177,383,225,415,789,676,474,262,331,260,255,919,1125,811,531,405,578,716,655,565,704,384,2342,1540,1320,2012,858,694,816,2305,6625,1213,439,197,422,717],\"type\":\"bar\"}],                        {\"barmode\":\"stack\",\"height\":500,\"legend\":{\"bgcolor\":\"#151516\",\"font\":{\"color\":\"#D9D9D9\"},\"traceorder\":\"normal\"},\"paper_bgcolor\":\"#151516\",\"plot_bgcolor\":\"#151516\",\"template\":{\"data\":{\"barpolar\":[{\"marker\":{\"line\":{\"color\":\"#E5ECF6\",\"width\":0.5},\"pattern\":{\"fillmode\":\"overlay\",\"size\":10,\"solidity\":0.2}},\"type\":\"barpolar\"}],\"bar\":[{\"error_x\":{\"color\":\"#2a3f5f\"},\"error_y\":{\"color\":\"#2a3f5f\"},\"marker\":{\"line\":{\"color\":\"#E5ECF6\",\"width\":0.5},\"pattern\":{\"fillmode\":\"overlay\",\"size\":10,\"solidity\":0.2}},\"type\":\"bar\"}],\"carpet\":[{\"aaxis\":{\"endlinecolor\":\"#2a3f5f\",\"gridcolor\":\"white\",\"linecolor\":\"white\",\"minorgridcolor\":\"white\",\"startlinecolor\":\"#2a3f5f\"},\"baxis\":{\"endlinecolor\":\"#2a3f5f\",\"gridcolor\":\"white\",\"linecolor\":\"white\",\"minorgridcolor\":\"white\",\"startlinecolor\":\"#2a3f5f\"},\"type\":\"carpet\"}],\"choropleth\":[{\"colorbar\":{\"outlinewidth\":0,\"ticks\":\"\"},\"type\":\"choropleth\"}],\"contourcarpet\":[{\"colorbar\":{\"outlinewidth\":0,\"ticks\":\"\"},\"type\":\"contourcarpet\"}],\"contour\":[{\"colorbar\":{\"outlinewidth\":0,\"ticks\":\"\"},\"colorscale\":[[0.0,\"#0d0887\"],[0.1111111111111111,\"#46039f\"],[0.2222222222222222,\"#7201a8\"],[0.3333333333333333,\"#9c179e\"],[0.4444444444444444,\"#bd3786\"],[0.5555555555555556,\"#d8576b\"],[0.6666666666666666,\"#ed7953\"],[0.7777777777777778,\"#fb9f3a\"],[0.8888888888888888,\"#fdca26\"],[1.0,\"#f0f921\"]],\"type\":\"contour\"}],\"heatmapgl\":[{\"colorbar\":{\"outlinewidth\":0,\"ticks\":\"\"},\"colorscale\":[[0.0,\"#0d0887\"],[0.1111111111111111,\"#46039f\"],[0.2222222222222222,\"#7201a8\"],[0.3333333333333333,\"#9c179e\"],[0.4444444444444444,\"#bd3786\"],[0.5555555555555556,\"#d8576b\"],[0.6666666666666666,\"#ed7953\"],[0.7777777777777778,\"#fb9f3a\"],[0.8888888888888888,\"#fdca26\"],[1.0,\"#f0f921\"]],\"type\":\"heatmapgl\"}],\"heatmap\":[{\"colorbar\":{\"outlinewidth\":0,\"ticks\":\"\"},\"colorscale\":[[0.0,\"#0d0887\"],[0.1111111111111111,\"#46039f\"],[0.2222222222222222,\"#7201a8\"],[0.3333333333333333,\"#9c179e\"],[0.4444444444444444,\"#bd3786\"],[0.5555555555555556,\"#d8576b\"],[0.6666666666666666,\"#ed7953\"],[0.7777777777777778,\"#fb9f3a\"],[0.8888888888888888,\"#fdca26\"],[1.0,\"#f0f921\"]],\"type\":\"heatmap\"}],\"histogram2dcontour\":[{\"colorbar\":{\"outlinewidth\":0,\"ticks\":\"\"},\"colorscale\":[[0.0,\"#0d0887\"],[0.1111111111111111,\"#46039f\"],[0.2222222222222222,\"#7201a8\"],[0.3333333333333333,\"#9c179e\"],[0.4444444444444444,\"#bd3786\"],[0.5555555555555556,\"#d8576b\"],[0.6666666666666666,\"#ed7953\"],[0.7777777777777778,\"#fb9f3a\"],[0.8888888888888888,\"#fdca26\"],[1.0,\"#f0f921\"]],\"type\":\"histogram2dcontour\"}],\"histogram2d\":[{\"colorbar\":{\"outlinewidth\":0,\"ticks\":\"\"},\"colorscale\":[[0.0,\"#0d0887\"],[0.1111111111111111,\"#46039f\"],[0.2222222222222222,\"#7201a8\"],[0.3333333333333333,\"#9c179e\"],[0.4444444444444444,\"#bd3786\"],[0.5555555555555556,\"#d8576b\"],[0.6666666666666666,\"#ed7953\"],[0.7777777777777778,\"#fb9f3a\"],[0.8888888888888888,\"#fdca26\"],[1.0,\"#f0f921\"]],\"type\":\"histogram2d\"}],\"histogram\":[{\"marker\":{\"pattern\":{\"fillmode\":\"overlay\",\"size\":10,\"solidity\":0.2}},\"type\":\"histogram\"}],\"mesh3d\":[{\"colorbar\":{\"outlinewidth\":0,\"ticks\":\"\"},\"type\":\"mesh3d\"}],\"parcoords\":[{\"line\":{\"colorbar\":{\"outlinewidth\":0,\"ticks\":\"\"}},\"type\":\"parcoords\"}],\"pie\":[{\"automargin\":true,\"type\":\"pie\"}],\"scatter3d\":[{\"line\":{\"colorbar\":{\"outlinewidth\":0,\"ticks\":\"\"}},\"marker\":{\"colorbar\":{\"outlinewidth\":0,\"ticks\":\"\"}},\"type\":\"scatter3d\"}],\"scattercarpet\":[{\"marker\":{\"colorbar\":{\"outlinewidth\":0,\"ticks\":\"\"}},\"type\":\"scattercarpet\"}],\"scattergeo\":[{\"marker\":{\"colorbar\":{\"outlinewidth\":0,\"ticks\":\"\"}},\"type\":\"scattergeo\"}],\"scattergl\":[{\"marker\":{\"colorbar\":{\"outlinewidth\":0,\"ticks\":\"\"}},\"type\":\"scattergl\"}],\"scattermapbox\":[{\"marker\":{\"colorbar\":{\"outlinewidth\":0,\"ticks\":\"\"}},\"type\":\"scattermapbox\"}],\"scatterpolargl\":[{\"marker\":{\"colorbar\":{\"outlinewidth\":0,\"ticks\":\"\"}},\"type\":\"scatterpolargl\"}],\"scatterpolar\":[{\"marker\":{\"colorbar\":{\"outlinewidth\":0,\"ticks\":\"\"}},\"type\":\"scatterpolar\"}],\"scatter\":[{\"marker\":{\"colorbar\":{\"outlinewidth\":0,\"ticks\":\"\"}},\"type\":\"scatter\"}],\"scatterternary\":[{\"marker\":{\"colorbar\":{\"outlinewidth\":0,\"ticks\":\"\"}},\"type\":\"scatterternary\"}],\"surface\":[{\"colorbar\":{\"outlinewidth\":0,\"ticks\":\"\"},\"colorscale\":[[0.0,\"#0d0887\"],[0.1111111111111111,\"#46039f\"],[0.2222222222222222,\"#7201a8\"],[0.3333333333333333,\"#9c179e\"],[0.4444444444444444,\"#bd3786\"],[0.5555555555555556,\"#d8576b\"],[0.6666666666666666,\"#ed7953\"],[0.7777777777777778,\"#fb9f3a\"],[0.8888888888888888,\"#fdca26\"],[1.0,\"#f0f921\"]],\"type\":\"surface\"}],\"table\":[{\"cells\":{\"fill\":{\"color\":\"#EBF0F8\"},\"line\":{\"color\":\"white\"}},\"header\":{\"fill\":{\"color\":\"#C8D4E3\"},\"line\":{\"color\":\"white\"}},\"type\":\"table\"}]},\"layout\":{\"annotationdefaults\":{\"arrowcolor\":\"#2a3f5f\",\"arrowhead\":0,\"arrowwidth\":1},\"autotypenumbers\":\"strict\",\"coloraxis\":{\"colorbar\":{\"outlinewidth\":0,\"ticks\":\"\"}},\"colorscale\":{\"diverging\":[[0,\"#8e0152\"],[0.1,\"#c51b7d\"],[0.2,\"#de77ae\"],[0.3,\"#f1b6da\"],[0.4,\"#fde0ef\"],[0.5,\"#f7f7f7\"],[0.6,\"#e6f5d0\"],[0.7,\"#b8e186\"],[0.8,\"#7fbc41\"],[0.9,\"#4d9221\"],[1,\"#276419\"]],\"sequential\":[[0.0,\"#0d0887\"],[0.1111111111111111,\"#46039f\"],[0.2222222222222222,\"#7201a8\"],[0.3333333333333333,\"#9c179e\"],[0.4444444444444444,\"#bd3786\"],[0.5555555555555556,\"#d8576b\"],[0.6666666666666666,\"#ed7953\"],[0.7777777777777778,\"#fb9f3a\"],[0.8888888888888888,\"#fdca26\"],[1.0,\"#f0f921\"]],\"sequentialminus\":[[0.0,\"#0d0887\"],[0.1111111111111111,\"#46039f\"],[0.2222222222222222,\"#7201a8\"],[0.3333333333333333,\"#9c179e\"],[0.4444444444444444,\"#bd3786\"],[0.5555555555555556,\"#d8576b\"],[0.6666666666666666,\"#ed7953\"],[0.7777777777777778,\"#fb9f3a\"],[0.8888888888888888,\"#fdca26\"],[1.0,\"#f0f921\"]]},\"colorway\":[\"#636efa\",\"#EF553B\",\"#00cc96\",\"#ab63fa\",\"#FFA15A\",\"#19d3f3\",\"#FF6692\",\"#B6E880\",\"#FF97FF\",\"#FECB52\"],\"font\":{\"color\":\"#2a3f5f\"},\"geo\":{\"bgcolor\":\"white\",\"lakecolor\":\"white\",\"landcolor\":\"#E5ECF6\",\"showlakes\":true,\"showland\":true,\"subunitcolor\":\"white\"},\"hoverlabel\":{\"align\":\"left\"},\"hovermode\":\"closest\",\"mapbox\":{\"style\":\"light\"},\"paper_bgcolor\":\"white\",\"plot_bgcolor\":\"#E5ECF6\",\"polar\":{\"angularaxis\":{\"gridcolor\":\"white\",\"linecolor\":\"white\",\"ticks\":\"\"},\"bgcolor\":\"#E5ECF6\",\"radialaxis\":{\"gridcolor\":\"white\",\"linecolor\":\"white\",\"ticks\":\"\"}},\"scene\":{\"xaxis\":{\"backgroundcolor\":\"#E5ECF6\",\"gridcolor\":\"white\",\"gridwidth\":2,\"linecolor\":\"white\",\"showbackground\":true,\"ticks\":\"\",\"zerolinecolor\":\"white\"},\"yaxis\":{\"backgroundcolor\":\"#E5ECF6\",\"gridcolor\":\"white\",\"gridwidth\":2,\"linecolor\":\"white\",\"showbackground\":true,\"ticks\":\"\",\"zerolinecolor\":\"white\"},\"zaxis\":{\"backgroundcolor\":\"#E5ECF6\",\"gridcolor\":\"white\",\"gridwidth\":2,\"linecolor\":\"white\",\"showbackground\":true,\"ticks\":\"\",\"zerolinecolor\":\"white\"}},\"shapedefaults\":{\"line\":{\"color\":\"#2a3f5f\"}},\"ternary\":{\"aaxis\":{\"gridcolor\":\"white\",\"linecolor\":\"white\",\"ticks\":\"\"},\"baxis\":{\"gridcolor\":\"white\",\"linecolor\":\"white\",\"ticks\":\"\"},\"bgcolor\":\"#E5ECF6\",\"caxis\":{\"gridcolor\":\"white\",\"linecolor\":\"white\",\"ticks\":\"\"}},\"title\":{\"x\":0.05},\"xaxis\":{\"automargin\":true,\"gridcolor\":\"white\",\"linecolor\":\"white\",\"ticks\":\"\",\"title\":{\"standoff\":15},\"zerolinecolor\":\"white\",\"zerolinewidth\":2},\"yaxis\":{\"automargin\":true,\"gridcolor\":\"white\",\"linecolor\":\"white\",\"ticks\":\"\",\"title\":{\"standoff\":15},\"zerolinecolor\":\"white\",\"zerolinewidth\":2}}},\"title\":{\"font\":{\"color\":\"#D9D9D9\"}},\"width\":1100,\"xaxis\":{\"gridcolor\":\"#434343\",\"showgrid\":true,\"tickfont\":{\"color\":\"#C2C2C2\"},\"title\":{\"font\":{\"color\":\"#D9D9D9\"},\"text\":\"\"},\"zerolinecolor\":\"#666570\"},\"yaxis\":{\"gridcolor\":\"#434343\",\"showgrid\":true,\"tickfont\":{\"color\":\"#C2C2C2\"},\"title\":{\"font\":{\"color\":\"#D9D9D9\"},\"text\":\"\"},\"zerolinecolor\":\"#666570\"}},                        {\"showLink\": true, \"linkText\": \"Export to plot.ly\", \"plotlyServerURL\": \"https://plot.ly\", \"responsive\": true}                    ).then(function(){\n",
       "                            \n",
       "var gd = document.getElementById('6f58648d-ac8c-472b-a32e-a2bcbcc5ed1b');\n",
       "var x = new MutationObserver(function (mutations, observer) {{\n",
       "        var display = window.getComputedStyle(gd).display;\n",
       "        if (!display || display === 'none') {{\n",
       "            console.log([gd, 'removed!']);\n",
       "            Plotly.purge(gd);\n",
       "            observer.disconnect();\n",
       "        }}\n",
       "}});\n",
       "\n",
       "// Listen for the removal of the full notebook cells\n",
       "var notebookContainer = gd.closest('#notebook-container');\n",
       "if (notebookContainer) {{\n",
       "    x.observe(notebookContainer, {childList: true});\n",
       "}}\n",
       "\n",
       "// Listen for the clearing of the current output cell\n",
       "var outputEl = gd.closest('.output');\n",
       "if (outputEl) {{\n",
       "    x.observe(outputEl, {childList: true});\n",
       "}}\n",
       "\n",
       "                        })                };                });            </script>        </div>"
      ]
     },
     "metadata": {},
     "output_type": "display_data"
    }
   ],
   "source": [
    "# Plot the results\n",
    "intraday.plot(f\"Intraday % Net Change for {intraday.label}\")"
   ]
  },
  {
   "cell_type": "markdown",
   "id": "889f2610-c928-46eb-8735-c429cfef1e54",
   "metadata": {},
   "source": [
    "In choosing the dates, the goal was to select relevant end-of-month days to detect any abnormal behavior. Specifically, selecting dates that fall on the end-of-quarter could provide more impactful activity - it is worth mentioning that we've left out the end-of-year date as the expected volume of activity is relatively low.\n",
    "\n",
    "Looking at the results, while we can clearly see some activity in the price chart, it is the volume activity that clearly stands out.  For example, the end-of-quarter dates for the months of September, March and June demonstrate significant activity at around 11 A.M.  Taking the above results at face value, it does appear some specific event occurred at around 11 A.M.  Doing a little research, it is possible the above activity may be a result of a combination of end-of-quarterly rebalancing and also the release of the [Grain Stocks Report](https://usda.library.cornell.edu/concern/publications/xg94hp534)."
   ]
  },
  {
   "cell_type": "markdown",
   "id": "4707b93a-75fe-44a5-a160-738eaf08cbe8",
   "metadata": {
    "tags": []
   },
   "source": [
    "## Conclusion\n",
    "\n",
    "With the above tools and the flexibility of evaluating trends, traders and analysts can build many different strategies to manage risk as well as profit by understanding price activity.  The simplicity of generating intraday market reports revolutionizes the way traders and analysts approach market analysis. By streamlining the data compilation process, users can easily dive into the analysis and extract valuable insights. With a clear focus on trends, patterns, and volume dynamics, traders and analysts are empowered to make informed decisions and capitalize on market opportunities with ease."
   ]
  },
  {
   "cell_type": "code",
   "execution_count": null,
   "id": "19779937-eef6-43c7-97c0-d86af31df636",
   "metadata": {},
   "outputs": [],
   "source": []
  }
 ],
 "metadata": {
  "kernelspec": {
   "display_name": "Python 3",
   "language": "python",
   "name": "python3"
  },
  "language_info": {
   "codemirror_mode": {
    "name": "ipython",
    "version": 3
   },
   "file_extension": ".py",
   "mimetype": "text/x-python",
   "name": "python",
   "nbconvert_exporter": "python",
   "pygments_lexer": "ipython3",
   "version": "3.8.15"
  },
  "widgets": {
   "application/vnd.jupyter.widget-state+json": {
    "state": {
     "121b7dfb170b4fefbfe7e2a6b9a52ac4": {
      "model_module": "@jupyter-widgets/base",
      "model_module_version": "1.2.0",
      "model_name": "LayoutModel",
      "state": {}
     },
     "17fd68708abb4a3483725669ac576e38": {
      "model_module": "refinitiv-widgets",
      "model_module_version": "3.3.2",
      "model_name": "RefinitivDatetimePickerModel",
      "state": {
       "_widget_selector": "[data-selector='17fd68708abb4a3483725669ac576e38']",
       "css": "border: 2px solid green; width: 150px; border-radius: 20px",
       "duplex_mode": "",
       "first_day_of_week": 0,
       "layout": "IPY_MODEL_7eb069487f2a4d0c9be389345d0d0951",
       "max": "",
       "min": "",
       "tooltip": "",
       "value": [
        "2023-02-28"
       ],
       "view": "2023-02",
       "weekdays_only": true,
       "width": 0
      }
     },
     "2cbfe4ef3caa4f41ac6d38d254ec26d2": {
      "model_module": "@jupyter-widgets/base",
      "model_module_version": "1.2.0",
      "model_name": "LayoutModel",
      "state": {}
     },
     "35214ef12d904882a767aef4d9b39878": {
      "model_module": "@jupyter-widgets/base",
      "model_module_version": "1.2.0",
      "model_name": "LayoutModel",
      "state": {}
     },
     "3790fa2c73f4460a90ae9bf8e5205bc6": {
      "model_module": "refinitiv-widgets",
      "model_module_version": "3.3.2",
      "model_name": "RefinitivProgressBarModel",
      "state": {
       "_widget_selector": "[data-selector='3790fa2c73f4460a90ae9bf8e5205bc6']",
       "alignment": "",
       "color": "green",
       "label": "",
       "layout": "IPY_MODEL_c4af5555d92a45dabf9d0c84ad0ac56d",
       "tooltip": "",
       "value": 100
      }
     },
     "56ffd79c2b54459ab9b2e53bd7d076ce": {
      "model_module": "refinitiv-widgets",
      "model_module_version": "3.3.2",
      "model_name": "RefinitivProgressBarModel",
      "state": {
       "_widget_selector": "[data-selector='56ffd79c2b54459ab9b2e53bd7d076ce']",
       "alignment": "",
       "color": "green",
       "label": "",
       "layout": "IPY_MODEL_121b7dfb170b4fefbfe7e2a6b9a52ac4",
       "tooltip": "",
       "value": 100
      }
     },
     "672de984763a4834a8c9e1bfd21446a7": {
      "model_module": "@jupyter-widgets/base",
      "model_module_version": "1.2.0",
      "model_name": "LayoutModel",
      "state": {}
     },
     "6a76c95136d147408e0663a3bf0ecbf1": {
      "model_module": "@jupyter-widgets/controls",
      "model_module_version": "1.5.0",
      "model_name": "BoxModel",
      "state": {
       "children": [
        "IPY_MODEL_ce990c6b14514a26ab09cbc9cc95b58a",
        "IPY_MODEL_c7ee156cd2b3464f93210701a2b4a4fa",
        "IPY_MODEL_17fd68708abb4a3483725669ac576e38",
        "IPY_MODEL_7b30adecf84f41e7a4943a7c7da8238e",
        "IPY_MODEL_a09b9e10883a42b68b1a9f82b9a71bed"
       ],
       "layout": "IPY_MODEL_cdfe5ea3aaf044a099a24d2e08d74bc1"
      }
     },
     "759aebacbf0e4a0491032bee1e2a22a1": {
      "model_module": "@jupyter-widgets/base",
      "model_module_version": "1.2.0",
      "model_name": "LayoutModel",
      "state": {}
     },
     "7b30adecf84f41e7a4943a7c7da8238e": {
      "model_module": "refinitiv-widgets",
      "model_module_version": "3.3.2",
      "model_name": "RefinitivDatetimePickerModel",
      "state": {
       "_widget_selector": "[data-selector='7b30adecf84f41e7a4943a7c7da8238e']",
       "css": "border: 2px solid green; width: 150px; border-radius: 20px",
       "duplex_mode": "",
       "first_day_of_week": 0,
       "layout": "IPY_MODEL_35214ef12d904882a767aef4d9b39878",
       "max": "",
       "min": "",
       "tooltip": "",
       "value": [
        "2022-11-30"
       ],
       "view": "2022-11",
       "weekdays_only": true,
       "width": 0
      }
     },
     "7eb069487f2a4d0c9be389345d0d0951": {
      "model_module": "@jupyter-widgets/base",
      "model_module_version": "1.2.0",
      "model_name": "LayoutModel",
      "state": {}
     },
     "80dc491e69ad457492e3309fe7efb1a2": {
      "model_module": "@jupyter-widgets/base",
      "model_module_version": "1.2.0",
      "model_name": "LayoutModel",
      "state": {}
     },
     "a09b9e10883a42b68b1a9f82b9a71bed": {
      "model_module": "refinitiv-widgets",
      "model_module_version": "3.3.2",
      "model_name": "RefinitivDatetimePickerModel",
      "state": {
       "_widget_selector": "[data-selector='a09b9e10883a42b68b1a9f82b9a71bed']",
       "css": "border: 2px solid green; width: 150px; border-radius: 20px",
       "duplex_mode": "",
       "first_day_of_week": 0,
       "layout": "IPY_MODEL_759aebacbf0e4a0491032bee1e2a22a1",
       "max": "",
       "min": "",
       "tooltip": "",
       "value": [
        "2022-09-30"
       ],
       "view": "2022-09",
       "weekdays_only": true,
       "width": 0
      }
     },
     "bb15625175a24b0885dff25577f5003d": {
      "model_module": "@jupyter-widgets/base",
      "model_module_version": "1.2.0",
      "model_name": "LayoutModel",
      "state": {}
     },
     "c4af5555d92a45dabf9d0c84ad0ac56d": {
      "model_module": "@jupyter-widgets/base",
      "model_module_version": "1.2.0",
      "model_name": "LayoutModel",
      "state": {}
     },
     "c7ee156cd2b3464f93210701a2b4a4fa": {
      "model_module": "refinitiv-widgets",
      "model_module_version": "3.3.2",
      "model_name": "RefinitivDatetimePickerModel",
      "state": {
       "_widget_selector": "[data-selector='c7ee156cd2b3464f93210701a2b4a4fa']",
       "css": "border: 2px solid green; width: 150px; border-radius: 20px",
       "duplex_mode": "",
       "first_day_of_week": 0,
       "layout": "IPY_MODEL_80dc491e69ad457492e3309fe7efb1a2",
       "max": "",
       "min": "",
       "tooltip": "",
       "value": [
        "2023-03-31"
       ],
       "view": "2023-03",
       "weekdays_only": true,
       "width": 0
      }
     },
     "cd78fe9891134c5f8e6d6b66ea5e833b": {
      "model_module": "refinitiv-widgets",
      "model_module_version": "3.3.2",
      "model_name": "RefinitivProgressBarModel",
      "state": {
       "_widget_selector": "[data-selector='cd78fe9891134c5f8e6d6b66ea5e833b']",
       "alignment": "",
       "color": "green",
       "label": "",
       "layout": "IPY_MODEL_f1f5f861335a4fe68edcab18dfba988c",
       "tooltip": "",
       "value": 100
      }
     },
     "cdfe5ea3aaf044a099a24d2e08d74bc1": {
      "model_module": "@jupyter-widgets/base",
      "model_module_version": "1.2.0",
      "model_name": "LayoutModel",
      "state": {}
     },
     "ce990c6b14514a26ab09cbc9cc95b58a": {
      "model_module": "refinitiv-widgets",
      "model_module_version": "3.3.2",
      "model_name": "RefinitivDatetimePickerModel",
      "state": {
       "_widget_selector": "[data-selector='ce990c6b14514a26ab09cbc9cc95b58a']",
       "css": "border: 2px solid green; width: 150px; border-radius: 20px",
       "duplex_mode": "",
       "first_day_of_week": 0,
       "layout": "IPY_MODEL_672de984763a4834a8c9e1bfd21446a7",
       "max": "",
       "min": "",
       "tooltip": "",
       "value": [
        "2023-06-30"
       ],
       "view": "2023-06",
       "weekdays_only": true,
       "width": 0
      }
     },
     "d8091a04b2a243dcb2bf499007ab574a": {
      "model_module": "@jupyter-widgets/base",
      "model_module_version": "1.2.0",
      "model_name": "LayoutModel",
      "state": {}
     },
     "e31b72f3ec594c6eb6c01394012d4e4e": {
      "model_module": "refinitiv-widgets",
      "model_module_version": "3.3.2",
      "model_name": "RefinitivDatetimePickerModel",
      "state": {
       "_widget_selector": "[data-selector='e31b72f3ec594c6eb6c01394012d4e4e']",
       "css": "border: 2px solid green; width: 300px; border-radius: 20px",
       "duplex_mode": "split",
       "first_day_of_week": 0,
       "layout": "IPY_MODEL_bb15625175a24b0885dff25577f5003d",
       "max": "",
       "min": "",
       "range_mode": true,
       "timepicker_mode": true,
       "tooltip": "",
       "value": [
        "1900-01-01T09:30",
        "1900-01-01T16:00"
       ],
       "view": "",
       "weekends_only": true,
       "width": 0
      }
     },
     "e4466b534ffb4c07aeadc60317efcf40": {
      "model_module": "@jupyter-widgets/controls",
      "model_module_version": "1.5.0",
      "model_name": "BoxModel",
      "state": {
       "children": [
        "IPY_MODEL_ce990c6b14514a26ab09cbc9cc95b58a",
        "IPY_MODEL_c7ee156cd2b3464f93210701a2b4a4fa",
        "IPY_MODEL_17fd68708abb4a3483725669ac576e38",
        "IPY_MODEL_7b30adecf84f41e7a4943a7c7da8238e",
        "IPY_MODEL_a09b9e10883a42b68b1a9f82b9a71bed"
       ],
       "layout": "IPY_MODEL_2cbfe4ef3caa4f41ac6d38d254ec26d2"
      }
     },
     "f1f5f861335a4fe68edcab18dfba988c": {
      "model_module": "@jupyter-widgets/base",
      "model_module_version": "1.2.0",
      "model_name": "LayoutModel",
      "state": {}
     },
     "fff83bc3c1dc4f7882efa3809a5c61e4": {
      "model_module": "refinitiv-widgets",
      "model_module_version": "3.3.2",
      "model_name": "RefinitivProgressBarModel",
      "state": {
       "_widget_selector": "[data-selector='fff83bc3c1dc4f7882efa3809a5c61e4']",
       "alignment": "",
       "color": "green",
       "label": "",
       "layout": "IPY_MODEL_d8091a04b2a243dcb2bf499007ab574a",
       "tooltip": "",
       "value": 100
      }
     }
    },
    "version_major": 2,
    "version_minor": 0
   }
  }
 },
 "nbformat": 4,
 "nbformat_minor": 5
}
